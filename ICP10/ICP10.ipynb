{
  "nbformat": 4,
  "nbformat_minor": 0,
  "metadata": {
    "colab": {
      "name": "ICP10.ipynb",
      "provenance": [],
      "collapsed_sections": []
    },
    "kernelspec": {
      "name": "python3",
      "display_name": "Python 3"
    },
    "language_info": {
      "name": "python"
    }
  },
  "cells": [
    {
      "cell_type": "markdown",
      "source": [
        "## 1. Follow the instruction below and then report how the performance changed. (Apply all at once)"
      ],
      "metadata": {
        "id": "-LxSypWbcL_u"
      }
    },
    {
      "cell_type": "code",
      "execution_count": 15,
      "metadata": {
        "id": "PZaTQNizT9X7"
      },
      "outputs": [],
      "source": [
        "# importing libraries\n",
        "import pandas as pd\n",
        "import keras\n",
        "import numpy as np\n",
        "import matplotlib.pyplot as plt\n",
        "from keras.models import Sequential\n",
        "from keras.layers import Dropout\n",
        "from keras.layers import Flatten\n",
        "from keras.layers import Dense, Input\n",
        "\n",
        "from keras.layers.convolutional import Conv2D\n",
        "from keras.layers.convolutional import MaxPooling2D\n",
        "from matplotlib import pyplot\n",
        "\n",
        "model = Sequential()\n",
        "model.add(Conv2D(32, (3, 3),padding='same',input_shape=(64,64,3),activation='relu'))\n",
        "model.add(Dropout(0.2))\n",
        "model.add(Conv2D(32, (3, 3),padding='same',activation='relu'))\n",
        "model.add(MaxPooling2D(pool_size=(2,2)))\n",
        "model.add(Conv2D(64, (3, 3),padding='same',activation='relu'))\n",
        "model.add(Dropout(0.2))\n",
        "model.add(Conv2D(64, (3, 3),padding='same',activation='relu'))\n",
        "model.add(MaxPooling2D(pool_size=(2,2)))\n",
        "model.add(Conv2D(128, (3, 3),padding='same',activation='relu'))\n",
        "model.add(Dropout(0.2))\n",
        "model.add(Conv2D(128, (3, 3),padding='same',activation='relu'))\n",
        "model.add(MaxPooling2D(pool_size=(2,2)))\n",
        "model.add(Flatten())\n",
        "model.add(Dropout(0.2))\n",
        "model.add(Dense(1024,activation='relu'))\n",
        "model.add(Dropout(0.2))\n",
        "model.add(Dense(512,activation='relu'))\n",
        "model.add(Dropout(0.2))\n",
        "model.add(Dense(10,activation='softmax'))"
      ]
    },
    {
      "cell_type": "markdown",
      "source": [
        "## Change the previous model into Keras Functional API model."
      ],
      "metadata": {
        "id": "GItQ1ctYuLdo"
      }
    },
    {
      "cell_type": "code",
      "source": [
        "input_layer = Input(shape=(64,64,3))\n",
        "hidden_layer=Conv2D(32, (3,3), activation='relu')(input_layer)\n",
        "hidden_layer=Dropout(0.2)(hidden_layer)\n",
        "hidden_layer=Conv2D(32,(3,3), activation='relu')(hidden_layer)\n",
        "hidden_layer=MaxPooling2D(pool_size=(2,2))(hidden_layer)\n",
        "hidden_layer=Conv2D(64,(3,3), activation='relu')(hidden_layer)\n",
        "hidden_layer=Dropout(0.2)(hidden_layer)\n",
        "hidden_layer=Conv2D(64,(3,3), activation='relu')(hidden_layer)\n",
        "hidden_layer=MaxPooling2D(pool_size=(2,2))(hidden_layer)\n",
        "hidden_layer=Conv2D(128,(3,3), activation='relu')(hidden_layer)\n",
        "hidden_layer=Dropout(0.2)(hidden_layer)\n",
        "hidden_layer=Conv2D(128,(3,3), activation='relu')(hidden_layer)\n",
        "hidden_layer=MaxPooling2D(pool_size=(2,2))(hidden_layer)\n",
        "hidden_layer = Flatten()(hidden_layer)\n",
        "hidden_layer=Dropout(0.2)(hidden_layer)\n",
        "hidden_layer=Dense(1024, activation='relu')(hidden_layer)\n",
        "hidden_layer=Dropout(0.2)(hidden_layer)\n",
        "hidden_layer=Dense(512, activation='relu')(hidden_layer)\n",
        "hidden_layer=Dropout(0.2)(hidden_layer)\n",
        "output_layer=Dense(10, activation='softmax')(hidden_layer)"
      ],
      "metadata": {
        "id": "sLRNh-zCcEQt"
      },
      "execution_count": 18,
      "outputs": []
    },
    {
      "cell_type": "markdown",
      "source": [
        "## 2.1 Apply the following callbacks to the model:"
      ],
      "metadata": {
        "id": "PhYef31jyl_n"
      }
    },
    {
      "cell_type": "code",
      "source": [
        "# modelCheckPoint\n"
      ],
      "metadata": {
        "id": "LzTOrCAHyuJz"
      },
      "execution_count": null,
      "outputs": []
    }
  ]
}