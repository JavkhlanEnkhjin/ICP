{
  "nbformat": 4,
  "nbformat_minor": 0,
  "metadata": {
    "colab": {
      "name": "ICP 5 question2",
      "provenance": [],
      "collapsed_sections": []
    },
    "kernelspec": {
      "name": "python3",
      "display_name": "Python 3"
    },
    "language_info": {
      "name": "python"
    }
  },
  "cells": [
    {
      "cell_type": "markdown",
      "source": [
        "# Assignment - ICP5\n"
      ],
      "metadata": {
        "id": "kQXzT5wdNaRk"
      }
    },
    {
      "cell_type": "markdown",
      "source": [
        "## Q2. Optical Recognition of Handwritten Digits"
      ],
      "metadata": {
        "id": "UgBZuGGyNa_K"
      }
    },
    {
      "cell_type": "code",
      "execution_count": 160,
      "metadata": {
        "id": "FsU2ZLVZNMwC"
      },
      "outputs": [],
      "source": [
        "#importing datasets and libraries\n",
        "import numpy as np\n",
        "import pandas as pd\n",
        "import matplotlib.pyplot as plt\n",
        "from IPython.display import display\n",
        "import seaborn as sns\n",
        "import warnings\n",
        "warnings.filterwarnings('ignore')\n",
        "from sklearn import datasets\n",
        "import os\n",
        "digits = datasets.load_digits()"
      ]
    },
    {
      "cell_type": "markdown",
      "source": [
        "### 1. Implement [SVM, Naïve Bayes, KNN] methods using scikit-learn library."
      ],
      "metadata": {
        "id": "lXJRmwAbTXEW"
      }
    },
    {
      "cell_type": "code",
      "source": [
        "#exploring dataset\n",
        "dir(digits)"
      ],
      "metadata": {
        "colab": {
          "base_uri": "https://localhost:8080/"
        },
        "id": "lagGm4IJSCs7",
        "outputId": "76980c79-d4d6-45eb-ae67-b17dec5b5299"
      },
      "execution_count": 161,
      "outputs": [
        {
          "output_type": "execute_result",
          "data": {
            "text/plain": [
              "['DESCR', 'data', 'feature_names', 'frame', 'images', 'target', 'target_names']"
            ]
          },
          "metadata": {},
          "execution_count": 161
        }
      ]
    },
    {
      "cell_type": "code",
      "source": [
        "digits.images.shape"
      ],
      "metadata": {
        "colab": {
          "base_uri": "https://localhost:8080/"
        },
        "id": "9Z9op59CUEDb",
        "outputId": "a5113642-41de-48c9-f6d4-4dd15da355f6"
      },
      "execution_count": 162,
      "outputs": [
        {
          "output_type": "execute_result",
          "data": {
            "text/plain": [
              "(1797, 8, 8)"
            ]
          },
          "metadata": {},
          "execution_count": 162
        }
      ]
    },
    {
      "cell_type": "code",
      "source": [
        "# printing first image values from dataset\n",
        "print(digits.images[0])"
      ],
      "metadata": {
        "colab": {
          "base_uri": "https://localhost:8080/"
        },
        "id": "dFaVZ4AfUGE2",
        "outputId": "bb11b3ab-01a1-49af-ee38-bfdf401626df"
      },
      "execution_count": 163,
      "outputs": [
        {
          "output_type": "stream",
          "name": "stdout",
          "text": [
            "[[ 0.  0.  5. 13.  9.  1.  0.  0.]\n",
            " [ 0.  0. 13. 15. 10. 15.  5.  0.]\n",
            " [ 0.  3. 15.  2.  0. 11.  8.  0.]\n",
            " [ 0.  4. 12.  0.  0.  8.  8.  0.]\n",
            " [ 0.  5.  8.  0.  0.  9.  8.  0.]\n",
            " [ 0.  4. 11.  0.  1. 12.  7.  0.]\n",
            " [ 0.  2. 14.  5. 10. 12.  0.  0.]\n",
            " [ 0.  0.  6. 13. 10.  0.  0.  0.]]\n"
          ]
        }
      ]
    },
    {
      "cell_type": "code",
      "source": [
        "# plotting the first image values\n",
        "plt.imshow(digits.images[0], cmap='binary')\n",
        "plt.show()"
      ],
      "metadata": {
        "colab": {
          "base_uri": "https://localhost:8080/",
          "height": 265
        },
        "id": "Qpik-LWFUXtp",
        "outputId": "bbf16358-d456-44ed-fda9-2f8154cdec94"
      },
      "execution_count": 164,
      "outputs": [
        {
          "output_type": "display_data",
          "data": {
            "image/png": "[encoded data removed]",
            "text/plain": [
              "<Figure size 432x288 with 1 Axes>"
            ]
          },
          "metadata": {
            "needs_background": "light"
          }
        }
      ]
    },
    {
      "cell_type": "code",
      "source": [
        "#creating feature and target arrays\n",
        "X, y = digits.data, digits.target"
      ],
      "metadata": {
        "id": "87iTv_NPUdhd"
      },
      "execution_count": 165,
      "outputs": []
    },
    {
      "cell_type": "code",
      "source": [
        "#splittig into training and test set\n",
        "from sklearn.model_selection import train_test_split\n",
        "X_train, X_test, y_train, y_test = train_test_split(X, y, test_size=0.2, random_state=12)"
      ],
      "metadata": {
        "id": "YQHrkfImU5Vx"
      },
      "execution_count": 166,
      "outputs": []
    },
    {
      "cell_type": "code",
      "source": [
        "# importing SVM library\n",
        "from sklearn.svm import SVC\n",
        "svc = SVC()\n",
        "# fit X_train with y_train\n",
        "svc.fit(X_train, y_train)\n",
        "# predict accuracy\n",
        "acc_svm = round(svc.score(X_train, y_train) * 100, 2)\n",
        "acc_svm"
      ],
      "metadata": {
        "colab": {
          "base_uri": "https://localhost:8080/"
        },
        "id": "GOy5Un4-WhQl",
        "outputId": "9f2b60b6-12a8-49cf-c119-83ea42e63195"
      },
      "execution_count": 167,
      "outputs": [
        {
          "output_type": "execute_result",
          "data": {
            "text/plain": [
              "99.51"
            ]
          },
          "metadata": {},
          "execution_count": 167
        }
      ]
    },
    {
      "cell_type": "code",
      "source": [
        "# importing gaussianNB library\n",
        "from sklearn.naive_bayes import GaussianNB\n",
        "gaussian = GaussianNB()\n",
        "# fit X_train with y_train\n",
        "gaussian.fit(X_train, y_train)\n",
        "# predict accuracy\n",
        "acc_gaussian = round(gaussian.score(X_train, y_train) * 100, 2)\n",
        "acc_gaussian"
      ],
      "metadata": {
        "colab": {
          "base_uri": "https://localhost:8080/"
        },
        "id": "0t3u1XNkXTTz",
        "outputId": "78de8b39-cc72-4522-d11a-d6b9da4669fc"
      },
      "execution_count": 168,
      "outputs": [
        {
          "output_type": "execute_result",
          "data": {
            "text/plain": [
              "85.32"
            ]
          },
          "metadata": {},
          "execution_count": 168
        }
      ]
    },
    {
      "cell_type": "code",
      "source": [
        "# importing bernoulliNB library\n",
        "from sklearn.naive_bayes import BernoulliNB\n",
        "bernoulli = BernoulliNB()\n",
        "# fit X_train with y_train\n",
        "bernoulli.fit(X_train, y_train)\n",
        "# predict accuracy\n",
        "acc_bernoulli = round(bernoulli.score(X_train, y_train) * 100, 2)\n",
        "acc_bernoulli"
      ],
      "metadata": {
        "colab": {
          "base_uri": "https://localhost:8080/"
        },
        "id": "Rx-pv7RiXhWv",
        "outputId": "ecacc42e-5f3a-422e-83e9-ba4eacd36ed0"
      },
      "execution_count": 169,
      "outputs": [
        {
          "output_type": "execute_result",
          "data": {
            "text/plain": [
              "86.64"
            ]
          },
          "metadata": {},
          "execution_count": 169
        }
      ]
    },
    {
      "cell_type": "code",
      "source": [
        "# importing KNN library\n",
        "from sklearn.neighbors import KNeighborsClassifier\n",
        "knn = KNeighborsClassifier()\n",
        "# fit X_train with y_train\n",
        "knn.fit(X_train, y_train)\n",
        "# predict accuracy\n",
        "acc_knn = round(knn.score(X_train, y_train) * 100, 2)\n",
        "acc_knn"
      ],
      "metadata": {
        "colab": {
          "base_uri": "https://localhost:8080/"
        },
        "id": "xYahBEutXxEA",
        "outputId": "95c4f801-ace8-41f2-fac3-7c96264e63b2"
      },
      "execution_count": 170,
      "outputs": [
        {
          "output_type": "execute_result",
          "data": {
            "text/plain": [
              "99.23"
            ]
          },
          "metadata": {},
          "execution_count": 170
        }
      ]
    },
    {
      "cell_type": "markdown",
      "source": [
        "### 2. Use the digits dataset available in the link above."
      ],
      "metadata": {
        "id": "7fipNNOvYAYt"
      }
    },
    {
      "cell_type": "code",
      "source": [
        "# load optdigits.tes as dataset \n",
        "ds_test = pd.read_csv('./optdigits.tes')\n",
        "print(ds_test['0'].sum())\n",
        "X = ds_test.iloc[:, 1:]\n",
        "y = ds_test.iloc[:, 64:]\n",
        "X = X.values"
      ],
      "metadata": {
        "colab": {
          "base_uri": "https://localhost:8080/"
        },
        "id": "OScrUpSSYFYq",
        "outputId": "bcc2f693-44a7-4e4f-a6b4-34863332baf5"
      },
      "execution_count": 171,
      "outputs": [
        {
          "output_type": "stream",
          "name": "stdout",
          "text": [
            "0\n"
          ]
        }
      ]
    },
    {
      "cell_type": "markdown",
      "source": [
        "### 3. Visualize some of the images and analyze the data (explore the dataset)."
      ],
      "metadata": {
        "id": "k4htlWbODR-q"
      }
    },
    {
      "cell_type": "code",
      "source": [
        "# showing image from 13 \n",
        "d = X[13]\n",
        "d.shape = (8, 8)\n",
        "plt.imshow(d,cmap='binary')"
      ],
      "metadata": {
        "colab": {
          "base_uri": "https://localhost:8080/",
          "height": 282
        },
        "id": "ww1bjDfcDRNf",
        "outputId": "1b8b86be-0aa3-44f6-afe4-229ff728f064"
      },
      "execution_count": 172,
      "outputs": [
        {
          "output_type": "execute_result",
          "data": {
            "text/plain": [
              "<matplotlib.image.AxesImage at 0x7f85427ea190>"
            ]
          },
          "metadata": {},
          "execution_count": 172
        },
        {
          "output_type": "display_data",
          "data": {
            "image/png": "[encoded data removed]",
            "text/plain": [
              "<Figure size 432x288 with 1 Axes>"
            ]
          },
          "metadata": {
            "needs_background": "light"
          }
        }
      ]
    },
    {
      "cell_type": "code",
      "source": [
        "# showing image from 54 \n",
        "d = X[54]\n",
        "d.shape = (8, 8)\n",
        "plt.imshow(d,cmap='binary')"
      ],
      "metadata": {
        "colab": {
          "base_uri": "https://localhost:8080/",
          "height": 282
        },
        "id": "TZIYLT4hDa2O",
        "outputId": "6ca70642-09a8-4868-af41-2590c06e400c"
      },
      "execution_count": 173,
      "outputs": [
        {
          "output_type": "execute_result",
          "data": {
            "text/plain": [
              "<matplotlib.image.AxesImage at 0x7f8542789a50>"
            ]
          },
          "metadata": {},
          "execution_count": 173
        },
        {
          "output_type": "display_data",
          "data": {
            "image/png": "[encoded data removed]",
            "text/plain": [
              "<Figure size 432x288 with 1 Axes>"
            ]
          },
          "metadata": {
            "needs_background": "light"
          }
        }
      ]
    },
    {
      "cell_type": "markdown",
      "source": [
        "### 4. Use train_test_split to create the training and testing parts."
      ],
      "metadata": {
        "id": "YZMuyfC9DglN"
      }
    },
    {
      "cell_type": "code",
      "source": [
        "# splitting dataset into train and test as test size = 20\n",
        "X_train, X_test, y_train, y_test = train_test_split(X, y, test_size=0.20, random_state=43)\n",
        "print(X_train.shape, X_test.shape)\n"
      ],
      "metadata": {
        "colab": {
          "base_uri": "https://localhost:8080/"
        },
        "id": "R50kdYJsJIs8",
        "outputId": "d99bb1ec-8847-42a0-a4ed-b554f9996115"
      },
      "execution_count": 174,
      "outputs": [
        {
          "output_type": "stream",
          "name": "stdout",
          "text": [
            "(1436, 64) (360, 64)\n"
          ]
        }
      ]
    },
    {
      "cell_type": "markdown",
      "source": [
        "### 5. Evaluate the model on testing part using score and the classification_report() method.\n"
      ],
      "metadata": {
        "id": "RIFCb73hRQaK"
      }
    },
    {
      "cell_type": "code",
      "source": [
        "# import classification report\n",
        "from sklearn.metrics import classification_report\n",
        "# predicting test data from classifier \n",
        "y_pred = svc.predict(X_test) \n",
        "class_report = classification_report(y_test, y_pred)\n",
        "print(class_report)\n",
        "# evaluate the model on test\n",
        "acc_svm"
      ],
      "metadata": {
        "colab": {
          "base_uri": "https://localhost:8080/"
        },
        "id": "SoUzqjCm-S-J",
        "outputId": "3784c7a2-037a-4eca-bd7c-a49e515fefd9"
      },
      "execution_count": 175,
      "outputs": [
        {
          "output_type": "stream",
          "name": "stdout",
          "text": [
            "              precision    recall  f1-score   support\n",
            "\n",
            "           0       0.00      0.00      0.00        30\n",
            "           1       0.64      0.64      0.64        42\n",
            "           2       0.57      0.90      0.70        31\n",
            "           3       0.47      0.50      0.48        28\n",
            "           4       0.57      0.94      0.71        33\n",
            "           5       0.28      1.00      0.44        33\n",
            "           6       1.00      0.21      0.35        38\n",
            "           7       0.92      0.89      0.90        37\n",
            "           8       0.84      0.37      0.52        43\n",
            "           9       1.00      0.09      0.16        45\n",
            "\n",
            "    accuracy                           0.54       360\n",
            "   macro avg       0.63      0.55      0.49       360\n",
            "weighted avg       0.66      0.54      0.49       360\n",
            "\n"
          ]
        },
        {
          "output_type": "execute_result",
          "data": {
            "text/plain": [
              "99.51"
            ]
          },
          "metadata": {},
          "execution_count": 175
        }
      ]
    },
    {
      "cell_type": "code",
      "source": [
        "# predicting test data from gaussian NB \n",
        "y_pred = gaussian.predict(X_test)\n",
        "class_report = classification_report(y_test, y_pred)\n",
        "print(class_report)\n",
        "# evaluate the model on test\n",
        "acc_gaussian"
      ],
      "metadata": {
        "colab": {
          "base_uri": "https://localhost:8080/"
        },
        "id": "xhOHms2G_zgB",
        "outputId": "87fb03d2-447b-4d06-fe54-42400bf77a14"
      },
      "execution_count": 176,
      "outputs": [
        {
          "output_type": "stream",
          "name": "stdout",
          "text": [
            "              precision    recall  f1-score   support\n",
            "\n",
            "           0       0.00      0.00      0.00        30\n",
            "           1       0.10      0.31      0.15        42\n",
            "           2       0.17      0.77      0.27        31\n",
            "           3       0.10      0.07      0.08        28\n",
            "           4       0.45      0.52      0.48        33\n",
            "           5       0.00      0.00      0.00        33\n",
            "           6       0.67      0.11      0.18        38\n",
            "           7       0.00      0.00      0.00        37\n",
            "           8       0.00      0.00      0.00        43\n",
            "           9       0.00      0.00      0.00        45\n",
            "\n",
            "    accuracy                           0.17       360\n",
            "   macro avg       0.15      0.18      0.12       360\n",
            "weighted avg       0.14      0.17      0.11       360\n",
            "\n"
          ]
        },
        {
          "output_type": "execute_result",
          "data": {
            "text/plain": [
              "85.32"
            ]
          },
          "metadata": {},
          "execution_count": 176
        }
      ]
    },
    {
      "cell_type": "code",
      "source": [
        "# evaluating test data from bernoulli NB \n",
        "y_pred = bernoulli.predict(X_test)\n",
        "class_report = classification_report(y_test, y_pred)\n",
        "print(class_report)\n",
        "# evaluate the model on test\n",
        "acc_bernoulli"
      ],
      "metadata": {
        "colab": {
          "base_uri": "https://localhost:8080/"
        },
        "id": "lRs_SbHyBNzu",
        "outputId": "69f4cde3-c5f1-47d0-ccdd-cee9286f1d3b"
      },
      "execution_count": 177,
      "outputs": [
        {
          "output_type": "stream",
          "name": "stdout",
          "text": [
            "              precision    recall  f1-score   support\n",
            "\n",
            "           0       0.00      0.00      0.00        30\n",
            "           1       0.62      0.38      0.47        42\n",
            "           2       0.28      0.97      0.43        31\n",
            "           3       0.00      0.00      0.00        28\n",
            "           4       0.89      0.24      0.38        33\n",
            "           5       0.25      1.00      0.40        33\n",
            "           6       0.89      0.42      0.57        38\n",
            "           7       0.63      0.65      0.64        37\n",
            "           8       0.61      0.26      0.36        43\n",
            "           9       0.00      0.00      0.00        45\n",
            "\n",
            "    accuracy                           0.38       360\n",
            "   macro avg       0.42      0.39      0.32       360\n",
            "weighted avg       0.43      0.38      0.33       360\n",
            "\n"
          ]
        },
        {
          "output_type": "execute_result",
          "data": {
            "text/plain": [
              "86.64"
            ]
          },
          "metadata": {},
          "execution_count": 177
        }
      ]
    },
    {
      "cell_type": "code",
      "source": [
        "# evaluating test data from bernoulli NB \n",
        "y_pred = knn.predict(X_test)\n",
        "class_report = classification_report(y_test, y_pred)\n",
        "print(class_report)\n",
        "# evaluate the model on test\n",
        "acc_knn"
      ],
      "metadata": {
        "colab": {
          "base_uri": "https://localhost:8080/"
        },
        "id": "y13RCmvDBoUF",
        "outputId": "f7b4017e-4918-4a60-e897-53d646fd07a1"
      },
      "execution_count": 178,
      "outputs": [
        {
          "output_type": "stream",
          "name": "stdout",
          "text": [
            "              precision    recall  f1-score   support\n",
            "\n",
            "           0       1.00      0.20      0.33        30\n",
            "           1       0.71      0.60      0.65        42\n",
            "           2       0.42      1.00      0.60        31\n",
            "           3       0.61      0.50      0.55        28\n",
            "           4       0.87      0.79      0.83        33\n",
            "           5       0.30      1.00      0.46        33\n",
            "           6       1.00      0.55      0.71        38\n",
            "           7       0.81      0.95      0.88        37\n",
            "           8       0.94      0.37      0.53        43\n",
            "           9       1.00      0.04      0.09        45\n",
            "\n",
            "    accuracy                           0.58       360\n",
            "   macro avg       0.77      0.60      0.56       360\n",
            "weighted avg       0.78      0.58      0.55       360\n",
            "\n"
          ]
        },
        {
          "output_type": "execute_result",
          "data": {
            "text/plain": [
              "99.23"
            ]
          },
          "metadata": {},
          "execution_count": 178
        }
      ]
    },
    {
      "cell_type": "markdown",
      "source": [
        "### 6. Evaluate an image and visualize its own class."
      ],
      "metadata": {
        "id": "c7daOtOaEqct"
      }
    },
    {
      "cell_type": "code",
      "source": [
        "# showing image from 555, as we see its look like 9\n",
        "plt.imshow(digits.images[555], cmap='binary')"
      ],
      "metadata": {
        "colab": {
          "base_uri": "https://localhost:8080/",
          "height": 282
        },
        "id": "Ndp6WfI9EjOA",
        "outputId": "38102c5e-3f47-4349-fa7b-bb751e865686"
      },
      "execution_count": 179,
      "outputs": [
        {
          "output_type": "execute_result",
          "data": {
            "text/plain": [
              "<matplotlib.image.AxesImage at 0x7f85426f4990>"
            ]
          },
          "metadata": {},
          "execution_count": 179
        },
        {
          "output_type": "display_data",
          "data": {
            "image/png": "[encoded data removed]",
            "text/plain": [
              "<Figure size 432x288 with 1 Axes>"
            ]
          },
          "metadata": {
            "needs_background": "light"
          }
        }
      ]
    },
    {
      "cell_type": "code",
      "source": [
        "#  make the array from 555 as we have 8*8 array\n",
        "img = digits.images[555].reshape(1,-1)\n",
        "img"
      ],
      "metadata": {
        "colab": {
          "base_uri": "https://localhost:8080/"
        },
        "id": "-SwQF41VE3pf",
        "outputId": "0a788814-1370-4823-fed0-8a8651852d38"
      },
      "execution_count": 180,
      "outputs": [
        {
          "output_type": "execute_result",
          "data": {
            "text/plain": [
              "array([[ 0.,  0.,  2., 10., 14., 10.,  0.,  0.,  0.,  1., 15.,  9.,  9.,\n",
              "        16.,  1.,  0.,  0.,  7.,  9.,  0.,  9., 12.,  0.,  0.,  0.,  7.,\n",
              "         7.,  3., 15., 15.,  0.,  0.,  0.,  2., 15., 15.,  7., 16.,  1.,\n",
              "         0.,  0.,  0.,  1.,  2.,  0.,  9.,  4.,  0.,  0.,  0.,  5., 13.,\n",
              "         4.,  8.,  9.,  0.,  0.,  0.,  1., 10., 15., 16.,  6.,  0.]])"
            ]
          },
          "metadata": {},
          "execution_count": 180
        }
      ]
    },
    {
      "cell_type": "code",
      "source": [
        "# predict the chosen image with our KKN method model\n",
        "y_pred = knn.predict(img)\n",
        "y_pred"
      ],
      "metadata": {
        "colab": {
          "base_uri": "https://localhost:8080/"
        },
        "id": "5kjIY1D-E9SX",
        "outputId": "3450266d-f0a0-43ba-b61b-8bc170064c6b"
      },
      "execution_count": 181,
      "outputs": [
        {
          "output_type": "execute_result",
          "data": {
            "text/plain": [
              "array([9])"
            ]
          },
          "metadata": {},
          "execution_count": 181
        }
      ]
    },
    {
      "cell_type": "markdown",
      "source": [
        "### 7. Using KNN algorithm which K value can give good results?"
      ],
      "metadata": {
        "id": "56hGYDBHYjpI"
      }
    },
    {
      "cell_type": "code",
      "source": [
        "# iterating through the value of 1-10 and put it in n value\n",
        "for n in range(1, 11):\n",
        "  knn = KNeighborsClassifier(n_neighbors=n)\n",
        "  knn.fit(X_train, y_train)\n",
        "  print('KNN: {}, is {}'.format(n, knn.score(X_train, y_train)) )\n",
        "\n",
        "# printing the KNN max values from according arrays\n"
      ],
      "metadata": {
        "colab": {
          "base_uri": "https://localhost:8080/"
        },
        "id": "DYUzGCN7WAX7",
        "outputId": "b19652b6-e863-4e3c-8821-324055174160"
      },
      "execution_count": 182,
      "outputs": [
        {
          "output_type": "stream",
          "name": "stdout",
          "text": [
            "KNN: 1, is 1.0\n",
            "KNN: 2, is 0.9944289693593314\n",
            "KNN: 3, is 0.995125348189415\n",
            "KNN: 4, is 0.9944289693593314\n",
            "KNN: 5, is 0.9923398328690808\n",
            "KNN: 6, is 0.9909470752089137\n",
            "KNN: 7, is 0.9923398328690808\n",
            "KNN: 8, is 0.9916434540389972\n",
            "KNN: 9, is 0.9923398328690808\n",
            "KNN: 10, is 0.9909470752089137\n"
          ]
        }
      ]
    }
  ]
}