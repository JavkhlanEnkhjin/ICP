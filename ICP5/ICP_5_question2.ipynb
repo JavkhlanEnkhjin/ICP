{
  "nbformat": 4,
  "nbformat_minor": 0,
  "metadata": {
    "colab": {
      "name": "ICP 5 question2",
      "provenance": [],
      "collapsed_sections": []
    },
    "kernelspec": {
      "name": "python3",
      "display_name": "Python 3"
    },
    "language_info": {
      "name": "python"
    }
  },
  "cells": [
    {
      "cell_type": "markdown",
      "source": [
        "# Assignment - ICP5\n"
      ],
      "metadata": {
        "id": "kQXzT5wdNaRk"
      }
    },
    {
      "cell_type": "markdown",
      "source": [
        "## Q2. Optical Recognition of Handwritten Digits"
      ],
      "metadata": {
        "id": "UgBZuGGyNa_K"
      }
    },
    {
      "cell_type": "code",
      "execution_count": 4,
      "metadata": {
        "id": "FsU2ZLVZNMwC"
      },
      "outputs": [],
      "source": [
        "#importing datasets and libraries\n",
        "import numpy as np\n",
        "import pandas as pd\n",
        "import matplotlib.pyplot as plt\n",
        "from IPython.display import display\n",
        "import seaborn as sns\n",
        "import warnings\n",
        "warnings.filterwarnings('ignore')\n",
        "from sklearn import datasets\n",
        "import os\n",
        "digits = datasets.load_digits()"
      ]
    },
    {
      "cell_type": "markdown",
      "source": [
        "### 1. Implement [SVM, Naïve Bayes, KNN] methods using scikit-learn library."
      ],
      "metadata": {
        "id": "lXJRmwAbTXEW"
      }
    },
    {
      "cell_type": "code",
      "source": [
        "dir(digits)\n"
      ],
      "metadata": {
        "colab": {
          "base_uri": "https://localhost:8080/"
        },
        "id": "lagGm4IJSCs7",
        "outputId": "66e44540-daf4-4d2c-9a6b-c8b088900cfd"
      },
      "execution_count": 10,
      "outputs": [
        {
          "output_type": "execute_result",
          "data": {
            "text/plain": [
              "['DESCR', 'data', 'feature_names', 'frame', 'images', 'target', 'target_names']"
            ]
          },
          "metadata": {},
          "execution_count": 10
        }
      ]
    },
    {
      "cell_type": "code",
      "source": [
        "digits.images.shape"
      ],
      "metadata": {
        "colab": {
          "base_uri": "https://localhost:8080/"
        },
        "id": "9Z9op59CUEDb",
        "outputId": "5d9b0ae9-55d3-430e-93c0-aafc760da98b"
      },
      "execution_count": 11,
      "outputs": [
        {
          "output_type": "execute_result",
          "data": {
            "text/plain": [
              "(1797, 8, 8)"
            ]
          },
          "metadata": {},
          "execution_count": 11
        }
      ]
    },
    {
      "cell_type": "code",
      "source": [
        "print(digits.images[0])"
      ],
      "metadata": {
        "colab": {
          "base_uri": "https://localhost:8080/"
        },
        "id": "dFaVZ4AfUGE2",
        "outputId": "810e135b-e0cd-4ef1-c6f1-aa0c8e4f9974"
      },
      "execution_count": 15,
      "outputs": [
        {
          "output_type": "stream",
          "name": "stdout",
          "text": [
            "[[ 0.  0.  5. 13.  9.  1.  0.  0.]\n",
            " [ 0.  0. 13. 15. 10. 15.  5.  0.]\n",
            " [ 0.  3. 15.  2.  0. 11.  8.  0.]\n",
            " [ 0.  4. 12.  0.  0.  8.  8.  0.]\n",
            " [ 0.  5.  8.  0.  0.  9.  8.  0.]\n",
            " [ 0.  4. 11.  0.  1. 12.  7.  0.]\n",
            " [ 0.  2. 14.  5. 10. 12.  0.  0.]\n",
            " [ 0.  0.  6. 13. 10.  0.  0.  0.]]\n"
          ]
        }
      ]
    },
    {
      "cell_type": "code",
      "source": [
        "plt.imshow(digits.images[0], cmap='binary')\n",
        "plt.show()"
      ],
      "metadata": {
        "colab": {
          "base_uri": "https://localhost:8080/",
          "height": 265
        },
        "id": "Qpik-LWFUXtp",
        "outputId": "6403c135-3f25-46b6-c44c-2ca0a96e1eb1"
      },
      "execution_count": 17,
      "outputs": [
        {
          "output_type": "display_data",
          "data": {
            "image/png": "[encoded data removed]",
            "text/plain": [
              "<Figure size 432x288 with 1 Axes>"
            ]
          },
          "metadata": {
            "needs_background": "light"
          }
        }
      ]
    },
    {
      "cell_type": "code",
      "source": [
        "#creating feature and target arrays\n",
        "X, y = digits.data, digits.target"
      ],
      "metadata": {
        "id": "87iTv_NPUdhd"
      },
      "execution_count": 18,
      "outputs": []
    },
    {
      "cell_type": "code",
      "source": [
        "#splittig into training and test set\n",
        "from sklearn.model_selection import train_test_split\n",
        "X_train, X_test, y_train, y_test = train_test_split(X, y, test_size=0.2, random_state=12)"
      ],
      "metadata": {
        "id": "YQHrkfImU5Vx"
      },
      "execution_count": 20,
      "outputs": []
    },
    {
      "cell_type": "code",
      "source": [
        "# SVM\n",
        "from sklearn.svm import SVC\n",
        "svc = SVC()\n",
        "svc.fit(X_train, y_train)\n",
        "acc_svm = round(svc.score(X_train, y_train) * 100, 2)\n",
        "acc_svm"
      ],
      "metadata": {
        "colab": {
          "base_uri": "https://localhost:8080/"
        },
        "id": "GOy5Un4-WhQl",
        "outputId": "659ae51e-8e21-4897-b836-f6daf11610b6"
      },
      "execution_count": 26,
      "outputs": [
        {
          "output_type": "execute_result",
          "data": {
            "text/plain": [
              "99.51"
            ]
          },
          "metadata": {},
          "execution_count": 26
        }
      ]
    },
    {
      "cell_type": "code",
      "source": [
        "# NB - gaussian\n",
        "from sklearn.naive_bayes import GaussianNB\n",
        "gaussian = GaussianNB()\n",
        "gaussian.fit(X_train, y_train)\n",
        "gaussian_svm = round(gaussian.score(X_train, y_train) * 100, 2)\n",
        "gaussian_svm"
      ],
      "metadata": {
        "colab": {
          "base_uri": "https://localhost:8080/"
        },
        "id": "0t3u1XNkXTTz",
        "outputId": "dd4178ce-5e0b-4f8f-9ca5-43f32b5eeac3"
      },
      "execution_count": 27,
      "outputs": [
        {
          "output_type": "execute_result",
          "data": {
            "text/plain": [
              "85.32"
            ]
          },
          "metadata": {},
          "execution_count": 27
        }
      ]
    },
    {
      "cell_type": "code",
      "source": [
        "# NB - bernoulli\n",
        "from sklearn.naive_bayes import BernoulliNB\n",
        "bernoulli = BernoulliNB()\n",
        "bernoulli.fit(X_train, y_train)\n",
        "bernoulli_svm = round(bernoulli.score(X_train, y_train) * 100, 2)\n",
        "bernoulli_svm"
      ],
      "metadata": {
        "colab": {
          "base_uri": "https://localhost:8080/"
        },
        "id": "Rx-pv7RiXhWv",
        "outputId": "000698c1-ee38-42a1-e969-790d93b5653d"
      },
      "execution_count": 28,
      "outputs": [
        {
          "output_type": "execute_result",
          "data": {
            "text/plain": [
              "86.64"
            ]
          },
          "metadata": {},
          "execution_count": 28
        }
      ]
    },
    {
      "cell_type": "code",
      "source": [
        "# KNN\n",
        "from sklearn.neighbors import KNeighborsClassifier\n",
        "knn = KNeighborsClassifier()\n",
        "knn.fit(X_train, y_train)\n",
        "knn_svm = round(knn.score(X_train, y_train) * 100, 2)\n",
        "knn_svm"
      ],
      "metadata": {
        "colab": {
          "base_uri": "https://localhost:8080/"
        },
        "id": "xYahBEutXxEA",
        "outputId": "484d87e2-e088-481a-fd73-436922d389d9"
      },
      "execution_count": 29,
      "outputs": [
        {
          "output_type": "execute_result",
          "data": {
            "text/plain": [
              "99.23"
            ]
          },
          "metadata": {},
          "execution_count": 29
        }
      ]
    },
    {
      "cell_type": "markdown",
      "source": [
        "### 2. Use the digits dataset available in the link above."
      ],
      "metadata": {
        "id": "7fipNNOvYAYt"
      }
    },
    {
      "cell_type": "code",
      "source": [
        "# load optdigits.tes as dataset \n",
        "#ds_train = pd.read_csv('./optdigits.tra')\n",
        "ds_test = pd.read_csv('./optdigits.tes')\n",
        "print(ds_test['0'].sum())\n",
        "X = ds_test.iloc[:, 1:]\n",
        "y = ds_test.iloc[:, 64:]\n",
        "X = X.values"
      ],
      "metadata": {
        "colab": {
          "base_uri": "https://localhost:8080/"
        },
        "id": "OScrUpSSYFYq",
        "outputId": "cde74b98-7de0-4767-fcc7-1253c4382b87"
      },
      "execution_count": 250,
      "outputs": [
        {
          "output_type": "stream",
          "name": "stdout",
          "text": [
            "0\n"
          ]
        }
      ]
    },
    {
      "cell_type": "markdown",
      "source": [
        "### 3. Visualize some of the images and analyze the data (explore the dataset)."
      ],
      "metadata": {
        "id": "k4htlWbODR-q"
      }
    },
    {
      "cell_type": "code",
      "source": [
        "d = X[13]\n",
        "d.shape = (8, 8)\n",
        "plt.imshow(d,cmap='binary')"
      ],
      "metadata": {
        "colab": {
          "base_uri": "https://localhost:8080/",
          "height": 282
        },
        "id": "ww1bjDfcDRNf",
        "outputId": "20b21f75-89d9-40fd-f173-f8b86505147e"
      },
      "execution_count": 251,
      "outputs": [
        {
          "output_type": "execute_result",
          "data": {
            "text/plain": [
              "<matplotlib.image.AxesImage at 0x7fc71d886e50>"
            ]
          },
          "metadata": {},
          "execution_count": 251
        },
        {
          "output_type": "display_data",
          "data": {
            "image/png": "[encoded data removed]",
            "text/plain": [
              "<Figure size 432x288 with 1 Axes>"
            ]
          },
          "metadata": {
            "needs_background": "light"
          }
        }
      ]
    },
    {
      "cell_type": "code",
      "source": [
        "d = X[54]\n",
        "d.shape = (8, 8)\n",
        "plt.imshow(d,cmap='binary')"
      ],
      "metadata": {
        "colab": {
          "base_uri": "https://localhost:8080/",
          "height": 282
        },
        "id": "TZIYLT4hDa2O",
        "outputId": "ac09d1ae-4a0b-40a8-d585-9099b490a70d"
      },
      "execution_count": 252,
      "outputs": [
        {
          "output_type": "execute_result",
          "data": {
            "text/plain": [
              "<matplotlib.image.AxesImage at 0x7fc71d7b4d50>"
            ]
          },
          "metadata": {},
          "execution_count": 252
        },
        {
          "output_type": "display_data",
          "data": {
            "image/png": "[encoded data removed]",
            "text/plain": [
              "<Figure size 432x288 with 1 Axes>"
            ]
          },
          "metadata": {
            "needs_background": "light"
          }
        }
      ]
    },
    {
      "cell_type": "markdown",
      "source": [
        "### 4. Use train_test_split to create the training and testing parts."
      ],
      "metadata": {
        "id": "YZMuyfC9DglN"
      }
    },
    {
      "cell_type": "code",
      "source": [
        "X_train, X_test, y_train, y_test = train_test_split(X, y, test_size=0.25, random_state=43)\n",
        "print(X_train.shape, X_test.shape)"
      ],
      "metadata": {
        "colab": {
          "base_uri": "https://localhost:8080/"
        },
        "id": "R50kdYJsJIs8",
        "outputId": "ce57b30b-30b2-48db-d239-44cf89591bb8"
      },
      "execution_count": 253,
      "outputs": [
        {
          "output_type": "stream",
          "name": "stdout",
          "text": [
            "(1347, 64) (449, 64)\n"
          ]
        }
      ]
    },
    {
      "cell_type": "markdown",
      "source": [
        "### 5. Evaluate the model on testing part using score and the classification_report() method.\n"
      ],
      "metadata": {
        "id": "RIFCb73hRQaK"
      }
    },
    {
      "cell_type": "markdown",
      "source": [
        "### 7. Using KNN algorithm which K value can give good results?"
      ],
      "metadata": {
        "id": "56hGYDBHYjpI"
      }
    },
    {
      "cell_type": "code",
      "source": [
        "from sklearn.neighbors import KNeighborsClassifier\n",
        "neighbor = np.arange(1, 9)\n",
        "train_acc = np.empty(len(neighbor))\n",
        "test_acc = np.empty(len(neighbor))"
      ],
      "metadata": {
        "colab": {
          "base_uri": "https://localhost:8080/"
        },
        "id": "zqnlY8EQRTXO",
        "outputId": "20578546-e783-40b9-ec56-34a4ee2b0404"
      },
      "execution_count": 258,
      "outputs": [
        {
          "output_type": "execute_result",
          "data": {
            "text/plain": [
              "array([1, 2, 3, 4, 5, 6, 7, 8])"
            ]
          },
          "metadata": {},
          "execution_count": 258
        }
      ]
    },
    {
      "cell_type": "code",
      "source": [
        "train_k = {}\n",
        "test_k = {}\n",
        "for i, k in enumerate(neighbor):\n",
        "  knn = KNeighborsClassifier(n_neighbors=k)\n",
        "  knn.fit(X_train, y_train)\n",
        "  train_k[i] = k\n",
        "  train_acc[i] =knn.score(X_train, y_train)\n",
        "  test_acc[i] = knn.score(X_test, y_test)\n",
        "print(\"Train max KNN: {}\".format(list(train_acc).index(max(train_acc)) + 1))\n",
        "print(\"Test max KNN: {}\".format(list(test_acc).index(max(test_acc)) + 1))"
      ],
      "metadata": {
        "colab": {
          "base_uri": "https://localhost:8080/"
        },
        "id": "DYUzGCN7WAX7",
        "outputId": "d85368d3-7183-466c-d313-7c956a26c8bf"
      },
      "execution_count": 268,
      "outputs": [
        {
          "output_type": "stream",
          "name": "stdout",
          "text": [
            "Train max KNN: 1\n",
            "Test max KNN: 1\n"
          ]
        }
      ]
    }
  ]
}