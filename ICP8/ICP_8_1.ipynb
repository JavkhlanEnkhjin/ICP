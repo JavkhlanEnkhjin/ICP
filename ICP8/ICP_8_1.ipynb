{
  "nbformat": 4,
  "nbformat_minor": 0,
  "metadata": {
    "colab": {
      "name": "ICP_8_1.ipynb",
      "provenance": [],
      "collapsed_sections": []
    },
    "kernelspec": {
      "name": "python3",
      "display_name": "Python 3"
    },
    "accelerator": "GPU"
  },
  "cells": [
    {
      "cell_type": "markdown",
      "source": [
        "#Assignment 1\n",
        "##1. Use the use case in the class (DL_Lesson_1.ipynb & diabetes.csv):"
      ],
      "metadata": {
        "id": "AhncsitRhSBN"
      }
    },
    {
      "cell_type": "code",
      "metadata": {
        "id": "pTRagYcvHjDj"
      },
      "source": [
        "# importing libraries\n",
        "import tensorflow as tf\n",
        "from tensorflow import keras\n",
        "from tensorflow.keras import layers\n",
        "from sklearn.preprocessing import StandardScaler\n",
        "from sklearn.model_selection import train_test_split\n",
        "import matplotlib.pyplot as plt\n",
        "import pandas as pd\n",
        "import numpy as np"
      ],
      "execution_count": 41,
      "outputs": []
    },
    {
      "cell_type": "code",
      "source": [
        "#checking tensor flow version\n",
        "print(tf.__version__)"
      ],
      "metadata": {
        "colab": {
          "base_uri": "https://localhost:8080/"
        },
        "id": "UDXJo55XnEqy",
        "outputId": "043eb7bb-f4f7-4f90-849f-f98713138745"
      },
      "execution_count": 42,
      "outputs": [
        {
          "output_type": "stream",
          "name": "stdout",
          "text": [
            "2.8.0\n"
          ]
        }
      ]
    },
    {
      "cell_type": "code",
      "metadata": {
        "id": "ApzFGDkOHnt7"
      },
      "source": [
        "# importing dataset\n",
        "dataset = pd.read_csv(\"/content/sample_data/diabetes.csv\")"
      ],
      "execution_count": 43,
      "outputs": []
    },
    {
      "cell_type": "code",
      "metadata": {
        "colab": {
          "base_uri": "https://localhost:8080/"
        },
        "id": "033I05ZJJ9ND",
        "outputId": "e01ea1bf-01c4-4f9e-b1de-1e3150f292a0"
      },
      "source": [
        "dataset.info()"
      ],
      "execution_count": 44,
      "outputs": [
        {
          "output_type": "stream",
          "name": "stdout",
          "text": [
            "<class 'pandas.core.frame.DataFrame'>\n",
            "RangeIndex: 767 entries, 0 to 766\n",
            "Data columns (total 9 columns):\n",
            " #   Column  Non-Null Count  Dtype  \n",
            "---  ------  --------------  -----  \n",
            " 0   6       767 non-null    int64  \n",
            " 1   148     767 non-null    int64  \n",
            " 2   72      767 non-null    int64  \n",
            " 3   35      767 non-null    int64  \n",
            " 4   0       767 non-null    int64  \n",
            " 5   33.6    767 non-null    float64\n",
            " 6   0.627   767 non-null    float64\n",
            " 7   50      767 non-null    int64  \n",
            " 8   1       767 non-null    int64  \n",
            "dtypes: float64(2), int64(7)\n",
            "memory usage: 54.1 KB\n"
          ]
        }
      ]
    },
    {
      "cell_type": "code",
      "metadata": {
        "id": "A_aZW8YvKNSz",
        "colab": {
          "base_uri": "https://localhost:8080/"
        },
        "outputId": "de7cbc11-d962-4262-f09b-970e4fd30bcf"
      },
      "source": [
        "# getting numpy ndarray from dataset\n",
        "dataset = dataset.values\n",
        "dataset"
      ],
      "execution_count": 45,
      "outputs": [
        {
          "output_type": "execute_result",
          "data": {
            "text/plain": [
              "array([[1.00e+00, 8.50e+01, 6.60e+01, ..., 3.51e-01, 3.10e+01, 0.00e+00],\n",
              "       [8.00e+00, 1.83e+02, 6.40e+01, ..., 6.72e-01, 3.20e+01, 1.00e+00],\n",
              "       [1.00e+00, 8.90e+01, 6.60e+01, ..., 1.67e-01, 2.10e+01, 0.00e+00],\n",
              "       ...,\n",
              "       [5.00e+00, 1.21e+02, 7.20e+01, ..., 2.45e-01, 3.00e+01, 0.00e+00],\n",
              "       [1.00e+00, 1.26e+02, 6.00e+01, ..., 3.49e-01, 4.70e+01, 1.00e+00],\n",
              "       [1.00e+00, 9.30e+01, 7.00e+01, ..., 3.15e-01, 2.30e+01, 0.00e+00]])"
            ]
          },
          "metadata": {},
          "execution_count": 45
        }
      ]
    },
    {
      "cell_type": "code",
      "metadata": {
        "id": "JtIe1DBCKegG",
        "colab": {
          "base_uri": "https://localhost:8080/"
        },
        "outputId": "d2a81760-3ec6-4029-8b9e-d1d9ebaf8976"
      },
      "source": [
        "# checking dataset shape\n",
        "dataset.shape"
      ],
      "execution_count": 46,
      "outputs": [
        {
          "output_type": "execute_result",
          "data": {
            "text/plain": [
              "(767, 9)"
            ]
          },
          "metadata": {},
          "execution_count": 46
        }
      ]
    },
    {
      "cell_type": "code",
      "metadata": {
        "id": "-T0Q43fAxtNW"
      },
      "source": [
        "# Standardize features by removing the mean and scaling to unit variance\n",
        "sc = StandardScaler()\n",
        "scaled_data = sc.fit_transform(dataset)"
      ],
      "execution_count": 47,
      "outputs": []
    },
    {
      "cell_type": "code",
      "metadata": {
        "id": "yt64olkkHwft"
      },
      "source": [
        "# splitting train and test data\n",
        "X_train, X_test, Y_train, Y_test = train_test_split(dataset[:,0:8], dataset[:,8], test_size=0.25, random_state=42)"
      ],
      "execution_count": 48,
      "outputs": []
    },
    {
      "cell_type": "code",
      "metadata": {
        "id": "pTBESlF_5Zw1"
      },
      "source": [
        "# fitting train data and transforming\n",
        "X_train_fit = sc.fit(X_train)\n",
        "X_train_tra = sc.transform(X_train)\n",
        "# fitting test data and transforming\n",
        "X_test_fit = sc.fit(X_test)\n",
        "X_test_tra = sc.transform(X_test)"
      ],
      "execution_count": 49,
      "outputs": []
    },
    {
      "cell_type": "code",
      "source": [
        "# checking train data shape\n",
        "print(X_train.shape)"
      ],
      "metadata": {
        "colab": {
          "base_uri": "https://localhost:8080/"
        },
        "id": "WLv4xOYkoYGt",
        "outputId": "42acd6ad-913f-4782-d45e-f0ee3d1f76cb"
      },
      "execution_count": 50,
      "outputs": [
        {
          "output_type": "stream",
          "name": "stdout",
          "text": [
            "(575, 8)\n"
          ]
        }
      ]
    },
    {
      "cell_type": "markdown",
      "source": [
        "## a. Add more Dense layers to the existing code and check how the accuracy changes."
      ],
      "metadata": {
        "id": "KwiT2nfoT_SC"
      }
    },
    {
      "cell_type": "code",
      "metadata": {
        "id": "rMfomxTmH3ww",
        "colab": {
          "base_uri": "https://localhost:8080/"
        },
        "outputId": "60a3d01a-cd0e-47ec-87e3-39596f70e669"
      },
      "source": [
        "model = keras.Sequential() # create model\n",
        "model.add(layers.Dense(32, input_dim=8, activation='relu')) # Input layer\n",
        "model.add(layers.Dense(64, activation='relu')) # hidden layer 1\n",
        "model.add(layers.Dense(128, activation='relu')) # hidden layer 2\n",
        "model.add(layers.Dense(256, activation='relu')) # hidden layer 3\n",
        "model.add(layers.Dense(1, activation='sigmoid')) # output layer\n",
        "# compiling the model\n",
        "model.compile(loss='binary_crossentropy', optimizer='adam', metrics=['accuracy'])\n",
        "# printing a summary about layer and output shap with param number\n",
        "model.summary()"
      ],
      "execution_count": 51,
      "outputs": [
        {
          "output_type": "stream",
          "name": "stdout",
          "text": [
            "Model: \"sequential_2\"\n",
            "_________________________________________________________________\n",
            " Layer (type)                Output Shape              Param #   \n",
            "=================================================================\n",
            " dense_8 (Dense)             (None, 32)                288       \n",
            "                                                                 \n",
            " dense_9 (Dense)             (None, 64)                2112      \n",
            "                                                                 \n",
            " dense_10 (Dense)            (None, 128)               8320      \n",
            "                                                                 \n",
            " dense_11 (Dense)            (None, 256)               33024     \n",
            "                                                                 \n",
            " dense_12 (Dense)            (None, 1)                 257       \n",
            "                                                                 \n",
            "=================================================================\n",
            "Total params: 44,001\n",
            "Trainable params: 44,001\n",
            "Non-trainable params: 0\n",
            "_________________________________________________________________\n"
          ]
        }
      ]
    },
    {
      "cell_type": "code",
      "source": [
        "# fitting model without validation\n",
        "my_first_nn_fitted = model.fit(X_train, Y_train, epochs=100)"
      ],
      "metadata": {
        "id": "kivf-s_mNaRd"
      },
      "execution_count": null,
      "outputs": []
    },
    {
      "cell_type": "code",
      "source": [
        "# getting test score from data without normalization and print\n",
        "scores = model.evaluate(X_test, Y_test)"
      ],
      "metadata": {
        "colab": {
          "base_uri": "https://localhost:8080/"
        },
        "id": "JxzOGfjBNezF",
        "outputId": "cc77462b-7a90-4436-9a40-d9a24a3263d4"
      },
      "execution_count": 53,
      "outputs": [
        {
          "output_type": "stream",
          "name": "stdout",
          "text": [
            "6/6 [==============================] - 0s 5ms/step - loss: 0.6999 - accuracy: 0.7344\n"
          ]
        }
      ]
    },
    {
      "cell_type": "code",
      "source": [
        "print(scores)"
      ],
      "metadata": {
        "colab": {
          "base_uri": "https://localhost:8080/"
        },
        "id": "pKDppJCZNfVV",
        "outputId": "ddcdaaee-f318-4334-b60a-a413ca096e36"
      },
      "execution_count": 54,
      "outputs": [
        {
          "output_type": "stream",
          "name": "stdout",
          "text": [
            "[0.6999485492706299, 0.734375]\n"
          ]
        }
      ]
    },
    {
      "cell_type": "markdown",
      "source": [
        "## b. Add the validation_data=(X_test, Y_test) attribute to .fit() method."
      ],
      "metadata": {
        "id": "wses71AeUEP5"
      }
    },
    {
      "cell_type": "code",
      "metadata": {
        "id": "2PdPpP7fK-TD"
      },
      "source": [
        "# fitting model and validating with test data\n",
        "nn_fitted = model.fit(X_train, Y_train, epochs=100, validation_data=(X_test, Y_test), shuffle=True)"
      ],
      "execution_count": null,
      "outputs": []
    },
    {
      "cell_type": "markdown",
      "source": [
        "## c. Plot the accuracy for training and validation (one plot for both: train and test accuracy)."
      ],
      "metadata": {
        "id": "E0BLvKjpUNFR"
      }
    },
    {
      "cell_type": "code",
      "source": [
        "# plotting history for accuracy\n",
        "import matplotlib.pyplot as plt\n",
        "# plot the accurcy\n",
        "plt.plot(nn_fitted.history['accuracy'])\n",
        "# plot the val\n",
        "plt.plot(nn_fitted.history['val_accuracy'])\n",
        "plt.title('Model accuracy')\n",
        "plt.ylabel('Accuracy')\n",
        "plt.xlabel('Epoch')\n",
        "plt.legend(['train', 'test'], loc='upper left')\n",
        "plt.show()"
      ],
      "metadata": {
        "colab": {
          "base_uri": "https://localhost:8080/",
          "height": 295
        },
        "id": "eeXRy9517cRo",
        "outputId": "d11137e9-c7bb-4919-a81f-bb9e343719ef"
      },
      "execution_count": 56,
      "outputs": [
        {
          "output_type": "display_data",
          "data": {
            "text/plain": [
              "<Figure size 432x288 with 1 Axes>"
            ],
            "image/png": "[encoded data removed]"
          },
          "metadata": {
            "needs_background": "light"
          }
        }
      ]
    },
    {
      "cell_type": "markdown",
      "source": [
        "## d. Plot the loss for training and validation (one plot for both: train and test loss)."
      ],
      "metadata": {
        "id": "yCyBpE22UPNt"
      }
    },
    {
      "cell_type": "code",
      "source": [
        "# plotting history for loss\n",
        "plt.plot(nn_fitted.history['loss'])\n",
        "# plot the val of loss\n",
        "plt.plot(nn_fitted.history['val_loss'])\n",
        "plt.title('Model loss')\n",
        "plt.ylabel('Loss')\n",
        "plt.xlabel('Epoch')\n",
        "plt.legend(['train', 'test'], loc='upper right')\n",
        "plt.show()"
      ],
      "metadata": {
        "colab": {
          "base_uri": "https://localhost:8080/",
          "height": 295
        },
        "id": "ImUByfjH_qfz",
        "outputId": "38789a9c-94fd-4a6c-961c-ff27bdf80919"
      },
      "execution_count": 57,
      "outputs": [
        {
          "output_type": "display_data",
          "data": {
            "text/plain": [
              "<Figure size 432x288 with 1 Axes>"
            ],
            "image/png": "[encoded data removed]"
          },
          "metadata": {
            "needs_background": "light"
          }
        }
      ]
    },
    {
      "cell_type": "code",
      "metadata": {
        "id": "EBYPua9zH-E6",
        "colab": {
          "base_uri": "https://localhost:8080/"
        },
        "outputId": "2fd670c5-2341-420e-fbcc-d847043158f4"
      },
      "source": [
        "# getting test score from data before normalization and print\n",
        "scores_test = model.evaluate(X_test, Y_test)\n",
        "print(f'Loss score for test data: {scores_test}')"
      ],
      "execution_count": 58,
      "outputs": [
        {
          "output_type": "stream",
          "name": "stdout",
          "text": [
            "6/6 [==============================] - 0s 3ms/step - loss: 1.2353 - accuracy: 0.7344\n",
            "Loss score for test data: [1.2353378534317017, 0.734375]\n"
          ]
        }
      ]
    },
    {
      "cell_type": "markdown",
      "source": [
        "## e. Normalize the data before feeding to the model and check how the normalization changes your accuracy sue the StandardScaler() from scikit learn."
      ],
      "metadata": {
        "id": "GuiNS72He0F-"
      }
    },
    {
      "cell_type": "code",
      "source": [
        "# splitting train and test data from normalized dataset\n",
        "X_train, X_test, Y_train, Y_test = train_test_split(scaled_data[:,0:8], scaled_data[:,8], test_size=0.25, random_state=42)"
      ],
      "metadata": {
        "id": "2I2y8LABerfa"
      },
      "execution_count": 59,
      "outputs": []
    },
    {
      "cell_type": "code",
      "source": [
        "# getting test score from data after normalization and print\n",
        "scores_test = model.evaluate(X_test, Y_test)\n",
        "print(f'Loss score for test data: {scores_test}')"
      ],
      "metadata": {
        "colab": {
          "base_uri": "https://localhost:8080/"
        },
        "id": "7oO8rpTme5gT",
        "outputId": "88898622-642f-4488-bb28-b565d2c79142"
      },
      "execution_count": 60,
      "outputs": [
        {
          "output_type": "stream",
          "name": "stdout",
          "text": [
            "6/6 [==============================] - 0s 3ms/step - loss: 0.1461 - accuracy: 0.0000e+00\n",
            "Loss score for test data: [0.14607767760753632, 0.0]\n"
          ]
        }
      ]
    }
  ]
}