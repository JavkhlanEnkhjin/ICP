{
  "nbformat": 4,
  "nbformat_minor": 0,
  "metadata": {
    "colab": {
      "name": "ICP_8_1.ipynb",
      "provenance": [],
      "collapsed_sections": []
    },
    "kernelspec": {
      "name": "python3",
      "display_name": "Python 3"
    },
    "accelerator": "GPU"
  },
  "cells": [
    {
      "cell_type": "markdown",
      "source": [
        "#Assignment 1\n",
        "##1. Use the use case in the class (DL_Lesson_1.ipynb & diabetes.csv):"
      ],
      "metadata": {
        "id": "AhncsitRhSBN"
      }
    },
    {
      "cell_type": "code",
      "metadata": {
        "id": "pTRagYcvHjDj"
      },
      "source": [
        "# importing libraries\n",
        "import tensorflow as tf\n",
        "from tensorflow import keras\n",
        "from tensorflow.keras import layers\n",
        "from sklearn.preprocessing import StandardScaler\n",
        "from sklearn.model_selection import train_test_split\n",
        "import matplotlib.pyplot as plt\n",
        "import pandas as pd\n",
        "import numpy as np"
      ],
      "execution_count": 143,
      "outputs": []
    },
    {
      "cell_type": "code",
      "source": [
        "#checking tensor flow version\n",
        "print(tf.__version__)"
      ],
      "metadata": {
        "colab": {
          "base_uri": "https://localhost:8080/"
        },
        "id": "UDXJo55XnEqy",
        "outputId": "db74b4ce-1512-4c51-e0de-5df7129ccbd7"
      },
      "execution_count": 144,
      "outputs": [
        {
          "output_type": "stream",
          "name": "stdout",
          "text": [
            "2.8.0\n"
          ]
        }
      ]
    },
    {
      "cell_type": "code",
      "metadata": {
        "id": "ApzFGDkOHnt7"
      },
      "source": [
        "# importing dataset\n",
        "dataset = pd.read_csv(\"/content/sample_data/diabetes.csv\")"
      ],
      "execution_count": 145,
      "outputs": []
    },
    {
      "cell_type": "code",
      "metadata": {
        "colab": {
          "base_uri": "https://localhost:8080/"
        },
        "id": "033I05ZJJ9ND",
        "outputId": "287905f8-6ff1-4b34-ee21-d565eabd32a8"
      },
      "source": [
        "dataset.info()"
      ],
      "execution_count": 146,
      "outputs": [
        {
          "output_type": "stream",
          "name": "stdout",
          "text": [
            "<class 'pandas.core.frame.DataFrame'>\n",
            "RangeIndex: 767 entries, 0 to 766\n",
            "Data columns (total 9 columns):\n",
            " #   Column  Non-Null Count  Dtype  \n",
            "---  ------  --------------  -----  \n",
            " 0   6       767 non-null    int64  \n",
            " 1   148     767 non-null    int64  \n",
            " 2   72      767 non-null    int64  \n",
            " 3   35      767 non-null    int64  \n",
            " 4   0       767 non-null    int64  \n",
            " 5   33.6    767 non-null    float64\n",
            " 6   0.627   767 non-null    float64\n",
            " 7   50      767 non-null    int64  \n",
            " 8   1       767 non-null    int64  \n",
            "dtypes: float64(2), int64(7)\n",
            "memory usage: 54.1 KB\n"
          ]
        }
      ]
    },
    {
      "cell_type": "code",
      "metadata": {
        "id": "A_aZW8YvKNSz",
        "colab": {
          "base_uri": "https://localhost:8080/"
        },
        "outputId": "68760215-d5c9-4ad6-c8d4-ae3278c74958"
      },
      "source": [
        "# getting numpy ndarray from dataset\n",
        "dataset = dataset.values\n",
        "dataset"
      ],
      "execution_count": 147,
      "outputs": [
        {
          "output_type": "execute_result",
          "data": {
            "text/plain": [
              "array([[1.00e+00, 8.50e+01, 6.60e+01, ..., 3.51e-01, 3.10e+01, 0.00e+00],\n",
              "       [8.00e+00, 1.83e+02, 6.40e+01, ..., 6.72e-01, 3.20e+01, 1.00e+00],\n",
              "       [1.00e+00, 8.90e+01, 6.60e+01, ..., 1.67e-01, 2.10e+01, 0.00e+00],\n",
              "       ...,\n",
              "       [5.00e+00, 1.21e+02, 7.20e+01, ..., 2.45e-01, 3.00e+01, 0.00e+00],\n",
              "       [1.00e+00, 1.26e+02, 6.00e+01, ..., 3.49e-01, 4.70e+01, 1.00e+00],\n",
              "       [1.00e+00, 9.30e+01, 7.00e+01, ..., 3.15e-01, 2.30e+01, 0.00e+00]])"
            ]
          },
          "metadata": {},
          "execution_count": 147
        }
      ]
    },
    {
      "cell_type": "code",
      "metadata": {
        "id": "JtIe1DBCKegG",
        "colab": {
          "base_uri": "https://localhost:8080/"
        },
        "outputId": "516ce802-cb81-4c01-8f26-bdaaf3a4dabc"
      },
      "source": [
        "# checking dataset shape\n",
        "dataset.shape"
      ],
      "execution_count": 148,
      "outputs": [
        {
          "output_type": "execute_result",
          "data": {
            "text/plain": [
              "(767, 9)"
            ]
          },
          "metadata": {},
          "execution_count": 148
        }
      ]
    },
    {
      "cell_type": "code",
      "metadata": {
        "id": "-T0Q43fAxtNW"
      },
      "source": [
        "# Standardize features by removing the mean and scaling to unit variance\n",
        "sc = StandardScaler()\n",
        "scaled_data = sc.fit_transform(dataset)"
      ],
      "execution_count": 149,
      "outputs": []
    },
    {
      "cell_type": "code",
      "metadata": {
        "id": "yt64olkkHwft"
      },
      "source": [
        "# splitting train and test data\n",
        "X_train, X_test, Y_train, Y_test = train_test_split(dataset[:,0:8], dataset[:,8], test_size=0.25, random_state=42)"
      ],
      "execution_count": 150,
      "outputs": []
    },
    {
      "cell_type": "code",
      "metadata": {
        "id": "pTBESlF_5Zw1"
      },
      "source": [
        "# fitting train data and transforming\n",
        "X_train_fit = sc.fit(X_train)\n",
        "X_train_tra = sc.transform(X_train)\n",
        "# fitting test data and transforming\n",
        "X_test_fit = sc.fit(X_test)\n",
        "X_test_tra = sc.transform(X_test)"
      ],
      "execution_count": 151,
      "outputs": []
    },
    {
      "cell_type": "code",
      "source": [
        "# checking train data shape\n",
        "print(X_train.shape)"
      ],
      "metadata": {
        "colab": {
          "base_uri": "https://localhost:8080/"
        },
        "id": "WLv4xOYkoYGt",
        "outputId": "8ad320db-7764-4e7c-deaa-d9d2f016dd8e"
      },
      "execution_count": 152,
      "outputs": [
        {
          "output_type": "stream",
          "name": "stdout",
          "text": [
            "(575, 8)\n"
          ]
        }
      ]
    },
    {
      "cell_type": "markdown",
      "source": [
        "## a. Add more Dense layers to the existing code and check how the accuracy changes."
      ],
      "metadata": {
        "id": "KwiT2nfoT_SC"
      }
    },
    {
      "cell_type": "code",
      "metadata": {
        "id": "rMfomxTmH3ww",
        "colab": {
          "base_uri": "https://localhost:8080/"
        },
        "outputId": "9f2a8d73-5190-47b4-ffa8-4954a08f84f7"
      },
      "source": [
        "model = keras.Sequential() # create model\n",
        "model.add(layers.Dense(32, input_dim=8, activation='relu')) # Input layer\n",
        "model.add(layers.Dense(64, activation='relu')) # hidden layer 1\n",
        "model.add(layers.Dense(128, activation='relu')) # hidden layer 2\n",
        "model.add(layers.Dense(1, activation='sigmoid')) # output layer\n",
        "# compiling the model\n",
        "model.compile(loss='binary_crossentropy', optimizer='adam', metrics=['accuracy'])\n",
        "# printing a summary about layer and output shap with param number\n",
        "model.summary()"
      ],
      "execution_count": 153,
      "outputs": [
        {
          "output_type": "stream",
          "name": "stdout",
          "text": [
            "Model: \"sequential_9\"\n",
            "_________________________________________________________________\n",
            " Layer (type)                Output Shape              Param #   \n",
            "=================================================================\n",
            " dense_37 (Dense)            (None, 32)                288       \n",
            "                                                                 \n",
            " dense_38 (Dense)            (None, 64)                2112      \n",
            "                                                                 \n",
            " dense_39 (Dense)            (None, 128)               8320      \n",
            "                                                                 \n",
            " dense_40 (Dense)            (None, 1)                 129       \n",
            "                                                                 \n",
            "=================================================================\n",
            "Total params: 10,849\n",
            "Trainable params: 10,849\n",
            "Non-trainable params: 0\n",
            "_________________________________________________________________\n"
          ]
        }
      ]
    },
    {
      "cell_type": "code",
      "source": [
        "# fitting model without validation\n",
        "my_first_nn_fitted = model.fit(X_train, Y_train, epochs=100)"
      ],
      "metadata": {
        "colab": {
          "base_uri": "https://localhost:8080/"
        },
        "id": "kivf-s_mNaRd",
        "outputId": "62d42097-fa41-4b5b-99cf-dd01196f7ba0"
      },
      "execution_count": 154,
      "outputs": [
        {
          "output_type": "stream",
          "name": "stdout",
          "text": [
            "Epoch 1/100\n",
            "18/18 [==============================] - 1s 4ms/step - loss: 1.0146 - accuracy: 0.5878\n",
            "Epoch 2/100\n",
            "18/18 [==============================] - 0s 4ms/step - loss: 0.8527 - accuracy: 0.6226\n",
            "Epoch 3/100\n",
            "18/18 [==============================] - 0s 4ms/step - loss: 0.7638 - accuracy: 0.6313\n",
            "Epoch 4/100\n",
            "18/18 [==============================] - 0s 5ms/step - loss: 0.6342 - accuracy: 0.6678\n",
            "Epoch 5/100\n",
            "18/18 [==============================] - 0s 4ms/step - loss: 0.6800 - accuracy: 0.6678\n",
            "Epoch 6/100\n",
            "18/18 [==============================] - 0s 4ms/step - loss: 0.6295 - accuracy: 0.6870\n",
            "Epoch 7/100\n",
            "18/18 [==============================] - 0s 4ms/step - loss: 0.7130 - accuracy: 0.6504\n",
            "Epoch 8/100\n",
            "18/18 [==============================] - 0s 4ms/step - loss: 0.6667 - accuracy: 0.6765\n",
            "Epoch 9/100\n",
            "18/18 [==============================] - 0s 4ms/step - loss: 0.6255 - accuracy: 0.6870\n",
            "Epoch 10/100\n",
            "18/18 [==============================] - 0s 4ms/step - loss: 0.6950 - accuracy: 0.6313\n",
            "Epoch 11/100\n",
            "18/18 [==============================] - 0s 4ms/step - loss: 0.6022 - accuracy: 0.6887\n",
            "Epoch 12/100\n",
            "18/18 [==============================] - 0s 4ms/step - loss: 0.5564 - accuracy: 0.7183\n",
            "Epoch 13/100\n",
            "18/18 [==============================] - 0s 4ms/step - loss: 0.5749 - accuracy: 0.6991\n",
            "Epoch 14/100\n",
            "18/18 [==============================] - 0s 4ms/step - loss: 0.5740 - accuracy: 0.7026\n",
            "Epoch 15/100\n",
            "18/18 [==============================] - 0s 4ms/step - loss: 0.5470 - accuracy: 0.7183\n",
            "Epoch 16/100\n",
            "18/18 [==============================] - 0s 5ms/step - loss: 0.5928 - accuracy: 0.7061\n",
            "Epoch 17/100\n",
            "18/18 [==============================] - 0s 4ms/step - loss: 0.5642 - accuracy: 0.7322\n",
            "Epoch 18/100\n",
            "18/18 [==============================] - 0s 4ms/step - loss: 0.6469 - accuracy: 0.6783\n",
            "Epoch 19/100\n",
            "18/18 [==============================] - 0s 4ms/step - loss: 0.5336 - accuracy: 0.7357\n",
            "Epoch 20/100\n",
            "18/18 [==============================] - 0s 4ms/step - loss: 0.5317 - accuracy: 0.7409\n",
            "Epoch 21/100\n",
            "18/18 [==============================] - 0s 4ms/step - loss: 0.5167 - accuracy: 0.7391\n",
            "Epoch 22/100\n",
            "18/18 [==============================] - 0s 4ms/step - loss: 0.5138 - accuracy: 0.7374\n",
            "Epoch 23/100\n",
            "18/18 [==============================] - 0s 4ms/step - loss: 0.5990 - accuracy: 0.7026\n",
            "Epoch 24/100\n",
            "18/18 [==============================] - 0s 4ms/step - loss: 0.5827 - accuracy: 0.7217\n",
            "Epoch 25/100\n",
            "18/18 [==============================] - 0s 5ms/step - loss: 0.5360 - accuracy: 0.7322\n",
            "Epoch 26/100\n",
            "18/18 [==============================] - 0s 4ms/step - loss: 0.5416 - accuracy: 0.7252\n",
            "Epoch 27/100\n",
            "18/18 [==============================] - 0s 4ms/step - loss: 0.5253 - accuracy: 0.7565\n",
            "Epoch 28/100\n",
            "18/18 [==============================] - 0s 4ms/step - loss: 0.5394 - accuracy: 0.7078\n",
            "Epoch 29/100\n",
            "18/18 [==============================] - 0s 4ms/step - loss: 0.5211 - accuracy: 0.7391\n",
            "Epoch 30/100\n",
            "18/18 [==============================] - 0s 4ms/step - loss: 0.5871 - accuracy: 0.7026\n",
            "Epoch 31/100\n",
            "18/18 [==============================] - 0s 4ms/step - loss: 0.7074 - accuracy: 0.6870\n",
            "Epoch 32/100\n",
            "18/18 [==============================] - 0s 4ms/step - loss: 0.5748 - accuracy: 0.7183\n",
            "Epoch 33/100\n",
            "18/18 [==============================] - 0s 4ms/step - loss: 0.5008 - accuracy: 0.7565\n",
            "Epoch 34/100\n",
            "18/18 [==============================] - 0s 4ms/step - loss: 0.5001 - accuracy: 0.7304\n",
            "Epoch 35/100\n",
            "18/18 [==============================] - 0s 4ms/step - loss: 0.5354 - accuracy: 0.7287\n",
            "Epoch 36/100\n",
            "18/18 [==============================] - 0s 4ms/step - loss: 0.5555 - accuracy: 0.7391\n",
            "Epoch 37/100\n",
            "18/18 [==============================] - 0s 4ms/step - loss: 0.5259 - accuracy: 0.7339\n",
            "Epoch 38/100\n",
            "18/18 [==============================] - 0s 4ms/step - loss: 0.5992 - accuracy: 0.6852\n",
            "Epoch 39/100\n",
            "18/18 [==============================] - 0s 4ms/step - loss: 0.5233 - accuracy: 0.7339\n",
            "Epoch 40/100\n",
            "18/18 [==============================] - 0s 5ms/step - loss: 0.4808 - accuracy: 0.7670\n",
            "Epoch 41/100\n",
            "18/18 [==============================] - 0s 4ms/step - loss: 0.5184 - accuracy: 0.7443\n",
            "Epoch 42/100\n",
            "18/18 [==============================] - 0s 4ms/step - loss: 0.4867 - accuracy: 0.7583\n",
            "Epoch 43/100\n",
            "18/18 [==============================] - 0s 4ms/step - loss: 0.5091 - accuracy: 0.7548\n",
            "Epoch 44/100\n",
            "18/18 [==============================] - 0s 4ms/step - loss: 0.4954 - accuracy: 0.7600\n",
            "Epoch 45/100\n",
            "18/18 [==============================] - 0s 4ms/step - loss: 0.4798 - accuracy: 0.7757\n",
            "Epoch 46/100\n",
            "18/18 [==============================] - 0s 4ms/step - loss: 0.5038 - accuracy: 0.7391\n",
            "Epoch 47/100\n",
            "18/18 [==============================] - 0s 4ms/step - loss: 0.5225 - accuracy: 0.7496\n",
            "Epoch 48/100\n",
            "18/18 [==============================] - 0s 4ms/step - loss: 0.5016 - accuracy: 0.7739\n",
            "Epoch 49/100\n",
            "18/18 [==============================] - 0s 4ms/step - loss: 0.4919 - accuracy: 0.7583\n",
            "Epoch 50/100\n",
            "18/18 [==============================] - 0s 4ms/step - loss: 0.4581 - accuracy: 0.7896\n",
            "Epoch 51/100\n",
            "18/18 [==============================] - 0s 4ms/step - loss: 0.4774 - accuracy: 0.7687\n",
            "Epoch 52/100\n",
            "18/18 [==============================] - 0s 4ms/step - loss: 0.5208 - accuracy: 0.7461\n",
            "Epoch 53/100\n",
            "18/18 [==============================] - 0s 4ms/step - loss: 0.5821 - accuracy: 0.7148\n",
            "Epoch 54/100\n",
            "18/18 [==============================] - 0s 4ms/step - loss: 0.5463 - accuracy: 0.7130\n",
            "Epoch 55/100\n",
            "18/18 [==============================] - 0s 4ms/step - loss: 0.4473 - accuracy: 0.7861\n",
            "Epoch 56/100\n",
            "18/18 [==============================] - 0s 4ms/step - loss: 0.4508 - accuracy: 0.8087\n",
            "Epoch 57/100\n",
            "18/18 [==============================] - 0s 4ms/step - loss: 0.4471 - accuracy: 0.7948\n",
            "Epoch 58/100\n",
            "18/18 [==============================] - 0s 4ms/step - loss: 0.4540 - accuracy: 0.7878\n",
            "Epoch 59/100\n",
            "18/18 [==============================] - 0s 4ms/step - loss: 0.4363 - accuracy: 0.7826\n",
            "Epoch 60/100\n",
            "18/18 [==============================] - 0s 4ms/step - loss: 0.4854 - accuracy: 0.7617\n",
            "Epoch 61/100\n",
            "18/18 [==============================] - 0s 4ms/step - loss: 0.4623 - accuracy: 0.7791\n",
            "Epoch 62/100\n",
            "18/18 [==============================] - 0s 4ms/step - loss: 0.4401 - accuracy: 0.7826\n",
            "Epoch 63/100\n",
            "18/18 [==============================] - 0s 4ms/step - loss: 0.4458 - accuracy: 0.7913\n",
            "Epoch 64/100\n",
            "18/18 [==============================] - 0s 4ms/step - loss: 0.4516 - accuracy: 0.7930\n",
            "Epoch 65/100\n",
            "18/18 [==============================] - 0s 4ms/step - loss: 0.4220 - accuracy: 0.8104\n",
            "Epoch 66/100\n",
            "18/18 [==============================] - 0s 4ms/step - loss: 0.4296 - accuracy: 0.7913\n",
            "Epoch 67/100\n",
            "18/18 [==============================] - 0s 4ms/step - loss: 0.4277 - accuracy: 0.8000\n",
            "Epoch 68/100\n",
            "18/18 [==============================] - 0s 4ms/step - loss: 0.4542 - accuracy: 0.7652\n",
            "Epoch 69/100\n",
            "18/18 [==============================] - 0s 4ms/step - loss: 0.4178 - accuracy: 0.8052\n",
            "Epoch 70/100\n",
            "18/18 [==============================] - 0s 4ms/step - loss: 0.3959 - accuracy: 0.8157\n",
            "Epoch 71/100\n",
            "18/18 [==============================] - 0s 4ms/step - loss: 0.4201 - accuracy: 0.8104\n",
            "Epoch 72/100\n",
            "18/18 [==============================] - 0s 4ms/step - loss: 0.4503 - accuracy: 0.7913\n",
            "Epoch 73/100\n",
            "18/18 [==============================] - 0s 4ms/step - loss: 0.4082 - accuracy: 0.7983\n",
            "Epoch 74/100\n",
            "18/18 [==============================] - 0s 4ms/step - loss: 0.4184 - accuracy: 0.8052\n",
            "Epoch 75/100\n",
            "18/18 [==============================] - 0s 5ms/step - loss: 0.4191 - accuracy: 0.7930\n",
            "Epoch 76/100\n",
            "18/18 [==============================] - 0s 4ms/step - loss: 0.4095 - accuracy: 0.7930\n",
            "Epoch 77/100\n",
            "18/18 [==============================] - 0s 4ms/step - loss: 0.4121 - accuracy: 0.8122\n",
            "Epoch 78/100\n",
            "18/18 [==============================] - 0s 4ms/step - loss: 0.4374 - accuracy: 0.7757\n",
            "Epoch 79/100\n",
            "18/18 [==============================] - 0s 4ms/step - loss: 0.4172 - accuracy: 0.8000\n",
            "Epoch 80/100\n",
            "18/18 [==============================] - 0s 4ms/step - loss: 0.4148 - accuracy: 0.7913\n",
            "Epoch 81/100\n",
            "18/18 [==============================] - 0s 4ms/step - loss: 0.3829 - accuracy: 0.8209\n",
            "Epoch 82/100\n",
            "18/18 [==============================] - 0s 4ms/step - loss: 0.3995 - accuracy: 0.8191\n",
            "Epoch 83/100\n",
            "18/18 [==============================] - 0s 4ms/step - loss: 0.4115 - accuracy: 0.7983\n",
            "Epoch 84/100\n",
            "18/18 [==============================] - 0s 4ms/step - loss: 0.4242 - accuracy: 0.8000\n",
            "Epoch 85/100\n",
            "18/18 [==============================] - 0s 4ms/step - loss: 0.4015 - accuracy: 0.8035\n",
            "Epoch 86/100\n",
            "18/18 [==============================] - 0s 4ms/step - loss: 0.3843 - accuracy: 0.8017\n",
            "Epoch 87/100\n",
            "18/18 [==============================] - 0s 5ms/step - loss: 0.3912 - accuracy: 0.8278\n",
            "Epoch 88/100\n",
            "18/18 [==============================] - 0s 4ms/step - loss: 0.3934 - accuracy: 0.8313\n",
            "Epoch 89/100\n",
            "18/18 [==============================] - 0s 4ms/step - loss: 0.3743 - accuracy: 0.8278\n",
            "Epoch 90/100\n",
            "18/18 [==============================] - 0s 4ms/step - loss: 0.3710 - accuracy: 0.8296\n",
            "Epoch 91/100\n",
            "18/18 [==============================] - 0s 4ms/step - loss: 0.3925 - accuracy: 0.8017\n",
            "Epoch 92/100\n",
            "18/18 [==============================] - 0s 4ms/step - loss: 0.3736 - accuracy: 0.8313\n",
            "Epoch 93/100\n",
            "18/18 [==============================] - 0s 4ms/step - loss: 0.3650 - accuracy: 0.8348\n",
            "Epoch 94/100\n",
            "18/18 [==============================] - 0s 4ms/step - loss: 0.3900 - accuracy: 0.8070\n",
            "Epoch 95/100\n",
            "18/18 [==============================] - 0s 4ms/step - loss: 0.3592 - accuracy: 0.8417\n",
            "Epoch 96/100\n",
            "18/18 [==============================] - 0s 4ms/step - loss: 0.3621 - accuracy: 0.8383\n",
            "Epoch 97/100\n",
            "18/18 [==============================] - 0s 4ms/step - loss: 0.3708 - accuracy: 0.8296\n",
            "Epoch 98/100\n",
            "18/18 [==============================] - 0s 4ms/step - loss: 0.3997 - accuracy: 0.8087\n",
            "Epoch 99/100\n",
            "18/18 [==============================] - 0s 5ms/step - loss: 0.3672 - accuracy: 0.8383\n",
            "Epoch 100/100\n",
            "18/18 [==============================] - 0s 4ms/step - loss: 0.3528 - accuracy: 0.8487\n"
          ]
        }
      ]
    },
    {
      "cell_type": "code",
      "source": [
        "# getting test score from data without normalization and print\n",
        "scores = model.evaluate(X_test, Y_test)"
      ],
      "metadata": {
        "colab": {
          "base_uri": "https://localhost:8080/"
        },
        "id": "JxzOGfjBNezF",
        "outputId": "3cd2b7ef-995b-46f8-925b-26498131539e"
      },
      "execution_count": 155,
      "outputs": [
        {
          "output_type": "stream",
          "name": "stdout",
          "text": [
            "6/6 [==============================] - 0s 3ms/step - loss: 0.6398 - accuracy: 0.7552\n"
          ]
        }
      ]
    },
    {
      "cell_type": "code",
      "source": [
        "print(scores)"
      ],
      "metadata": {
        "colab": {
          "base_uri": "https://localhost:8080/"
        },
        "id": "pKDppJCZNfVV",
        "outputId": "cec0e391-277d-4bdf-9c33-4c83445e1e83"
      },
      "execution_count": 156,
      "outputs": [
        {
          "output_type": "stream",
          "name": "stdout",
          "text": [
            "[0.6397631168365479, 0.7552083134651184]\n"
          ]
        }
      ]
    },
    {
      "cell_type": "markdown",
      "source": [
        "## b. Add the validation_data=(X_test, Y_test) attribute to .fit() method."
      ],
      "metadata": {
        "id": "wses71AeUEP5"
      }
    },
    {
      "cell_type": "code",
      "metadata": {
        "id": "2PdPpP7fK-TD",
        "colab": {
          "base_uri": "https://localhost:8080/"
        },
        "outputId": "e63a14ba-1658-4750-c050-80a3ab96cf3d"
      },
      "source": [
        "model = keras.Sequential() # create model\n",
        "model.add(layers.Dense(32, input_dim=8, activation='relu')) # Input layer\n",
        "model.add(layers.Dense(64, activation='relu')) # hidden layer 1\n",
        "model.add(layers.Dense(128, activation='relu')) # hidden layer 2\n",
        "model.add(layers.Dense(1, activation='sigmoid')) # output layer\n",
        "# compiling the model\n",
        "model.compile(loss='binary_crossentropy', optimizer='adam', metrics=['accuracy'])\n",
        "# printing a summary about layer and output shap with param number\n",
        "model.summary()"
      ],
      "execution_count": 157,
      "outputs": [
        {
          "output_type": "stream",
          "name": "stdout",
          "text": [
            "Model: \"sequential_10\"\n",
            "_________________________________________________________________\n",
            " Layer (type)                Output Shape              Param #   \n",
            "=================================================================\n",
            " dense_41 (Dense)            (None, 32)                288       \n",
            "                                                                 \n",
            " dense_42 (Dense)            (None, 64)                2112      \n",
            "                                                                 \n",
            " dense_43 (Dense)            (None, 128)               8320      \n",
            "                                                                 \n",
            " dense_44 (Dense)            (None, 1)                 129       \n",
            "                                                                 \n",
            "=================================================================\n",
            "Total params: 10,849\n",
            "Trainable params: 10,849\n",
            "Non-trainable params: 0\n",
            "_________________________________________________________________\n"
          ]
        }
      ]
    },
    {
      "cell_type": "code",
      "source": [
        "# fitting model and validating with test data\n",
        "nn_fitted = model.fit(X_train, Y_train, epochs=100, validation_data=(X_test, Y_test), shuffle=True)"
      ],
      "metadata": {
        "colab": {
          "base_uri": "https://localhost:8080/"
        },
        "id": "nc_3gwDTRzPD",
        "outputId": "351ebae3-7786-4775-8ccd-9ed7f73fd0fa"
      },
      "execution_count": 158,
      "outputs": [
        {
          "output_type": "stream",
          "name": "stdout",
          "text": [
            "Epoch 1/100\n",
            "18/18 [==============================] - 1s 15ms/step - loss: 2.0812 - accuracy: 0.4974 - val_loss: 0.7262 - val_accuracy: 0.5677\n",
            "Epoch 2/100\n",
            "18/18 [==============================] - 0s 7ms/step - loss: 0.8419 - accuracy: 0.5965 - val_loss: 0.6443 - val_accuracy: 0.6927\n",
            "Epoch 3/100\n",
            "18/18 [==============================] - 0s 6ms/step - loss: 0.7201 - accuracy: 0.6452 - val_loss: 0.7083 - val_accuracy: 0.6771\n",
            "Epoch 4/100\n",
            "18/18 [==============================] - 0s 6ms/step - loss: 0.7196 - accuracy: 0.6470 - val_loss: 0.6359 - val_accuracy: 0.6823\n",
            "Epoch 5/100\n",
            "18/18 [==============================] - 0s 6ms/step - loss: 0.6075 - accuracy: 0.6835 - val_loss: 0.5984 - val_accuracy: 0.7188\n",
            "Epoch 6/100\n",
            "18/18 [==============================] - 0s 7ms/step - loss: 0.6372 - accuracy: 0.6522 - val_loss: 0.6680 - val_accuracy: 0.5990\n",
            "Epoch 7/100\n",
            "18/18 [==============================] - 0s 6ms/step - loss: 0.6114 - accuracy: 0.6870 - val_loss: 0.6561 - val_accuracy: 0.6562\n",
            "Epoch 8/100\n",
            "18/18 [==============================] - 0s 6ms/step - loss: 0.5753 - accuracy: 0.6852 - val_loss: 0.6120 - val_accuracy: 0.6771\n",
            "Epoch 9/100\n",
            "18/18 [==============================] - 0s 6ms/step - loss: 0.6162 - accuracy: 0.6887 - val_loss: 0.7748 - val_accuracy: 0.6302\n",
            "Epoch 10/100\n",
            "18/18 [==============================] - 0s 5ms/step - loss: 0.6447 - accuracy: 0.6574 - val_loss: 0.7364 - val_accuracy: 0.6458\n",
            "Epoch 11/100\n",
            "18/18 [==============================] - 0s 6ms/step - loss: 0.6001 - accuracy: 0.6852 - val_loss: 0.6337 - val_accuracy: 0.6771\n",
            "Epoch 12/100\n",
            "18/18 [==============================] - 0s 7ms/step - loss: 0.6039 - accuracy: 0.6765 - val_loss: 0.6369 - val_accuracy: 0.6771\n",
            "Epoch 13/100\n",
            "18/18 [==============================] - 0s 6ms/step - loss: 0.5816 - accuracy: 0.7096 - val_loss: 0.7143 - val_accuracy: 0.6250\n",
            "Epoch 14/100\n",
            "18/18 [==============================] - 0s 6ms/step - loss: 0.6005 - accuracy: 0.7026 - val_loss: 0.5957 - val_accuracy: 0.7396\n",
            "Epoch 15/100\n",
            "18/18 [==============================] - 0s 6ms/step - loss: 0.6116 - accuracy: 0.6870 - val_loss: 0.7573 - val_accuracy: 0.6250\n",
            "Epoch 16/100\n",
            "18/18 [==============================] - 0s 7ms/step - loss: 0.6572 - accuracy: 0.6800 - val_loss: 0.5489 - val_accuracy: 0.7083\n",
            "Epoch 17/100\n",
            "18/18 [==============================] - 0s 7ms/step - loss: 0.6511 - accuracy: 0.6783 - val_loss: 0.5665 - val_accuracy: 0.6771\n",
            "Epoch 18/100\n",
            "18/18 [==============================] - 0s 6ms/step - loss: 0.5731 - accuracy: 0.6974 - val_loss: 0.6590 - val_accuracy: 0.6823\n",
            "Epoch 19/100\n",
            "18/18 [==============================] - 0s 7ms/step - loss: 0.6160 - accuracy: 0.7009 - val_loss: 0.6046 - val_accuracy: 0.7031\n",
            "Epoch 20/100\n",
            "18/18 [==============================] - 0s 6ms/step - loss: 0.5457 - accuracy: 0.7200 - val_loss: 0.6243 - val_accuracy: 0.7083\n",
            "Epoch 21/100\n",
            "18/18 [==============================] - 0s 6ms/step - loss: 0.5882 - accuracy: 0.6730 - val_loss: 0.5731 - val_accuracy: 0.7135\n",
            "Epoch 22/100\n",
            "18/18 [==============================] - 0s 6ms/step - loss: 0.5259 - accuracy: 0.7304 - val_loss: 0.5596 - val_accuracy: 0.7292\n",
            "Epoch 23/100\n",
            "18/18 [==============================] - 0s 6ms/step - loss: 0.6001 - accuracy: 0.7096 - val_loss: 0.8628 - val_accuracy: 0.7083\n",
            "Epoch 24/100\n",
            "18/18 [==============================] - 0s 6ms/step - loss: 0.6711 - accuracy: 0.6748 - val_loss: 0.7107 - val_accuracy: 0.6250\n",
            "Epoch 25/100\n",
            "18/18 [==============================] - 0s 6ms/step - loss: 0.5802 - accuracy: 0.7061 - val_loss: 0.5817 - val_accuracy: 0.7135\n",
            "Epoch 26/100\n",
            "18/18 [==============================] - 0s 6ms/step - loss: 0.5888 - accuracy: 0.6957 - val_loss: 0.6115 - val_accuracy: 0.6927\n",
            "Epoch 27/100\n",
            "18/18 [==============================] - 0s 7ms/step - loss: 0.5822 - accuracy: 0.6730 - val_loss: 0.8012 - val_accuracy: 0.6562\n",
            "Epoch 28/100\n",
            "18/18 [==============================] - 0s 6ms/step - loss: 0.5593 - accuracy: 0.7478 - val_loss: 0.5484 - val_accuracy: 0.7083\n",
            "Epoch 29/100\n",
            "18/18 [==============================] - 0s 6ms/step - loss: 0.5883 - accuracy: 0.7078 - val_loss: 0.5883 - val_accuracy: 0.7135\n",
            "Epoch 30/100\n",
            "18/18 [==============================] - 0s 6ms/step - loss: 0.6047 - accuracy: 0.7165 - val_loss: 0.6325 - val_accuracy: 0.7188\n",
            "Epoch 31/100\n",
            "18/18 [==============================] - 0s 7ms/step - loss: 0.5424 - accuracy: 0.7374 - val_loss: 0.5590 - val_accuracy: 0.7344\n",
            "Epoch 32/100\n",
            "18/18 [==============================] - 0s 6ms/step - loss: 0.5086 - accuracy: 0.7496 - val_loss: 0.6710 - val_accuracy: 0.6927\n",
            "Epoch 33/100\n",
            "18/18 [==============================] - 0s 7ms/step - loss: 0.5274 - accuracy: 0.7513 - val_loss: 0.5495 - val_accuracy: 0.7240\n",
            "Epoch 34/100\n",
            "18/18 [==============================] - 0s 6ms/step - loss: 0.5054 - accuracy: 0.7565 - val_loss: 0.6289 - val_accuracy: 0.7031\n",
            "Epoch 35/100\n",
            "18/18 [==============================] - 0s 6ms/step - loss: 0.4993 - accuracy: 0.7409 - val_loss: 0.5468 - val_accuracy: 0.7188\n",
            "Epoch 36/100\n",
            "18/18 [==============================] - 0s 7ms/step - loss: 0.5062 - accuracy: 0.7478 - val_loss: 0.5673 - val_accuracy: 0.7240\n",
            "Epoch 37/100\n",
            "18/18 [==============================] - 0s 6ms/step - loss: 0.5000 - accuracy: 0.7635 - val_loss: 0.6483 - val_accuracy: 0.7240\n",
            "Epoch 38/100\n",
            "18/18 [==============================] - 0s 6ms/step - loss: 0.5353 - accuracy: 0.7304 - val_loss: 0.6189 - val_accuracy: 0.7031\n",
            "Epoch 39/100\n",
            "18/18 [==============================] - 0s 6ms/step - loss: 0.5418 - accuracy: 0.7426 - val_loss: 0.8604 - val_accuracy: 0.6354\n",
            "Epoch 40/100\n",
            "18/18 [==============================] - 0s 6ms/step - loss: 0.5445 - accuracy: 0.7270 - val_loss: 0.6302 - val_accuracy: 0.7188\n",
            "Epoch 41/100\n",
            "18/18 [==============================] - 0s 7ms/step - loss: 0.5178 - accuracy: 0.7600 - val_loss: 0.6195 - val_accuracy: 0.7083\n",
            "Epoch 42/100\n",
            "18/18 [==============================] - 0s 6ms/step - loss: 0.5555 - accuracy: 0.7165 - val_loss: 0.6499 - val_accuracy: 0.7188\n",
            "Epoch 43/100\n",
            "18/18 [==============================] - 0s 6ms/step - loss: 0.5608 - accuracy: 0.7287 - val_loss: 0.6613 - val_accuracy: 0.7031\n",
            "Epoch 44/100\n",
            "18/18 [==============================] - 0s 6ms/step - loss: 0.5998 - accuracy: 0.7130 - val_loss: 0.6202 - val_accuracy: 0.6979\n",
            "Epoch 45/100\n",
            "18/18 [==============================] - 0s 6ms/step - loss: 0.5670 - accuracy: 0.7217 - val_loss: 0.8678 - val_accuracy: 0.6406\n",
            "Epoch 46/100\n",
            "18/18 [==============================] - 0s 6ms/step - loss: 0.5495 - accuracy: 0.7217 - val_loss: 0.6169 - val_accuracy: 0.7500\n",
            "Epoch 47/100\n",
            "18/18 [==============================] - 0s 6ms/step - loss: 0.4995 - accuracy: 0.7391 - val_loss: 0.6053 - val_accuracy: 0.7500\n",
            "Epoch 48/100\n",
            "18/18 [==============================] - 0s 6ms/step - loss: 0.4949 - accuracy: 0.7617 - val_loss: 0.6219 - val_accuracy: 0.7188\n",
            "Epoch 49/100\n",
            "18/18 [==============================] - 0s 6ms/step - loss: 0.4892 - accuracy: 0.7652 - val_loss: 0.5802 - val_accuracy: 0.7500\n",
            "Epoch 50/100\n",
            "18/18 [==============================] - 0s 6ms/step - loss: 0.4857 - accuracy: 0.7583 - val_loss: 0.5707 - val_accuracy: 0.7448\n",
            "Epoch 51/100\n",
            "18/18 [==============================] - 0s 6ms/step - loss: 0.4718 - accuracy: 0.7704 - val_loss: 0.6760 - val_accuracy: 0.7188\n",
            "Epoch 52/100\n",
            "18/18 [==============================] - 0s 7ms/step - loss: 0.5157 - accuracy: 0.7461 - val_loss: 0.6940 - val_accuracy: 0.7188\n",
            "Epoch 53/100\n",
            "18/18 [==============================] - 0s 6ms/step - loss: 0.5592 - accuracy: 0.7426 - val_loss: 0.5746 - val_accuracy: 0.7500\n",
            "Epoch 54/100\n",
            "18/18 [==============================] - 0s 7ms/step - loss: 0.4843 - accuracy: 0.7565 - val_loss: 0.5957 - val_accuracy: 0.7552\n",
            "Epoch 55/100\n",
            "18/18 [==============================] - 0s 6ms/step - loss: 0.4704 - accuracy: 0.7757 - val_loss: 0.5747 - val_accuracy: 0.7344\n",
            "Epoch 56/100\n",
            "18/18 [==============================] - 0s 6ms/step - loss: 0.4949 - accuracy: 0.7565 - val_loss: 0.6848 - val_accuracy: 0.7344\n",
            "Epoch 57/100\n",
            "18/18 [==============================] - 0s 6ms/step - loss: 0.4884 - accuracy: 0.7513 - val_loss: 0.5884 - val_accuracy: 0.7552\n",
            "Epoch 58/100\n",
            "18/18 [==============================] - 0s 7ms/step - loss: 0.4684 - accuracy: 0.7652 - val_loss: 0.6249 - val_accuracy: 0.7448\n",
            "Epoch 59/100\n",
            "18/18 [==============================] - 0s 6ms/step - loss: 0.4486 - accuracy: 0.7809 - val_loss: 0.6363 - val_accuracy: 0.7344\n",
            "Epoch 60/100\n",
            "18/18 [==============================] - 0s 6ms/step - loss: 0.4841 - accuracy: 0.7635 - val_loss: 0.7217 - val_accuracy: 0.7135\n",
            "Epoch 61/100\n",
            "18/18 [==============================] - 0s 7ms/step - loss: 0.5061 - accuracy: 0.7461 - val_loss: 0.7892 - val_accuracy: 0.6771\n",
            "Epoch 62/100\n",
            "18/18 [==============================] - 0s 7ms/step - loss: 0.4957 - accuracy: 0.7791 - val_loss: 0.6033 - val_accuracy: 0.7396\n",
            "Epoch 63/100\n",
            "18/18 [==============================] - 0s 6ms/step - loss: 0.4920 - accuracy: 0.7478 - val_loss: 0.6086 - val_accuracy: 0.7188\n",
            "Epoch 64/100\n",
            "18/18 [==============================] - 0s 6ms/step - loss: 0.4873 - accuracy: 0.7652 - val_loss: 0.6049 - val_accuracy: 0.7396\n",
            "Epoch 65/100\n",
            "18/18 [==============================] - 0s 6ms/step - loss: 0.4487 - accuracy: 0.7722 - val_loss: 0.6432 - val_accuracy: 0.6927\n",
            "Epoch 66/100\n",
            "18/18 [==============================] - 0s 6ms/step - loss: 0.4571 - accuracy: 0.7861 - val_loss: 0.6420 - val_accuracy: 0.7396\n",
            "Epoch 67/100\n",
            "18/18 [==============================] - 0s 6ms/step - loss: 0.4554 - accuracy: 0.7670 - val_loss: 0.6282 - val_accuracy: 0.7396\n",
            "Epoch 68/100\n",
            "18/18 [==============================] - 0s 6ms/step - loss: 0.4640 - accuracy: 0.7757 - val_loss: 0.5883 - val_accuracy: 0.7396\n",
            "Epoch 69/100\n",
            "18/18 [==============================] - 0s 6ms/step - loss: 0.4447 - accuracy: 0.8035 - val_loss: 0.5987 - val_accuracy: 0.7292\n",
            "Epoch 70/100\n",
            "18/18 [==============================] - 0s 6ms/step - loss: 0.4484 - accuracy: 0.7861 - val_loss: 0.6843 - val_accuracy: 0.6302\n",
            "Epoch 71/100\n",
            "18/18 [==============================] - 0s 6ms/step - loss: 0.4818 - accuracy: 0.7600 - val_loss: 0.5674 - val_accuracy: 0.7292\n",
            "Epoch 72/100\n",
            "18/18 [==============================] - 0s 6ms/step - loss: 0.4459 - accuracy: 0.8052 - val_loss: 0.6839 - val_accuracy: 0.7240\n",
            "Epoch 73/100\n",
            "18/18 [==============================] - 0s 6ms/step - loss: 0.4897 - accuracy: 0.7583 - val_loss: 0.6554 - val_accuracy: 0.7292\n",
            "Epoch 74/100\n",
            "18/18 [==============================] - 0s 6ms/step - loss: 0.4675 - accuracy: 0.7739 - val_loss: 0.6711 - val_accuracy: 0.7448\n",
            "Epoch 75/100\n",
            "18/18 [==============================] - 0s 7ms/step - loss: 0.4703 - accuracy: 0.7704 - val_loss: 0.5849 - val_accuracy: 0.7500\n",
            "Epoch 76/100\n",
            "18/18 [==============================] - 0s 6ms/step - loss: 0.4508 - accuracy: 0.7809 - val_loss: 0.6482 - val_accuracy: 0.7188\n",
            "Epoch 77/100\n",
            "18/18 [==============================] - 0s 6ms/step - loss: 0.4620 - accuracy: 0.7878 - val_loss: 0.6700 - val_accuracy: 0.7448\n",
            "Epoch 78/100\n",
            "18/18 [==============================] - 0s 6ms/step - loss: 0.4428 - accuracy: 0.7774 - val_loss: 0.6374 - val_accuracy: 0.7500\n",
            "Epoch 79/100\n",
            "18/18 [==============================] - 0s 6ms/step - loss: 0.4389 - accuracy: 0.7861 - val_loss: 0.6355 - val_accuracy: 0.7344\n",
            "Epoch 80/100\n",
            "18/18 [==============================] - 0s 6ms/step - loss: 0.4566 - accuracy: 0.7687 - val_loss: 0.6853 - val_accuracy: 0.7135\n",
            "Epoch 81/100\n",
            "18/18 [==============================] - 0s 6ms/step - loss: 0.4671 - accuracy: 0.7652 - val_loss: 0.6640 - val_accuracy: 0.7188\n",
            "Epoch 82/100\n",
            "18/18 [==============================] - 0s 7ms/step - loss: 0.4793 - accuracy: 0.7687 - val_loss: 0.6495 - val_accuracy: 0.7396\n",
            "Epoch 83/100\n",
            "18/18 [==============================] - 0s 6ms/step - loss: 0.4686 - accuracy: 0.7687 - val_loss: 0.6146 - val_accuracy: 0.7656\n",
            "Epoch 84/100\n",
            "18/18 [==============================] - 0s 7ms/step - loss: 0.4736 - accuracy: 0.7652 - val_loss: 0.6328 - val_accuracy: 0.7656\n",
            "Epoch 85/100\n",
            "18/18 [==============================] - 0s 6ms/step - loss: 0.4374 - accuracy: 0.7878 - val_loss: 0.6079 - val_accuracy: 0.7604\n",
            "Epoch 86/100\n",
            "18/18 [==============================] - 0s 6ms/step - loss: 0.4275 - accuracy: 0.7896 - val_loss: 0.6247 - val_accuracy: 0.7240\n",
            "Epoch 87/100\n",
            "18/18 [==============================] - 0s 6ms/step - loss: 0.4480 - accuracy: 0.7861 - val_loss: 0.6358 - val_accuracy: 0.7188\n",
            "Epoch 88/100\n",
            "18/18 [==============================] - 0s 6ms/step - loss: 0.4306 - accuracy: 0.7930 - val_loss: 0.6117 - val_accuracy: 0.7292\n",
            "Epoch 89/100\n",
            "18/18 [==============================] - 0s 6ms/step - loss: 0.4391 - accuracy: 0.7843 - val_loss: 0.6441 - val_accuracy: 0.7396\n",
            "Epoch 90/100\n",
            "18/18 [==============================] - 0s 7ms/step - loss: 0.4159 - accuracy: 0.7983 - val_loss: 0.6268 - val_accuracy: 0.7500\n",
            "Epoch 91/100\n",
            "18/18 [==============================] - 0s 7ms/step - loss: 0.4119 - accuracy: 0.8000 - val_loss: 0.6104 - val_accuracy: 0.7500\n",
            "Epoch 92/100\n",
            "18/18 [==============================] - 0s 6ms/step - loss: 0.4185 - accuracy: 0.8017 - val_loss: 0.7443 - val_accuracy: 0.7083\n",
            "Epoch 93/100\n",
            "18/18 [==============================] - 0s 6ms/step - loss: 0.4741 - accuracy: 0.7652 - val_loss: 0.6532 - val_accuracy: 0.7292\n",
            "Epoch 94/100\n",
            "18/18 [==============================] - 0s 7ms/step - loss: 0.4385 - accuracy: 0.7861 - val_loss: 0.7025 - val_accuracy: 0.7135\n",
            "Epoch 95/100\n",
            "18/18 [==============================] - 0s 7ms/step - loss: 0.4321 - accuracy: 0.7757 - val_loss: 0.6511 - val_accuracy: 0.7500\n",
            "Epoch 96/100\n",
            "18/18 [==============================] - 0s 6ms/step - loss: 0.4056 - accuracy: 0.8017 - val_loss: 0.6407 - val_accuracy: 0.7656\n",
            "Epoch 97/100\n",
            "18/18 [==============================] - 0s 7ms/step - loss: 0.4214 - accuracy: 0.7861 - val_loss: 0.6777 - val_accuracy: 0.7344\n",
            "Epoch 98/100\n",
            "18/18 [==============================] - 0s 6ms/step - loss: 0.4385 - accuracy: 0.7774 - val_loss: 0.7024 - val_accuracy: 0.7500\n",
            "Epoch 99/100\n",
            "18/18 [==============================] - 0s 7ms/step - loss: 0.4270 - accuracy: 0.8070 - val_loss: 0.6672 - val_accuracy: 0.7604\n",
            "Epoch 100/100\n",
            "18/18 [==============================] - 0s 6ms/step - loss: 0.4048 - accuracy: 0.8087 - val_loss: 0.6602 - val_accuracy: 0.7292\n"
          ]
        }
      ]
    },
    {
      "cell_type": "markdown",
      "source": [
        "## c. Plot the accuracy for training and validation (one plot for both: train and test accuracy)."
      ],
      "metadata": {
        "id": "E0BLvKjpUNFR"
      }
    },
    {
      "cell_type": "code",
      "source": [
        "# plotting history for accuracy\n",
        "import matplotlib.pyplot as plt\n",
        "# plot the accurcy\n",
        "plt.plot(nn_fitted.history['accuracy'])\n",
        "# plot the val\n",
        "plt.plot(nn_fitted.history['val_accuracy'])\n",
        "plt.title('Model accuracy')\n",
        "plt.ylabel('Accuracy')\n",
        "plt.xlabel('Epoch')\n",
        "plt.legend(['train', 'test'], loc='upper left')\n",
        "plt.show()"
      ],
      "metadata": {
        "colab": {
          "base_uri": "https://localhost:8080/",
          "height": 295
        },
        "id": "eeXRy9517cRo",
        "outputId": "db73abe5-9402-473a-8425-f193ea917231"
      },
      "execution_count": 159,
      "outputs": [
        {
          "output_type": "display_data",
          "data": {
            "text/plain": [
              "<Figure size 432x288 with 1 Axes>"
            ],
            "image/png": "[encoded data removed]"
          },
          "metadata": {
            "needs_background": "light"
          }
        }
      ]
    },
    {
      "cell_type": "markdown",
      "source": [
        "## d. Plot the loss for training and validation (one plot for both: train and test loss)."
      ],
      "metadata": {
        "id": "yCyBpE22UPNt"
      }
    },
    {
      "cell_type": "code",
      "source": [
        "# plotting history for loss\n",
        "plt.plot(nn_fitted.history['loss'])\n",
        "# plot the val of loss\n",
        "plt.plot(nn_fitted.history['val_loss'])\n",
        "plt.title('Model loss')\n",
        "plt.ylabel('Loss')\n",
        "plt.xlabel('Epoch')\n",
        "plt.legend(['train', 'test'], loc='upper right')\n",
        "plt.show()"
      ],
      "metadata": {
        "colab": {
          "base_uri": "https://localhost:8080/",
          "height": 295
        },
        "id": "ImUByfjH_qfz",
        "outputId": "b8028d00-0a9a-4074-c7a1-94fd7ac3be90"
      },
      "execution_count": 160,
      "outputs": [
        {
          "output_type": "display_data",
          "data": {
            "text/plain": [
              "<Figure size 432x288 with 1 Axes>"
            ],
            "image/png": "[encoded data removed]"
          },
          "metadata": {
            "needs_background": "light"
          }
        }
      ]
    },
    {
      "cell_type": "code",
      "metadata": {
        "id": "EBYPua9zH-E6",
        "colab": {
          "base_uri": "https://localhost:8080/"
        },
        "outputId": "57cb34d9-53ed-4e0c-9da9-9f8d7aec120f"
      },
      "source": [
        "# getting test score from data before normalization and print\n",
        "scores_test = model.evaluate(X_test, Y_test)\n",
        "print(f'Loss score for test data: {scores_test}')"
      ],
      "execution_count": 161,
      "outputs": [
        {
          "output_type": "stream",
          "name": "stdout",
          "text": [
            "6/6 [==============================] - 0s 3ms/step - loss: 0.6602 - accuracy: 0.7292\n",
            "Loss score for test data: [0.6601811051368713, 0.7291666865348816]\n"
          ]
        }
      ]
    },
    {
      "cell_type": "markdown",
      "source": [
        "## e. Normalize the data before feeding to the model and check how the normalization changes your accuracy sue the StandardScaler() from scikit learn."
      ],
      "metadata": {
        "id": "GuiNS72He0F-"
      }
    },
    {
      "cell_type": "code",
      "source": [
        "# splitting train and test data from normalized dataset\n",
        "X_train, X_test, Y_train, Y_test = train_test_split(scaled_data[:,0:8], scaled_data[:,8], test_size=0.25, random_state=42)"
      ],
      "metadata": {
        "id": "2I2y8LABerfa"
      },
      "execution_count": 162,
      "outputs": []
    },
    {
      "cell_type": "code",
      "source": [
        "# getting test score from data after normalization and print\n",
        "scores_test = model.evaluate(X_test, Y_test)\n",
        "print(f'Loss score for test data: {scores_test}')"
      ],
      "metadata": {
        "colab": {
          "base_uri": "https://localhost:8080/"
        },
        "id": "7oO8rpTme5gT",
        "outputId": "1a8a2b11-6308-4e17-a355-e95e60baada6"
      },
      "execution_count": 163,
      "outputs": [
        {
          "output_type": "stream",
          "name": "stdout",
          "text": [
            "6/6 [==============================] - 0s 3ms/step - loss: 0.1459 - accuracy: 0.0000e+00\n",
            "Loss score for test data: [0.14590586721897125, 0.0]\n"
          ]
        }
      ]
    }
  ]
}