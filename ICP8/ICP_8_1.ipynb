{
  "nbformat": 4,
  "nbformat_minor": 0,
  "metadata": {
    "colab": {
      "name": "ICP_8_1.ipynb",
      "provenance": [],
      "collapsed_sections": []
    },
    "kernelspec": {
      "name": "python3",
      "display_name": "Python 3"
    },
    "accelerator": "GPU"
  },
  "cells": [
    {
      "cell_type": "markdown",
      "source": [
        "#Assignment 1\n",
        "##1. Use the use case in the class (DL_Lesson_1.ipynb & diabetes.csv):"
      ],
      "metadata": {
        "id": "AhncsitRhSBN"
      }
    },
    {
      "cell_type": "code",
      "metadata": {
        "id": "pTRagYcvHjDj"
      },
      "source": [
        "# importing libraries\n",
        "import tensorflow as tf\n",
        "from tensorflow import keras\n",
        "from tensorflow.keras import layers\n",
        "from sklearn.preprocessing import StandardScaler\n",
        "from sklearn.model_selection import train_test_split\n",
        "import matplotlib.pyplot as plt\n",
        "import pandas as pd\n",
        "import numpy as np"
      ],
      "execution_count": 21,
      "outputs": []
    },
    {
      "cell_type": "code",
      "source": [
        "#checking tensor flow version\n",
        "print(tf.__version__)"
      ],
      "metadata": {
        "colab": {
          "base_uri": "https://localhost:8080/"
        },
        "id": "UDXJo55XnEqy",
        "outputId": "e0924871-8ff6-4270-aef1-41aef13650d8"
      },
      "execution_count": 22,
      "outputs": [
        {
          "output_type": "stream",
          "name": "stdout",
          "text": [
            "2.8.0\n"
          ]
        }
      ]
    },
    {
      "cell_type": "code",
      "metadata": {
        "id": "ApzFGDkOHnt7"
      },
      "source": [
        "# importing dataset\n",
        "dataset = pd.read_csv(\"/content/sample_data/diabetes.csv\")"
      ],
      "execution_count": 23,
      "outputs": []
    },
    {
      "cell_type": "code",
      "metadata": {
        "colab": {
          "base_uri": "https://localhost:8080/"
        },
        "id": "033I05ZJJ9ND",
        "outputId": "8c1b6359-72bd-4794-f289-1f29cdfea416"
      },
      "source": [
        "dataset.info()"
      ],
      "execution_count": 24,
      "outputs": [
        {
          "output_type": "stream",
          "name": "stdout",
          "text": [
            "<class 'pandas.core.frame.DataFrame'>\n",
            "RangeIndex: 767 entries, 0 to 766\n",
            "Data columns (total 9 columns):\n",
            " #   Column  Non-Null Count  Dtype  \n",
            "---  ------  --------------  -----  \n",
            " 0   6       767 non-null    int64  \n",
            " 1   148     767 non-null    int64  \n",
            " 2   72      767 non-null    int64  \n",
            " 3   35      767 non-null    int64  \n",
            " 4   0       767 non-null    int64  \n",
            " 5   33.6    767 non-null    float64\n",
            " 6   0.627   767 non-null    float64\n",
            " 7   50      767 non-null    int64  \n",
            " 8   1       767 non-null    int64  \n",
            "dtypes: float64(2), int64(7)\n",
            "memory usage: 54.1 KB\n"
          ]
        }
      ]
    },
    {
      "cell_type": "code",
      "metadata": {
        "id": "A_aZW8YvKNSz",
        "colab": {
          "base_uri": "https://localhost:8080/"
        },
        "outputId": "388088eb-ee7c-44a2-a556-7f969631c781"
      },
      "source": [
        "# getting numpy ndarray from dataset\n",
        "dataset = dataset.values\n",
        "dataset"
      ],
      "execution_count": 25,
      "outputs": [
        {
          "output_type": "execute_result",
          "data": {
            "text/plain": [
              "array([[1.00e+00, 8.50e+01, 6.60e+01, ..., 3.51e-01, 3.10e+01, 0.00e+00],\n",
              "       [8.00e+00, 1.83e+02, 6.40e+01, ..., 6.72e-01, 3.20e+01, 1.00e+00],\n",
              "       [1.00e+00, 8.90e+01, 6.60e+01, ..., 1.67e-01, 2.10e+01, 0.00e+00],\n",
              "       ...,\n",
              "       [5.00e+00, 1.21e+02, 7.20e+01, ..., 2.45e-01, 3.00e+01, 0.00e+00],\n",
              "       [1.00e+00, 1.26e+02, 6.00e+01, ..., 3.49e-01, 4.70e+01, 1.00e+00],\n",
              "       [1.00e+00, 9.30e+01, 7.00e+01, ..., 3.15e-01, 2.30e+01, 0.00e+00]])"
            ]
          },
          "metadata": {},
          "execution_count": 25
        }
      ]
    },
    {
      "cell_type": "code",
      "metadata": {
        "id": "JtIe1DBCKegG",
        "colab": {
          "base_uri": "https://localhost:8080/"
        },
        "outputId": "49053a5d-e96e-4da5-bd20-7141bd8116ed"
      },
      "source": [
        "# checking dataset shape\n",
        "dataset.shape"
      ],
      "execution_count": 26,
      "outputs": [
        {
          "output_type": "execute_result",
          "data": {
            "text/plain": [
              "(767, 9)"
            ]
          },
          "metadata": {},
          "execution_count": 26
        }
      ]
    },
    {
      "cell_type": "code",
      "metadata": {
        "id": "-T0Q43fAxtNW"
      },
      "source": [
        "# Standardize features by removing the mean and scaling to unit variance\n",
        "sc = StandardScaler()\n",
        "scaled_data = sc.fit_transform(dataset)"
      ],
      "execution_count": 27,
      "outputs": []
    },
    {
      "cell_type": "code",
      "metadata": {
        "id": "yt64olkkHwft"
      },
      "source": [
        "# splitting train and test data\n",
        "X_train, X_test, Y_train, Y_test = train_test_split(dataset[:,0:8], dataset[:,8], test_size=0.25, random_state=42)"
      ],
      "execution_count": 28,
      "outputs": []
    },
    {
      "cell_type": "code",
      "metadata": {
        "id": "pTBESlF_5Zw1"
      },
      "source": [
        "# fitting train data and transforming\n",
        "X_train_fit = sc.fit(X_train)\n",
        "X_train_tra = sc.transform(X_train)\n",
        "# fitting test data and transforming\n",
        "X_test_fit = sc.fit(X_test)\n",
        "X_test_tra = sc.transform(X_test)"
      ],
      "execution_count": 29,
      "outputs": []
    },
    {
      "cell_type": "code",
      "source": [
        "# checking train data shape\n",
        "print(X_train.shape)"
      ],
      "metadata": {
        "colab": {
          "base_uri": "https://localhost:8080/"
        },
        "id": "WLv4xOYkoYGt",
        "outputId": "b6b0612b-330a-46c6-a628-58120d6a29fd"
      },
      "execution_count": 30,
      "outputs": [
        {
          "output_type": "stream",
          "name": "stdout",
          "text": [
            "(575, 8)\n"
          ]
        }
      ]
    },
    {
      "cell_type": "markdown",
      "source": [
        "## a. Add more Dense layers to the existing code and check how the accuracy changes."
      ],
      "metadata": {
        "id": "KwiT2nfoT_SC"
      }
    },
    {
      "cell_type": "code",
      "metadata": {
        "id": "rMfomxTmH3ww",
        "colab": {
          "base_uri": "https://localhost:8080/"
        },
        "outputId": "cf734084-dab2-46c1-cec2-6dfea20c1490"
      },
      "source": [
        "model = keras.Sequential() # create model\n",
        "model.add(layers.Dense(32, input_dim=8, activation='relu')) # Input layer\n",
        "model.add(layers.Dense(64, activation='relu')) # hidden layer 1\n",
        "model.add(layers.Dense(128, activation='relu')) # hidden layer 2\n",
        "model.add(layers.Dense(1, activation='sigmoid')) # output layer\n",
        "# compiling the model\n",
        "model.compile(loss='binary_crossentropy', optimizer='adam', metrics=['accuracy'])\n",
        "# printing a summary about layer and output shap with param number\n",
        "model.summary()"
      ],
      "execution_count": 31,
      "outputs": [
        {
          "output_type": "stream",
          "name": "stdout",
          "text": [
            "Model: \"sequential_1\"\n",
            "_________________________________________________________________\n",
            " Layer (type)                Output Shape              Param #   \n",
            "=================================================================\n",
            " dense_4 (Dense)             (None, 32)                288       \n",
            "                                                                 \n",
            " dense_5 (Dense)             (None, 64)                2112      \n",
            "                                                                 \n",
            " dense_6 (Dense)             (None, 128)               8320      \n",
            "                                                                 \n",
            " dense_7 (Dense)             (None, 1)                 129       \n",
            "                                                                 \n",
            "=================================================================\n",
            "Total params: 10,849\n",
            "Trainable params: 10,849\n",
            "Non-trainable params: 0\n",
            "_________________________________________________________________\n"
          ]
        }
      ]
    },
    {
      "cell_type": "code",
      "source": [
        "# fitting model without validation\n",
        "my_first_nn_fitted = model.fit(X_train, Y_train, epochs=100)"
      ],
      "metadata": {
        "colab": {
          "base_uri": "https://localhost:8080/"
        },
        "id": "kivf-s_mNaRd",
        "outputId": "16625faf-302d-40f6-8565-07c4f9493874"
      },
      "execution_count": 32,
      "outputs": [
        {
          "output_type": "stream",
          "name": "stdout",
          "text": [
            "Epoch 1/100\n",
            "18/18 [==============================] - 1s 4ms/step - loss: 1.9853 - accuracy: 0.5513\n",
            "Epoch 2/100\n",
            "18/18 [==============================] - 0s 6ms/step - loss: 0.8303 - accuracy: 0.6226\n",
            "Epoch 3/100\n",
            "18/18 [==============================] - 0s 4ms/step - loss: 0.7308 - accuracy: 0.5843\n",
            "Epoch 4/100\n",
            "18/18 [==============================] - 0s 5ms/step - loss: 0.7286 - accuracy: 0.6417\n",
            "Epoch 5/100\n",
            "18/18 [==============================] - 0s 8ms/step - loss: 0.6601 - accuracy: 0.6487\n",
            "Epoch 6/100\n",
            "18/18 [==============================] - 0s 6ms/step - loss: 0.6819 - accuracy: 0.6835\n",
            "Epoch 7/100\n",
            "18/18 [==============================] - 0s 6ms/step - loss: 0.6202 - accuracy: 0.6904\n",
            "Epoch 8/100\n",
            "18/18 [==============================] - 0s 6ms/step - loss: 0.6870 - accuracy: 0.6643\n",
            "Epoch 9/100\n",
            "18/18 [==============================] - 0s 7ms/step - loss: 0.6030 - accuracy: 0.6957\n",
            "Epoch 10/100\n",
            "18/18 [==============================] - 0s 6ms/step - loss: 0.7116 - accuracy: 0.6609\n",
            "Epoch 11/100\n",
            "18/18 [==============================] - 0s 6ms/step - loss: 0.6162 - accuracy: 0.6817\n",
            "Epoch 12/100\n",
            "18/18 [==============================] - 0s 7ms/step - loss: 0.6233 - accuracy: 0.6696\n",
            "Epoch 13/100\n",
            "18/18 [==============================] - 0s 8ms/step - loss: 0.6523 - accuracy: 0.6783\n",
            "Epoch 14/100\n",
            "18/18 [==============================] - 0s 6ms/step - loss: 0.6241 - accuracy: 0.6661\n",
            "Epoch 15/100\n",
            "18/18 [==============================] - 0s 6ms/step - loss: 0.5794 - accuracy: 0.6922\n",
            "Epoch 16/100\n",
            "18/18 [==============================] - 0s 8ms/step - loss: 0.5981 - accuracy: 0.7009\n",
            "Epoch 17/100\n",
            "18/18 [==============================] - 0s 9ms/step - loss: 0.6779 - accuracy: 0.6661\n",
            "Epoch 18/100\n",
            "18/18 [==============================] - 0s 9ms/step - loss: 0.6231 - accuracy: 0.6991\n",
            "Epoch 19/100\n",
            "18/18 [==============================] - 0s 6ms/step - loss: 0.6198 - accuracy: 0.6557\n",
            "Epoch 20/100\n",
            "18/18 [==============================] - 0s 6ms/step - loss: 0.6574 - accuracy: 0.6852\n",
            "Epoch 21/100\n",
            "18/18 [==============================] - 0s 6ms/step - loss: 0.5685 - accuracy: 0.7165\n",
            "Epoch 22/100\n",
            "18/18 [==============================] - 0s 7ms/step - loss: 0.5830 - accuracy: 0.6835\n",
            "Epoch 23/100\n",
            "18/18 [==============================] - 0s 11ms/step - loss: 0.6270 - accuracy: 0.6800\n",
            "Epoch 24/100\n",
            "18/18 [==============================] - 0s 8ms/step - loss: 0.5732 - accuracy: 0.7078\n",
            "Epoch 25/100\n",
            "18/18 [==============================] - 0s 7ms/step - loss: 0.5434 - accuracy: 0.7357\n",
            "Epoch 26/100\n",
            "18/18 [==============================] - 0s 8ms/step - loss: 0.5735 - accuracy: 0.7043\n",
            "Epoch 27/100\n",
            "18/18 [==============================] - 0s 9ms/step - loss: 0.5825 - accuracy: 0.6904\n",
            "Epoch 28/100\n",
            "18/18 [==============================] - 0s 9ms/step - loss: 0.6430 - accuracy: 0.6626\n",
            "Epoch 29/100\n",
            "18/18 [==============================] - 0s 9ms/step - loss: 0.6183 - accuracy: 0.6748\n",
            "Epoch 30/100\n",
            "18/18 [==============================] - 0s 6ms/step - loss: 0.5737 - accuracy: 0.7026\n",
            "Epoch 31/100\n",
            "18/18 [==============================] - 0s 9ms/step - loss: 0.5944 - accuracy: 0.7009\n",
            "Epoch 32/100\n",
            "18/18 [==============================] - 0s 8ms/step - loss: 0.5918 - accuracy: 0.7130\n",
            "Epoch 33/100\n",
            "18/18 [==============================] - 0s 11ms/step - loss: 0.5957 - accuracy: 0.6870\n",
            "Epoch 34/100\n",
            "18/18 [==============================] - 0s 10ms/step - loss: 0.5784 - accuracy: 0.7130\n",
            "Epoch 35/100\n",
            "18/18 [==============================] - 0s 8ms/step - loss: 0.5829 - accuracy: 0.7217\n",
            "Epoch 36/100\n",
            "18/18 [==============================] - 0s 9ms/step - loss: 0.5777 - accuracy: 0.6939\n",
            "Epoch 37/100\n",
            "18/18 [==============================] - 0s 8ms/step - loss: 0.5251 - accuracy: 0.7391\n",
            "Epoch 38/100\n",
            "18/18 [==============================] - 0s 6ms/step - loss: 0.5332 - accuracy: 0.7461\n",
            "Epoch 39/100\n",
            "18/18 [==============================] - 0s 10ms/step - loss: 0.5311 - accuracy: 0.7391\n",
            "Epoch 40/100\n",
            "18/18 [==============================] - 0s 8ms/step - loss: 0.5648 - accuracy: 0.7217\n",
            "Epoch 41/100\n",
            "18/18 [==============================] - 0s 6ms/step - loss: 0.5186 - accuracy: 0.7391\n",
            "Epoch 42/100\n",
            "18/18 [==============================] - 0s 7ms/step - loss: 0.5838 - accuracy: 0.7009\n",
            "Epoch 43/100\n",
            "18/18 [==============================] - 0s 7ms/step - loss: 0.5227 - accuracy: 0.7339\n",
            "Epoch 44/100\n",
            "18/18 [==============================] - 0s 7ms/step - loss: 0.5589 - accuracy: 0.7096\n",
            "Epoch 45/100\n",
            "18/18 [==============================] - 0s 9ms/step - loss: 0.5267 - accuracy: 0.7391\n",
            "Epoch 46/100\n",
            "18/18 [==============================] - 0s 6ms/step - loss: 0.5177 - accuracy: 0.7374\n",
            "Epoch 47/100\n",
            "18/18 [==============================] - 0s 6ms/step - loss: 0.5288 - accuracy: 0.7374\n",
            "Epoch 48/100\n",
            "18/18 [==============================] - 0s 6ms/step - loss: 0.5600 - accuracy: 0.7252\n",
            "Epoch 49/100\n",
            "18/18 [==============================] - 0s 7ms/step - loss: 0.5061 - accuracy: 0.7617\n",
            "Epoch 50/100\n",
            "18/18 [==============================] - 0s 6ms/step - loss: 0.5042 - accuracy: 0.7496\n",
            "Epoch 51/100\n",
            "18/18 [==============================] - 0s 7ms/step - loss: 0.5077 - accuracy: 0.7565\n",
            "Epoch 52/100\n",
            "18/18 [==============================] - 0s 10ms/step - loss: 0.5116 - accuracy: 0.7461\n",
            "Epoch 53/100\n",
            "18/18 [==============================] - 0s 10ms/step - loss: 0.5470 - accuracy: 0.7357\n",
            "Epoch 54/100\n",
            "18/18 [==============================] - 0s 7ms/step - loss: 0.5555 - accuracy: 0.7287\n",
            "Epoch 55/100\n",
            "18/18 [==============================] - 0s 7ms/step - loss: 0.5340 - accuracy: 0.7600\n",
            "Epoch 56/100\n",
            "18/18 [==============================] - 0s 7ms/step - loss: 0.5308 - accuracy: 0.7530\n",
            "Epoch 57/100\n",
            "18/18 [==============================] - 0s 7ms/step - loss: 0.5071 - accuracy: 0.7374\n",
            "Epoch 58/100\n",
            "18/18 [==============================] - 0s 6ms/step - loss: 0.5035 - accuracy: 0.7374\n",
            "Epoch 59/100\n",
            "18/18 [==============================] - 0s 7ms/step - loss: 0.4723 - accuracy: 0.7635\n",
            "Epoch 60/100\n",
            "18/18 [==============================] - 0s 8ms/step - loss: 0.5602 - accuracy: 0.7061\n",
            "Epoch 61/100\n",
            "18/18 [==============================] - 0s 8ms/step - loss: 0.5063 - accuracy: 0.7496\n",
            "Epoch 62/100\n",
            "18/18 [==============================] - 0s 6ms/step - loss: 0.4998 - accuracy: 0.7513\n",
            "Epoch 63/100\n",
            "18/18 [==============================] - 0s 11ms/step - loss: 0.4772 - accuracy: 0.7722\n",
            "Epoch 64/100\n",
            "18/18 [==============================] - 0s 6ms/step - loss: 0.4872 - accuracy: 0.7722\n",
            "Epoch 65/100\n",
            "18/18 [==============================] - 0s 6ms/step - loss: 0.4787 - accuracy: 0.7548\n",
            "Epoch 66/100\n",
            "18/18 [==============================] - 0s 9ms/step - loss: 0.4709 - accuracy: 0.7757\n",
            "Epoch 67/100\n",
            "18/18 [==============================] - 0s 6ms/step - loss: 0.5007 - accuracy: 0.7652\n",
            "Epoch 68/100\n",
            "18/18 [==============================] - 0s 7ms/step - loss: 0.4874 - accuracy: 0.7704\n",
            "Epoch 69/100\n",
            "18/18 [==============================] - 0s 9ms/step - loss: 0.4874 - accuracy: 0.7791\n",
            "Epoch 70/100\n",
            "18/18 [==============================] - 0s 6ms/step - loss: 0.4847 - accuracy: 0.7670\n",
            "Epoch 71/100\n",
            "18/18 [==============================] - 0s 6ms/step - loss: 0.4656 - accuracy: 0.7687\n",
            "Epoch 72/100\n",
            "18/18 [==============================] - 0s 7ms/step - loss: 0.4665 - accuracy: 0.7635\n",
            "Epoch 73/100\n",
            "18/18 [==============================] - 0s 7ms/step - loss: 0.4543 - accuracy: 0.7774\n",
            "Epoch 74/100\n",
            "18/18 [==============================] - 0s 6ms/step - loss: 0.4517 - accuracy: 0.7774\n",
            "Epoch 75/100\n",
            "18/18 [==============================] - 0s 8ms/step - loss: 0.4997 - accuracy: 0.7426\n",
            "Epoch 76/100\n",
            "18/18 [==============================] - 0s 7ms/step - loss: 0.4943 - accuracy: 0.7617\n",
            "Epoch 77/100\n",
            "18/18 [==============================] - 0s 8ms/step - loss: 0.4632 - accuracy: 0.7635\n",
            "Epoch 78/100\n",
            "18/18 [==============================] - 0s 6ms/step - loss: 0.4440 - accuracy: 0.7930\n",
            "Epoch 79/100\n",
            "18/18 [==============================] - 0s 8ms/step - loss: 0.4835 - accuracy: 0.7687\n",
            "Epoch 80/100\n",
            "18/18 [==============================] - 0s 7ms/step - loss: 0.4513 - accuracy: 0.7791\n",
            "Epoch 81/100\n",
            "18/18 [==============================] - 0s 6ms/step - loss: 0.4442 - accuracy: 0.7774\n",
            "Epoch 82/100\n",
            "18/18 [==============================] - 0s 7ms/step - loss: 0.4644 - accuracy: 0.7861\n",
            "Epoch 83/100\n",
            "18/18 [==============================] - 0s 8ms/step - loss: 0.4441 - accuracy: 0.7826\n",
            "Epoch 84/100\n",
            "18/18 [==============================] - 0s 7ms/step - loss: 0.4410 - accuracy: 0.7704\n",
            "Epoch 85/100\n",
            "18/18 [==============================] - 0s 10ms/step - loss: 0.4632 - accuracy: 0.7704\n",
            "Epoch 86/100\n",
            "18/18 [==============================] - 0s 11ms/step - loss: 0.4601 - accuracy: 0.7687\n",
            "Epoch 87/100\n",
            "18/18 [==============================] - 0s 8ms/step - loss: 0.4318 - accuracy: 0.7965\n",
            "Epoch 88/100\n",
            "18/18 [==============================] - 0s 5ms/step - loss: 0.4543 - accuracy: 0.8070\n",
            "Epoch 89/100\n",
            "18/18 [==============================] - 0s 6ms/step - loss: 0.4490 - accuracy: 0.7757\n",
            "Epoch 90/100\n",
            "18/18 [==============================] - 0s 6ms/step - loss: 0.4257 - accuracy: 0.7983\n",
            "Epoch 91/100\n",
            "18/18 [==============================] - 0s 7ms/step - loss: 0.4290 - accuracy: 0.7896\n",
            "Epoch 92/100\n",
            "18/18 [==============================] - 0s 6ms/step - loss: 0.4179 - accuracy: 0.8070\n",
            "Epoch 93/100\n",
            "18/18 [==============================] - 0s 8ms/step - loss: 0.4496 - accuracy: 0.7652\n",
            "Epoch 94/100\n",
            "18/18 [==============================] - 0s 7ms/step - loss: 0.4472 - accuracy: 0.7757\n",
            "Epoch 95/100\n",
            "18/18 [==============================] - 0s 7ms/step - loss: 0.4256 - accuracy: 0.7913\n",
            "Epoch 96/100\n",
            "18/18 [==============================] - 0s 6ms/step - loss: 0.4256 - accuracy: 0.7948\n",
            "Epoch 97/100\n",
            "18/18 [==============================] - 0s 7ms/step - loss: 0.4313 - accuracy: 0.7948\n",
            "Epoch 98/100\n",
            "18/18 [==============================] - 0s 7ms/step - loss: 0.4590 - accuracy: 0.7670\n",
            "Epoch 99/100\n",
            "18/18 [==============================] - 0s 8ms/step - loss: 0.4483 - accuracy: 0.7809\n",
            "Epoch 100/100\n",
            "18/18 [==============================] - 0s 5ms/step - loss: 0.4509 - accuracy: 0.7861\n"
          ]
        }
      ]
    },
    {
      "cell_type": "code",
      "source": [
        "# getting test score from data without normalization and print\n",
        "scores = model.evaluate(X_test, Y_test)"
      ],
      "metadata": {
        "colab": {
          "base_uri": "https://localhost:8080/"
        },
        "id": "JxzOGfjBNezF",
        "outputId": "01a493d9-93ea-4cb5-9e2b-4b876da77b4e"
      },
      "execution_count": 33,
      "outputs": [
        {
          "output_type": "stream",
          "name": "stdout",
          "text": [
            "6/6 [==============================] - 0s 6ms/step - loss: 0.5729 - accuracy: 0.7396\n"
          ]
        }
      ]
    },
    {
      "cell_type": "code",
      "source": [
        "print(scores)"
      ],
      "metadata": {
        "colab": {
          "base_uri": "https://localhost:8080/"
        },
        "id": "pKDppJCZNfVV",
        "outputId": "5031ded9-a14c-461b-9f3e-6b6c265e1b91"
      },
      "execution_count": 34,
      "outputs": [
        {
          "output_type": "stream",
          "name": "stdout",
          "text": [
            "[0.5728620886802673, 0.7395833134651184]\n"
          ]
        }
      ]
    },
    {
      "cell_type": "markdown",
      "source": [
        "## b. Add the validation_data=(X_test, Y_test) attribute to .fit() method."
      ],
      "metadata": {
        "id": "wses71AeUEP5"
      }
    },
    {
      "cell_type": "code",
      "metadata": {
        "id": "2PdPpP7fK-TD",
        "colab": {
          "base_uri": "https://localhost:8080/"
        },
        "outputId": "eb024b5b-4a02-4492-a6fb-dc8935753216"
      },
      "source": [
        "# fitting model and validating with test data\n",
        "nn_fitted = model.fit(X_train, Y_train, epochs=100, validation_data=(X_test, Y_test), shuffle=True)"
      ],
      "execution_count": 35,
      "outputs": [
        {
          "output_type": "stream",
          "name": "stdout",
          "text": [
            "Epoch 1/100\n",
            "18/18 [==============================] - 0s 15ms/step - loss: 0.4116 - accuracy: 0.7948 - val_loss: 0.6418 - val_accuracy: 0.7448\n",
            "Epoch 2/100\n",
            "18/18 [==============================] - 0s 14ms/step - loss: 0.4139 - accuracy: 0.8104 - val_loss: 0.6246 - val_accuracy: 0.7292\n",
            "Epoch 3/100\n",
            "18/18 [==============================] - 0s 14ms/step - loss: 0.4112 - accuracy: 0.8122 - val_loss: 0.5359 - val_accuracy: 0.7552\n",
            "Epoch 4/100\n",
            "18/18 [==============================] - 0s 15ms/step - loss: 0.4417 - accuracy: 0.7757 - val_loss: 0.5597 - val_accuracy: 0.7344\n",
            "Epoch 5/100\n",
            "18/18 [==============================] - 0s 14ms/step - loss: 0.4119 - accuracy: 0.7965 - val_loss: 0.5430 - val_accuracy: 0.7552\n",
            "Epoch 6/100\n",
            "18/18 [==============================] - 0s 11ms/step - loss: 0.4193 - accuracy: 0.8139 - val_loss: 0.5805 - val_accuracy: 0.7500\n",
            "Epoch 7/100\n",
            "18/18 [==============================] - 0s 10ms/step - loss: 0.4332 - accuracy: 0.7878 - val_loss: 0.6142 - val_accuracy: 0.7240\n",
            "Epoch 8/100\n",
            "18/18 [==============================] - 0s 11ms/step - loss: 0.4475 - accuracy: 0.7930 - val_loss: 0.6045 - val_accuracy: 0.7448\n",
            "Epoch 9/100\n",
            "18/18 [==============================] - 0s 13ms/step - loss: 0.4335 - accuracy: 0.8104 - val_loss: 0.5982 - val_accuracy: 0.7396\n",
            "Epoch 10/100\n",
            "18/18 [==============================] - 0s 10ms/step - loss: 0.4172 - accuracy: 0.7913 - val_loss: 0.5929 - val_accuracy: 0.7500\n",
            "Epoch 11/100\n",
            "18/18 [==============================] - 0s 13ms/step - loss: 0.3992 - accuracy: 0.7948 - val_loss: 0.5980 - val_accuracy: 0.7396\n",
            "Epoch 12/100\n",
            "18/18 [==============================] - 0s 10ms/step - loss: 0.4056 - accuracy: 0.8139 - val_loss: 0.5822 - val_accuracy: 0.7396\n",
            "Epoch 13/100\n",
            "18/18 [==============================] - 0s 12ms/step - loss: 0.4031 - accuracy: 0.8035 - val_loss: 0.6093 - val_accuracy: 0.7396\n",
            "Epoch 14/100\n",
            "18/18 [==============================] - 0s 12ms/step - loss: 0.4045 - accuracy: 0.8035 - val_loss: 0.5943 - val_accuracy: 0.7552\n",
            "Epoch 15/100\n",
            "18/18 [==============================] - 0s 12ms/step - loss: 0.4397 - accuracy: 0.7809 - val_loss: 0.5644 - val_accuracy: 0.7396\n",
            "Epoch 16/100\n",
            "18/18 [==============================] - 0s 11ms/step - loss: 0.4100 - accuracy: 0.8122 - val_loss: 0.5791 - val_accuracy: 0.7448\n",
            "Epoch 17/100\n",
            "18/18 [==============================] - 0s 16ms/step - loss: 0.4127 - accuracy: 0.7913 - val_loss: 0.6233 - val_accuracy: 0.7344\n",
            "Epoch 18/100\n",
            "18/18 [==============================] - 0s 11ms/step - loss: 0.4075 - accuracy: 0.8243 - val_loss: 0.6125 - val_accuracy: 0.7396\n",
            "Epoch 19/100\n",
            "18/18 [==============================] - 0s 13ms/step - loss: 0.4040 - accuracy: 0.8226 - val_loss: 0.5593 - val_accuracy: 0.7500\n",
            "Epoch 20/100\n",
            "18/18 [==============================] - 0s 14ms/step - loss: 0.3991 - accuracy: 0.8122 - val_loss: 0.5639 - val_accuracy: 0.7500\n",
            "Epoch 21/100\n",
            "18/18 [==============================] - 0s 14ms/step - loss: 0.4111 - accuracy: 0.7965 - val_loss: 0.6090 - val_accuracy: 0.7188\n",
            "Epoch 22/100\n",
            "18/18 [==============================] - 0s 12ms/step - loss: 0.4024 - accuracy: 0.7983 - val_loss: 0.5667 - val_accuracy: 0.7396\n",
            "Epoch 23/100\n",
            "18/18 [==============================] - 0s 13ms/step - loss: 0.3979 - accuracy: 0.8139 - val_loss: 0.6013 - val_accuracy: 0.7552\n",
            "Epoch 24/100\n",
            "18/18 [==============================] - 0s 12ms/step - loss: 0.3984 - accuracy: 0.8070 - val_loss: 0.5770 - val_accuracy: 0.7656\n",
            "Epoch 25/100\n",
            "18/18 [==============================] - 0s 14ms/step - loss: 0.3986 - accuracy: 0.8035 - val_loss: 0.6242 - val_accuracy: 0.7552\n",
            "Epoch 26/100\n",
            "18/18 [==============================] - 0s 13ms/step - loss: 0.3885 - accuracy: 0.8278 - val_loss: 0.7195 - val_accuracy: 0.7396\n",
            "Epoch 27/100\n",
            "18/18 [==============================] - 0s 12ms/step - loss: 0.4382 - accuracy: 0.7843 - val_loss: 0.5974 - val_accuracy: 0.7344\n",
            "Epoch 28/100\n",
            "18/18 [==============================] - 0s 17ms/step - loss: 0.3873 - accuracy: 0.8243 - val_loss: 0.6555 - val_accuracy: 0.7292\n",
            "Epoch 29/100\n",
            "18/18 [==============================] - 0s 11ms/step - loss: 0.3990 - accuracy: 0.8174 - val_loss: 0.6573 - val_accuracy: 0.7448\n",
            "Epoch 30/100\n",
            "18/18 [==============================] - 0s 16ms/step - loss: 0.3828 - accuracy: 0.8191 - val_loss: 0.6430 - val_accuracy: 0.7344\n",
            "Epoch 31/100\n",
            "18/18 [==============================] - 0s 10ms/step - loss: 0.3930 - accuracy: 0.8087 - val_loss: 0.7335 - val_accuracy: 0.6927\n",
            "Epoch 32/100\n",
            "18/18 [==============================] - 0s 11ms/step - loss: 0.4547 - accuracy: 0.8000 - val_loss: 0.7123 - val_accuracy: 0.6979\n",
            "Epoch 33/100\n",
            "18/18 [==============================] - 0s 12ms/step - loss: 0.4130 - accuracy: 0.7913 - val_loss: 0.6154 - val_accuracy: 0.7396\n",
            "Epoch 34/100\n",
            "18/18 [==============================] - 0s 14ms/step - loss: 0.3805 - accuracy: 0.8174 - val_loss: 0.6331 - val_accuracy: 0.7292\n",
            "Epoch 35/100\n",
            "18/18 [==============================] - 0s 12ms/step - loss: 0.3698 - accuracy: 0.8191 - val_loss: 0.5813 - val_accuracy: 0.7604\n",
            "Epoch 36/100\n",
            "18/18 [==============================] - 0s 12ms/step - loss: 0.3809 - accuracy: 0.8174 - val_loss: 0.7334 - val_accuracy: 0.7292\n",
            "Epoch 37/100\n",
            "18/18 [==============================] - 0s 13ms/step - loss: 0.3899 - accuracy: 0.8243 - val_loss: 0.6229 - val_accuracy: 0.7448\n",
            "Epoch 38/100\n",
            "18/18 [==============================] - 0s 15ms/step - loss: 0.3755 - accuracy: 0.8174 - val_loss: 0.6300 - val_accuracy: 0.7031\n",
            "Epoch 39/100\n",
            "18/18 [==============================] - 0s 14ms/step - loss: 0.3803 - accuracy: 0.8122 - val_loss: 0.6554 - val_accuracy: 0.7448\n",
            "Epoch 40/100\n",
            "18/18 [==============================] - 0s 12ms/step - loss: 0.3676 - accuracy: 0.8330 - val_loss: 0.6017 - val_accuracy: 0.7240\n",
            "Epoch 41/100\n",
            "18/18 [==============================] - 0s 13ms/step - loss: 0.3829 - accuracy: 0.8174 - val_loss: 0.5989 - val_accuracy: 0.7240\n",
            "Epoch 42/100\n",
            "18/18 [==============================] - 0s 15ms/step - loss: 0.3752 - accuracy: 0.8157 - val_loss: 0.6185 - val_accuracy: 0.7292\n",
            "Epoch 43/100\n",
            "18/18 [==============================] - 0s 15ms/step - loss: 0.3866 - accuracy: 0.8139 - val_loss: 0.6472 - val_accuracy: 0.7396\n",
            "Epoch 44/100\n",
            "18/18 [==============================] - 0s 10ms/step - loss: 0.3839 - accuracy: 0.8122 - val_loss: 0.6720 - val_accuracy: 0.7396\n",
            "Epoch 45/100\n",
            "18/18 [==============================] - 0s 14ms/step - loss: 0.3658 - accuracy: 0.8348 - val_loss: 0.5824 - val_accuracy: 0.7552\n",
            "Epoch 46/100\n",
            "18/18 [==============================] - 0s 12ms/step - loss: 0.3648 - accuracy: 0.8296 - val_loss: 0.6544 - val_accuracy: 0.7552\n",
            "Epoch 47/100\n",
            "18/18 [==============================] - 0s 12ms/step - loss: 0.3489 - accuracy: 0.8296 - val_loss: 0.6049 - val_accuracy: 0.7240\n",
            "Epoch 48/100\n",
            "18/18 [==============================] - 0s 16ms/step - loss: 0.3617 - accuracy: 0.8330 - val_loss: 0.6507 - val_accuracy: 0.7604\n",
            "Epoch 49/100\n",
            "18/18 [==============================] - 0s 15ms/step - loss: 0.3891 - accuracy: 0.8139 - val_loss: 0.6229 - val_accuracy: 0.7396\n",
            "Epoch 50/100\n",
            "18/18 [==============================] - 0s 13ms/step - loss: 0.3735 - accuracy: 0.8087 - val_loss: 0.6266 - val_accuracy: 0.7396\n",
            "Epoch 51/100\n",
            "18/18 [==============================] - 0s 9ms/step - loss: 0.3516 - accuracy: 0.8313 - val_loss: 0.5873 - val_accuracy: 0.7500\n",
            "Epoch 52/100\n",
            "18/18 [==============================] - 0s 12ms/step - loss: 0.3795 - accuracy: 0.8243 - val_loss: 0.6221 - val_accuracy: 0.7552\n",
            "Epoch 53/100\n",
            "18/18 [==============================] - 0s 9ms/step - loss: 0.3807 - accuracy: 0.8278 - val_loss: 0.6266 - val_accuracy: 0.7552\n",
            "Epoch 54/100\n",
            "18/18 [==============================] - 0s 6ms/step - loss: 0.3451 - accuracy: 0.8383 - val_loss: 0.6238 - val_accuracy: 0.7188\n",
            "Epoch 55/100\n",
            "18/18 [==============================] - 0s 6ms/step - loss: 0.3709 - accuracy: 0.8070 - val_loss: 0.6629 - val_accuracy: 0.7292\n",
            "Epoch 56/100\n",
            "18/18 [==============================] - 0s 7ms/step - loss: 0.3523 - accuracy: 0.8470 - val_loss: 0.6609 - val_accuracy: 0.7240\n",
            "Epoch 57/100\n",
            "18/18 [==============================] - 0s 6ms/step - loss: 0.3566 - accuracy: 0.8330 - val_loss: 0.6436 - val_accuracy: 0.7344\n",
            "Epoch 58/100\n",
            "18/18 [==============================] - 0s 6ms/step - loss: 0.3478 - accuracy: 0.8470 - val_loss: 0.6122 - val_accuracy: 0.7344\n",
            "Epoch 59/100\n",
            "18/18 [==============================] - 0s 6ms/step - loss: 0.3333 - accuracy: 0.8643 - val_loss: 0.7149 - val_accuracy: 0.7240\n",
            "Epoch 60/100\n",
            "18/18 [==============================] - 0s 6ms/step - loss: 0.3626 - accuracy: 0.8487 - val_loss: 0.6466 - val_accuracy: 0.7448\n",
            "Epoch 61/100\n",
            "18/18 [==============================] - 0s 6ms/step - loss: 0.3566 - accuracy: 0.8400 - val_loss: 0.7113 - val_accuracy: 0.7240\n",
            "Epoch 62/100\n",
            "18/18 [==============================] - 0s 6ms/step - loss: 0.4179 - accuracy: 0.8035 - val_loss: 0.6492 - val_accuracy: 0.7500\n",
            "Epoch 63/100\n",
            "18/18 [==============================] - 0s 7ms/step - loss: 0.4188 - accuracy: 0.8000 - val_loss: 0.6598 - val_accuracy: 0.7292\n",
            "Epoch 64/100\n",
            "18/18 [==============================] - 0s 7ms/step - loss: 0.3419 - accuracy: 0.8313 - val_loss: 0.6589 - val_accuracy: 0.7448\n",
            "Epoch 65/100\n",
            "18/18 [==============================] - 0s 6ms/step - loss: 0.3439 - accuracy: 0.8470 - val_loss: 0.6495 - val_accuracy: 0.7031\n",
            "Epoch 66/100\n",
            "18/18 [==============================] - 0s 6ms/step - loss: 0.3973 - accuracy: 0.8087 - val_loss: 0.6628 - val_accuracy: 0.7500\n",
            "Epoch 67/100\n",
            "18/18 [==============================] - 0s 7ms/step - loss: 0.3437 - accuracy: 0.8417 - val_loss: 0.6625 - val_accuracy: 0.7292\n",
            "Epoch 68/100\n",
            "18/18 [==============================] - 0s 6ms/step - loss: 0.3642 - accuracy: 0.8278 - val_loss: 0.6096 - val_accuracy: 0.7500\n",
            "Epoch 69/100\n",
            "18/18 [==============================] - 0s 6ms/step - loss: 0.3590 - accuracy: 0.8296 - val_loss: 0.7405 - val_accuracy: 0.7552\n",
            "Epoch 70/100\n",
            "18/18 [==============================] - 0s 6ms/step - loss: 0.3787 - accuracy: 0.8278 - val_loss: 0.6889 - val_accuracy: 0.7240\n",
            "Epoch 71/100\n",
            "18/18 [==============================] - 0s 7ms/step - loss: 0.3573 - accuracy: 0.8417 - val_loss: 0.6784 - val_accuracy: 0.7083\n",
            "Epoch 72/100\n",
            "18/18 [==============================] - 0s 6ms/step - loss: 0.3486 - accuracy: 0.8487 - val_loss: 0.6674 - val_accuracy: 0.7292\n",
            "Epoch 73/100\n",
            "18/18 [==============================] - 0s 6ms/step - loss: 0.3261 - accuracy: 0.8609 - val_loss: 0.6428 - val_accuracy: 0.7604\n",
            "Epoch 74/100\n",
            "18/18 [==============================] - 0s 6ms/step - loss: 0.3428 - accuracy: 0.8504 - val_loss: 0.6335 - val_accuracy: 0.7604\n",
            "Epoch 75/100\n",
            "18/18 [==============================] - 0s 6ms/step - loss: 0.3455 - accuracy: 0.8348 - val_loss: 0.7093 - val_accuracy: 0.7292\n",
            "Epoch 76/100\n",
            "18/18 [==============================] - 0s 7ms/step - loss: 0.3543 - accuracy: 0.8400 - val_loss: 0.7117 - val_accuracy: 0.7292\n",
            "Epoch 77/100\n",
            "18/18 [==============================] - 0s 6ms/step - loss: 0.3436 - accuracy: 0.8383 - val_loss: 0.7132 - val_accuracy: 0.7083\n",
            "Epoch 78/100\n",
            "18/18 [==============================] - 0s 6ms/step - loss: 0.3323 - accuracy: 0.8417 - val_loss: 0.7417 - val_accuracy: 0.7448\n",
            "Epoch 79/100\n",
            "18/18 [==============================] - 0s 7ms/step - loss: 0.3327 - accuracy: 0.8348 - val_loss: 0.7268 - val_accuracy: 0.6771\n",
            "Epoch 80/100\n",
            "18/18 [==============================] - 0s 6ms/step - loss: 0.3207 - accuracy: 0.8435 - val_loss: 0.6563 - val_accuracy: 0.7396\n",
            "Epoch 81/100\n",
            "18/18 [==============================] - 0s 7ms/step - loss: 0.3252 - accuracy: 0.8330 - val_loss: 0.7307 - val_accuracy: 0.7240\n",
            "Epoch 82/100\n",
            "18/18 [==============================] - 0s 6ms/step - loss: 0.3136 - accuracy: 0.8626 - val_loss: 0.7007 - val_accuracy: 0.7292\n",
            "Epoch 83/100\n",
            "18/18 [==============================] - 0s 7ms/step - loss: 0.3275 - accuracy: 0.8539 - val_loss: 0.6924 - val_accuracy: 0.7396\n",
            "Epoch 84/100\n",
            "18/18 [==============================] - 0s 6ms/step - loss: 0.3161 - accuracy: 0.8557 - val_loss: 0.6923 - val_accuracy: 0.7344\n",
            "Epoch 85/100\n",
            "18/18 [==============================] - 0s 6ms/step - loss: 0.3195 - accuracy: 0.8557 - val_loss: 0.7349 - val_accuracy: 0.7083\n",
            "Epoch 86/100\n",
            "18/18 [==============================] - 0s 6ms/step - loss: 0.3149 - accuracy: 0.8626 - val_loss: 0.6650 - val_accuracy: 0.7240\n",
            "Epoch 87/100\n",
            "18/18 [==============================] - 0s 6ms/step - loss: 0.3276 - accuracy: 0.8470 - val_loss: 0.7082 - val_accuracy: 0.7240\n",
            "Epoch 88/100\n",
            "18/18 [==============================] - 0s 6ms/step - loss: 0.3126 - accuracy: 0.8626 - val_loss: 0.7578 - val_accuracy: 0.7240\n",
            "Epoch 89/100\n",
            "18/18 [==============================] - 0s 6ms/step - loss: 0.3099 - accuracy: 0.8609 - val_loss: 0.8064 - val_accuracy: 0.7292\n",
            "Epoch 90/100\n",
            "18/18 [==============================] - 0s 7ms/step - loss: 0.3115 - accuracy: 0.8643 - val_loss: 0.6689 - val_accuracy: 0.7448\n",
            "Epoch 91/100\n",
            "18/18 [==============================] - 0s 6ms/step - loss: 0.3131 - accuracy: 0.8643 - val_loss: 0.6988 - val_accuracy: 0.7448\n",
            "Epoch 92/100\n",
            "18/18 [==============================] - 0s 6ms/step - loss: 0.3149 - accuracy: 0.8539 - val_loss: 0.7430 - val_accuracy: 0.7344\n",
            "Epoch 93/100\n",
            "18/18 [==============================] - 0s 6ms/step - loss: 0.2971 - accuracy: 0.8783 - val_loss: 0.7082 - val_accuracy: 0.7500\n",
            "Epoch 94/100\n",
            "18/18 [==============================] - 0s 6ms/step - loss: 0.3116 - accuracy: 0.8435 - val_loss: 0.7240 - val_accuracy: 0.7188\n",
            "Epoch 95/100\n",
            "18/18 [==============================] - 0s 6ms/step - loss: 0.3206 - accuracy: 0.8539 - val_loss: 0.6500 - val_accuracy: 0.7656\n",
            "Epoch 96/100\n",
            "18/18 [==============================] - 0s 7ms/step - loss: 0.3211 - accuracy: 0.8470 - val_loss: 0.7009 - val_accuracy: 0.7292\n",
            "Epoch 97/100\n",
            "18/18 [==============================] - 0s 6ms/step - loss: 0.3115 - accuracy: 0.8557 - val_loss: 0.7257 - val_accuracy: 0.7188\n",
            "Epoch 98/100\n",
            "18/18 [==============================] - 0s 6ms/step - loss: 0.3018 - accuracy: 0.8470 - val_loss: 0.7216 - val_accuracy: 0.7031\n",
            "Epoch 99/100\n",
            "18/18 [==============================] - 0s 6ms/step - loss: 0.3092 - accuracy: 0.8661 - val_loss: 0.6850 - val_accuracy: 0.7448\n",
            "Epoch 100/100\n",
            "18/18 [==============================] - 0s 6ms/step - loss: 0.3069 - accuracy: 0.8643 - val_loss: 0.7976 - val_accuracy: 0.7552\n"
          ]
        }
      ]
    },
    {
      "cell_type": "markdown",
      "source": [
        "## c. Plot the accuracy for training and validation (one plot for both: train and test accuracy)."
      ],
      "metadata": {
        "id": "E0BLvKjpUNFR"
      }
    },
    {
      "cell_type": "code",
      "source": [
        "# plotting history for accuracy\n",
        "import matplotlib.pyplot as plt\n",
        "# plot the accurcy\n",
        "plt.plot(nn_fitted.history['accuracy'])\n",
        "# plot the val\n",
        "plt.plot(nn_fitted.history['val_accuracy'])\n",
        "plt.title('Model accuracy')\n",
        "plt.ylabel('Accuracy')\n",
        "plt.xlabel('Epoch')\n",
        "plt.legend(['train', 'test'], loc='upper left')\n",
        "plt.show()"
      ],
      "metadata": {
        "colab": {
          "base_uri": "https://localhost:8080/",
          "height": 295
        },
        "id": "eeXRy9517cRo",
        "outputId": "f5be47b6-c4b4-4383-eca8-c3cac03e73c0"
      },
      "execution_count": 36,
      "outputs": [
        {
          "output_type": "display_data",
          "data": {
            "text/plain": [
              "<Figure size 432x288 with 1 Axes>"
            ],
            "image/png": "[encoded data removed]"
          },
          "metadata": {
            "needs_background": "light"
          }
        }
      ]
    },
    {
      "cell_type": "markdown",
      "source": [
        "## d. Plot the loss for training and validation (one plot for both: train and test loss)."
      ],
      "metadata": {
        "id": "yCyBpE22UPNt"
      }
    },
    {
      "cell_type": "code",
      "source": [
        "# plotting history for loss\n",
        "plt.plot(nn_fitted.history['loss'])\n",
        "# plot the val of loss\n",
        "plt.plot(nn_fitted.history['val_loss'])\n",
        "plt.title('Model loss')\n",
        "plt.ylabel('Loss')\n",
        "plt.xlabel('Epoch')\n",
        "plt.legend(['train', 'test'], loc='upper right')\n",
        "plt.show()"
      ],
      "metadata": {
        "colab": {
          "base_uri": "https://localhost:8080/",
          "height": 295
        },
        "id": "ImUByfjH_qfz",
        "outputId": "8b9248fd-6474-4cb2-9ac6-25bbd1305d43"
      },
      "execution_count": 37,
      "outputs": [
        {
          "output_type": "display_data",
          "data": {
            "text/plain": [
              "<Figure size 432x288 with 1 Axes>"
            ],
            "image/png": "[encoded data removed]"
          },
          "metadata": {
            "needs_background": "light"
          }
        }
      ]
    },
    {
      "cell_type": "code",
      "metadata": {
        "id": "EBYPua9zH-E6",
        "colab": {
          "base_uri": "https://localhost:8080/"
        },
        "outputId": "d8a3b55a-2569-4581-deee-e1142c371f5f"
      },
      "source": [
        "# getting test score from data before normalization and print\n",
        "scores_test = model.evaluate(X_test, Y_test)\n",
        "print(f'Loss score for test data: {scores_test}')"
      ],
      "execution_count": 38,
      "outputs": [
        {
          "output_type": "stream",
          "name": "stdout",
          "text": [
            "6/6 [==============================] - 0s 3ms/step - loss: 0.7976 - accuracy: 0.7552\n",
            "Loss score for test data: [0.7975821495056152, 0.7552083134651184]\n"
          ]
        }
      ]
    },
    {
      "cell_type": "markdown",
      "source": [
        "## e. Normalize the data before feeding to the model and check how the normalization changes your accuracy sue the StandardScaler() from scikit learn."
      ],
      "metadata": {
        "id": "GuiNS72He0F-"
      }
    },
    {
      "cell_type": "code",
      "source": [
        "# splitting train and test data from normalized dataset\n",
        "X_train, X_test, Y_train, Y_test = train_test_split(scaled_data[:,0:8], scaled_data[:,8], test_size=0.25, random_state=42)"
      ],
      "metadata": {
        "id": "2I2y8LABerfa"
      },
      "execution_count": 39,
      "outputs": []
    },
    {
      "cell_type": "code",
      "source": [
        "# getting test score from data after normalization and print\n",
        "scores_test = model.evaluate(X_test, Y_test)\n",
        "print(f'Loss score for test data: {scores_test}')"
      ],
      "metadata": {
        "colab": {
          "base_uri": "https://localhost:8080/"
        },
        "id": "7oO8rpTme5gT",
        "outputId": "e29895e4-4ba8-40c0-8d83-1e45c186c64a"
      },
      "execution_count": 40,
      "outputs": [
        {
          "output_type": "stream",
          "name": "stdout",
          "text": [
            "6/6 [==============================] - 0s 3ms/step - loss: 0.1111 - accuracy: 0.0000e+00\n",
            "Loss score for test data: [0.11107277870178223, 0.0]\n"
          ]
        }
      ]
    }
  ]
}