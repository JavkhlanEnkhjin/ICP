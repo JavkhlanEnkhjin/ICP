{
  "nbformat": 4,
  "nbformat_minor": 0,
  "metadata": {
    "colab": {
      "name": "ICP_8_1.ipynb",
      "provenance": [],
      "collapsed_sections": []
    },
    "kernelspec": {
      "name": "python3",
      "display_name": "Python 3"
    },
    "accelerator": "GPU"
  },
  "cells": [
    {
      "cell_type": "markdown",
      "source": [
        "#Assignment 1\n",
        "##1. Use the use case in the class (DL_Lesson_1.ipynb & diabetes.csv):"
      ],
      "metadata": {
        "id": "AhncsitRhSBN"
      }
    },
    {
      "cell_type": "code",
      "metadata": {
        "id": "pTRagYcvHjDj"
      },
      "source": [
        "# importing libraries\n",
        "import tensorflow as tf\n",
        "from tensorflow import keras\n",
        "from tensorflow.keras import layers\n",
        "from sklearn.preprocessing import StandardScaler\n",
        "from sklearn.model_selection import train_test_split\n",
        "import matplotlib.pyplot as plt\n",
        "import pandas as pd\n",
        "import numpy as np"
      ],
      "execution_count": null,
      "outputs": []
    },
    {
      "cell_type": "code",
      "source": [
        "#checking tensor flow version\n",
        "print(tf.__version__)"
      ],
      "metadata": {
        "colab": {
          "base_uri": "https://localhost:8080/"
        },
        "id": "UDXJo55XnEqy",
        "outputId": "186b9aaa-52aa-4cd9-9e1f-913cf8f21361"
      },
      "execution_count": null,
      "outputs": [
        {
          "output_type": "stream",
          "name": "stdout",
          "text": [
            "2.8.0\n"
          ]
        }
      ]
    },
    {
      "cell_type": "code",
      "metadata": {
        "id": "ApzFGDkOHnt7"
      },
      "source": [
        "# importing dataset\n",
        "dataset = pd.read_csv(\"/content/diabetes.csv\")"
      ],
      "execution_count": null,
      "outputs": []
    },
    {
      "cell_type": "code",
      "metadata": {
        "colab": {
          "base_uri": "https://localhost:8080/"
        },
        "id": "033I05ZJJ9ND",
        "outputId": "2b127312-9eb9-44f5-be8e-34b12d5379bf"
      },
      "source": [
        "dataset.info()"
      ],
      "execution_count": null,
      "outputs": [
        {
          "output_type": "stream",
          "name": "stdout",
          "text": [
            "<class 'pandas.core.frame.DataFrame'>\n",
            "RangeIndex: 767 entries, 0 to 766\n",
            "Data columns (total 9 columns):\n",
            " #   Column  Non-Null Count  Dtype  \n",
            "---  ------  --------------  -----  \n",
            " 0   6       767 non-null    int64  \n",
            " 1   148     767 non-null    int64  \n",
            " 2   72      767 non-null    int64  \n",
            " 3   35      767 non-null    int64  \n",
            " 4   0       767 non-null    int64  \n",
            " 5   33.6    767 non-null    float64\n",
            " 6   0.627   767 non-null    float64\n",
            " 7   50      767 non-null    int64  \n",
            " 8   1       767 non-null    int64  \n",
            "dtypes: float64(2), int64(7)\n",
            "memory usage: 54.1 KB\n"
          ]
        }
      ]
    },
    {
      "cell_type": "code",
      "metadata": {
        "id": "A_aZW8YvKNSz",
        "colab": {
          "base_uri": "https://localhost:8080/"
        },
        "outputId": "fbd19375-5d2b-4131-e100-5fc2ff932949"
      },
      "source": [
        "# getting numpy ndarray from dataset\n",
        "dataset = dataset.values\n",
        "dataset"
      ],
      "execution_count": null,
      "outputs": [
        {
          "output_type": "execute_result",
          "data": {
            "text/plain": [
              "array([[1.00e+00, 8.50e+01, 6.60e+01, ..., 3.51e-01, 3.10e+01, 0.00e+00],\n",
              "       [8.00e+00, 1.83e+02, 6.40e+01, ..., 6.72e-01, 3.20e+01, 1.00e+00],\n",
              "       [1.00e+00, 8.90e+01, 6.60e+01, ..., 1.67e-01, 2.10e+01, 0.00e+00],\n",
              "       ...,\n",
              "       [5.00e+00, 1.21e+02, 7.20e+01, ..., 2.45e-01, 3.00e+01, 0.00e+00],\n",
              "       [1.00e+00, 1.26e+02, 6.00e+01, ..., 3.49e-01, 4.70e+01, 1.00e+00],\n",
              "       [1.00e+00, 9.30e+01, 7.00e+01, ..., 3.15e-01, 2.30e+01, 0.00e+00]])"
            ]
          },
          "metadata": {},
          "execution_count": 5
        }
      ]
    },
    {
      "cell_type": "code",
      "metadata": {
        "id": "JtIe1DBCKegG",
        "colab": {
          "base_uri": "https://localhost:8080/"
        },
        "outputId": "6d4dd82d-f918-4230-e5d4-acc82a13aab2"
      },
      "source": [
        "# checking dataset shape\n",
        "dataset.shape"
      ],
      "execution_count": null,
      "outputs": [
        {
          "output_type": "execute_result",
          "data": {
            "text/plain": [
              "(767, 9)"
            ]
          },
          "metadata": {},
          "execution_count": 6
        }
      ]
    },
    {
      "cell_type": "code",
      "metadata": {
        "id": "-T0Q43fAxtNW"
      },
      "source": [
        "# Standardize features by removing the mean and scaling to unit variance\n",
        "sc = StandardScaler()\n",
        "scaled_data = sc.fit_transform(dataset)"
      ],
      "execution_count": null,
      "outputs": []
    },
    {
      "cell_type": "code",
      "metadata": {
        "id": "yt64olkkHwft"
      },
      "source": [
        "# splitting train and test data\n",
        "X_train, X_test, Y_train, Y_test = train_test_split(dataset[:,0:8], dataset[:,8], test_size=0.25, random_state=42)"
      ],
      "execution_count": null,
      "outputs": []
    },
    {
      "cell_type": "code",
      "metadata": {
        "id": "pTBESlF_5Zw1"
      },
      "source": [
        "# fitting train data and transforming\n",
        "X_train_fit = sc.fit(X_train)\n",
        "X_train_tra = sc.transform(X_train)\n",
        "# fitting test data and transforming\n",
        "X_test_fit = sc.fit(X_test)\n",
        "X_test_tra = sc.transform(X_test)"
      ],
      "execution_count": null,
      "outputs": []
    },
    {
      "cell_type": "code",
      "source": [
        "# checking train data shape\n",
        "print(X_train.shape)"
      ],
      "metadata": {
        "colab": {
          "base_uri": "https://localhost:8080/"
        },
        "id": "WLv4xOYkoYGt",
        "outputId": "c6eea20d-8e27-4cc3-8052-5bb026af5db3"
      },
      "execution_count": null,
      "outputs": [
        {
          "output_type": "stream",
          "name": "stdout",
          "text": [
            "(575, 8)\n"
          ]
        }
      ]
    },
    {
      "cell_type": "markdown",
      "source": [
        "## a. Add more Dense layers to the existing code and check how the accuracy changes."
      ],
      "metadata": {
        "id": "KwiT2nfoT_SC"
      }
    },
    {
      "cell_type": "code",
      "metadata": {
        "id": "rMfomxTmH3ww",
        "colab": {
          "base_uri": "https://localhost:8080/"
        },
        "outputId": "248ce9ec-463f-464e-a8e0-fd85fdc093a4"
      },
      "source": [
        "model = keras.Sequential() # create model\n",
        "model.add(layers.Dense(32, input_dim=8, activation='relu')) # Input layer\n",
        "model.add(layers.Dense(64, activation='relu')) # hidden layer\n",
        "model.add(layers.Dense(1, activation='sigmoid')) # output layer\n",
        "# compiling the model\n",
        "model.compile(loss='binary_crossentropy', optimizer='adam', metrics=['accuracy'])\n",
        "# printing a summary about layer and output shap with param number\n",
        "model.summary()"
      ],
      "execution_count": null,
      "outputs": [
        {
          "output_type": "stream",
          "name": "stdout",
          "text": [
            "Model: \"sequential\"\n",
            "_________________________________________________________________\n",
            " Layer (type)                Output Shape              Param #   \n",
            "=================================================================\n",
            " dense (Dense)               (None, 32)                288       \n",
            "                                                                 \n",
            " dense_1 (Dense)             (None, 64)                2112      \n",
            "                                                                 \n",
            " dense_2 (Dense)             (None, 1)                 65        \n",
            "                                                                 \n",
            "=================================================================\n",
            "Total params: 2,465\n",
            "Trainable params: 2,465\n",
            "Non-trainable params: 0\n",
            "_________________________________________________________________\n"
          ]
        }
      ]
    },
    {
      "cell_type": "markdown",
      "source": [
        "## b. Add the validation_data=(X_test, Y_test) attribute to .fit() method."
      ],
      "metadata": {
        "id": "wses71AeUEP5"
      }
    },
    {
      "cell_type": "code",
      "metadata": {
        "id": "2PdPpP7fK-TD",
        "colab": {
          "base_uri": "https://localhost:8080/"
        },
        "outputId": "69a6f8c4-3a2b-4e60-89ea-0782183f195d"
      },
      "source": [
        "# fitting model and validating with test data\n",
        "nn_fitted = model.fit(X_train, Y_train, epochs=100, validation_data=(X_test, Y_test), shuffle=True)"
      ],
      "execution_count": null,
      "outputs": [
        {
          "output_type": "stream",
          "name": "stdout",
          "text": [
            "Epoch 1/100\n",
            "18/18 [==============================] - 3s 39ms/step - loss: 3.1179 - accuracy: 0.5426 - val_loss: 2.0902 - val_accuracy: 0.6042\n",
            "Epoch 2/100\n",
            "18/18 [==============================] - 0s 12ms/step - loss: 1.2906 - accuracy: 0.5478 - val_loss: 1.0622 - val_accuracy: 0.5521\n",
            "Epoch 3/100\n",
            "18/18 [==============================] - 0s 14ms/step - loss: 0.7646 - accuracy: 0.6313 - val_loss: 0.8743 - val_accuracy: 0.5885\n",
            "Epoch 4/100\n",
            "18/18 [==============================] - 0s 11ms/step - loss: 0.8184 - accuracy: 0.5930 - val_loss: 0.6994 - val_accuracy: 0.6198\n",
            "Epoch 5/100\n",
            "18/18 [==============================] - 0s 12ms/step - loss: 0.8072 - accuracy: 0.6174 - val_loss: 0.7406 - val_accuracy: 0.6250\n",
            "Epoch 6/100\n",
            "18/18 [==============================] - 0s 14ms/step - loss: 0.6771 - accuracy: 0.6452 - val_loss: 0.6961 - val_accuracy: 0.6458\n",
            "Epoch 7/100\n",
            "18/18 [==============================] - 0s 10ms/step - loss: 0.7412 - accuracy: 0.6487 - val_loss: 0.7791 - val_accuracy: 0.6667\n",
            "Epoch 8/100\n",
            "18/18 [==============================] - 0s 11ms/step - loss: 0.7395 - accuracy: 0.6261 - val_loss: 0.8712 - val_accuracy: 0.6875\n",
            "Epoch 9/100\n",
            "18/18 [==============================] - 0s 14ms/step - loss: 0.8040 - accuracy: 0.6296 - val_loss: 0.9394 - val_accuracy: 0.6510\n",
            "Epoch 10/100\n",
            "18/18 [==============================] - 0s 19ms/step - loss: 0.7510 - accuracy: 0.6574 - val_loss: 0.6664 - val_accuracy: 0.6719\n",
            "Epoch 11/100\n",
            "18/18 [==============================] - 0s 10ms/step - loss: 0.6533 - accuracy: 0.6643 - val_loss: 0.6601 - val_accuracy: 0.6667\n",
            "Epoch 12/100\n",
            "18/18 [==============================] - 0s 11ms/step - loss: 0.8170 - accuracy: 0.6243 - val_loss: 0.6065 - val_accuracy: 0.6875\n",
            "Epoch 13/100\n",
            "18/18 [==============================] - 0s 9ms/step - loss: 0.6633 - accuracy: 0.6765 - val_loss: 0.6625 - val_accuracy: 0.6250\n",
            "Epoch 14/100\n",
            "18/18 [==============================] - 0s 10ms/step - loss: 0.6446 - accuracy: 0.6504 - val_loss: 0.5964 - val_accuracy: 0.6771\n",
            "Epoch 15/100\n",
            "18/18 [==============================] - 0s 11ms/step - loss: 0.6721 - accuracy: 0.6470 - val_loss: 0.5788 - val_accuracy: 0.7188\n",
            "Epoch 16/100\n",
            "18/18 [==============================] - 0s 13ms/step - loss: 0.6115 - accuracy: 0.6957 - val_loss: 0.5650 - val_accuracy: 0.7240\n",
            "Epoch 17/100\n",
            "18/18 [==============================] - 0s 10ms/step - loss: 0.6788 - accuracy: 0.6852 - val_loss: 0.7214 - val_accuracy: 0.6667\n",
            "Epoch 18/100\n",
            "18/18 [==============================] - 0s 12ms/step - loss: 0.5922 - accuracy: 0.6904 - val_loss: 0.8503 - val_accuracy: 0.5365\n",
            "Epoch 19/100\n",
            "18/18 [==============================] - 0s 18ms/step - loss: 0.6656 - accuracy: 0.6748 - val_loss: 0.6618 - val_accuracy: 0.6927\n",
            "Epoch 20/100\n",
            "18/18 [==============================] - 0s 16ms/step - loss: 0.5811 - accuracy: 0.7078 - val_loss: 0.5536 - val_accuracy: 0.7240\n",
            "Epoch 21/100\n",
            "18/18 [==============================] - 0s 15ms/step - loss: 0.5919 - accuracy: 0.7130 - val_loss: 0.8683 - val_accuracy: 0.6302\n",
            "Epoch 22/100\n",
            "18/18 [==============================] - 0s 14ms/step - loss: 0.6809 - accuracy: 0.6643 - val_loss: 0.6099 - val_accuracy: 0.6667\n",
            "Epoch 23/100\n",
            "18/18 [==============================] - 0s 15ms/step - loss: 0.7035 - accuracy: 0.6574 - val_loss: 0.6247 - val_accuracy: 0.6667\n",
            "Epoch 24/100\n",
            "18/18 [==============================] - 0s 15ms/step - loss: 0.7443 - accuracy: 0.6643 - val_loss: 0.9603 - val_accuracy: 0.6510\n",
            "Epoch 25/100\n",
            "18/18 [==============================] - 0s 12ms/step - loss: 0.6991 - accuracy: 0.6904 - val_loss: 0.7321 - val_accuracy: 0.6406\n",
            "Epoch 26/100\n",
            "18/18 [==============================] - 0s 12ms/step - loss: 0.7017 - accuracy: 0.6765 - val_loss: 0.8589 - val_accuracy: 0.6042\n",
            "Epoch 27/100\n",
            "18/18 [==============================] - 0s 12ms/step - loss: 0.6601 - accuracy: 0.6643 - val_loss: 0.6150 - val_accuracy: 0.7083\n",
            "Epoch 28/100\n",
            "18/18 [==============================] - 0s 12ms/step - loss: 0.5917 - accuracy: 0.7043 - val_loss: 0.5924 - val_accuracy: 0.7188\n",
            "Epoch 29/100\n",
            "18/18 [==============================] - 0s 14ms/step - loss: 0.5987 - accuracy: 0.6904 - val_loss: 0.6392 - val_accuracy: 0.6927\n",
            "Epoch 30/100\n",
            "18/18 [==============================] - 0s 11ms/step - loss: 0.6608 - accuracy: 0.6887 - val_loss: 0.6448 - val_accuracy: 0.6719\n",
            "Epoch 31/100\n",
            "18/18 [==============================] - 0s 14ms/step - loss: 0.6307 - accuracy: 0.6887 - val_loss: 0.6464 - val_accuracy: 0.7031\n",
            "Epoch 32/100\n",
            "18/18 [==============================] - 0s 15ms/step - loss: 0.5818 - accuracy: 0.7200 - val_loss: 0.5511 - val_accuracy: 0.7396\n",
            "Epoch 33/100\n",
            "18/18 [==============================] - 0s 15ms/step - loss: 0.5572 - accuracy: 0.7270 - val_loss: 0.5304 - val_accuracy: 0.7812\n",
            "Epoch 34/100\n",
            "18/18 [==============================] - 0s 12ms/step - loss: 0.5547 - accuracy: 0.7235 - val_loss: 0.5700 - val_accuracy: 0.7031\n",
            "Epoch 35/100\n",
            "18/18 [==============================] - 0s 20ms/step - loss: 0.6555 - accuracy: 0.6852 - val_loss: 0.6407 - val_accuracy: 0.7083\n",
            "Epoch 36/100\n",
            "18/18 [==============================] - 0s 16ms/step - loss: 0.5994 - accuracy: 0.6939 - val_loss: 0.5880 - val_accuracy: 0.6979\n",
            "Epoch 37/100\n",
            "18/18 [==============================] - 0s 16ms/step - loss: 0.5707 - accuracy: 0.7252 - val_loss: 0.5621 - val_accuracy: 0.7031\n",
            "Epoch 38/100\n",
            "18/18 [==============================] - 0s 15ms/step - loss: 0.5559 - accuracy: 0.7322 - val_loss: 0.5323 - val_accuracy: 0.7604\n",
            "Epoch 39/100\n",
            "18/18 [==============================] - 0s 10ms/step - loss: 0.5899 - accuracy: 0.6974 - val_loss: 0.7206 - val_accuracy: 0.6667\n",
            "Epoch 40/100\n",
            "18/18 [==============================] - 0s 15ms/step - loss: 0.6146 - accuracy: 0.7200 - val_loss: 0.6043 - val_accuracy: 0.6823\n",
            "Epoch 41/100\n",
            "18/18 [==============================] - 0s 15ms/step - loss: 0.5378 - accuracy: 0.7339 - val_loss: 0.5354 - val_accuracy: 0.7448\n",
            "Epoch 42/100\n",
            "18/18 [==============================] - 0s 10ms/step - loss: 0.5403 - accuracy: 0.7287 - val_loss: 0.6724 - val_accuracy: 0.6667\n",
            "Epoch 43/100\n",
            "18/18 [==============================] - 0s 13ms/step - loss: 0.5460 - accuracy: 0.7357 - val_loss: 0.5671 - val_accuracy: 0.7292\n",
            "Epoch 44/100\n",
            "18/18 [==============================] - 0s 15ms/step - loss: 0.5354 - accuracy: 0.7357 - val_loss: 0.5647 - val_accuracy: 0.7552\n",
            "Epoch 45/100\n",
            "18/18 [==============================] - 0s 17ms/step - loss: 0.6529 - accuracy: 0.6713 - val_loss: 0.5978 - val_accuracy: 0.7135\n",
            "Epoch 46/100\n",
            "18/18 [==============================] - 0s 13ms/step - loss: 0.6158 - accuracy: 0.6974 - val_loss: 0.5818 - val_accuracy: 0.7031\n",
            "Epoch 47/100\n",
            "18/18 [==============================] - 0s 15ms/step - loss: 0.5935 - accuracy: 0.7148 - val_loss: 0.7493 - val_accuracy: 0.5625\n",
            "Epoch 48/100\n",
            "18/18 [==============================] - 0s 14ms/step - loss: 0.6021 - accuracy: 0.7026 - val_loss: 0.6549 - val_accuracy: 0.6979\n",
            "Epoch 49/100\n",
            "18/18 [==============================] - 0s 11ms/step - loss: 0.6821 - accuracy: 0.6522 - val_loss: 1.2377 - val_accuracy: 0.5781\n",
            "Epoch 50/100\n",
            "18/18 [==============================] - 0s 15ms/step - loss: 0.7472 - accuracy: 0.6748 - val_loss: 0.8091 - val_accuracy: 0.5781\n",
            "Epoch 51/100\n",
            "18/18 [==============================] - 0s 16ms/step - loss: 0.6782 - accuracy: 0.6817 - val_loss: 0.6074 - val_accuracy: 0.6979\n",
            "Epoch 52/100\n",
            "18/18 [==============================] - 0s 15ms/step - loss: 0.6514 - accuracy: 0.6765 - val_loss: 0.7292 - val_accuracy: 0.5990\n",
            "Epoch 53/100\n",
            "18/18 [==============================] - 0s 13ms/step - loss: 0.6762 - accuracy: 0.6939 - val_loss: 0.6240 - val_accuracy: 0.6719\n",
            "Epoch 54/100\n",
            "18/18 [==============================] - 0s 10ms/step - loss: 0.6008 - accuracy: 0.6957 - val_loss: 0.6684 - val_accuracy: 0.7396\n",
            "Epoch 55/100\n",
            "18/18 [==============================] - 0s 14ms/step - loss: 0.6323 - accuracy: 0.6957 - val_loss: 0.6421 - val_accuracy: 0.7292\n",
            "Epoch 56/100\n",
            "18/18 [==============================] - 0s 12ms/step - loss: 0.6019 - accuracy: 0.7009 - val_loss: 0.6028 - val_accuracy: 0.7292\n",
            "Epoch 57/100\n",
            "18/18 [==============================] - 0s 9ms/step - loss: 0.6843 - accuracy: 0.6800 - val_loss: 0.5574 - val_accuracy: 0.7344\n",
            "Epoch 58/100\n",
            "18/18 [==============================] - 0s 12ms/step - loss: 0.6346 - accuracy: 0.6870 - val_loss: 0.6983 - val_accuracy: 0.6823\n",
            "Epoch 59/100\n",
            "18/18 [==============================] - 0s 14ms/step - loss: 0.6902 - accuracy: 0.6922 - val_loss: 0.6149 - val_accuracy: 0.7031\n",
            "Epoch 60/100\n",
            "18/18 [==============================] - 0s 15ms/step - loss: 0.5559 - accuracy: 0.7287 - val_loss: 0.5828 - val_accuracy: 0.7396\n",
            "Epoch 61/100\n",
            "18/18 [==============================] - 0s 11ms/step - loss: 0.5360 - accuracy: 0.7426 - val_loss: 0.5928 - val_accuracy: 0.7292\n",
            "Epoch 62/100\n",
            "18/18 [==============================] - 0s 17ms/step - loss: 0.5909 - accuracy: 0.7043 - val_loss: 0.6393 - val_accuracy: 0.7188\n",
            "Epoch 63/100\n",
            "18/18 [==============================] - 0s 18ms/step - loss: 0.5568 - accuracy: 0.7339 - val_loss: 0.6318 - val_accuracy: 0.6823\n",
            "Epoch 64/100\n",
            "18/18 [==============================] - 0s 19ms/step - loss: 0.5423 - accuracy: 0.7287 - val_loss: 0.5531 - val_accuracy: 0.7500\n",
            "Epoch 65/100\n",
            "18/18 [==============================] - 0s 13ms/step - loss: 0.5403 - accuracy: 0.7339 - val_loss: 0.5216 - val_accuracy: 0.7396\n",
            "Epoch 66/100\n",
            "18/18 [==============================] - 0s 14ms/step - loss: 0.5130 - accuracy: 0.7426 - val_loss: 0.5379 - val_accuracy: 0.7552\n",
            "Epoch 67/100\n",
            "18/18 [==============================] - 0s 13ms/step - loss: 0.5753 - accuracy: 0.7322 - val_loss: 0.5986 - val_accuracy: 0.7396\n",
            "Epoch 68/100\n",
            "18/18 [==============================] - 0s 13ms/step - loss: 0.6239 - accuracy: 0.6887 - val_loss: 0.5037 - val_accuracy: 0.7448\n",
            "Epoch 69/100\n",
            "18/18 [==============================] - 0s 16ms/step - loss: 0.5377 - accuracy: 0.7513 - val_loss: 0.5407 - val_accuracy: 0.7448\n",
            "Epoch 70/100\n",
            "18/18 [==============================] - 0s 11ms/step - loss: 0.5264 - accuracy: 0.7409 - val_loss: 0.6135 - val_accuracy: 0.7344\n",
            "Epoch 71/100\n",
            "18/18 [==============================] - 0s 13ms/step - loss: 0.5794 - accuracy: 0.7096 - val_loss: 0.5370 - val_accuracy: 0.7656\n",
            "Epoch 72/100\n",
            "18/18 [==============================] - 0s 11ms/step - loss: 0.5387 - accuracy: 0.7391 - val_loss: 0.6077 - val_accuracy: 0.7344\n",
            "Epoch 73/100\n",
            "18/18 [==============================] - 0s 15ms/step - loss: 0.5408 - accuracy: 0.7130 - val_loss: 0.5501 - val_accuracy: 0.7344\n",
            "Epoch 74/100\n",
            "18/18 [==============================] - 0s 13ms/step - loss: 0.6133 - accuracy: 0.6974 - val_loss: 0.7573 - val_accuracy: 0.6615\n",
            "Epoch 75/100\n",
            "18/18 [==============================] - 0s 17ms/step - loss: 0.6079 - accuracy: 0.6991 - val_loss: 0.6582 - val_accuracy: 0.7135\n",
            "Epoch 76/100\n",
            "18/18 [==============================] - 0s 14ms/step - loss: 0.6076 - accuracy: 0.7148 - val_loss: 0.5494 - val_accuracy: 0.7552\n",
            "Epoch 77/100\n",
            "18/18 [==============================] - 0s 11ms/step - loss: 0.5213 - accuracy: 0.7565 - val_loss: 0.5672 - val_accuracy: 0.7552\n",
            "Epoch 78/100\n",
            "18/18 [==============================] - 0s 13ms/step - loss: 0.5518 - accuracy: 0.7391 - val_loss: 0.5944 - val_accuracy: 0.7396\n",
            "Epoch 79/100\n",
            "18/18 [==============================] - 0s 11ms/step - loss: 0.6759 - accuracy: 0.6904 - val_loss: 0.5575 - val_accuracy: 0.7552\n",
            "Epoch 80/100\n",
            "18/18 [==============================] - 0s 13ms/step - loss: 0.5875 - accuracy: 0.7200 - val_loss: 0.8240 - val_accuracy: 0.6771\n",
            "Epoch 81/100\n",
            "18/18 [==============================] - 0s 15ms/step - loss: 0.6009 - accuracy: 0.7130 - val_loss: 0.6347 - val_accuracy: 0.7135\n",
            "Epoch 82/100\n",
            "18/18 [==============================] - 0s 10ms/step - loss: 0.6523 - accuracy: 0.6713 - val_loss: 0.6250 - val_accuracy: 0.6667\n",
            "Epoch 83/100\n",
            "18/18 [==============================] - 0s 7ms/step - loss: 0.5826 - accuracy: 0.7200 - val_loss: 0.5293 - val_accuracy: 0.7812\n",
            "Epoch 84/100\n",
            "18/18 [==============================] - 0s 6ms/step - loss: 0.5312 - accuracy: 0.7513 - val_loss: 0.7837 - val_accuracy: 0.6719\n",
            "Epoch 85/100\n",
            "18/18 [==============================] - 0s 7ms/step - loss: 0.5556 - accuracy: 0.7391 - val_loss: 0.5402 - val_accuracy: 0.7656\n",
            "Epoch 86/100\n",
            "18/18 [==============================] - 0s 6ms/step - loss: 0.5413 - accuracy: 0.7322 - val_loss: 0.5576 - val_accuracy: 0.7396\n",
            "Epoch 87/100\n",
            "18/18 [==============================] - 0s 7ms/step - loss: 0.5285 - accuracy: 0.7478 - val_loss: 0.7147 - val_accuracy: 0.6510\n",
            "Epoch 88/100\n",
            "18/18 [==============================] - 0s 6ms/step - loss: 0.5488 - accuracy: 0.7148 - val_loss: 0.5212 - val_accuracy: 0.7292\n",
            "Epoch 89/100\n",
            "18/18 [==============================] - 0s 7ms/step - loss: 0.5461 - accuracy: 0.7461 - val_loss: 0.6883 - val_accuracy: 0.6406\n",
            "Epoch 90/100\n",
            "18/18 [==============================] - 0s 6ms/step - loss: 0.5273 - accuracy: 0.7357 - val_loss: 0.5383 - val_accuracy: 0.7760\n",
            "Epoch 91/100\n",
            "18/18 [==============================] - 0s 7ms/step - loss: 0.5322 - accuracy: 0.7322 - val_loss: 0.5565 - val_accuracy: 0.7188\n",
            "Epoch 92/100\n",
            "18/18 [==============================] - 0s 6ms/step - loss: 0.5053 - accuracy: 0.7478 - val_loss: 0.6320 - val_accuracy: 0.7188\n",
            "Epoch 93/100\n",
            "18/18 [==============================] - 0s 8ms/step - loss: 0.5113 - accuracy: 0.7443 - val_loss: 0.5381 - val_accuracy: 0.7708\n",
            "Epoch 94/100\n",
            "18/18 [==============================] - 0s 7ms/step - loss: 0.5440 - accuracy: 0.7304 - val_loss: 0.5758 - val_accuracy: 0.7240\n",
            "Epoch 95/100\n",
            "18/18 [==============================] - 0s 7ms/step - loss: 0.5782 - accuracy: 0.7183 - val_loss: 0.6660 - val_accuracy: 0.7135\n",
            "Epoch 96/100\n",
            "18/18 [==============================] - 0s 6ms/step - loss: 0.5785 - accuracy: 0.7009 - val_loss: 0.5582 - val_accuracy: 0.7604\n",
            "Epoch 97/100\n",
            "18/18 [==============================] - 0s 6ms/step - loss: 0.5506 - accuracy: 0.7339 - val_loss: 0.6440 - val_accuracy: 0.6667\n",
            "Epoch 98/100\n",
            "18/18 [==============================] - 0s 7ms/step - loss: 0.6275 - accuracy: 0.7009 - val_loss: 0.8860 - val_accuracy: 0.5521\n",
            "Epoch 99/100\n",
            "18/18 [==============================] - 0s 7ms/step - loss: 0.5304 - accuracy: 0.7165 - val_loss: 0.5981 - val_accuracy: 0.7448\n",
            "Epoch 100/100\n",
            "18/18 [==============================] - 0s 6ms/step - loss: 0.5124 - accuracy: 0.7496 - val_loss: 0.5399 - val_accuracy: 0.7656\n"
          ]
        }
      ]
    },
    {
      "cell_type": "markdown",
      "source": [
        "## c. Plot the accuracy for training and validation (one plot for both: train and test accuracy)."
      ],
      "metadata": {
        "id": "E0BLvKjpUNFR"
      }
    },
    {
      "cell_type": "code",
      "source": [
        "# plotting history for accuracy\n",
        "import matplotlib.pyplot as plt\n",
        "# plot the accurcy\n",
        "plt.plot(nn_fitted.history['accuracy'])\n",
        "# plot the val\n",
        "plt.plot(nn_fitted.history['val_accuracy'])\n",
        "plt.title('Model accuracy')\n",
        "plt.ylabel('Accuracy')\n",
        "plt.xlabel('Epoch')\n",
        "plt.legend(['train', 'test'], loc='upper left')\n",
        "plt.show()"
      ],
      "metadata": {
        "colab": {
          "base_uri": "https://localhost:8080/",
          "height": 315
        },
        "id": "eeXRy9517cRo",
        "outputId": "cd01a183-781c-4f88-f765-2fbca72f07b2"
      },
      "execution_count": null,
      "outputs": [
        {
          "output_type": "display_data",
          "data": {
            "text/plain": [
              "<Figure size 432x288 with 1 Axes>"
            ],
            "image/png": "[encoded data removed]"
          },
          "metadata": {
            "needs_background": "light"
          }
        }
      ]
    },
    {
      "cell_type": "markdown",
      "source": [
        "## d. Plot the loss for training and validation (one plot for both: train and test loss)."
      ],
      "metadata": {
        "id": "yCyBpE22UPNt"
      }
    },
    {
      "cell_type": "code",
      "source": [
        "# plotting history for loss\n",
        "plt.plot(nn_fitted.history['loss'])\n",
        "# plot the val of loss\n",
        "plt.plot(nn_fitted.history['val_loss'])\n",
        "plt.title('Model loss')\n",
        "plt.ylabel('Loss')\n",
        "plt.xlabel('Epoch')\n",
        "plt.legend(['train', 'test'], loc='upper right')\n",
        "plt.show()"
      ],
      "metadata": {
        "colab": {
          "base_uri": "https://localhost:8080/",
          "height": 315
        },
        "id": "ImUByfjH_qfz",
        "outputId": "9f4f33b9-01b3-4884-de5b-807a1d0d7e7c"
      },
      "execution_count": null,
      "outputs": [
        {
          "output_type": "display_data",
          "data": {
            "text/plain": [
              "<Figure size 432x288 with 1 Axes>"
            ],
            "image/png": "[encoded data removed]"
          },
          "metadata": {
            "needs_background": "light"
          }
        }
      ]
    },
    {
      "cell_type": "code",
      "metadata": {
        "id": "EBYPua9zH-E6",
        "colab": {
          "base_uri": "https://localhost:8080/"
        },
        "outputId": "feaf212c-3e4d-49a7-deea-b57c4adca2d0"
      },
      "source": [
        "# getting test score from data before normalization and print\n",
        "scores_test = model.evaluate(X_test, Y_test)\n",
        "print(f'Loss score for test data: {scores_test}')"
      ],
      "execution_count": null,
      "outputs": [
        {
          "output_type": "stream",
          "name": "stdout",
          "text": [
            "6/6 [==============================] - 0s 3ms/step - loss: 0.5399 - accuracy: 0.7656\n",
            "Loss score for test data: [0.5398743748664856, 0.765625]\n"
          ]
        }
      ]
    },
    {
      "cell_type": "markdown",
      "source": [
        "## e. Normalize the data before feeding to the model and check how the normalization changes your accuracy sue the StandardScaler() from scikit learn."
      ],
      "metadata": {
        "id": "GuiNS72He0F-"
      }
    },
    {
      "cell_type": "code",
      "source": [
        "# splitting train and test data from normalized dataset\n",
        "X_train, X_test, Y_train, Y_test = train_test_split(scaled_data[:,0:8], scaled_data[:,8], test_size=0.25, random_state=42)"
      ],
      "metadata": {
        "id": "2I2y8LABerfa"
      },
      "execution_count": null,
      "outputs": []
    },
    {
      "cell_type": "code",
      "source": [
        "# getting test score from data after normalization and print\n",
        "scores_test = model.evaluate(X_test, Y_test)\n",
        "print(f'Loss score for test data: {scores_test}')"
      ],
      "metadata": {
        "colab": {
          "base_uri": "https://localhost:8080/"
        },
        "id": "7oO8rpTme5gT",
        "outputId": "4d1634ba-59d3-4961-eeae-8e4a94c19b41"
      },
      "execution_count": null,
      "outputs": [
        {
          "output_type": "stream",
          "name": "stdout",
          "text": [
            "6/6 [==============================] - 0s 3ms/step - loss: 0.7380 - accuracy: 0.6562\n",
            "Loss score for test data: [0.7379752993583679, 0.65625]\n"
          ]
        }
      ]
    }
  ]
}