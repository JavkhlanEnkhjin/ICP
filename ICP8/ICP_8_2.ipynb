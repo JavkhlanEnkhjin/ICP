{
  "nbformat": 4,
  "nbformat_minor": 0,
  "metadata": {
    "colab": {
      "name": "ICP 8 - 2.ipynb",
      "provenance": [],
      "collapsed_sections": []
    },
    "kernelspec": {
      "name": "python3",
      "display_name": "Python 3"
    },
    "accelerator": "GPU"
  },
  "cells": [
    {
      "cell_type": "markdown",
      "source": [
        "#Assignment 1\n",
        "##1. Use the use case in the class (DL_Lesson_1.ipynb & diabetes.csv):"
      ],
      "metadata": {
        "id": "AhncsitRhSBN"
      }
    },
    {
      "cell_type": "code",
      "metadata": {
        "id": "pTRagYcvHjDj"
      },
      "source": [
        "# importing libraries\n",
        "import tensorflow as tf\n",
        "from tensorflow import keras\n",
        "from tensorflow.keras import layers\n",
        "from sklearn.preprocessing import StandardScaler\n",
        "from sklearn.model_selection import train_test_split\n",
        "import matplotlib.pyplot as plt\n",
        "import pandas as pd\n",
        "import numpy as np"
      ],
      "execution_count": 1,
      "outputs": []
    },
    {
      "cell_type": "code",
      "metadata": {
        "id": "ApzFGDkOHnt7"
      },
      "source": [
        "# importing dataset\n",
        "dataset = pd.read_csv(\"/content/Breast Cancer.csv\")"
      ],
      "execution_count": 2,
      "outputs": []
    },
    {
      "cell_type": "code",
      "metadata": {
        "colab": {
          "base_uri": "https://localhost:8080/",
          "height": 310
        },
        "id": "033I05ZJJ9ND",
        "outputId": "29f28e22-8e28-4232-d58d-5f520adbad83"
      },
      "source": [
        "dataset.head()"
      ],
      "execution_count": 3,
      "outputs": [
        {
          "output_type": "execute_result",
          "data": {
            "text/plain": [
              "         id diagnosis  radius_mean  texture_mean  perimeter_mean  area_mean  \\\n",
              "0    842302         M        17.99         10.38          122.80     1001.0   \n",
              "1    842517         M        20.57         17.77          132.90     1326.0   \n",
              "2  84300903         M        19.69         21.25          130.00     1203.0   \n",
              "3  84348301         M        11.42         20.38           77.58      386.1   \n",
              "4  84358402         M        20.29         14.34          135.10     1297.0   \n",
              "\n",
              "   smoothness_mean  compactness_mean  concavity_mean  concave points_mean  \\\n",
              "0          0.11840           0.27760          0.3001              0.14710   \n",
              "1          0.08474           0.07864          0.0869              0.07017   \n",
              "2          0.10960           0.15990          0.1974              0.12790   \n",
              "3          0.14250           0.28390          0.2414              0.10520   \n",
              "4          0.10030           0.13280          0.1980              0.10430   \n",
              "\n",
              "   ...  texture_worst  perimeter_worst  area_worst  smoothness_worst  \\\n",
              "0  ...          17.33           184.60      2019.0            0.1622   \n",
              "1  ...          23.41           158.80      1956.0            0.1238   \n",
              "2  ...          25.53           152.50      1709.0            0.1444   \n",
              "3  ...          26.50            98.87       567.7            0.2098   \n",
              "4  ...          16.67           152.20      1575.0            0.1374   \n",
              "\n",
              "   compactness_worst  concavity_worst  concave points_worst  symmetry_worst  \\\n",
              "0             0.6656           0.7119                0.2654          0.4601   \n",
              "1             0.1866           0.2416                0.1860          0.2750   \n",
              "2             0.4245           0.4504                0.2430          0.3613   \n",
              "3             0.8663           0.6869                0.2575          0.6638   \n",
              "4             0.2050           0.4000                0.1625          0.2364   \n",
              "\n",
              "   fractal_dimension_worst  Unnamed: 32  \n",
              "0                  0.11890          NaN  \n",
              "1                  0.08902          NaN  \n",
              "2                  0.08758          NaN  \n",
              "3                  0.17300          NaN  \n",
              "4                  0.07678          NaN  \n",
              "\n",
              "[5 rows x 33 columns]"
            ],
            "text/html": [
              "\n",
              "  <div id=\"df-9f48eafa-0b0a-4ba0-acc2-8ddeec8d04d1\">\n",
              "    <div class=\"colab-df-container\">\n",
              "      <div>\n",
              "<style scoped>\n",
              "    .dataframe tbody tr th:only-of-type {\n",
              "        vertical-align: middle;\n",
              "    }\n",
              "\n",
              "    .dataframe tbody tr th {\n",
              "        vertical-align: top;\n",
              "    }\n",
              "\n",
              "    .dataframe thead th {\n",
              "        text-align: right;\n",
              "    }\n",
              "</style>\n",
              "<table border=\"1\" class=\"dataframe\">\n",
              "  <thead>\n",
              "    <tr style=\"text-align: right;\">\n",
              "      <th></th>\n",
              "      <th>id</th>\n",
              "      <th>diagnosis</th>\n",
              "      <th>radius_mean</th>\n",
              "      <th>texture_mean</th>\n",
              "      <th>perimeter_mean</th>\n",
              "      <th>area_mean</th>\n",
              "      <th>smoothness_mean</th>\n",
              "      <th>compactness_mean</th>\n",
              "      <th>concavity_mean</th>\n",
              "      <th>concave points_mean</th>\n",
              "      <th>...</th>\n",
              "      <th>texture_worst</th>\n",
              "      <th>perimeter_worst</th>\n",
              "      <th>area_worst</th>\n",
              "      <th>smoothness_worst</th>\n",
              "      <th>compactness_worst</th>\n",
              "      <th>concavity_worst</th>\n",
              "      <th>concave points_worst</th>\n",
              "      <th>symmetry_worst</th>\n",
              "      <th>fractal_dimension_worst</th>\n",
              "      <th>Unnamed: 32</th>\n",
              "    </tr>\n",
              "  </thead>\n",
              "  <tbody>\n",
              "    <tr>\n",
              "      <th>0</th>\n",
              "      <td>842302</td>\n",
              "      <td>M</td>\n",
              "      <td>17.99</td>\n",
              "      <td>10.38</td>\n",
              "      <td>122.80</td>\n",
              "      <td>1001.0</td>\n",
              "      <td>0.11840</td>\n",
              "      <td>0.27760</td>\n",
              "      <td>0.3001</td>\n",
              "      <td>0.14710</td>\n",
              "      <td>...</td>\n",
              "      <td>17.33</td>\n",
              "      <td>184.60</td>\n",
              "      <td>2019.0</td>\n",
              "      <td>0.1622</td>\n",
              "      <td>0.6656</td>\n",
              "      <td>0.7119</td>\n",
              "      <td>0.2654</td>\n",
              "      <td>0.4601</td>\n",
              "      <td>0.11890</td>\n",
              "      <td>NaN</td>\n",
              "    </tr>\n",
              "    <tr>\n",
              "      <th>1</th>\n",
              "      <td>842517</td>\n",
              "      <td>M</td>\n",
              "      <td>20.57</td>\n",
              "      <td>17.77</td>\n",
              "      <td>132.90</td>\n",
              "      <td>1326.0</td>\n",
              "      <td>0.08474</td>\n",
              "      <td>0.07864</td>\n",
              "      <td>0.0869</td>\n",
              "      <td>0.07017</td>\n",
              "      <td>...</td>\n",
              "      <td>23.41</td>\n",
              "      <td>158.80</td>\n",
              "      <td>1956.0</td>\n",
              "      <td>0.1238</td>\n",
              "      <td>0.1866</td>\n",
              "      <td>0.2416</td>\n",
              "      <td>0.1860</td>\n",
              "      <td>0.2750</td>\n",
              "      <td>0.08902</td>\n",
              "      <td>NaN</td>\n",
              "    </tr>\n",
              "    <tr>\n",
              "      <th>2</th>\n",
              "      <td>84300903</td>\n",
              "      <td>M</td>\n",
              "      <td>19.69</td>\n",
              "      <td>21.25</td>\n",
              "      <td>130.00</td>\n",
              "      <td>1203.0</td>\n",
              "      <td>0.10960</td>\n",
              "      <td>0.15990</td>\n",
              "      <td>0.1974</td>\n",
              "      <td>0.12790</td>\n",
              "      <td>...</td>\n",
              "      <td>25.53</td>\n",
              "      <td>152.50</td>\n",
              "      <td>1709.0</td>\n",
              "      <td>0.1444</td>\n",
              "      <td>0.4245</td>\n",
              "      <td>0.4504</td>\n",
              "      <td>0.2430</td>\n",
              "      <td>0.3613</td>\n",
              "      <td>0.08758</td>\n",
              "      <td>NaN</td>\n",
              "    </tr>\n",
              "    <tr>\n",
              "      <th>3</th>\n",
              "      <td>84348301</td>\n",
              "      <td>M</td>\n",
              "      <td>11.42</td>\n",
              "      <td>20.38</td>\n",
              "      <td>77.58</td>\n",
              "      <td>386.1</td>\n",
              "      <td>0.14250</td>\n",
              "      <td>0.28390</td>\n",
              "      <td>0.2414</td>\n",
              "      <td>0.10520</td>\n",
              "      <td>...</td>\n",
              "      <td>26.50</td>\n",
              "      <td>98.87</td>\n",
              "      <td>567.7</td>\n",
              "      <td>0.2098</td>\n",
              "      <td>0.8663</td>\n",
              "      <td>0.6869</td>\n",
              "      <td>0.2575</td>\n",
              "      <td>0.6638</td>\n",
              "      <td>0.17300</td>\n",
              "      <td>NaN</td>\n",
              "    </tr>\n",
              "    <tr>\n",
              "      <th>4</th>\n",
              "      <td>84358402</td>\n",
              "      <td>M</td>\n",
              "      <td>20.29</td>\n",
              "      <td>14.34</td>\n",
              "      <td>135.10</td>\n",
              "      <td>1297.0</td>\n",
              "      <td>0.10030</td>\n",
              "      <td>0.13280</td>\n",
              "      <td>0.1980</td>\n",
              "      <td>0.10430</td>\n",
              "      <td>...</td>\n",
              "      <td>16.67</td>\n",
              "      <td>152.20</td>\n",
              "      <td>1575.0</td>\n",
              "      <td>0.1374</td>\n",
              "      <td>0.2050</td>\n",
              "      <td>0.4000</td>\n",
              "      <td>0.1625</td>\n",
              "      <td>0.2364</td>\n",
              "      <td>0.07678</td>\n",
              "      <td>NaN</td>\n",
              "    </tr>\n",
              "  </tbody>\n",
              "</table>\n",
              "<p>5 rows × 33 columns</p>\n",
              "</div>\n",
              "      <button class=\"colab-df-convert\" onclick=\"convertToInteractive('df-9f48eafa-0b0a-4ba0-acc2-8ddeec8d04d1')\"\n",
              "              title=\"Convert this dataframe to an interactive table.\"\n",
              "              style=\"display:none;\">\n",
              "        \n",
              "  <svg xmlns=\"http://www.w3.org/2000/svg\" height=\"24px\"viewBox=\"0 0 24 24\"\n",
              "       width=\"24px\">\n",
              "    <path d=\"M0 0h24v24H0V0z\" fill=\"none\"/>\n",
              "    <path d=\"M18.56 5.44l.94 2.06.94-2.06 2.06-.94-2.06-.94-.94-2.06-.94 2.06-2.06.94zm-11 1L8.5 8.5l.94-2.06 2.06-.94-2.06-.94L8.5 2.5l-.94 2.06-2.06.94zm10 10l.94 2.06.94-2.06 2.06-.94-2.06-.94-.94-2.06-.94 2.06-2.06.94z\"/><path d=\"M17.41 7.96l-1.37-1.37c-.4-.4-.92-.59-1.43-.59-.52 0-1.04.2-1.43.59L10.3 9.45l-7.72 7.72c-.78.78-.78 2.05 0 2.83L4 21.41c.39.39.9.59 1.41.59.51 0 1.02-.2 1.41-.59l7.78-7.78 2.81-2.81c.8-.78.8-2.07 0-2.86zM5.41 20L4 18.59l7.72-7.72 1.47 1.35L5.41 20z\"/>\n",
              "  </svg>\n",
              "      </button>\n",
              "      \n",
              "  <style>\n",
              "    .colab-df-container {\n",
              "      display:flex;\n",
              "      flex-wrap:wrap;\n",
              "      gap: 12px;\n",
              "    }\n",
              "\n",
              "    .colab-df-convert {\n",
              "      background-color: #E8F0FE;\n",
              "      border: none;\n",
              "      border-radius: 50%;\n",
              "      cursor: pointer;\n",
              "      display: none;\n",
              "      fill: #1967D2;\n",
              "      height: 32px;\n",
              "      padding: 0 0 0 0;\n",
              "      width: 32px;\n",
              "    }\n",
              "\n",
              "    .colab-df-convert:hover {\n",
              "      background-color: #E2EBFA;\n",
              "      box-shadow: 0px 1px 2px rgba(60, 64, 67, 0.3), 0px 1px 3px 1px rgba(60, 64, 67, 0.15);\n",
              "      fill: #174EA6;\n",
              "    }\n",
              "\n",
              "    [theme=dark] .colab-df-convert {\n",
              "      background-color: #3B4455;\n",
              "      fill: #D2E3FC;\n",
              "    }\n",
              "\n",
              "    [theme=dark] .colab-df-convert:hover {\n",
              "      background-color: #434B5C;\n",
              "      box-shadow: 0px 1px 3px 1px rgba(0, 0, 0, 0.15);\n",
              "      filter: drop-shadow(0px 1px 2px rgba(0, 0, 0, 0.3));\n",
              "      fill: #FFFFFF;\n",
              "    }\n",
              "  </style>\n",
              "\n",
              "      <script>\n",
              "        const buttonEl =\n",
              "          document.querySelector('#df-9f48eafa-0b0a-4ba0-acc2-8ddeec8d04d1 button.colab-df-convert');\n",
              "        buttonEl.style.display =\n",
              "          google.colab.kernel.accessAllowed ? 'block' : 'none';\n",
              "\n",
              "        async function convertToInteractive(key) {\n",
              "          const element = document.querySelector('#df-9f48eafa-0b0a-4ba0-acc2-8ddeec8d04d1');\n",
              "          const dataTable =\n",
              "            await google.colab.kernel.invokeFunction('convertToInteractive',\n",
              "                                                     [key], {});\n",
              "          if (!dataTable) return;\n",
              "\n",
              "          const docLinkHtml = 'Like what you see? Visit the ' +\n",
              "            '<a target=\"_blank\" href=https://colab.research.google.com/notebooks/data_table.ipynb>data table notebook</a>'\n",
              "            + ' to learn more about interactive tables.';\n",
              "          element.innerHTML = '';\n",
              "          dataTable['output_type'] = 'display_data';\n",
              "          await google.colab.output.renderOutput(dataTable, element);\n",
              "          const docLink = document.createElement('div');\n",
              "          docLink.innerHTML = docLinkHtml;\n",
              "          element.appendChild(docLink);\n",
              "        }\n",
              "      </script>\n",
              "    </div>\n",
              "  </div>\n",
              "  "
            ]
          },
          "metadata": {},
          "execution_count": 3
        }
      ]
    },
    {
      "cell_type": "code",
      "metadata": {
        "id": "A_aZW8YvKNSz"
      },
      "source": [
        "# dropping id and unnamed \n",
        "dataset.drop('id', axis=1, inplace = True)\n",
        "dataset.drop('Unnamed: 32', axis=1, inplace = True)"
      ],
      "execution_count": 4,
      "outputs": []
    },
    {
      "cell_type": "code",
      "metadata": {
        "id": "JtIe1DBCKegG",
        "colab": {
          "base_uri": "https://localhost:8080/"
        },
        "outputId": "ba2b4f77-f0db-4536-bd8e-5b8e3167b816"
      },
      "source": [
        "# checking dataset shape\n",
        "dataset.shape"
      ],
      "execution_count": 5,
      "outputs": [
        {
          "output_type": "execute_result",
          "data": {
            "text/plain": [
              "(569, 31)"
            ]
          },
          "metadata": {},
          "execution_count": 5
        }
      ]
    },
    {
      "cell_type": "code",
      "source": [
        "# checking diagnosis and mapping\n",
        "dataset.diagnosis.unique()\n",
        "dataset['diagnosis'] = dataset['diagnosis'].map({'M':1,'B':0})\n",
        "dataset.head()"
      ],
      "metadata": {
        "colab": {
          "base_uri": "https://localhost:8080/",
          "height": 310
        },
        "id": "1XynkyqBhnyd",
        "outputId": "fad65d64-aece-4bc5-bf51-b59ce6969c4b"
      },
      "execution_count": 6,
      "outputs": [
        {
          "output_type": "execute_result",
          "data": {
            "text/plain": [
              "   diagnosis  radius_mean  texture_mean  perimeter_mean  area_mean  \\\n",
              "0          1        17.99         10.38          122.80     1001.0   \n",
              "1          1        20.57         17.77          132.90     1326.0   \n",
              "2          1        19.69         21.25          130.00     1203.0   \n",
              "3          1        11.42         20.38           77.58      386.1   \n",
              "4          1        20.29         14.34          135.10     1297.0   \n",
              "\n",
              "   smoothness_mean  compactness_mean  concavity_mean  concave points_mean  \\\n",
              "0          0.11840           0.27760          0.3001              0.14710   \n",
              "1          0.08474           0.07864          0.0869              0.07017   \n",
              "2          0.10960           0.15990          0.1974              0.12790   \n",
              "3          0.14250           0.28390          0.2414              0.10520   \n",
              "4          0.10030           0.13280          0.1980              0.10430   \n",
              "\n",
              "   symmetry_mean  ...  radius_worst  texture_worst  perimeter_worst  \\\n",
              "0         0.2419  ...         25.38          17.33           184.60   \n",
              "1         0.1812  ...         24.99          23.41           158.80   \n",
              "2         0.2069  ...         23.57          25.53           152.50   \n",
              "3         0.2597  ...         14.91          26.50            98.87   \n",
              "4         0.1809  ...         22.54          16.67           152.20   \n",
              "\n",
              "   area_worst  smoothness_worst  compactness_worst  concavity_worst  \\\n",
              "0      2019.0            0.1622             0.6656           0.7119   \n",
              "1      1956.0            0.1238             0.1866           0.2416   \n",
              "2      1709.0            0.1444             0.4245           0.4504   \n",
              "3       567.7            0.2098             0.8663           0.6869   \n",
              "4      1575.0            0.1374             0.2050           0.4000   \n",
              "\n",
              "   concave points_worst  symmetry_worst  fractal_dimension_worst  \n",
              "0                0.2654          0.4601                  0.11890  \n",
              "1                0.1860          0.2750                  0.08902  \n",
              "2                0.2430          0.3613                  0.08758  \n",
              "3                0.2575          0.6638                  0.17300  \n",
              "4                0.1625          0.2364                  0.07678  \n",
              "\n",
              "[5 rows x 31 columns]"
            ],
            "text/html": [
              "\n",
              "  <div id=\"df-cbf1df67-c0e9-4abf-b1cc-cc05e955fc25\">\n",
              "    <div class=\"colab-df-container\">\n",
              "      <div>\n",
              "<style scoped>\n",
              "    .dataframe tbody tr th:only-of-type {\n",
              "        vertical-align: middle;\n",
              "    }\n",
              "\n",
              "    .dataframe tbody tr th {\n",
              "        vertical-align: top;\n",
              "    }\n",
              "\n",
              "    .dataframe thead th {\n",
              "        text-align: right;\n",
              "    }\n",
              "</style>\n",
              "<table border=\"1\" class=\"dataframe\">\n",
              "  <thead>\n",
              "    <tr style=\"text-align: right;\">\n",
              "      <th></th>\n",
              "      <th>diagnosis</th>\n",
              "      <th>radius_mean</th>\n",
              "      <th>texture_mean</th>\n",
              "      <th>perimeter_mean</th>\n",
              "      <th>area_mean</th>\n",
              "      <th>smoothness_mean</th>\n",
              "      <th>compactness_mean</th>\n",
              "      <th>concavity_mean</th>\n",
              "      <th>concave points_mean</th>\n",
              "      <th>symmetry_mean</th>\n",
              "      <th>...</th>\n",
              "      <th>radius_worst</th>\n",
              "      <th>texture_worst</th>\n",
              "      <th>perimeter_worst</th>\n",
              "      <th>area_worst</th>\n",
              "      <th>smoothness_worst</th>\n",
              "      <th>compactness_worst</th>\n",
              "      <th>concavity_worst</th>\n",
              "      <th>concave points_worst</th>\n",
              "      <th>symmetry_worst</th>\n",
              "      <th>fractal_dimension_worst</th>\n",
              "    </tr>\n",
              "  </thead>\n",
              "  <tbody>\n",
              "    <tr>\n",
              "      <th>0</th>\n",
              "      <td>1</td>\n",
              "      <td>17.99</td>\n",
              "      <td>10.38</td>\n",
              "      <td>122.80</td>\n",
              "      <td>1001.0</td>\n",
              "      <td>0.11840</td>\n",
              "      <td>0.27760</td>\n",
              "      <td>0.3001</td>\n",
              "      <td>0.14710</td>\n",
              "      <td>0.2419</td>\n",
              "      <td>...</td>\n",
              "      <td>25.38</td>\n",
              "      <td>17.33</td>\n",
              "      <td>184.60</td>\n",
              "      <td>2019.0</td>\n",
              "      <td>0.1622</td>\n",
              "      <td>0.6656</td>\n",
              "      <td>0.7119</td>\n",
              "      <td>0.2654</td>\n",
              "      <td>0.4601</td>\n",
              "      <td>0.11890</td>\n",
              "    </tr>\n",
              "    <tr>\n",
              "      <th>1</th>\n",
              "      <td>1</td>\n",
              "      <td>20.57</td>\n",
              "      <td>17.77</td>\n",
              "      <td>132.90</td>\n",
              "      <td>1326.0</td>\n",
              "      <td>0.08474</td>\n",
              "      <td>0.07864</td>\n",
              "      <td>0.0869</td>\n",
              "      <td>0.07017</td>\n",
              "      <td>0.1812</td>\n",
              "      <td>...</td>\n",
              "      <td>24.99</td>\n",
              "      <td>23.41</td>\n",
              "      <td>158.80</td>\n",
              "      <td>1956.0</td>\n",
              "      <td>0.1238</td>\n",
              "      <td>0.1866</td>\n",
              "      <td>0.2416</td>\n",
              "      <td>0.1860</td>\n",
              "      <td>0.2750</td>\n",
              "      <td>0.08902</td>\n",
              "    </tr>\n",
              "    <tr>\n",
              "      <th>2</th>\n",
              "      <td>1</td>\n",
              "      <td>19.69</td>\n",
              "      <td>21.25</td>\n",
              "      <td>130.00</td>\n",
              "      <td>1203.0</td>\n",
              "      <td>0.10960</td>\n",
              "      <td>0.15990</td>\n",
              "      <td>0.1974</td>\n",
              "      <td>0.12790</td>\n",
              "      <td>0.2069</td>\n",
              "      <td>...</td>\n",
              "      <td>23.57</td>\n",
              "      <td>25.53</td>\n",
              "      <td>152.50</td>\n",
              "      <td>1709.0</td>\n",
              "      <td>0.1444</td>\n",
              "      <td>0.4245</td>\n",
              "      <td>0.4504</td>\n",
              "      <td>0.2430</td>\n",
              "      <td>0.3613</td>\n",
              "      <td>0.08758</td>\n",
              "    </tr>\n",
              "    <tr>\n",
              "      <th>3</th>\n",
              "      <td>1</td>\n",
              "      <td>11.42</td>\n",
              "      <td>20.38</td>\n",
              "      <td>77.58</td>\n",
              "      <td>386.1</td>\n",
              "      <td>0.14250</td>\n",
              "      <td>0.28390</td>\n",
              "      <td>0.2414</td>\n",
              "      <td>0.10520</td>\n",
              "      <td>0.2597</td>\n",
              "      <td>...</td>\n",
              "      <td>14.91</td>\n",
              "      <td>26.50</td>\n",
              "      <td>98.87</td>\n",
              "      <td>567.7</td>\n",
              "      <td>0.2098</td>\n",
              "      <td>0.8663</td>\n",
              "      <td>0.6869</td>\n",
              "      <td>0.2575</td>\n",
              "      <td>0.6638</td>\n",
              "      <td>0.17300</td>\n",
              "    </tr>\n",
              "    <tr>\n",
              "      <th>4</th>\n",
              "      <td>1</td>\n",
              "      <td>20.29</td>\n",
              "      <td>14.34</td>\n",
              "      <td>135.10</td>\n",
              "      <td>1297.0</td>\n",
              "      <td>0.10030</td>\n",
              "      <td>0.13280</td>\n",
              "      <td>0.1980</td>\n",
              "      <td>0.10430</td>\n",
              "      <td>0.1809</td>\n",
              "      <td>...</td>\n",
              "      <td>22.54</td>\n",
              "      <td>16.67</td>\n",
              "      <td>152.20</td>\n",
              "      <td>1575.0</td>\n",
              "      <td>0.1374</td>\n",
              "      <td>0.2050</td>\n",
              "      <td>0.4000</td>\n",
              "      <td>0.1625</td>\n",
              "      <td>0.2364</td>\n",
              "      <td>0.07678</td>\n",
              "    </tr>\n",
              "  </tbody>\n",
              "</table>\n",
              "<p>5 rows × 31 columns</p>\n",
              "</div>\n",
              "      <button class=\"colab-df-convert\" onclick=\"convertToInteractive('df-cbf1df67-c0e9-4abf-b1cc-cc05e955fc25')\"\n",
              "              title=\"Convert this dataframe to an interactive table.\"\n",
              "              style=\"display:none;\">\n",
              "        \n",
              "  <svg xmlns=\"http://www.w3.org/2000/svg\" height=\"24px\"viewBox=\"0 0 24 24\"\n",
              "       width=\"24px\">\n",
              "    <path d=\"M0 0h24v24H0V0z\" fill=\"none\"/>\n",
              "    <path d=\"M18.56 5.44l.94 2.06.94-2.06 2.06-.94-2.06-.94-.94-2.06-.94 2.06-2.06.94zm-11 1L8.5 8.5l.94-2.06 2.06-.94-2.06-.94L8.5 2.5l-.94 2.06-2.06.94zm10 10l.94 2.06.94-2.06 2.06-.94-2.06-.94-.94-2.06-.94 2.06-2.06.94z\"/><path d=\"M17.41 7.96l-1.37-1.37c-.4-.4-.92-.59-1.43-.59-.52 0-1.04.2-1.43.59L10.3 9.45l-7.72 7.72c-.78.78-.78 2.05 0 2.83L4 21.41c.39.39.9.59 1.41.59.51 0 1.02-.2 1.41-.59l7.78-7.78 2.81-2.81c.8-.78.8-2.07 0-2.86zM5.41 20L4 18.59l7.72-7.72 1.47 1.35L5.41 20z\"/>\n",
              "  </svg>\n",
              "      </button>\n",
              "      \n",
              "  <style>\n",
              "    .colab-df-container {\n",
              "      display:flex;\n",
              "      flex-wrap:wrap;\n",
              "      gap: 12px;\n",
              "    }\n",
              "\n",
              "    .colab-df-convert {\n",
              "      background-color: #E8F0FE;\n",
              "      border: none;\n",
              "      border-radius: 50%;\n",
              "      cursor: pointer;\n",
              "      display: none;\n",
              "      fill: #1967D2;\n",
              "      height: 32px;\n",
              "      padding: 0 0 0 0;\n",
              "      width: 32px;\n",
              "    }\n",
              "\n",
              "    .colab-df-convert:hover {\n",
              "      background-color: #E2EBFA;\n",
              "      box-shadow: 0px 1px 2px rgba(60, 64, 67, 0.3), 0px 1px 3px 1px rgba(60, 64, 67, 0.15);\n",
              "      fill: #174EA6;\n",
              "    }\n",
              "\n",
              "    [theme=dark] .colab-df-convert {\n",
              "      background-color: #3B4455;\n",
              "      fill: #D2E3FC;\n",
              "    }\n",
              "\n",
              "    [theme=dark] .colab-df-convert:hover {\n",
              "      background-color: #434B5C;\n",
              "      box-shadow: 0px 1px 3px 1px rgba(0, 0, 0, 0.15);\n",
              "      filter: drop-shadow(0px 1px 2px rgba(0, 0, 0, 0.3));\n",
              "      fill: #FFFFFF;\n",
              "    }\n",
              "  </style>\n",
              "\n",
              "      <script>\n",
              "        const buttonEl =\n",
              "          document.querySelector('#df-cbf1df67-c0e9-4abf-b1cc-cc05e955fc25 button.colab-df-convert');\n",
              "        buttonEl.style.display =\n",
              "          google.colab.kernel.accessAllowed ? 'block' : 'none';\n",
              "\n",
              "        async function convertToInteractive(key) {\n",
              "          const element = document.querySelector('#df-cbf1df67-c0e9-4abf-b1cc-cc05e955fc25');\n",
              "          const dataTable =\n",
              "            await google.colab.kernel.invokeFunction('convertToInteractive',\n",
              "                                                     [key], {});\n",
              "          if (!dataTable) return;\n",
              "\n",
              "          const docLinkHtml = 'Like what you see? Visit the ' +\n",
              "            '<a target=\"_blank\" href=https://colab.research.google.com/notebooks/data_table.ipynb>data table notebook</a>'\n",
              "            + ' to learn more about interactive tables.';\n",
              "          element.innerHTML = '';\n",
              "          dataTable['output_type'] = 'display_data';\n",
              "          await google.colab.output.renderOutput(dataTable, element);\n",
              "          const docLink = document.createElement('div');\n",
              "          docLink.innerHTML = docLinkHtml;\n",
              "          element.appendChild(docLink);\n",
              "        }\n",
              "      </script>\n",
              "    </div>\n",
              "  </div>\n",
              "  "
            ]
          },
          "metadata": {},
          "execution_count": 6
        }
      ]
    },
    {
      "cell_type": "code",
      "source": [
        "X = dataset.iloc[:, 1:].values\n",
        "y = dataset.iloc[:, 0].values"
      ],
      "metadata": {
        "id": "pIk5rAA7iOfS"
      },
      "execution_count": 7,
      "outputs": []
    },
    {
      "cell_type": "code",
      "metadata": {
        "id": "-T0Q43fAxtNW",
        "colab": {
          "base_uri": "https://localhost:8080/"
        },
        "outputId": "69dafc1c-c8d2-45a4-a94b-7e90b834cdcc"
      },
      "source": [
        "# Standardize features by removing the mean and scaling to unit variance\n",
        "sc = StandardScaler()\n",
        "scaled_data = sc.fit_transform(dataset)\n",
        "scaled_data"
      ],
      "execution_count": 8,
      "outputs": [
        {
          "output_type": "execute_result",
          "data": {
            "text/plain": [
              "array([[ 1.29767572,  1.09706398, -2.07333501, ...,  2.29607613,\n",
              "         2.75062224,  1.93701461],\n",
              "       [ 1.29767572,  1.82982061, -0.35363241, ...,  1.0870843 ,\n",
              "        -0.24388967,  0.28118999],\n",
              "       [ 1.29767572,  1.57988811,  0.45618695, ...,  1.95500035,\n",
              "         1.152255  ,  0.20139121],\n",
              "       ...,\n",
              "       [ 1.29767572,  0.70228425,  2.0455738 , ...,  0.41406869,\n",
              "        -1.10454895, -0.31840916],\n",
              "       [ 1.29767572,  1.83834103,  2.33645719, ...,  2.28998549,\n",
              "         1.91908301,  2.21963528],\n",
              "       [-0.77060855, -1.80840125,  1.22179204, ..., -1.74506282,\n",
              "        -0.04813821, -0.75120669]])"
            ]
          },
          "metadata": {},
          "execution_count": 8
        }
      ]
    },
    {
      "cell_type": "code",
      "metadata": {
        "id": "yt64olkkHwft"
      },
      "source": [
        "# splitting train and test data\n",
        "X_train, X_test, Y_train, Y_test = train_test_split(X, y, test_size=0.25, random_state=42)"
      ],
      "execution_count": 9,
      "outputs": []
    },
    {
      "cell_type": "code",
      "source": [
        "# checking train data shape\n",
        "print(X_train.shape)"
      ],
      "metadata": {
        "colab": {
          "base_uri": "https://localhost:8080/"
        },
        "id": "WLv4xOYkoYGt",
        "outputId": "03c5b986-8f4e-4316-bca5-761cf72f13c7"
      },
      "execution_count": 10,
      "outputs": [
        {
          "output_type": "stream",
          "name": "stdout",
          "text": [
            "(426, 30)\n"
          ]
        }
      ]
    },
    {
      "cell_type": "markdown",
      "source": [
        "## a. Add more Dense layers to the existing code and check how the accuracy changes."
      ],
      "metadata": {
        "id": "KwiT2nfoT_SC"
      }
    },
    {
      "cell_type": "code",
      "metadata": {
        "id": "rMfomxTmH3ww",
        "colab": {
          "base_uri": "https://localhost:8080/"
        },
        "outputId": "22c94ab1-0a04-41ed-f0dd-31b25e14831d"
      },
      "source": [
        "model = keras.Sequential() # create model\n",
        "model.add(layers.Dense(32, input_dim=30, activation='relu')) # Input layer\n",
        "model.add(layers.Dense(64, activation='relu')) # hidden layer\n",
        "model.add(layers.Dense(1, activation='sigmoid')) # output layer\n",
        "model.compile(loss='binary_crossentropy', optimizer='adam', metrics=['accuracy'])\n",
        "model.summary()"
      ],
      "execution_count": 11,
      "outputs": [
        {
          "output_type": "stream",
          "name": "stdout",
          "text": [
            "Model: \"sequential\"\n",
            "_________________________________________________________________\n",
            " Layer (type)                Output Shape              Param #   \n",
            "=================================================================\n",
            " dense (Dense)               (None, 32)                992       \n",
            "                                                                 \n",
            " dense_1 (Dense)             (None, 64)                2112      \n",
            "                                                                 \n",
            " dense_2 (Dense)             (None, 1)                 65        \n",
            "                                                                 \n",
            "=================================================================\n",
            "Total params: 3,169\n",
            "Trainable params: 3,169\n",
            "Non-trainable params: 0\n",
            "_________________________________________________________________\n"
          ]
        }
      ]
    },
    {
      "cell_type": "markdown",
      "source": [
        "## b. Add the validation_data=(X_test, Y_test) attribute to .fit() method."
      ],
      "metadata": {
        "id": "wses71AeUEP5"
      }
    },
    {
      "cell_type": "code",
      "metadata": {
        "id": "2PdPpP7fK-TD",
        "colab": {
          "base_uri": "https://localhost:8080/"
        },
        "outputId": "ab2c9871-3434-4d9f-aadd-994bad8d0c23"
      },
      "source": [
        "# fitting model and validating with test data\n",
        "nn_fitted = model.fit(X_train, Y_train, epochs=100, validation_data=(X_test, Y_test), shuffle=True)"
      ],
      "execution_count": 12,
      "outputs": [
        {
          "output_type": "stream",
          "name": "stdout",
          "text": [
            "Epoch 1/100\n",
            "14/14 [==============================] - 2s 40ms/step - loss: 3.9844 - accuracy: 0.5164 - val_loss: 1.4066 - val_accuracy: 0.7413\n",
            "Epoch 2/100\n",
            "14/14 [==============================] - 0s 10ms/step - loss: 0.7250 - accuracy: 0.7911 - val_loss: 0.3008 - val_accuracy: 0.8951\n",
            "Epoch 3/100\n",
            "14/14 [==============================] - 0s 14ms/step - loss: 0.3750 - accuracy: 0.8756 - val_loss: 0.2081 - val_accuracy: 0.9301\n",
            "Epoch 4/100\n",
            "14/14 [==============================] - 0s 17ms/step - loss: 0.3589 - accuracy: 0.8732 - val_loss: 0.2072 - val_accuracy: 0.9231\n",
            "Epoch 5/100\n",
            "14/14 [==============================] - 0s 15ms/step - loss: 0.5852 - accuracy: 0.8521 - val_loss: 0.3251 - val_accuracy: 0.9161\n",
            "Epoch 6/100\n",
            "14/14 [==============================] - 0s 19ms/step - loss: 0.6731 - accuracy: 0.8239 - val_loss: 0.9463 - val_accuracy: 0.7063\n",
            "Epoch 7/100\n",
            "14/14 [==============================] - 0s 12ms/step - loss: 0.7103 - accuracy: 0.8075 - val_loss: 0.2067 - val_accuracy: 0.9161\n",
            "Epoch 8/100\n",
            "14/14 [==============================] - 0s 11ms/step - loss: 0.3909 - accuracy: 0.8826 - val_loss: 0.1689 - val_accuracy: 0.9510\n",
            "Epoch 9/100\n",
            "14/14 [==============================] - 0s 18ms/step - loss: 0.3191 - accuracy: 0.8944 - val_loss: 0.2491 - val_accuracy: 0.9091\n",
            "Epoch 10/100\n",
            "14/14 [==============================] - 0s 17ms/step - loss: 0.4442 - accuracy: 0.8662 - val_loss: 0.2784 - val_accuracy: 0.9091\n",
            "Epoch 11/100\n",
            "14/14 [==============================] - 0s 15ms/step - loss: 0.3554 - accuracy: 0.8920 - val_loss: 0.1523 - val_accuracy: 0.9510\n",
            "Epoch 12/100\n",
            "14/14 [==============================] - 0s 15ms/step - loss: 0.3020 - accuracy: 0.9038 - val_loss: 0.1404 - val_accuracy: 0.9510\n",
            "Epoch 13/100\n",
            "14/14 [==============================] - 0s 11ms/step - loss: 0.2779 - accuracy: 0.8967 - val_loss: 0.1495 - val_accuracy: 0.9301\n",
            "Epoch 14/100\n",
            "14/14 [==============================] - 0s 14ms/step - loss: 0.2573 - accuracy: 0.9085 - val_loss: 0.1497 - val_accuracy: 0.9510\n",
            "Epoch 15/100\n",
            "14/14 [==============================] - 0s 14ms/step - loss: 0.2900 - accuracy: 0.9014 - val_loss: 0.1543 - val_accuracy: 0.9301\n",
            "Epoch 16/100\n",
            "14/14 [==============================] - 0s 24ms/step - loss: 0.2727 - accuracy: 0.9061 - val_loss: 0.1412 - val_accuracy: 0.9580\n",
            "Epoch 17/100\n",
            "14/14 [==============================] - 0s 17ms/step - loss: 0.2759 - accuracy: 0.9014 - val_loss: 0.1206 - val_accuracy: 0.9510\n",
            "Epoch 18/100\n",
            "14/14 [==============================] - 0s 16ms/step - loss: 0.2970 - accuracy: 0.9014 - val_loss: 0.1219 - val_accuracy: 0.9441\n",
            "Epoch 19/100\n",
            "14/14 [==============================] - 0s 21ms/step - loss: 0.2614 - accuracy: 0.9085 - val_loss: 0.2765 - val_accuracy: 0.9091\n",
            "Epoch 20/100\n",
            "14/14 [==============================] - 0s 20ms/step - loss: 0.3410 - accuracy: 0.8967 - val_loss: 0.1750 - val_accuracy: 0.9231\n",
            "Epoch 21/100\n",
            "14/14 [==============================] - 0s 14ms/step - loss: 0.3841 - accuracy: 0.8873 - val_loss: 0.4586 - val_accuracy: 0.8182\n",
            "Epoch 22/100\n",
            "14/14 [==============================] - 0s 14ms/step - loss: 0.3193 - accuracy: 0.8803 - val_loss: 0.2364 - val_accuracy: 0.9161\n",
            "Epoch 23/100\n",
            "14/14 [==============================] - 0s 14ms/step - loss: 0.3217 - accuracy: 0.8991 - val_loss: 0.1380 - val_accuracy: 0.9510\n",
            "Epoch 24/100\n",
            "14/14 [==============================] - 0s 12ms/step - loss: 0.2942 - accuracy: 0.9131 - val_loss: 0.1158 - val_accuracy: 0.9371\n",
            "Epoch 25/100\n",
            "14/14 [==============================] - 0s 20ms/step - loss: 0.3338 - accuracy: 0.8685 - val_loss: 0.1133 - val_accuracy: 0.9580\n",
            "Epoch 26/100\n",
            "14/14 [==============================] - 0s 22ms/step - loss: 0.2441 - accuracy: 0.9061 - val_loss: 0.1063 - val_accuracy: 0.9510\n",
            "Epoch 27/100\n",
            "14/14 [==============================] - 0s 16ms/step - loss: 0.2748 - accuracy: 0.9038 - val_loss: 0.1316 - val_accuracy: 0.9371\n",
            "Epoch 28/100\n",
            "14/14 [==============================] - 0s 12ms/step - loss: 0.2938 - accuracy: 0.9178 - val_loss: 0.1278 - val_accuracy: 0.9371\n",
            "Epoch 29/100\n",
            "14/14 [==============================] - 0s 17ms/step - loss: 0.2213 - accuracy: 0.9249 - val_loss: 0.2273 - val_accuracy: 0.9161\n",
            "Epoch 30/100\n",
            "14/14 [==============================] - 0s 22ms/step - loss: 0.3336 - accuracy: 0.8803 - val_loss: 0.1154 - val_accuracy: 0.9650\n",
            "Epoch 31/100\n",
            "14/14 [==============================] - 0s 16ms/step - loss: 0.3074 - accuracy: 0.8803 - val_loss: 0.5423 - val_accuracy: 0.7972\n",
            "Epoch 32/100\n",
            "14/14 [==============================] - 0s 10ms/step - loss: 0.6861 - accuracy: 0.8052 - val_loss: 0.4116 - val_accuracy: 0.9021\n",
            "Epoch 33/100\n",
            "14/14 [==============================] - 0s 7ms/step - loss: 0.4121 - accuracy: 0.8545 - val_loss: 0.3655 - val_accuracy: 0.8671\n",
            "Epoch 34/100\n",
            "14/14 [==============================] - 0s 10ms/step - loss: 0.3586 - accuracy: 0.8826 - val_loss: 0.3007 - val_accuracy: 0.9021\n",
            "Epoch 35/100\n",
            "14/14 [==============================] - 0s 23ms/step - loss: 0.3213 - accuracy: 0.8991 - val_loss: 0.2063 - val_accuracy: 0.9231\n",
            "Epoch 36/100\n",
            "14/14 [==============================] - 0s 19ms/step - loss: 0.2180 - accuracy: 0.9178 - val_loss: 0.1191 - val_accuracy: 0.9301\n",
            "Epoch 37/100\n",
            "14/14 [==============================] - 0s 14ms/step - loss: 0.2199 - accuracy: 0.9085 - val_loss: 0.1451 - val_accuracy: 0.9231\n",
            "Epoch 38/100\n",
            "14/14 [==============================] - 0s 14ms/step - loss: 0.2256 - accuracy: 0.9272 - val_loss: 0.1577 - val_accuracy: 0.9371\n",
            "Epoch 39/100\n",
            "14/14 [==============================] - 0s 15ms/step - loss: 0.2689 - accuracy: 0.9155 - val_loss: 0.2938 - val_accuracy: 0.8811\n",
            "Epoch 40/100\n",
            "14/14 [==============================] - 0s 15ms/step - loss: 0.3563 - accuracy: 0.8756 - val_loss: 0.4023 - val_accuracy: 0.9021\n",
            "Epoch 41/100\n",
            "14/14 [==============================] - 0s 17ms/step - loss: 0.7073 - accuracy: 0.8146 - val_loss: 0.2033 - val_accuracy: 0.9231\n",
            "Epoch 42/100\n",
            "14/14 [==============================] - 0s 15ms/step - loss: 0.3462 - accuracy: 0.8709 - val_loss: 0.0920 - val_accuracy: 0.9650\n",
            "Epoch 43/100\n",
            "14/14 [==============================] - 0s 14ms/step - loss: 0.2512 - accuracy: 0.9108 - val_loss: 0.1782 - val_accuracy: 0.9301\n",
            "Epoch 44/100\n",
            "14/14 [==============================] - 0s 16ms/step - loss: 0.2022 - accuracy: 0.9296 - val_loss: 0.1869 - val_accuracy: 0.9161\n",
            "Epoch 45/100\n",
            "14/14 [==============================] - 0s 14ms/step - loss: 0.2806 - accuracy: 0.9131 - val_loss: 0.0938 - val_accuracy: 0.9580\n",
            "Epoch 46/100\n",
            "14/14 [==============================] - 0s 16ms/step - loss: 0.3006 - accuracy: 0.9061 - val_loss: 0.1755 - val_accuracy: 0.9371\n",
            "Epoch 47/100\n",
            "14/14 [==============================] - 0s 16ms/step - loss: 0.2319 - accuracy: 0.9272 - val_loss: 0.1056 - val_accuracy: 0.9580\n",
            "Epoch 48/100\n",
            "14/14 [==============================] - 0s 17ms/step - loss: 0.2133 - accuracy: 0.9225 - val_loss: 0.2241 - val_accuracy: 0.8881\n",
            "Epoch 49/100\n",
            "14/14 [==============================] - 0s 11ms/step - loss: 0.2032 - accuracy: 0.9249 - val_loss: 0.5032 - val_accuracy: 0.8322\n",
            "Epoch 50/100\n",
            "14/14 [==============================] - 0s 18ms/step - loss: 0.3130 - accuracy: 0.8873 - val_loss: 0.5750 - val_accuracy: 0.8741\n",
            "Epoch 51/100\n",
            "14/14 [==============================] - 0s 13ms/step - loss: 0.3952 - accuracy: 0.8850 - val_loss: 0.5211 - val_accuracy: 0.8182\n",
            "Epoch 52/100\n",
            "14/14 [==============================] - 0s 14ms/step - loss: 0.3264 - accuracy: 0.8803 - val_loss: 0.1010 - val_accuracy: 0.9510\n",
            "Epoch 53/100\n",
            "14/14 [==============================] - 0s 17ms/step - loss: 0.2345 - accuracy: 0.9319 - val_loss: 0.1484 - val_accuracy: 0.9371\n",
            "Epoch 54/100\n",
            "14/14 [==============================] - 0s 13ms/step - loss: 0.2292 - accuracy: 0.9131 - val_loss: 0.1296 - val_accuracy: 0.9301\n",
            "Epoch 55/100\n",
            "14/14 [==============================] - 0s 11ms/step - loss: 0.2564 - accuracy: 0.9225 - val_loss: 0.2987 - val_accuracy: 0.9091\n",
            "Epoch 56/100\n",
            "14/14 [==============================] - 0s 22ms/step - loss: 0.2471 - accuracy: 0.9155 - val_loss: 0.1466 - val_accuracy: 0.9371\n",
            "Epoch 57/100\n",
            "14/14 [==============================] - 0s 19ms/step - loss: 0.2454 - accuracy: 0.9131 - val_loss: 0.2445 - val_accuracy: 0.8811\n",
            "Epoch 58/100\n",
            "14/14 [==============================] - 0s 17ms/step - loss: 0.2391 - accuracy: 0.9131 - val_loss: 0.0909 - val_accuracy: 0.9580\n",
            "Epoch 59/100\n",
            "14/14 [==============================] - 0s 21ms/step - loss: 0.1940 - accuracy: 0.9225 - val_loss: 0.1056 - val_accuracy: 0.9580\n",
            "Epoch 60/100\n",
            "14/14 [==============================] - 0s 20ms/step - loss: 0.2035 - accuracy: 0.9225 - val_loss: 0.1074 - val_accuracy: 0.9510\n",
            "Epoch 61/100\n",
            "14/14 [==============================] - 0s 17ms/step - loss: 0.1883 - accuracy: 0.9296 - val_loss: 0.1151 - val_accuracy: 0.9441\n",
            "Epoch 62/100\n",
            "14/14 [==============================] - 0s 14ms/step - loss: 0.1880 - accuracy: 0.9249 - val_loss: 0.0934 - val_accuracy: 0.9510\n",
            "Epoch 63/100\n",
            "14/14 [==============================] - 0s 20ms/step - loss: 0.2466 - accuracy: 0.9108 - val_loss: 0.2289 - val_accuracy: 0.9021\n",
            "Epoch 64/100\n",
            "14/14 [==============================] - 0s 13ms/step - loss: 0.2256 - accuracy: 0.9178 - val_loss: 0.2357 - val_accuracy: 0.9161\n",
            "Epoch 65/100\n",
            "14/14 [==============================] - 0s 14ms/step - loss: 0.4689 - accuracy: 0.8638 - val_loss: 0.5682 - val_accuracy: 0.7832\n",
            "Epoch 66/100\n",
            "14/14 [==============================] - 0s 16ms/step - loss: 0.3439 - accuracy: 0.8944 - val_loss: 0.0930 - val_accuracy: 0.9580\n",
            "Epoch 67/100\n",
            "14/14 [==============================] - 0s 16ms/step - loss: 0.1879 - accuracy: 0.9249 - val_loss: 0.0984 - val_accuracy: 0.9510\n",
            "Epoch 68/100\n",
            "14/14 [==============================] - 0s 19ms/step - loss: 0.2032 - accuracy: 0.9319 - val_loss: 0.2455 - val_accuracy: 0.8741\n",
            "Epoch 69/100\n",
            "14/14 [==============================] - 0s 14ms/step - loss: 0.2101 - accuracy: 0.9225 - val_loss: 0.1141 - val_accuracy: 0.9510\n",
            "Epoch 70/100\n",
            "14/14 [==============================] - 0s 16ms/step - loss: 0.1759 - accuracy: 0.9319 - val_loss: 0.0938 - val_accuracy: 0.9650\n",
            "Epoch 71/100\n",
            "14/14 [==============================] - 0s 11ms/step - loss: 0.2283 - accuracy: 0.9155 - val_loss: 0.1016 - val_accuracy: 0.9580\n",
            "Epoch 72/100\n",
            "14/14 [==============================] - 0s 12ms/step - loss: 0.2020 - accuracy: 0.9272 - val_loss: 0.0998 - val_accuracy: 0.9580\n",
            "Epoch 73/100\n",
            "14/14 [==============================] - 0s 13ms/step - loss: 0.2029 - accuracy: 0.9225 - val_loss: 0.1239 - val_accuracy: 0.9441\n",
            "Epoch 74/100\n",
            "14/14 [==============================] - 0s 12ms/step - loss: 0.1697 - accuracy: 0.9366 - val_loss: 0.1509 - val_accuracy: 0.9301\n",
            "Epoch 75/100\n",
            "14/14 [==============================] - 0s 14ms/step - loss: 0.2221 - accuracy: 0.9155 - val_loss: 0.1028 - val_accuracy: 0.9580\n",
            "Epoch 76/100\n",
            "14/14 [==============================] - 0s 21ms/step - loss: 0.1767 - accuracy: 0.9225 - val_loss: 0.1537 - val_accuracy: 0.9301\n",
            "Epoch 77/100\n",
            "14/14 [==============================] - 0s 21ms/step - loss: 0.2285 - accuracy: 0.9085 - val_loss: 0.1137 - val_accuracy: 0.9510\n",
            "Epoch 78/100\n",
            "14/14 [==============================] - 0s 21ms/step - loss: 0.3618 - accuracy: 0.8779 - val_loss: 0.0946 - val_accuracy: 0.9580\n",
            "Epoch 79/100\n",
            "14/14 [==============================] - 0s 15ms/step - loss: 0.5058 - accuracy: 0.8122 - val_loss: 0.2049 - val_accuracy: 0.9231\n",
            "Epoch 80/100\n",
            "14/14 [==============================] - 0s 12ms/step - loss: 0.3919 - accuracy: 0.8873 - val_loss: 0.0853 - val_accuracy: 0.9650\n",
            "Epoch 81/100\n",
            "14/14 [==============================] - 0s 17ms/step - loss: 0.4751 - accuracy: 0.8545 - val_loss: 0.0835 - val_accuracy: 0.9650\n",
            "Epoch 82/100\n",
            "14/14 [==============================] - 0s 15ms/step - loss: 0.2912 - accuracy: 0.9061 - val_loss: 0.3247 - val_accuracy: 0.9091\n",
            "Epoch 83/100\n",
            "14/14 [==============================] - 0s 17ms/step - loss: 0.2985 - accuracy: 0.9014 - val_loss: 0.0904 - val_accuracy: 0.9580\n",
            "Epoch 84/100\n",
            "14/14 [==============================] - 0s 12ms/step - loss: 0.2167 - accuracy: 0.9202 - val_loss: 0.0848 - val_accuracy: 0.9650\n",
            "Epoch 85/100\n",
            "14/14 [==============================] - 0s 14ms/step - loss: 0.2272 - accuracy: 0.9178 - val_loss: 0.1374 - val_accuracy: 0.9371\n",
            "Epoch 86/100\n",
            "14/14 [==============================] - 0s 16ms/step - loss: 0.1832 - accuracy: 0.9319 - val_loss: 0.0885 - val_accuracy: 0.9650\n",
            "Epoch 87/100\n",
            "14/14 [==============================] - 0s 14ms/step - loss: 0.2014 - accuracy: 0.9225 - val_loss: 0.1610 - val_accuracy: 0.9161\n",
            "Epoch 88/100\n",
            "14/14 [==============================] - 0s 16ms/step - loss: 0.2056 - accuracy: 0.9085 - val_loss: 0.0844 - val_accuracy: 0.9720\n",
            "Epoch 89/100\n",
            "14/14 [==============================] - 0s 17ms/step - loss: 0.2151 - accuracy: 0.9225 - val_loss: 0.0969 - val_accuracy: 0.9580\n",
            "Epoch 90/100\n",
            "14/14 [==============================] - 0s 15ms/step - loss: 0.2054 - accuracy: 0.9178 - val_loss: 0.1177 - val_accuracy: 0.9510\n",
            "Epoch 91/100\n",
            "14/14 [==============================] - 0s 13ms/step - loss: 0.1913 - accuracy: 0.9366 - val_loss: 0.2849 - val_accuracy: 0.9161\n",
            "Epoch 92/100\n",
            "14/14 [==============================] - 0s 15ms/step - loss: 0.2961 - accuracy: 0.8920 - val_loss: 0.1045 - val_accuracy: 0.9510\n",
            "Epoch 93/100\n",
            "14/14 [==============================] - 0s 18ms/step - loss: 0.1820 - accuracy: 0.9272 - val_loss: 0.2182 - val_accuracy: 0.9021\n",
            "Epoch 94/100\n",
            "14/14 [==============================] - 0s 15ms/step - loss: 0.2152 - accuracy: 0.9108 - val_loss: 0.0876 - val_accuracy: 0.9580\n",
            "Epoch 95/100\n",
            "14/14 [==============================] - 0s 17ms/step - loss: 0.1683 - accuracy: 0.9296 - val_loss: 0.1128 - val_accuracy: 0.9580\n",
            "Epoch 96/100\n",
            "14/14 [==============================] - 0s 14ms/step - loss: 0.1905 - accuracy: 0.9272 - val_loss: 0.1484 - val_accuracy: 0.9301\n",
            "Epoch 97/100\n",
            "14/14 [==============================] - 0s 15ms/step - loss: 0.2692 - accuracy: 0.9038 - val_loss: 0.2660 - val_accuracy: 0.8811\n",
            "Epoch 98/100\n",
            "14/14 [==============================] - 0s 18ms/step - loss: 0.2285 - accuracy: 0.9108 - val_loss: 0.0867 - val_accuracy: 0.9650\n",
            "Epoch 99/100\n",
            "14/14 [==============================] - 0s 25ms/step - loss: 0.1687 - accuracy: 0.9366 - val_loss: 0.1056 - val_accuracy: 0.9510\n",
            "Epoch 100/100\n",
            "14/14 [==============================] - 0s 7ms/step - loss: 0.1935 - accuracy: 0.9272 - val_loss: 0.1003 - val_accuracy: 0.9720\n"
          ]
        }
      ]
    },
    {
      "cell_type": "markdown",
      "source": [
        "## c. Plot the accuracy for training and validation (one plot for both: train and test accuracy)."
      ],
      "metadata": {
        "id": "E0BLvKjpUNFR"
      }
    },
    {
      "cell_type": "code",
      "source": [
        "# plotting history for accuracy\n",
        "import matplotlib.pyplot as plt\n",
        "plt.plot(nn_fitted.history['accuracy'])\n",
        "plt.plot(nn_fitted.history['val_accuracy'])\n",
        "plt.title('Model accuracy')\n",
        "plt.ylabel('Accuracy')\n",
        "plt.xlabel('Epoch')\n",
        "plt.legend(['train', 'test'], loc='upper left')\n",
        "plt.show()"
      ],
      "metadata": {
        "colab": {
          "base_uri": "https://localhost:8080/",
          "height": 315
        },
        "id": "eeXRy9517cRo",
        "outputId": "1bb0d454-0b8c-401b-f096-7447006cead6"
      },
      "execution_count": 13,
      "outputs": [
        {
          "output_type": "display_data",
          "data": {
            "text/plain": [
              "<Figure size 432x288 with 1 Axes>"
            ],
            "image/png": "[encoded data removed]"
          },
          "metadata": {
            "needs_background": "light"
          }
        }
      ]
    },
    {
      "cell_type": "markdown",
      "source": [
        "## d. Plot the loss for training and validation (one plot for both: train and test loss)."
      ],
      "metadata": {
        "id": "yCyBpE22UPNt"
      }
    },
    {
      "cell_type": "code",
      "source": [
        "# plotting history for loss\n",
        "plt.plot(nn_fitted.history['loss'])\n",
        "plt.plot(nn_fitted.history['val_loss'])\n",
        "plt.title('Model loss')\n",
        "plt.ylabel('Loss')\n",
        "plt.xlabel('Epoch')\n",
        "plt.legend(['train', 'test'], loc='upper right')\n",
        "plt.show()"
      ],
      "metadata": {
        "colab": {
          "base_uri": "https://localhost:8080/",
          "height": 315
        },
        "id": "ImUByfjH_qfz",
        "outputId": "0407756d-a7e1-4a66-df41-2ad136406040"
      },
      "execution_count": 14,
      "outputs": [
        {
          "output_type": "display_data",
          "data": {
            "text/plain": [
              "<Figure size 432x288 with 1 Axes>"
            ],
            "image/png": "[encoded data removed]"
          },
          "metadata": {
            "needs_background": "light"
          }
        }
      ]
    },
    {
      "cell_type": "code",
      "metadata": {
        "id": "EBYPua9zH-E6",
        "colab": {
          "base_uri": "https://localhost:8080/"
        },
        "outputId": "6567b7fc-c2b4-4e02-bad7-9cdacff714b3"
      },
      "source": [
        "# getting test score from data before normalization and print\n",
        "scores_test = model.evaluate(X_test, Y_test)\n",
        "print(f'Loss score for test data: {scores_test}')"
      ],
      "execution_count": 15,
      "outputs": [
        {
          "output_type": "stream",
          "name": "stdout",
          "text": [
            "5/5 [==============================] - 0s 4ms/step - loss: 0.1003 - accuracy: 0.9720\n",
            "Loss score for test data: [0.10030106455087662, 0.9720279574394226]\n"
          ]
        }
      ]
    },
    {
      "cell_type": "markdown",
      "source": [
        "## e. Normalize the data before feeding to the model and check how the normalization changes your accuracy sue the StandardScaler() from scikit learn."
      ],
      "metadata": {
        "id": "GuiNS72He0F-"
      }
    },
    {
      "cell_type": "code",
      "source": [
        "# splitting train and test data from normalized dataset\n",
        "X_train, X_test, Y_train, Y_test = train_test_split(scaled_data[:,1:], scaled_data[:,0], test_size=0.25, random_state=42)"
      ],
      "metadata": {
        "id": "2I2y8LABerfa"
      },
      "execution_count": 21,
      "outputs": []
    },
    {
      "cell_type": "code",
      "source": [
        "# getting test score from data after normalization and print\n",
        "scores_test = model.evaluate(X_test, Y_test)\n",
        "print(f'Loss score for test data: {scores_test}')"
      ],
      "metadata": {
        "colab": {
          "base_uri": "https://localhost:8080/"
        },
        "id": "7oO8rpTme5gT",
        "outputId": "836a2bc5-784c-48f6-9ba9-90ae1c902499"
      },
      "execution_count": 20,
      "outputs": [
        {
          "output_type": "stream",
          "name": "stdout",
          "text": [
            "5/5 [==============================] - 0s 4ms/step - loss: -0.0415 - accuracy: 0.0000e+00\n",
            "Loss score for test data: [-0.04150223731994629, 0.0]\n"
          ]
        }
      ]
    },
    {
      "cell_type": "markdown",
      "source": [
        ""
      ],
      "metadata": {
        "id": "kH2IFD0AetYw"
      }
    }
  ]
}