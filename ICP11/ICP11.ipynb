{
  "nbformat": 4,
  "nbformat_minor": 0,
  "metadata": {
    "colab": {
      "name": "ICP111.ipynb",
      "provenance": [],
      "collapsed_sections": []
    },
    "kernelspec": {
      "name": "python3",
      "display_name": "Python 3"
    },
    "accelerator": "GPU"
  },
  "cells": [
    {
      "cell_type": "markdown",
      "source": [
        "**Remember From the Top Menu Click on Runtime -> Change Runtime type -> then Choose GPU to accelerate the learning.**"
      ],
      "metadata": {
        "id": "B0zRN7Sm9Ab1"
      }
    },
    {
      "cell_type": "code",
      "metadata": {
        "id": "YCGsF9irW4Cz",
        "colab": {
          "base_uri": "https://localhost:8080/"
        },
        "outputId": "ff4a21ca-d6f6-4477-cec1-80afa7fd9444"
      },
      "source": [
        "from keras.models import Sequential\n",
        "from keras import layers\n",
        "from keras.layers import Embedding,Flatten\n",
        "from keras.preprocessing.text import Tokenizer\n",
        "from keras.preprocessing.sequence import pad_sequences\n",
        "from tensorflow.keras.layers import Dense, Dropout, Flatten,Conv1D,MaxPooling1D\n",
        "from sklearn.datasets import fetch_20newsgroups\n",
        "import matplotlib.pyplot as plt\n",
        "import pandas as pd\n",
        "from sklearn import preprocessing\n",
        "from sklearn.model_selection import train_test_split\n",
        "import numpy as np\n",
        "from string import punctuation\n",
        "import nltk\n",
        "from nltk.corpus import stopwords\n",
        "from nltk import word_tokenize\n",
        "from textblob import Word \n",
        "nltk.download('punkt')\n",
        "nltk.download('stopwords')\n",
        "nltk.download('wordnet')"
      ],
      "execution_count": 100,
      "outputs": [
        {
          "output_type": "stream",
          "name": "stdout",
          "text": [
            "[nltk_data] Downloading package punkt to /root/nltk_data...\n",
            "[nltk_data]   Package punkt is already up-to-date!\n",
            "[nltk_data] Downloading package stopwords to /root/nltk_data...\n",
            "[nltk_data]   Package stopwords is already up-to-date!\n",
            "[nltk_data] Downloading package wordnet to /root/nltk_data...\n",
            "[nltk_data]   Package wordnet is already up-to-date!\n"
          ]
        },
        {
          "output_type": "execute_result",
          "data": {
            "text/plain": [
              "True"
            ]
          },
          "metadata": {},
          "execution_count": 100
        }
      ]
    },
    {
      "cell_type": "code",
      "source": [
        "#connecting to google drive to mount drive\n",
        "from google.colab import drive\n",
        "drive.mount('/content/drive')"
      ],
      "metadata": {
        "id": "kn23PUg9WmN3",
        "colab": {
          "base_uri": "https://localhost:8080/"
        },
        "outputId": "90ec2dcb-c997-4209-dae9-88f68b960780"
      },
      "execution_count": 101,
      "outputs": [
        {
          "output_type": "stream",
          "name": "stdout",
          "text": [
            "Drive already mounted at /content/drive; to attempt to forcibly remount, call drive.mount(\"/content/drive\", force_remount=True).\n"
          ]
        }
      ]
    },
    {
      "cell_type": "code",
      "metadata": {
        "id": "MNaC3jEBW9dw",
        "colab": {
          "base_uri": "https://localhost:8080/",
          "height": 206
        },
        "outputId": "8b8740e7-66de-48b0-e699-7558cf681d14"
      },
      "source": [
        "#reading from the csv to create the dataframe\n",
        "df = pd.read_csv('/content/drive/MyDrive/Data/imdb_master.csv',encoding='latin-1')\n",
        "#displaying first few rows\n",
        "df.head()"
      ],
      "execution_count": 114,
      "outputs": [
        {
          "output_type": "execute_result",
          "data": {
            "text/plain": [
              "   Unnamed: 0  type                                             review label  \\\n",
              "0           0  test  Once again Mr. Costner has dragged out a movie...   neg   \n",
              "1           1  test  This is an example of why the majority of acti...   neg   \n",
              "2           2  test  First of all I hate those moronic rappers, who...   neg   \n",
              "3           3  test  Not even the Beatles could write songs everyon...   neg   \n",
              "4           4  test  Brass pictures (movies is not a fitting word f...   neg   \n",
              "\n",
              "          file  \n",
              "0      0_2.txt  \n",
              "1  10000_4.txt  \n",
              "2  10001_1.txt  \n",
              "3  10002_3.txt  \n",
              "4  10003_3.txt  "
            ],
            "text/html": [
              "\n",
              "  <div id=\"df-d410bc8a-abdd-4b3f-8a2e-c9339156fbd4\">\n",
              "    <div class=\"colab-df-container\">\n",
              "      <div>\n",
              "<style scoped>\n",
              "    .dataframe tbody tr th:only-of-type {\n",
              "        vertical-align: middle;\n",
              "    }\n",
              "\n",
              "    .dataframe tbody tr th {\n",
              "        vertical-align: top;\n",
              "    }\n",
              "\n",
              "    .dataframe thead th {\n",
              "        text-align: right;\n",
              "    }\n",
              "</style>\n",
              "<table border=\"1\" class=\"dataframe\">\n",
              "  <thead>\n",
              "    <tr style=\"text-align: right;\">\n",
              "      <th></th>\n",
              "      <th>Unnamed: 0</th>\n",
              "      <th>type</th>\n",
              "      <th>review</th>\n",
              "      <th>label</th>\n",
              "      <th>file</th>\n",
              "    </tr>\n",
              "  </thead>\n",
              "  <tbody>\n",
              "    <tr>\n",
              "      <th>0</th>\n",
              "      <td>0</td>\n",
              "      <td>test</td>\n",
              "      <td>Once again Mr. Costner has dragged out a movie...</td>\n",
              "      <td>neg</td>\n",
              "      <td>0_2.txt</td>\n",
              "    </tr>\n",
              "    <tr>\n",
              "      <th>1</th>\n",
              "      <td>1</td>\n",
              "      <td>test</td>\n",
              "      <td>This is an example of why the majority of acti...</td>\n",
              "      <td>neg</td>\n",
              "      <td>10000_4.txt</td>\n",
              "    </tr>\n",
              "    <tr>\n",
              "      <th>2</th>\n",
              "      <td>2</td>\n",
              "      <td>test</td>\n",
              "      <td>First of all I hate those moronic rappers, who...</td>\n",
              "      <td>neg</td>\n",
              "      <td>10001_1.txt</td>\n",
              "    </tr>\n",
              "    <tr>\n",
              "      <th>3</th>\n",
              "      <td>3</td>\n",
              "      <td>test</td>\n",
              "      <td>Not even the Beatles could write songs everyon...</td>\n",
              "      <td>neg</td>\n",
              "      <td>10002_3.txt</td>\n",
              "    </tr>\n",
              "    <tr>\n",
              "      <th>4</th>\n",
              "      <td>4</td>\n",
              "      <td>test</td>\n",
              "      <td>Brass pictures (movies is not a fitting word f...</td>\n",
              "      <td>neg</td>\n",
              "      <td>10003_3.txt</td>\n",
              "    </tr>\n",
              "  </tbody>\n",
              "</table>\n",
              "</div>\n",
              "      <button class=\"colab-df-convert\" onclick=\"convertToInteractive('df-d410bc8a-abdd-4b3f-8a2e-c9339156fbd4')\"\n",
              "              title=\"Convert this dataframe to an interactive table.\"\n",
              "              style=\"display:none;\">\n",
              "        \n",
              "  <svg xmlns=\"http://www.w3.org/2000/svg\" height=\"24px\"viewBox=\"0 0 24 24\"\n",
              "       width=\"24px\">\n",
              "    <path d=\"M0 0h24v24H0V0z\" fill=\"none\"/>\n",
              "    <path d=\"M18.56 5.44l.94 2.06.94-2.06 2.06-.94-2.06-.94-.94-2.06-.94 2.06-2.06.94zm-11 1L8.5 8.5l.94-2.06 2.06-.94-2.06-.94L8.5 2.5l-.94 2.06-2.06.94zm10 10l.94 2.06.94-2.06 2.06-.94-2.06-.94-.94-2.06-.94 2.06-2.06.94z\"/><path d=\"M17.41 7.96l-1.37-1.37c-.4-.4-.92-.59-1.43-.59-.52 0-1.04.2-1.43.59L10.3 9.45l-7.72 7.72c-.78.78-.78 2.05 0 2.83L4 21.41c.39.39.9.59 1.41.59.51 0 1.02-.2 1.41-.59l7.78-7.78 2.81-2.81c.8-.78.8-2.07 0-2.86zM5.41 20L4 18.59l7.72-7.72 1.47 1.35L5.41 20z\"/>\n",
              "  </svg>\n",
              "      </button>\n",
              "      \n",
              "  <style>\n",
              "    .colab-df-container {\n",
              "      display:flex;\n",
              "      flex-wrap:wrap;\n",
              "      gap: 12px;\n",
              "    }\n",
              "\n",
              "    .colab-df-convert {\n",
              "      background-color: #E8F0FE;\n",
              "      border: none;\n",
              "      border-radius: 50%;\n",
              "      cursor: pointer;\n",
              "      display: none;\n",
              "      fill: #1967D2;\n",
              "      height: 32px;\n",
              "      padding: 0 0 0 0;\n",
              "      width: 32px;\n",
              "    }\n",
              "\n",
              "    .colab-df-convert:hover {\n",
              "      background-color: #E2EBFA;\n",
              "      box-shadow: 0px 1px 2px rgba(60, 64, 67, 0.3), 0px 1px 3px 1px rgba(60, 64, 67, 0.15);\n",
              "      fill: #174EA6;\n",
              "    }\n",
              "\n",
              "    [theme=dark] .colab-df-convert {\n",
              "      background-color: #3B4455;\n",
              "      fill: #D2E3FC;\n",
              "    }\n",
              "\n",
              "    [theme=dark] .colab-df-convert:hover {\n",
              "      background-color: #434B5C;\n",
              "      box-shadow: 0px 1px 3px 1px rgba(0, 0, 0, 0.15);\n",
              "      filter: drop-shadow(0px 1px 2px rgba(0, 0, 0, 0.3));\n",
              "      fill: #FFFFFF;\n",
              "    }\n",
              "  </style>\n",
              "\n",
              "      <script>\n",
              "        const buttonEl =\n",
              "          document.querySelector('#df-d410bc8a-abdd-4b3f-8a2e-c9339156fbd4 button.colab-df-convert');\n",
              "        buttonEl.style.display =\n",
              "          google.colab.kernel.accessAllowed ? 'block' : 'none';\n",
              "\n",
              "        async function convertToInteractive(key) {\n",
              "          const element = document.querySelector('#df-d410bc8a-abdd-4b3f-8a2e-c9339156fbd4');\n",
              "          const dataTable =\n",
              "            await google.colab.kernel.invokeFunction('convertToInteractive',\n",
              "                                                     [key], {});\n",
              "          if (!dataTable) return;\n",
              "\n",
              "          const docLinkHtml = 'Like what you see? Visit the ' +\n",
              "            '<a target=\"_blank\" href=https://colab.research.google.com/notebooks/data_table.ipynb>data table notebook</a>'\n",
              "            + ' to learn more about interactive tables.';\n",
              "          element.innerHTML = '';\n",
              "          dataTable['output_type'] = 'display_data';\n",
              "          await google.colab.output.renderOutput(dataTable, element);\n",
              "          const docLink = document.createElement('div');\n",
              "          docLink.innerHTML = docLinkHtml;\n",
              "          element.appendChild(docLink);\n",
              "        }\n",
              "      </script>\n",
              "    </div>\n",
              "  </div>\n",
              "  "
            ]
          },
          "metadata": {},
          "execution_count": 114
        }
      ]
    },
    {
      "cell_type": "code",
      "source": [
        "#storing review values in sentences\n",
        "sentences = df['review'].values\n",
        "#storing label values in y\n",
        "y = df['label'].values"
      ],
      "metadata": {
        "id": "5aX6mS_1wOpA"
      },
      "execution_count": 116,
      "outputs": []
    },
    {
      "cell_type": "markdown",
      "source": [
        "2. Drop \"unsup\""
      ],
      "metadata": {
        "id": "azkSLAqybf0d"
      }
    },
    {
      "cell_type": "code",
      "source": [
        "# dropping unsup label from the dataframe\n",
        "df.drop(df[df['label']=='unsup'].index, inplace = True)"
      ],
      "metadata": {
        "id": "87iYAmX_A81M"
      },
      "execution_count": 117,
      "outputs": []
    },
    {
      "cell_type": "markdown",
      "source": [
        "3. Removing punctuation, lower case words, and performing lemmatization."
      ],
      "metadata": {
        "id": "EE2nIhEsdL55"
      }
    },
    {
      "cell_type": "code",
      "source": [
        "# performing word tokenization\n",
        "df['review'] = df['review'].apply(word_tokenize)\n",
        "# removing lower case\n",
        "df['review'] = df['review'].apply(lambda words: [x.lower() for x in words])\n",
        "# removing punctuation\n",
        "df['review'] = df['review'].apply(lambda words: [x for x in words if not x in punctuation])\n",
        "# performing lemmatization\n",
        "df['review'] = df['review'].apply(lambda words: \" \".join([Word(x).lemmatize() for x in words]))\n"
      ],
      "metadata": {
        "id": "G5wMQgaNBi77"
      },
      "execution_count": 119,
      "outputs": []
    },
    {
      "cell_type": "code",
      "source": [
        "# after preprocessing\n",
        "sentences = df['review'].values\n",
        "y = df['label'].values"
      ],
      "metadata": {
        "id": "oGj-ElizmKF-"
      },
      "execution_count": 121,
      "outputs": []
    },
    {
      "cell_type": "markdown",
      "metadata": {
        "id": "Df6hooweXBJo"
      },
      "source": [
        "tokenizing data"
      ]
    },
    {
      "cell_type": "code",
      "metadata": {
        "id": "PSUceLgkW-wI",
        "colab": {
          "base_uri": "https://localhost:8080/"
        },
        "outputId": "c44f6751-09e6-456e-8ec5-8fd8dd3e779b"
      },
      "source": [
        "# tokenizing the text\n",
        "tokenizer = Tokenizer(num_words=2000)\n",
        "tokenizer.fit_on_texts(sentences)\n",
        "tokenizer.document_count"
      ],
      "execution_count": 122,
      "outputs": [
        {
          "output_type": "execute_result",
          "data": {
            "text/plain": [
              "50000"
            ]
          },
          "metadata": {},
          "execution_count": 122
        }
      ]
    },
    {
      "cell_type": "markdown",
      "metadata": {
        "id": "pR78DrA6XD48"
      },
      "source": [
        "getting the vocabulary of data\n"
      ]
    },
    {
      "cell_type": "code",
      "source": [
        "# converting the text to a matrix of 0s and 1s\n",
        "X = tokenizer.texts_to_matrix(sentences)"
      ],
      "metadata": {
        "id": "cqW0hpE5beji"
      },
      "execution_count": 123,
      "outputs": []
    },
    {
      "cell_type": "code",
      "source": [
        "print('\\nLen() of X:', len(X))\n",
        "print('\\n', X[:2])"
      ],
      "metadata": {
        "id": "s_Hk__8Jbk0n",
        "colab": {
          "base_uri": "https://localhost:8080/"
        },
        "outputId": "f5b3f64a-6ded-44bc-f809-69bce8fa63aa"
      },
      "execution_count": 124,
      "outputs": [
        {
          "output_type": "stream",
          "name": "stdout",
          "text": [
            "\n",
            "Len() of X: 50000\n",
            "\n",
            " [[0. 1. 1. ... 0. 0. 0.]\n",
            " [0. 1. 1. ... 0. 0. 0.]]\n"
          ]
        }
      ]
    },
    {
      "cell_type": "code",
      "source": [
        "#X = pad_sequences(X) # Pads sequences to the same length.\n",
        "print('X.shape = ', X.shape)"
      ],
      "metadata": {
        "id": "T885TTUkbpGo",
        "colab": {
          "base_uri": "https://localhost:8080/"
        },
        "outputId": "167ca2cf-5c13-44f5-8ba4-f480a6988bef"
      },
      "execution_count": 125,
      "outputs": [
        {
          "output_type": "stream",
          "name": "stdout",
          "text": [
            "X.shape =  (50000, 2000)\n"
          ]
        }
      ]
    },
    {
      "cell_type": "code",
      "metadata": {
        "id": "OuJJ6l52XHTw"
      },
      "source": [
        "# performing label encoding, converting 0s and 1s to neg and pos\n",
        "le = preprocessing.LabelEncoder()\n",
        "# performing fit transform\n",
        "y = le.fit_transform(y)"
      ],
      "execution_count": 126,
      "outputs": []
    },
    {
      "cell_type": "code",
      "source": [
        "# splitting data into test and train data\n",
        "X_train, X_test, y_train, y_test = train_test_split(X, y, test_size=0.25, random_state=42)"
      ],
      "metadata": {
        "id": "W7ig6dd14w8Q"
      },
      "execution_count": 127,
      "outputs": []
    },
    {
      "cell_type": "code",
      "source": [
        "# checking the shapes to create the sequential model accordingly\n",
        "print(X_train.shape)\n",
        "print(X_test.shape)\n",
        "print(y_train.shape)\n",
        "print(X_test.shape)\n"
      ],
      "metadata": {
        "id": "R8u2v7cLXNQQ",
        "colab": {
          "base_uri": "https://localhost:8080/"
        },
        "outputId": "0212193a-be5b-49cb-dadd-b139514626b6"
      },
      "execution_count": 128,
      "outputs": [
        {
          "output_type": "stream",
          "name": "stdout",
          "text": [
            "(37500, 2000)\n",
            "(12500, 2000)\n",
            "(37500,)\n",
            "(12500, 2000)\n"
          ]
        }
      ]
    },
    {
      "cell_type": "markdown",
      "source": [
        "1. Errors found when running the given model: \n",
        "\n",
        "    *   Adjusted the input dimension to be similar to the shape of the train and test data.\n",
        "    *   Changing optimizer to sigmoid since we only need to classify 2 classes.\n",
        "    *   Using binary_crossentropy since we only have pos and neg reviews to classify.\n",
        "\n",
        "\n",
        "\n"
      ],
      "metadata": {
        "id": "m5VjFkFIdiun"
      }
    },
    {
      "cell_type": "code",
      "metadata": {
        "id": "rcyQwlRNXI6V"
      },
      "source": [
        "# creating new model from given model with adjustments to correct errors\n",
        "model = Sequential()\n",
        "\n",
        "# modifying input dim to become similar to X_train dimension of 2000\n",
        "model.add(layers.Dense(300, input_dim=2000, activation='relu'))\n",
        "# activiation using sigmoid since classification performed between 2 classes\n",
        "model.add(layers.Dense(1, activation='sigmoid'))\n",
        "# compiling the model with binary_crossentropy since 2 classes are used for output\n",
        "model.compile(loss='binary_crossentropy',optimizer='adam',metrics=['acc'])"
      ],
      "execution_count": 129,
      "outputs": []
    },
    {
      "cell_type": "code",
      "source": [
        "# model summary\n",
        "model.summary()"
      ],
      "metadata": {
        "id": "PP5EQL0BYSzq",
        "colab": {
          "base_uri": "https://localhost:8080/"
        },
        "outputId": "5600d955-1110-4063-fe2e-5845ecf6b6d6"
      },
      "execution_count": 130,
      "outputs": [
        {
          "output_type": "stream",
          "name": "stdout",
          "text": [
            "Model: \"sequential_8\"\n",
            "_________________________________________________________________\n",
            " Layer (type)                Output Shape              Param #   \n",
            "=================================================================\n",
            " dense_11 (Dense)            (None, 300)               600300    \n",
            "                                                                 \n",
            " dense_12 (Dense)            (None, 1)                 301       \n",
            "                                                                 \n",
            "=================================================================\n",
            "Total params: 600,601\n",
            "Trainable params: 600,601\n",
            "Non-trainable params: 0\n",
            "_________________________________________________________________\n"
          ]
        }
      ]
    },
    {
      "cell_type": "code",
      "metadata": {
        "id": "HGpcm3BIXNmL",
        "colab": {
          "base_uri": "https://localhost:8080/"
        },
        "outputId": "f2505b02-fa4e-4a30-902b-7ddae6820c28"
      },
      "source": [
        "# fitting the model\n",
        "history=model.fit(X_train,y_train, epochs=5, verbose=True, validation_data=(X_test,y_test), batch_size=256)"
      ],
      "execution_count": 131,
      "outputs": [
        {
          "output_type": "stream",
          "name": "stdout",
          "text": [
            "Epoch 1/5\n",
            "147/147 [==============================] - 2s 8ms/step - loss: 0.3424 - acc: 0.8545 - val_loss: 0.2968 - val_acc: 0.8752\n",
            "Epoch 2/5\n",
            "147/147 [==============================] - 1s 5ms/step - loss: 0.2743 - acc: 0.8877 - val_loss: 0.2902 - val_acc: 0.8774\n",
            "Epoch 3/5\n",
            "147/147 [==============================] - 1s 5ms/step - loss: 0.2445 - acc: 0.9014 - val_loss: 0.2875 - val_acc: 0.8786\n",
            "Epoch 4/5\n",
            "147/147 [==============================] - 1s 5ms/step - loss: 0.2021 - acc: 0.9221 - val_loss: 0.2879 - val_acc: 0.8782\n",
            "Epoch 5/5\n",
            "147/147 [==============================] - 1s 5ms/step - loss: 0.1518 - acc: 0.9477 - val_loss: 0.2949 - val_acc: 0.8783\n"
          ]
        }
      ]
    },
    {
      "cell_type": "code",
      "source": [
        "# evaluating the model\n",
        "scores = model.evaluate(X_test, y_test, verbose=1)\n",
        "print('Test loss:', scores[0])\n",
        "print('Test accuracy:', scores[1])"
      ],
      "metadata": {
        "colab": {
          "base_uri": "https://localhost:8080/"
        },
        "id": "F_IIShnUXnMN",
        "outputId": "6360a80f-ba7e-4135-e92f-231319e67ba2"
      },
      "execution_count": 132,
      "outputs": [
        {
          "output_type": "stream",
          "name": "stdout",
          "text": [
            "391/391 [==============================] - 1s 2ms/step - loss: 0.2949 - acc: 0.8783\n",
            "Test loss: 0.29486170411109924\n",
            "Test accuracy: 0.8783199787139893\n"
          ]
        }
      ]
    },
    {
      "cell_type": "markdown",
      "source": [
        "Loss: 0.29\n",
        "\n",
        "Accuracy: 0.87"
      ],
      "metadata": {
        "id": "XVtCt8b1fF5i"
      }
    },
    {
      "cell_type": "markdown",
      "source": [
        "4. Embedded Layer"
      ],
      "metadata": {
        "id": "APHBnnejXsfM"
      }
    },
    {
      "cell_type": "code",
      "source": [
        "#storing review values in sentences\n",
        "sentences = df['review'].values\n",
        "#storing label values in y\n",
        "y = df['label'].values\n",
        "# tokenizing the text\n",
        "tokenizer = Tokenizer(num_words=2000)\n",
        "tokenizer.fit_on_texts(sentences)"
      ],
      "metadata": {
        "id": "_0RUEw08Xw3E"
      },
      "execution_count": 133,
      "outputs": []
    },
    {
      "cell_type": "code",
      "source": [
        "# storing the longest review\n",
        "max_review = max([len(s.split()) for s in sentences])\n",
        "# getting vocab size\n",
        "vocab_size = len(tokenizer.word_index)+1"
      ],
      "metadata": {
        "id": "ji81TEVEX_a7"
      },
      "execution_count": 134,
      "outputs": []
    },
    {
      "cell_type": "code",
      "source": [
        "print(max_review)\n",
        "print(vocab_size)"
      ],
      "metadata": {
        "colab": {
          "base_uri": "https://localhost:8080/"
        },
        "id": "AJrRsV2TYSeV",
        "outputId": "d7e2b91c-2515-4a3a-d9df-d4a28d771c7a"
      },
      "execution_count": 135,
      "outputs": [
        {
          "output_type": "stream",
          "name": "stdout",
          "text": [
            "2515\n",
            "102432\n"
          ]
        }
      ]
    },
    {
      "cell_type": "code",
      "source": [
        "# converting the text to sequence\n",
        "X = tokenizer.texts_to_sequences(sentences)"
      ],
      "metadata": {
        "id": "9akvpyVBYa-X"
      },
      "execution_count": 137,
      "outputs": []
    },
    {
      "cell_type": "code",
      "source": [
        "X = pad_sequences(X, maxlen=max_review) # Pads sequences to the same length.\n",
        "print('X.shape = ', X.shape)"
      ],
      "metadata": {
        "colab": {
          "base_uri": "https://localhost:8080/"
        },
        "id": "lmnSPqexYgxm",
        "outputId": "3a69f6b2-4566-4cb4-82a6-8a0338806ae3"
      },
      "execution_count": 138,
      "outputs": [
        {
          "output_type": "stream",
          "name": "stdout",
          "text": [
            "X.shape =  (50000, 2515)\n"
          ]
        }
      ]
    },
    {
      "cell_type": "code",
      "source": [
        "# performing label encoding, converting 0s and 1s to neg and pos\n",
        "le = preprocessing.LabelEncoder()\n",
        "# performing fit transform\n",
        "y = le.fit_transform(y)"
      ],
      "metadata": {
        "id": "2l8lIFtIYBr8"
      },
      "execution_count": 139,
      "outputs": []
    },
    {
      "cell_type": "code",
      "source": [
        "# splitting data into test and train data\n",
        "X_train, X_test, y_train, y_test = train_test_split(X, y, test_size=0.25, random_state=1000)"
      ],
      "metadata": {
        "id": "MDNJ_A7AYDPT"
      },
      "execution_count": 140,
      "outputs": []
    },
    {
      "cell_type": "code",
      "source": [
        "# checking the shapes to create the sequential model accordingly\n",
        "print(X_train.shape)\n",
        "print(X_test.shape)\n",
        "print(y_train.shape)\n",
        "print(X_test.shape)\n"
      ],
      "metadata": {
        "colab": {
          "base_uri": "https://localhost:8080/"
        },
        "id": "kIy2u5HWYEv8",
        "outputId": "caf73734-8b21-4ea2-e0e1-be62c6a7ec7f"
      },
      "execution_count": 141,
      "outputs": [
        {
          "output_type": "stream",
          "name": "stdout",
          "text": [
            "(37500, 2515)\n",
            "(12500, 2515)\n",
            "(37500,)\n",
            "(12500, 2515)\n"
          ]
        }
      ]
    },
    {
      "cell_type": "code",
      "source": [
        "# creating new model to add embedding layer\n",
        "model = Sequential()\n",
        "\n",
        "# adding embedding layer using vocab size as input dim and 120 as output dim also using the max review as input length\n",
        "model.add(Embedding(vocab_size, 120, input_length = max_review))\n",
        "# adding flatten layer\n",
        "model.add(Flatten())\n",
        "# output layer using sigmoid\n",
        "model.add(layers.Dense(1, activation='sigmoid'))\n",
        "# compiling the model\n",
        "model.compile(loss='binary_crossentropy',optimizer='adam',metrics=['acc'])"
      ],
      "metadata": {
        "id": "5K45GK6nYGLT"
      },
      "execution_count": 163,
      "outputs": []
    },
    {
      "cell_type": "code",
      "source": [
        "# model summary\n",
        "model.summary()"
      ],
      "metadata": {
        "colab": {
          "base_uri": "https://localhost:8080/"
        },
        "id": "EWjVWlDKYHUr",
        "outputId": "8f8e7d72-a7b1-4033-ba6c-8e78ca004bff"
      },
      "execution_count": 164,
      "outputs": [
        {
          "output_type": "stream",
          "name": "stdout",
          "text": [
            "Model: \"sequential_15\"\n",
            "_________________________________________________________________\n",
            " Layer (type)                Output Shape              Param #   \n",
            "=================================================================\n",
            " embedding_10 (Embedding)    (None, 2515, 120)         12291840  \n",
            "                                                                 \n",
            " flatten_9 (Flatten)         (None, 301800)            0         \n",
            "                                                                 \n",
            " dense_19 (Dense)            (None, 1)                 301801    \n",
            "                                                                 \n",
            "=================================================================\n",
            "Total params: 12,593,641\n",
            "Trainable params: 12,593,641\n",
            "Non-trainable params: 0\n",
            "_________________________________________________________________\n"
          ]
        }
      ]
    },
    {
      "cell_type": "code",
      "source": [
        "# fitting the model\n",
        "history = model.fit(X_train,y_train, epochs=5, verbose=True, validation_data=(X_test,y_test), batch_size=256)"
      ],
      "metadata": {
        "colab": {
          "base_uri": "https://localhost:8080/"
        },
        "id": "s3iIMXv4YJ1k",
        "outputId": "e640bb21-02d9-4868-9c17-53e61150acfe"
      },
      "execution_count": 165,
      "outputs": [
        {
          "output_type": "stream",
          "name": "stdout",
          "text": [
            "Epoch 1/5\n",
            "147/147 [==============================] - 4s 27ms/step - loss: 0.5983 - acc: 0.7139 - val_loss: 0.3318 - val_acc: 0.8588\n",
            "Epoch 2/5\n",
            "147/147 [==============================] - 4s 25ms/step - loss: 0.2744 - acc: 0.8866 - val_loss: 0.2864 - val_acc: 0.8822\n",
            "Epoch 3/5\n",
            "147/147 [==============================] - 4s 25ms/step - loss: 0.2240 - acc: 0.9118 - val_loss: 0.2806 - val_acc: 0.8830\n",
            "Epoch 4/5\n",
            "147/147 [==============================] - 4s 25ms/step - loss: 0.1829 - acc: 0.9328 - val_loss: 0.2860 - val_acc: 0.8823\n",
            "Epoch 5/5\n",
            "147/147 [==============================] - 4s 25ms/step - loss: 0.1385 - acc: 0.9578 - val_loss: 0.2948 - val_acc: 0.8786\n"
          ]
        }
      ]
    },
    {
      "cell_type": "code",
      "source": [
        "# evaluating the model\n",
        "scores = model.evaluate(X_test, y_test, verbose=1)\n",
        "print('Test loss:', scores[0])\n",
        "print('Test accuracy:', scores[1])"
      ],
      "metadata": {
        "colab": {
          "base_uri": "https://localhost:8080/"
        },
        "id": "K473Vq2hYLkD",
        "outputId": "dc956f2f-9dcb-4dfd-a49b-c028f070e94f"
      },
      "execution_count": 166,
      "outputs": [
        {
          "output_type": "stream",
          "name": "stdout",
          "text": [
            "391/391 [==============================] - 1s 3ms/step - loss: 0.2948 - acc: 0.8786\n",
            "Test loss: 0.29475271701812744\n",
            "Test accuracy: 0.8785600066184998\n"
          ]
        }
      ]
    },
    {
      "cell_type": "code",
      "source": [
        "# plotting the loss to check for over or underfitting\n",
        "plt.plot(history.history['loss'])\n",
        "plt.plot(history.history['val_loss'])\n",
        "plt.title('Training and Validation Loss')\n",
        "plt.xlabel('Epochs')\n",
        "plt.ylabel('Loss')\n",
        "plt.legend(['Train','Validation'])\n",
        "plt.show()"
      ],
      "metadata": {
        "colab": {
          "base_uri": "https://localhost:8080/",
          "height": 295
        },
        "id": "7j40QC3dZe4M",
        "outputId": "553c6257-a6fb-4d25-e1b1-1e189731238b"
      },
      "execution_count": 167,
      "outputs": [
        {
          "output_type": "display_data",
          "data": {
            "text/plain": [
              "<Figure size 432x288 with 1 Axes>"
            ],
            "image/png": "[encoded data removed]"
          },
          "metadata": {
            "needs_background": "light"
          }
        }
      ]
    },
    {
      "cell_type": "markdown",
      "source": [
        "5. Checking for over or underfitting: The model is underfitting.\n",
        "\n"
      ],
      "metadata": {
        "id": "r2pvyaKthH0A"
      }
    },
    {
      "cell_type": "code",
      "source": [
        "# creating new model to solve underfitting issue\n",
        "modelNew = Sequential()\n",
        "\n",
        "# adding embedding layer and changing output dim to 20\n",
        "modelNew.add(Embedding(vocab_size, 20, input_length=max_review))\n",
        "# adding flatten layer\n",
        "modelNew.add(Flatten())\n",
        "# output layer using sigmoid\n",
        "modelNew.add(layers.Dense(1, activation='sigmoid'))\n",
        "# compiling the model\n",
        "modelNew.compile(loss='binary_crossentropy',optimizer='adam',metrics=['acc'])"
      ],
      "metadata": {
        "id": "LUJfMnEVZmVr"
      },
      "execution_count": 170,
      "outputs": []
    },
    {
      "cell_type": "code",
      "source": [
        "# model summary\n",
        "modelNew.summary()"
      ],
      "metadata": {
        "colab": {
          "base_uri": "https://localhost:8080/"
        },
        "id": "aMYu_PQeZz1j",
        "outputId": "12bddbf8-3147-474e-f9a8-fd1bc0c4cae4"
      },
      "execution_count": 171,
      "outputs": [
        {
          "output_type": "stream",
          "name": "stdout",
          "text": [
            "Model: \"sequential_17\"\n",
            "_________________________________________________________________\n",
            " Layer (type)                Output Shape              Param #   \n",
            "=================================================================\n",
            " embedding_12 (Embedding)    (None, 2515, 20)          2048640   \n",
            "                                                                 \n",
            " flatten_11 (Flatten)        (None, 50300)             0         \n",
            "                                                                 \n",
            " dense_21 (Dense)            (None, 1)                 50301     \n",
            "                                                                 \n",
            "=================================================================\n",
            "Total params: 2,098,941\n",
            "Trainable params: 2,098,941\n",
            "Non-trainable params: 0\n",
            "_________________________________________________________________\n"
          ]
        }
      ]
    },
    {
      "cell_type": "code",
      "source": [
        "# fitting the model\n",
        "history = modelNew.fit(X_train,y_train, epochs=5, verbose=True, validation_data=(X_test,y_test), batch_size=256)"
      ],
      "metadata": {
        "colab": {
          "base_uri": "https://localhost:8080/"
        },
        "id": "rdpwgk5WZ1nk",
        "outputId": "75d54e60-b662-4b33-8ba3-dcf5d11fd502"
      },
      "execution_count": 172,
      "outputs": [
        {
          "output_type": "stream",
          "name": "stdout",
          "text": [
            "Epoch 1/5\n",
            "147/147 [==============================] - 2s 12ms/step - loss: 0.5751 - acc: 0.7001 - val_loss: 0.3793 - val_acc: 0.8502\n",
            "Epoch 2/5\n",
            "147/147 [==============================] - 1s 10ms/step - loss: 0.3172 - acc: 0.8721 - val_loss: 0.3020 - val_acc: 0.8772\n",
            "Epoch 3/5\n",
            "147/147 [==============================] - 1s 10ms/step - loss: 0.2654 - acc: 0.8924 - val_loss: 0.2842 - val_acc: 0.8832\n",
            "Epoch 4/5\n",
            "147/147 [==============================] - 2s 11ms/step - loss: 0.2439 - acc: 0.9011 - val_loss: 0.2825 - val_acc: 0.8832\n",
            "Epoch 5/5\n",
            "147/147 [==============================] - 1s 10ms/step - loss: 0.2290 - acc: 0.9083 - val_loss: 0.2844 - val_acc: 0.8838\n"
          ]
        }
      ]
    },
    {
      "cell_type": "code",
      "source": [
        "# evaluating the model\n",
        "scores = modelNew.evaluate(X_test, y_test, verbose=1)\n",
        "print('Test loss:', scores[0])\n",
        "print('Test accuracy:', scores[1])"
      ],
      "metadata": {
        "colab": {
          "base_uri": "https://localhost:8080/"
        },
        "id": "efV2bKKuZ3Cc",
        "outputId": "4b81d047-9892-4442-a124-0967a6fa3dd1"
      },
      "execution_count": 173,
      "outputs": [
        {
          "output_type": "stream",
          "name": "stdout",
          "text": [
            "391/391 [==============================] - 1s 3ms/step - loss: 0.2844 - acc: 0.8838\n",
            "Test loss: 0.2843641936779022\n",
            "Test accuracy: 0.8837599754333496\n"
          ]
        }
      ]
    },
    {
      "cell_type": "code",
      "source": [
        "# plotting the loss to check for improved results\n",
        "plt.plot(history.history['loss'])\n",
        "plt.plot(history.history['val_loss'])\n",
        "plt.title('Training and Validation Loss')\n",
        "plt.xlabel('Epochs')\n",
        "plt.ylabel('Loss')\n",
        "plt.legend(['Train','Validation'])\n",
        "plt.show()"
      ],
      "metadata": {
        "colab": {
          "base_uri": "https://localhost:8080/",
          "height": 295
        },
        "id": "PS6Uj2JHZ9jz",
        "outputId": "4c17909a-093b-401d-c18c-2f9b4411c68e"
      },
      "execution_count": 174,
      "outputs": [
        {
          "output_type": "display_data",
          "data": {
            "text/plain": [
              "<Figure size 432x288 with 1 Axes>"
            ],
            "image/png": "[encoded data removed]"
          },
          "metadata": {
            "needs_background": "light"
          }
        }
      ]
    },
    {
      "cell_type": "markdown",
      "source": [
        "Slightly imporved underfitting from previous model after decreasing embedding output dim"
      ],
      "metadata": {
        "id": "iI_bKjDSolHE"
      }
    },
    {
      "cell_type": "markdown",
      "source": [
        "6. 20_news group."
      ],
      "metadata": {
        "id": "PcNJf_x5idZX"
      }
    },
    {
      "cell_type": "code",
      "source": [
        "# creating the twenty_train dataset\n",
        "twenty_train=fetch_20newsgroups(subset='train',shuffle=True)"
      ],
      "metadata": {
        "id": "fNttX6hmaMsN"
      },
      "execution_count": 175,
      "outputs": []
    },
    {
      "cell_type": "code",
      "source": [
        "# tokenizing the text\n",
        "token=Tokenizer(num_words=2000)\n",
        "token.fit_on_texts(twenty_train)"
      ],
      "metadata": {
        "id": "O_NigHZOaNqc"
      },
      "execution_count": 176,
      "outputs": []
    },
    {
      "cell_type": "code",
      "source": [
        "# converting the text to sequence\n",
        "twenty_train=token.texts_to_sequences(twenty_train.data)"
      ],
      "metadata": {
        "id": "1giMENxUaO7b"
      },
      "execution_count": 177,
      "outputs": []
    },
    {
      "cell_type": "code",
      "source": [
        "# Pads sequences to the same length.\n",
        "padded = pad_sequences(twenty_train,maxlen=max_review)"
      ],
      "metadata": {
        "id": "ODkX-rzOaQ4N"
      },
      "execution_count": 178,
      "outputs": []
    },
    {
      "cell_type": "code",
      "source": [
        "predict = modelNew.predict(padded[[0],:])\n",
        "classes = np.argmax(predict, axis=1)\n",
        "classes"
      ],
      "metadata": {
        "colab": {
          "base_uri": "https://localhost:8080/"
        },
        "id": "cCcU6EGGaQ76",
        "outputId": "d6a04fa6-47a3-46b5-f87c-c6d8f4aab6a9"
      },
      "execution_count": 179,
      "outputs": [
        {
          "output_type": "execute_result",
          "data": {
            "text/plain": [
              "array([0])"
            ]
          },
          "metadata": {},
          "execution_count": 179
        }
      ]
    },
    {
      "cell_type": "markdown",
      "source": [
        "predicted result returned 0 which is neg"
      ],
      "metadata": {
        "id": "8OgEHBoJjZEj"
      }
    },
    {
      "cell_type": "markdown",
      "source": [
        "BONUS:"
      ],
      "metadata": {
        "id": "xXSmNkxcjfsp"
      }
    },
    {
      "cell_type": "code",
      "source": [
        "# creating model\n",
        "model = Sequential()\n",
        "# adding embedding layer\n",
        "model.add(Embedding(vocab_size, 120, input_length = max_review))\n",
        "# adding convolution layer \n",
        "model.add(Conv1D(64, (3), activation='relu'))\n",
        "# adding maxpool layer\n",
        "model.add(MaxPooling1D(2))\n",
        "# adding flatten layer\n",
        "model.add(Flatten())\n",
        "# adding output layer\n",
        "model.add(Dense(1, activation='sigmoid'))\n",
        "# compiling the model\n",
        "model.compile(loss='binary_crossentropy',optimizer='adam',metrics=['acc'])\n",
        "# model summary\n",
        "model.summary()"
      ],
      "metadata": {
        "colab": {
          "base_uri": "https://localhost:8080/"
        },
        "id": "baGkoGdAaTPs",
        "outputId": "d659fecc-c855-4af6-d061-f8b83860fa80"
      },
      "execution_count": 186,
      "outputs": [
        {
          "output_type": "stream",
          "name": "stdout",
          "text": [
            "Model: \"sequential_22\"\n",
            "_________________________________________________________________\n",
            " Layer (type)                Output Shape              Param #   \n",
            "=================================================================\n",
            " embedding_17 (Embedding)    (None, 2515, 120)         12291840  \n",
            "                                                                 \n",
            " conv1d_5 (Conv1D)           (None, 2513, 64)          23104     \n",
            "                                                                 \n",
            " max_pooling1d_4 (MaxPooling  (None, 1256, 64)         0         \n",
            " 1D)                                                             \n",
            "                                                                 \n",
            " flatten_15 (Flatten)        (None, 80384)             0         \n",
            "                                                                 \n",
            " dense_25 (Dense)            (None, 1)                 80385     \n",
            "                                                                 \n",
            "=================================================================\n",
            "Total params: 12,395,329\n",
            "Trainable params: 12,395,329\n",
            "Non-trainable params: 0\n",
            "_________________________________________________________________\n"
          ]
        }
      ]
    },
    {
      "cell_type": "code",
      "source": [
        "# fitting the model\n",
        "history = model.fit(X_train,y_train, epochs=5, verbose=True, validation_data=(X_test,y_test), batch_size=256)"
      ],
      "metadata": {
        "colab": {
          "base_uri": "https://localhost:8080/"
        },
        "id": "9B5nidjka0T8",
        "outputId": "01b1be3c-35f8-43c1-ddad-b13c8d06e688"
      },
      "execution_count": 187,
      "outputs": [
        {
          "output_type": "stream",
          "name": "stdout",
          "text": [
            "Epoch 1/5\n",
            "147/147 [==============================] - 14s 91ms/step - loss: 0.4917 - acc: 0.7269 - val_loss: 0.3073 - val_acc: 0.8730\n",
            "Epoch 2/5\n",
            "147/147 [==============================] - 13s 88ms/step - loss: 0.2694 - acc: 0.8886 - val_loss: 0.2821 - val_acc: 0.8852\n",
            "Epoch 3/5\n",
            "147/147 [==============================] - 13s 89ms/step - loss: 0.2419 - acc: 0.9014 - val_loss: 0.2845 - val_acc: 0.8834\n",
            "Epoch 4/5\n",
            "147/147 [==============================] - 13s 88ms/step - loss: 0.2226 - acc: 0.9111 - val_loss: 0.2900 - val_acc: 0.8799\n",
            "Epoch 5/5\n",
            "147/147 [==============================] - 14s 98ms/step - loss: 0.2054 - acc: 0.9192 - val_loss: 0.2872 - val_acc: 0.8838\n"
          ]
        }
      ]
    },
    {
      "cell_type": "code",
      "source": [
        "# evaluating the model\n",
        "scores = modelNew.evaluate(X_test, y_test, verbose=1)\n",
        "print('Test loss:', scores[0])\n",
        "print('Test accuracy:', scores[1])"
      ],
      "metadata": {
        "colab": {
          "base_uri": "https://localhost:8080/"
        },
        "id": "d-mCOywqa-x7",
        "outputId": "252ba5d8-4b2d-4a4c-a47b-923b61abb6c0"
      },
      "execution_count": 188,
      "outputs": [
        {
          "output_type": "stream",
          "name": "stdout",
          "text": [
            "391/391 [==============================] - 1s 3ms/step - loss: 0.2844 - acc: 0.8838\n",
            "Test loss: 0.2843641936779022\n",
            "Test accuracy: 0.8837599754333496\n"
          ]
        }
      ]
    }
  ]
}