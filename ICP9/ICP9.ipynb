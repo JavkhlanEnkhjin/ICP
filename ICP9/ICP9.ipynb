{
  "nbformat": 4,
  "nbformat_minor": 0,
  "metadata": {
    "colab": {
      "name": "ICP9.ipynb",
      "provenance": [],
      "collapsed_sections": []
    },
    "kernelspec": {
      "name": "python3",
      "display_name": "Python 3"
    },
    "language_info": {
      "name": "python"
    }
  },
  "cells": [
    {
      "cell_type": "code",
      "source": [
        "import pandas as pd\n",
        "import keras\n",
        "import numpy as np\n",
        "import matplotlib.pyplot as plt\n",
        "from keras.datasets import mnist\n",
        "from keras.models import Sequential, Model\n",
        "from keras.layers import Dense, Input\n",
        "from tensorflow.keras.utils import to_categorical\n",
        "from matplotlib import pyplot\n"
      ],
      "metadata": {
        "id": "wEmbFJYm4s0u"
      },
      "execution_count": 3,
      "outputs": []
    },
    {
      "cell_type": "code",
      "execution_count": 4,
      "metadata": {
        "colab": {
          "base_uri": "https://localhost:8080/",
          "height": 298
        },
        "id": "s7uD_7nl4Wxi",
        "outputId": "5bd3192a-4109-4e40-ee21-1f273b517866"
      },
      "outputs": [
        {
          "output_type": "execute_result",
          "data": {
            "text/plain": [
              "Text(0.5, 1.0, 'Ground Truth : 5')"
            ]
          },
          "metadata": {},
          "execution_count": 4
        },
        {
          "output_type": "display_data",
          "data": {
            "text/plain": [
              "<Figure size 432x288 with 1 Axes>"
            ],
            "image/png": "[encoded data removed]"
          },
          "metadata": {
            "needs_background": "light"
          }
        }
      ],
      "source": [
        "# GIVEN CODE\n",
        "(train_images,train_labels),(test_images, test_labels) = mnist.load_data()\n",
        "#display the first image in the training data\n",
        "plt.imshow(train_images[0,:,:],cmap='gray')\n",
        "plt.title('Ground Truth : {}'.format(train_labels[0]))\n",
        "# plt.show()"
      ]
    },
    {
      "cell_type": "markdown",
      "source": [
        "1. Adding hidden layers and changing activation type to ELU"
      ],
      "metadata": {
        "id": "_TL06nVxaDsx"
      }
    },
    {
      "cell_type": "code",
      "source": [
        "# GIVEN CODE\n",
        "#1. convert each image of shape 28*28 to 784 dimensional which will be fed to the network as a single feature\n",
        "dimData = np.prod(train_images.shape[1:])\n",
        "train_data = train_images.reshape(train_images.shape[0],dimData)\n",
        "test_data = test_images.reshape(test_images.shape[0],dimData)\n",
        "#convert data to float and scale values between 0 and 1\n",
        "train_data.astype('float')\n",
        "test_data.astype('float')\n",
        "#scale data\n",
        "train_data = train_data /255.0\n",
        "test_data = test_data /255.0\n",
        "#change the labels from integer to one-hot encoding\n",
        "train_labels_one_hot = to_categorical(train_labels)\n",
        "test_labels_one_hot = to_categorical(test_labels)"
      ],
      "metadata": {
        "id": "gh2i0hNd4ZCS"
      },
      "execution_count": 5,
      "outputs": []
    },
    {
      "cell_type": "code",
      "source": [
        "#creating network\n",
        "model = Sequential() # Initializing the model\n",
        "model.add(Dense(64, activation='elu', input_shape=(dimData,))) # 1st hidden layer\n",
        "model.add(Dense(128, activation='elu')) # 2nd hidden layer\n",
        "model.add(Dense(256, activation='elu')) # 3rd hidden layer\n",
        "model.add(Dense(512, activation='elu')) # 4th hidden layer\n",
        "model.add(Dense(10, activation='softmax')) # output layer\n",
        "model.compile(optimizer='rmsprop', loss='categorical_crossentropy', metrics=['accuracy']) # compile the model\n",
        "history = model.fit(train_data, train_labels_one_hot, batch_size=256, epochs=20, verbose=1, # fitting the data\n",
        "                   validation_data=(test_data, test_labels_one_hot))"
      ],
      "metadata": {
        "colab": {
          "base_uri": "https://localhost:8080/"
        },
        "id": "vmjaMCP74aki",
        "outputId": "5be850dd-159c-4858-94e8-ba1b4c44dc3d"
      },
      "execution_count": 6,
      "outputs": [
        {
          "output_type": "stream",
          "name": "stdout",
          "text": [
            "Epoch 1/20\n",
            "235/235 [==============================] - 5s 17ms/step - loss: 0.3987 - accuracy: 0.8754 - val_loss: 0.3980 - val_accuracy: 0.8719\n",
            "Epoch 2/20\n",
            "235/235 [==============================] - 4s 16ms/step - loss: 0.2049 - accuracy: 0.9373 - val_loss: 0.1917 - val_accuracy: 0.9367\n",
            "Epoch 3/20\n",
            "235/235 [==============================] - 4s 16ms/step - loss: 0.1447 - accuracy: 0.9550 - val_loss: 0.1604 - val_accuracy: 0.9525\n",
            "Epoch 4/20\n",
            "235/235 [==============================] - 4s 16ms/step - loss: 0.1146 - accuracy: 0.9644 - val_loss: 0.1146 - val_accuracy: 0.9640\n",
            "Epoch 5/20\n",
            "235/235 [==============================] - 4s 16ms/step - loss: 0.0953 - accuracy: 0.9697 - val_loss: 0.1444 - val_accuracy: 0.9568\n",
            "Epoch 6/20\n",
            "235/235 [==============================] - 4s 16ms/step - loss: 0.0819 - accuracy: 0.9743 - val_loss: 0.1131 - val_accuracy: 0.9655\n",
            "Epoch 7/20\n",
            "235/235 [==============================] - 4s 16ms/step - loss: 0.0714 - accuracy: 0.9772 - val_loss: 0.0984 - val_accuracy: 0.9701\n",
            "Epoch 8/20\n",
            "235/235 [==============================] - 4s 16ms/step - loss: 0.0616 - accuracy: 0.9800 - val_loss: 0.0902 - val_accuracy: 0.9721\n",
            "Epoch 9/20\n",
            "235/235 [==============================] - 4s 17ms/step - loss: 0.0555 - accuracy: 0.9817 - val_loss: 0.1323 - val_accuracy: 0.9650\n",
            "Epoch 10/20\n",
            "235/235 [==============================] - 4s 16ms/step - loss: 0.0489 - accuracy: 0.9843 - val_loss: 0.1360 - val_accuracy: 0.9587\n",
            "Epoch 11/20\n",
            "235/235 [==============================] - 4s 16ms/step - loss: 0.0432 - accuracy: 0.9855 - val_loss: 0.1214 - val_accuracy: 0.9644\n",
            "Epoch 12/20\n",
            "235/235 [==============================] - 4s 16ms/step - loss: 0.0399 - accuracy: 0.9871 - val_loss: 0.1013 - val_accuracy: 0.9725\n",
            "Epoch 13/20\n",
            "235/235 [==============================] - 4s 16ms/step - loss: 0.0358 - accuracy: 0.9882 - val_loss: 0.0904 - val_accuracy: 0.9770\n",
            "Epoch 14/20\n",
            "235/235 [==============================] - 4s 16ms/step - loss: 0.0326 - accuracy: 0.9892 - val_loss: 0.1095 - val_accuracy: 0.9736\n",
            "Epoch 15/20\n",
            "235/235 [==============================] - 4s 18ms/step - loss: 0.0298 - accuracy: 0.9900 - val_loss: 0.1025 - val_accuracy: 0.9738\n",
            "Epoch 16/20\n",
            "235/235 [==============================] - 4s 19ms/step - loss: 0.0265 - accuracy: 0.9914 - val_loss: 0.0903 - val_accuracy: 0.9787\n",
            "Epoch 17/20\n",
            "235/235 [==============================] - 4s 16ms/step - loss: 0.0244 - accuracy: 0.9919 - val_loss: 0.1040 - val_accuracy: 0.9772\n",
            "Epoch 18/20\n",
            "235/235 [==============================] - 4s 16ms/step - loss: 0.0231 - accuracy: 0.9925 - val_loss: 0.1049 - val_accuracy: 0.9774\n",
            "Epoch 19/20\n",
            "235/235 [==============================] - 4s 16ms/step - loss: 0.0216 - accuracy: 0.9930 - val_loss: 0.1251 - val_accuracy: 0.9752\n",
            "Epoch 20/20\n",
            "235/235 [==============================] - 4s 16ms/step - loss: 0.0184 - accuracy: 0.9942 - val_loss: 0.1302 - val_accuracy: 0.9768\n"
          ]
        }
      ]
    },
    {
      "cell_type": "code",
      "source": [
        "[test_loss, test_acc] = model.evaluate(test_data, test_labels_one_hot) # evaluating the model with the test loss and test accuarcy\n",
        "print(\"Evaluation result on Test Data : Loss = {}, accuracy = {}\".format(test_loss, test_acc))"
      ],
      "metadata": {
        "colab": {
          "base_uri": "https://localhost:8080/"
        },
        "id": "Fqe_jWTR4nyO",
        "outputId": "5390c80f-d88e-46eb-8ece-c70052e77593"
      },
      "execution_count": 7,
      "outputs": [
        {
          "output_type": "stream",
          "name": "stdout",
          "text": [
            "313/313 [==============================] - 1s 3ms/step - loss: 0.1302 - accuracy: 0.9768\n",
            "Evaluation result on Test Data : Loss = 0.13015246391296387, accuracy = 0.9768000245094299\n"
          ]
        }
      ]
    },
    {
      "cell_type": "markdown",
      "source": [
        "before adding and changing layers \n",
        "\n",
        "Loss = 1.769, accuracy = 0.420\n",
        "\n",
        "after adding layers\n",
        "\n",
        "Loss = 0.130, accuracy = 0.976\n",
        "\n",
        "After modifying the layers, there has been a significant improvement in accuracy."
      ],
      "metadata": {
        "id": "4osVAHHPE5r4"
      }
    },
    {
      "cell_type": "markdown",
      "source": [
        "2. Plotting accuarcy and loss."
      ],
      "metadata": {
        "id": "y4PwT2vFHEeI"
      }
    },
    {
      "cell_type": "code",
      "source": [
        "# plot the accurcy using history object\n",
        "plt.plot(history.history['accuracy'])\n",
        "# plot the val\n",
        "plt.plot(history.history['val_accuracy'])\n",
        "plt.title('Model accuracy')\n",
        "plt.ylabel('Accuracy')\n",
        "plt.xlabel('Epoch')\n",
        "plt.legend(['train', 'test'], loc='upper left')\n",
        "plt.show()"
      ],
      "metadata": {
        "colab": {
          "base_uri": "https://localhost:8080/",
          "height": 295
        },
        "id": "RtOgPVy8Gb5y",
        "outputId": "3cc252db-0621-433d-93bf-40d1f617f86b"
      },
      "execution_count": 8,
      "outputs": [
        {
          "output_type": "display_data",
          "data": {
            "text/plain": [
              "<Figure size 432x288 with 1 Axes>"
            ],
            "image/png": "[encoded data removed]"
          },
          "metadata": {
            "needs_background": "light"
          }
        }
      ]
    },
    {
      "cell_type": "code",
      "source": [
        "# plotting history for loss using history object\n",
        "plt.plot(history.history['loss'])\n",
        "# plot the val of loss\n",
        "plt.plot(history.history['val_loss'])\n",
        "plt.title('Model loss')\n",
        "plt.ylabel('Loss')\n",
        "plt.xlabel('Epoch')\n",
        "plt.legend(['train', 'test'], loc='upper right')\n",
        "plt.show()"
      ],
      "metadata": {
        "colab": {
          "base_uri": "https://localhost:8080/",
          "height": 295
        },
        "id": "Kwea99laGcVI",
        "outputId": "a6004f86-1b97-499a-8fa7-2e4c9114394b"
      },
      "execution_count": 9,
      "outputs": [
        {
          "output_type": "display_data",
          "data": {
            "text/plain": [
              "<Figure size 432x288 with 1 Axes>"
            ],
            "image/png": "[encoded data removed]"
          },
          "metadata": {
            "needs_background": "light"
          }
        }
      ]
    },
    {
      "cell_type": "markdown",
      "source": [
        "3. Running code without nomalization"
      ],
      "metadata": {
        "id": "EzXOACNpHCX5"
      }
    },
    {
      "cell_type": "code",
      "source": [
        "# GIVEN CODE\n",
        "#1. convert each image of shape 28*28 to 784 dimensional which will be fed to the network as a single feature\n",
        "dimData = np.prod(train_images.shape[1:])\n",
        "train_data = train_images.reshape(train_images.shape[0],dimData)\n",
        "test_data = test_images.reshape(test_images.shape[0],dimData)\n",
        "#convert data to float and scale values between 0 and 1\n",
        "train_data.astype('float')\n",
        "test_data.astype('float')\n",
        "#scale data \n",
        "#train_data = train_data /255.0  # commenting out the scale data lines to leave the unscaled.\n",
        "#test_data = test_data /255.0\n",
        "#change the labels from integer to one-hot encoding\n",
        "train_labels_one_hot = to_categorical(train_labels)\n",
        "test_labels_one_hot = to_categorical(test_labels)"
      ],
      "metadata": {
        "id": "txjIzqTwG4-R"
      },
      "execution_count": 10,
      "outputs": []
    },
    {
      "cell_type": "code",
      "source": [
        "#creating network\n",
        "model = Sequential() # initializing model\n",
        "model.add(Dense(64, activation='elu', input_shape=(dimData,))) # 1st hidden layer\n",
        "model.add(Dense(128, activation='elu')) # 2nd hidden layer\n",
        "model.add(Dense(256, activation='elu')) # 3rd hidden layer\n",
        "model.add(Dense(512, activation='elu')) # 4th hidden layer\n",
        "model.add(Dense(10, activation='softmax')) # output layer\n",
        "model.compile(optimizer='rmsprop', loss='categorical_crossentropy', metrics=['accuracy']) # compiling the model\n",
        "history = model.fit(train_data, train_labels_one_hot, batch_size=256, epochs=20, verbose=1, # fitting the data\n",
        "                   validation_data=(test_data, test_labels_one_hot))"
      ],
      "metadata": {
        "colab": {
          "base_uri": "https://localhost:8080/"
        },
        "id": "yOuaq1buG5dg",
        "outputId": "fab02e3e-8ebc-47cd-f608-159760ed5751"
      },
      "execution_count": 11,
      "outputs": [
        {
          "output_type": "stream",
          "name": "stdout",
          "text": [
            "Epoch 1/20\n",
            "235/235 [==============================] - 5s 17ms/step - loss: 1.3302 - accuracy: 0.8068 - val_loss: 0.3621 - val_accuracy: 0.9000\n",
            "Epoch 2/20\n",
            "235/235 [==============================] - 4s 16ms/step - loss: 0.2480 - accuracy: 0.9326 - val_loss: 0.3098 - val_accuracy: 0.9158\n",
            "Epoch 3/20\n",
            "235/235 [==============================] - 4s 16ms/step - loss: 0.1638 - accuracy: 0.9529 - val_loss: 0.1594 - val_accuracy: 0.9555\n",
            "Epoch 4/20\n",
            "235/235 [==============================] - 4s 16ms/step - loss: 0.1242 - accuracy: 0.9645 - val_loss: 0.1630 - val_accuracy: 0.9579\n",
            "Epoch 5/20\n",
            "235/235 [==============================] - 4s 16ms/step - loss: 0.1016 - accuracy: 0.9719 - val_loss: 0.1866 - val_accuracy: 0.9556\n",
            "Epoch 6/20\n",
            "235/235 [==============================] - 4s 16ms/step - loss: 0.0870 - accuracy: 0.9751 - val_loss: 0.1880 - val_accuracy: 0.9626\n",
            "Epoch 7/20\n",
            "235/235 [==============================] - 4s 16ms/step - loss: 0.0796 - accuracy: 0.9775 - val_loss: 0.2088 - val_accuracy: 0.9600\n",
            "Epoch 8/20\n",
            "235/235 [==============================] - 4s 16ms/step - loss: 0.0746 - accuracy: 0.9797 - val_loss: 0.1834 - val_accuracy: 0.9664\n",
            "Epoch 9/20\n",
            "235/235 [==============================] - 4s 18ms/step - loss: 0.0725 - accuracy: 0.9810 - val_loss: 0.1550 - val_accuracy: 0.9708\n",
            "Epoch 10/20\n",
            "235/235 [==============================] - 7s 28ms/step - loss: 0.0634 - accuracy: 0.9834 - val_loss: 0.1934 - val_accuracy: 0.9692\n",
            "Epoch 11/20\n",
            "235/235 [==============================] - 4s 15ms/step - loss: 0.0637 - accuracy: 0.9836 - val_loss: 0.2202 - val_accuracy: 0.9677\n",
            "Epoch 12/20\n",
            "235/235 [==============================] - 4s 16ms/step - loss: 0.0598 - accuracy: 0.9850 - val_loss: 0.2335 - val_accuracy: 0.9662\n",
            "Epoch 13/20\n",
            "235/235 [==============================] - 4s 16ms/step - loss: 0.0575 - accuracy: 0.9858 - val_loss: 0.2471 - val_accuracy: 0.9681\n",
            "Epoch 14/20\n",
            "235/235 [==============================] - 4s 16ms/step - loss: 0.0602 - accuracy: 0.9859 - val_loss: 0.2451 - val_accuracy: 0.9702\n",
            "Epoch 15/20\n",
            "235/235 [==============================] - 4s 18ms/step - loss: 0.0551 - accuracy: 0.9869 - val_loss: 0.2675 - val_accuracy: 0.9670\n",
            "Epoch 16/20\n",
            "235/235 [==============================] - 4s 17ms/step - loss: 0.0526 - accuracy: 0.9878 - val_loss: 0.2788 - val_accuracy: 0.9679\n",
            "Epoch 17/20\n",
            "235/235 [==============================] - 4s 16ms/step - loss: 0.0544 - accuracy: 0.9875 - val_loss: 0.4057 - val_accuracy: 0.9652\n",
            "Epoch 18/20\n",
            "235/235 [==============================] - 4s 16ms/step - loss: 0.0526 - accuracy: 0.9889 - val_loss: 0.2430 - val_accuracy: 0.9688\n",
            "Epoch 19/20\n",
            "235/235 [==============================] - 4s 15ms/step - loss: 0.0492 - accuracy: 0.9893 - val_loss: 0.2979 - val_accuracy: 0.9700\n",
            "Epoch 20/20\n",
            "235/235 [==============================] - 4s 16ms/step - loss: 0.0518 - accuracy: 0.9892 - val_loss: 0.4725 - val_accuracy: 0.9557\n"
          ]
        }
      ]
    },
    {
      "cell_type": "code",
      "source": [
        "[test_loss, test_acc] = model.evaluate(test_data, test_labels_one_hot)  # evaluating the model with the test loss and test accuarcy\n",
        "print(\"Evaluation result on Test Data : Loss = {}, accuracy = {}\".format(test_loss, test_acc))"
      ],
      "metadata": {
        "colab": {
          "base_uri": "https://localhost:8080/"
        },
        "id": "RpmpoqjeG74v",
        "outputId": "e40e9ee3-9275-488a-e899-e6098289715c"
      },
      "execution_count": 12,
      "outputs": [
        {
          "output_type": "stream",
          "name": "stdout",
          "text": [
            "313/313 [==============================] - 1s 3ms/step - loss: 0.4725 - accuracy: 0.9557\n",
            "Evaluation result on Test Data : Loss = 0.47247588634490967, accuracy = 0.9556999802589417\n"
          ]
        }
      ]
    },
    {
      "cell_type": "markdown",
      "source": [
        "Minor change without unscaling the images\n",
        "\n",
        "Loss = 0.472, accuracy = 0.955\n"
      ],
      "metadata": {
        "id": "t7vl6jXRHoRF"
      }
    },
    {
      "cell_type": "code",
      "source": [
        "# plot the accurcy\n",
        "plt.plot(history.history['accuracy'])\n",
        "# plot the val\n",
        "plt.plot(history.history['val_accuracy'])\n",
        "plt.title('Model accuracy')\n",
        "plt.ylabel('Accuracy')\n",
        "plt.xlabel('Epoch')\n",
        "plt.legend(['train', 'test'], loc='upper left')\n",
        "plt.show()"
      ],
      "metadata": {
        "colab": {
          "base_uri": "https://localhost:8080/",
          "height": 295
        },
        "id": "Se6lP3OLG_c4",
        "outputId": "59b014b6-e696-4c04-c80f-d375bb96cf9e"
      },
      "execution_count": 13,
      "outputs": [
        {
          "output_type": "display_data",
          "data": {
            "text/plain": [
              "<Figure size 432x288 with 1 Axes>"
            ],
            "image/png": "[encoded data removed]"
          },
          "metadata": {
            "needs_background": "light"
          }
        }
      ]
    },
    {
      "cell_type": "code",
      "source": [
        "# plotting history for loss\n",
        "plt.plot(history.history['loss'])\n",
        "# plot the val of loss\n",
        "plt.plot(history.history['val_loss'])\n",
        "plt.title('Model loss')\n",
        "plt.ylabel('Loss')\n",
        "plt.xlabel('Epoch')\n",
        "plt.legend(['train', 'test'], loc='upper right')\n",
        "plt.show()"
      ],
      "metadata": {
        "colab": {
          "base_uri": "https://localhost:8080/",
          "height": 295
        },
        "id": "kHqt_aP9HA65",
        "outputId": "83f2dcc8-30ae-4cf7-c4e1-44382ea276ff"
      },
      "execution_count": 14,
      "outputs": [
        {
          "output_type": "display_data",
          "data": {
            "text/plain": [
              "<Figure size 432x288 with 1 Axes>"
            ],
            "image/png": "[encoded data removed]"
          },
          "metadata": {
            "needs_background": "light"
          }
        }
      ]
    },
    {
      "cell_type": "markdown",
      "source": [
        "4. Creating Functional API"
      ],
      "metadata": {
        "id": "IZl_kGr9Hxcg"
      }
    },
    {
      "cell_type": "code",
      "source": [
        "# GIVEN CODE\n",
        "#1. convert each image of shape 28*28 to 784 dimensional which will be fed to the network as a single feature\n",
        "dimData = np.prod(train_images.shape[1:])\n",
        "train_data = train_images.reshape(train_images.shape[0],dimData)\n",
        "test_data = test_images.reshape(test_images.shape[0],dimData)\n",
        "#convert data to float and scale values between 0 and 1\n",
        "train_data.astype('float')\n",
        "test_data.astype('float')\n",
        "#scale data\n",
        "train_data = train_data /255.0\n",
        "test_data = test_data /255.0\n",
        "#change the labels from integer to one-hot encoding\n",
        "train_labels_one_hot = to_categorical(train_labels)\n",
        "test_labels_one_hot = to_categorical(test_labels)"
      ],
      "metadata": {
        "id": "MWGHXH5iY1wJ"
      },
      "execution_count": 15,
      "outputs": []
    },
    {
      "cell_type": "code",
      "source": [
        "#creating network\n",
        "input_layer= Input(shape=(dimData,)) # input layer\n",
        "\n",
        "hidden_layer=Dense(64, activation='elu')(input_layer) # 1st hidden layer\n",
        "hidden_layer=Dense(128, activation='elu')(hidden_layer) # 2nd hidden layer\n",
        "hidden_layer=Dense(256, activation='elu')(hidden_layer) # 3rd hidden layer\n",
        "hidden_layer=Dense(512, activation='elu')(hidden_layer) # 4th hidden layer\n",
        "output_layer=Dense(10, activation='softmax')(hidden_layer) # output layer\n",
        "\n",
        "model = Model(inputs= input_layer, outputs=output_layer) # Initializing and creating the functional api model\n",
        "model.compile(optimizer='rmsprop', loss='categorical_crossentropy', metrics=['accuracy']) # compiling the model\n",
        "history = model.fit(train_data, train_labels_one_hot, batch_size=256, epochs=20, verbose=1, # fitting the model\n",
        "                   validation_data=(test_data, test_labels_one_hot))"
      ],
      "metadata": {
        "id": "VZT71FVEH6TF",
        "colab": {
          "base_uri": "https://localhost:8080/"
        },
        "outputId": "5ca075e0-be00-40e0-c1ce-958bdf4b05f6"
      },
      "execution_count": 16,
      "outputs": [
        {
          "output_type": "stream",
          "name": "stdout",
          "text": [
            "Epoch 1/20\n",
            "235/235 [==============================] - 5s 17ms/step - loss: 0.3952 - accuracy: 0.8773 - val_loss: 0.2833 - val_accuracy: 0.9145\n",
            "Epoch 2/20\n",
            "235/235 [==============================] - 4s 16ms/step - loss: 0.2042 - accuracy: 0.9375 - val_loss: 0.1824 - val_accuracy: 0.9457\n",
            "Epoch 3/20\n",
            "235/235 [==============================] - 4s 16ms/step - loss: 0.1470 - accuracy: 0.9546 - val_loss: 0.1534 - val_accuracy: 0.9531\n",
            "Epoch 4/20\n",
            "235/235 [==============================] - 4s 16ms/step - loss: 0.1166 - accuracy: 0.9632 - val_loss: 0.1176 - val_accuracy: 0.9639\n",
            "Epoch 5/20\n",
            "235/235 [==============================] - 4s 16ms/step - loss: 0.0972 - accuracy: 0.9696 - val_loss: 0.1993 - val_accuracy: 0.9384\n",
            "Epoch 6/20\n",
            "235/235 [==============================] - 4s 16ms/step - loss: 0.0827 - accuracy: 0.9734 - val_loss: 0.1790 - val_accuracy: 0.9422\n",
            "Epoch 7/20\n",
            "235/235 [==============================] - 4s 16ms/step - loss: 0.0709 - accuracy: 0.9767 - val_loss: 0.0969 - val_accuracy: 0.9715\n",
            "Epoch 8/20\n",
            "235/235 [==============================] - 4s 16ms/step - loss: 0.0642 - accuracy: 0.9794 - val_loss: 0.1047 - val_accuracy: 0.9694\n",
            "Epoch 9/20\n",
            "235/235 [==============================] - 4s 16ms/step - loss: 0.0563 - accuracy: 0.9814 - val_loss: 0.0991 - val_accuracy: 0.9703\n",
            "Epoch 10/20\n",
            "235/235 [==============================] - 4s 16ms/step - loss: 0.0508 - accuracy: 0.9837 - val_loss: 0.0933 - val_accuracy: 0.9747\n",
            "Epoch 11/20\n",
            "235/235 [==============================] - 4s 16ms/step - loss: 0.0445 - accuracy: 0.9856 - val_loss: 0.1171 - val_accuracy: 0.9672\n",
            "Epoch 12/20\n",
            "235/235 [==============================] - 4s 16ms/step - loss: 0.0398 - accuracy: 0.9868 - val_loss: 0.1145 - val_accuracy: 0.9703\n",
            "Epoch 13/20\n",
            "235/235 [==============================] - 4s 16ms/step - loss: 0.0354 - accuracy: 0.9879 - val_loss: 0.0877 - val_accuracy: 0.9776\n",
            "Epoch 14/20\n",
            "235/235 [==============================] - 4s 16ms/step - loss: 0.0328 - accuracy: 0.9896 - val_loss: 0.1188 - val_accuracy: 0.9714\n",
            "Epoch 15/20\n",
            "235/235 [==============================] - 4s 17ms/step - loss: 0.0286 - accuracy: 0.9905 - val_loss: 0.1324 - val_accuracy: 0.9699\n",
            "Epoch 16/20\n",
            "235/235 [==============================] - 5s 21ms/step - loss: 0.0283 - accuracy: 0.9908 - val_loss: 0.1093 - val_accuracy: 0.9751\n",
            "Epoch 17/20\n",
            "235/235 [==============================] - 4s 16ms/step - loss: 0.0250 - accuracy: 0.9919 - val_loss: 0.1000 - val_accuracy: 0.9770\n",
            "Epoch 18/20\n",
            "235/235 [==============================] - 4s 16ms/step - loss: 0.0216 - accuracy: 0.9926 - val_loss: 0.1165 - val_accuracy: 0.9762\n",
            "Epoch 19/20\n",
            "235/235 [==============================] - 4s 16ms/step - loss: 0.0210 - accuracy: 0.9929 - val_loss: 0.1741 - val_accuracy: 0.9654\n",
            "Epoch 20/20\n",
            "235/235 [==============================] - 4s 16ms/step - loss: 0.0202 - accuracy: 0.9935 - val_loss: 0.1123 - val_accuracy: 0.9771\n"
          ]
        }
      ]
    },
    {
      "cell_type": "code",
      "source": [
        "[test_loss, test_acc] = model.evaluate(test_data, test_labels_one_hot) # evaluating the model with the test loss and test accuarcy\n",
        "print(\"Evaluation result on Test Data : Loss = {}, accuracy = {}\".format(test_loss, test_acc))"
      ],
      "metadata": {
        "colab": {
          "base_uri": "https://localhost:8080/"
        },
        "id": "3Xv02OvaK-FD",
        "outputId": "253e0211-17f8-42d1-f828-d71d56e0eb49"
      },
      "execution_count": 17,
      "outputs": [
        {
          "output_type": "stream",
          "name": "stdout",
          "text": [
            "313/313 [==============================] - 1s 3ms/step - loss: 0.1123 - accuracy: 0.9771\n",
            "Evaluation result on Test Data : Loss = 0.11225304007530212, accuracy = 0.9771000146865845\n"
          ]
        }
      ]
    },
    {
      "cell_type": "markdown",
      "source": [
        "Minor imporvement but does prove that the functional api is as good as the sequential model"
      ],
      "metadata": {
        "id": "BsJp8KuUdgL4"
      }
    },
    {
      "cell_type": "markdown",
      "source": [
        "5. Plotting one image and making a prediction"
      ],
      "metadata": {
        "id": "oYxDJjpudyxG"
      }
    },
    {
      "cell_type": "code",
      "source": [
        "plt.imshow(test_images[3,:,:],cmap='gray') # selecting a random image"
      ],
      "metadata": {
        "colab": {
          "base_uri": "https://localhost:8080/",
          "height": 282
        },
        "id": "Y4rt4aS0dyHP",
        "outputId": "8878312f-a795-4682-9326-824e1a3022c8"
      },
      "execution_count": 18,
      "outputs": [
        {
          "output_type": "execute_result",
          "data": {
            "text/plain": [
              "<matplotlib.image.AxesImage at 0x7f140df07150>"
            ]
          },
          "metadata": {},
          "execution_count": 18
        },
        {
          "output_type": "display_data",
          "data": {
            "text/plain": [
              "<Figure size 432x288 with 1 Axes>"
            ],
            "image/png": "[encoded data removed]"
          },
          "metadata": {
            "needs_background": "light"
          }
        }
      ]
    },
    {
      "cell_type": "code",
      "source": [
        "predict=model.predict(test_data[[3],:]) #using the model to predict what the image is\n",
        "classes_predict=np.argmax(predict,axis=1) # classifying the image\n",
        "print(classes_predict) #print the prediction"
      ],
      "metadata": {
        "colab": {
          "base_uri": "https://localhost:8080/"
        },
        "id": "S5N0MhYgd1vG",
        "outputId": "d10640c7-7fd0-471e-f6cc-2b9e491574c5"
      },
      "execution_count": 19,
      "outputs": [
        {
          "output_type": "stream",
          "name": "stdout",
          "text": [
            "[0]\n"
          ]
        }
      ]
    },
    {
      "cell_type": "markdown",
      "source": [
        "We tested this on most of the test images and it is predicting correctly as stated with the high accuracy given when we evaluated the model."
      ],
      "metadata": {
        "id": "ayN7ZG-Peoo1"
      }
    },
    {
      "cell_type": "markdown",
      "source": [
        "Bonus Questions"
      ],
      "metadata": {
        "id": "VY7ne9UTg8Bx"
      }
    },
    {
      "cell_type": "markdown",
      "source": [
        "1. Change loss method to sparce categorical cross entropy"
      ],
      "metadata": {
        "id": "IlJCoV9zg9yy"
      }
    },
    {
      "cell_type": "markdown",
      "source": [
        "The error that we got was:\n",
        "\n",
        " \"'sparse_categorical_crossentropy/SparseSoftmaxCrossEntropyWithLogits/SparseSoftmaxCrossEntropyWithLogits'\n",
        "logits and labels must have the same first dimension, got logits shape [256,10] and labels shape [2560]\"\n",
        "\n",
        "Since our target needs to be a 1D integer encoded target. in the given code we were changing the labels from interger to one hot encoding which was causing the problem. We replaced the code that was used for train_labels_one_hot and test_labels_one_hot with train_labels and test_labels\n"
      ],
      "metadata": {
        "id": "NS-5fN9LjCZZ"
      }
    },
    {
      "cell_type": "code",
      "source": [
        "# GIVEN CODE\n",
        "(train_images,train_labels),(test_images, test_labels) = mnist.load_data()\n",
        "#1. convert each image of shape 28*28 to 784 dimensional which will be fed to the network as a single feature\n",
        "dimData = np.prod(train_images.shape[1:])\n",
        "train_data = train_images.reshape(train_images.shape[0],dimData)\n",
        "test_data = test_images.reshape(test_images.shape[0],dimData)\n",
        "#convert data to float and scale values between 0 and 1\n",
        "train_data.astype('float')\n",
        "test_data.astype('float')\n",
        "#scale data\n",
        "train_data = train_data /255.0\n",
        "test_data = test_data /255.0\n",
        "#change the labels from integer to one-hot encoding\n",
        "\n",
        "#commenting the one hot encoding lines to allow sparse categorical cross entropy to work.\n",
        "\n",
        "#train_labels_one_hot = to_categorical(train_labels)\n",
        "#test_labels_one_hot = to_categorical(test_labels)"
      ],
      "metadata": {
        "id": "Nb4ZpA58hFi6"
      },
      "execution_count": 20,
      "outputs": []
    },
    {
      "cell_type": "code",
      "source": [
        "#creating network\n",
        "model = Sequential() # Initializing the model\n",
        "model.add(Dense(64, activation='elu', input_shape=(dimData,))) # 1st hidden layer\n",
        "model.add(Dense(128, activation='elu')) # 2nd hidden layer\n",
        "model.add(Dense(256, activation='elu')) # 3rd hidden layer\n",
        "model.add(Dense(512, activation='elu')) # 4th hidden layer\n",
        "model.add(Dense(10, activation='softmax')) # output layer\n",
        "model.compile(optimizer='rmsprop', loss='sparse_categorical_crossentropy', metrics=['accuracy']) # compile the model\n",
        "history = model.fit(train_data, train_labels, batch_size=256, epochs=20, verbose=1, # fitting the data\n",
        "                   validation_data=(test_data, test_labels))"
      ],
      "metadata": {
        "colab": {
          "base_uri": "https://localhost:8080/"
        },
        "id": "nhKJE-AYiHWs",
        "outputId": "2124ea6b-532e-4d93-a3b9-5ec380bbf6d7"
      },
      "execution_count": 21,
      "outputs": [
        {
          "output_type": "stream",
          "name": "stdout",
          "text": [
            "Epoch 1/20\n",
            "235/235 [==============================] - 5s 16ms/step - loss: 0.3875 - accuracy: 0.8795 - val_loss: 0.2392 - val_accuracy: 0.9285\n",
            "Epoch 2/20\n",
            "235/235 [==============================] - 4s 16ms/step - loss: 0.2020 - accuracy: 0.9376 - val_loss: 0.2021 - val_accuracy: 0.9348\n",
            "Epoch 3/20\n",
            "235/235 [==============================] - 4s 16ms/step - loss: 0.1469 - accuracy: 0.9544 - val_loss: 0.2060 - val_accuracy: 0.9369\n",
            "Epoch 4/20\n",
            "235/235 [==============================] - 4s 15ms/step - loss: 0.1168 - accuracy: 0.9639 - val_loss: 0.1975 - val_accuracy: 0.9431\n",
            "Epoch 5/20\n",
            "235/235 [==============================] - 4s 16ms/step - loss: 0.0970 - accuracy: 0.9693 - val_loss: 0.1234 - val_accuracy: 0.9639\n",
            "Epoch 6/20\n",
            "235/235 [==============================] - 4s 16ms/step - loss: 0.0823 - accuracy: 0.9738 - val_loss: 0.1365 - val_accuracy: 0.9611\n",
            "Epoch 7/20\n",
            "235/235 [==============================] - 4s 15ms/step - loss: 0.0710 - accuracy: 0.9765 - val_loss: 0.1275 - val_accuracy: 0.9620\n",
            "Epoch 8/20\n",
            "235/235 [==============================] - 4s 15ms/step - loss: 0.0621 - accuracy: 0.9800 - val_loss: 0.1107 - val_accuracy: 0.9689\n",
            "Epoch 9/20\n",
            "235/235 [==============================] - 4s 15ms/step - loss: 0.0552 - accuracy: 0.9821 - val_loss: 0.0999 - val_accuracy: 0.9739\n",
            "Epoch 10/20\n",
            "235/235 [==============================] - 4s 16ms/step - loss: 0.0493 - accuracy: 0.9839 - val_loss: 0.1077 - val_accuracy: 0.9735\n",
            "Epoch 11/20\n",
            "235/235 [==============================] - 4s 16ms/step - loss: 0.0448 - accuracy: 0.9850 - val_loss: 0.1390 - val_accuracy: 0.9649\n",
            "Epoch 12/20\n",
            "235/235 [==============================] - 4s 15ms/step - loss: 0.0402 - accuracy: 0.9866 - val_loss: 0.1189 - val_accuracy: 0.9706\n",
            "Epoch 13/20\n",
            "235/235 [==============================] - 4s 15ms/step - loss: 0.0346 - accuracy: 0.9882 - val_loss: 0.1183 - val_accuracy: 0.9739\n",
            "Epoch 14/20\n",
            "235/235 [==============================] - 4s 15ms/step - loss: 0.0322 - accuracy: 0.9897 - val_loss: 0.1223 - val_accuracy: 0.9714\n",
            "Epoch 15/20\n",
            "235/235 [==============================] - 4s 16ms/step - loss: 0.0294 - accuracy: 0.9901 - val_loss: 0.0968 - val_accuracy: 0.9774\n",
            "Epoch 16/20\n",
            "235/235 [==============================] - 4s 15ms/step - loss: 0.0268 - accuracy: 0.9915 - val_loss: 0.1023 - val_accuracy: 0.9786\n",
            "Epoch 17/20\n",
            "235/235 [==============================] - 4s 16ms/step - loss: 0.0244 - accuracy: 0.9921 - val_loss: 0.1157 - val_accuracy: 0.9763\n",
            "Epoch 18/20\n",
            "235/235 [==============================] - 4s 15ms/step - loss: 0.0219 - accuracy: 0.9927 - val_loss: 0.1316 - val_accuracy: 0.9744\n",
            "Epoch 19/20\n",
            "235/235 [==============================] - 4s 16ms/step - loss: 0.0217 - accuracy: 0.9932 - val_loss: 0.1573 - val_accuracy: 0.9700\n",
            "Epoch 20/20\n",
            "235/235 [==============================] - 4s 16ms/step - loss: 0.0209 - accuracy: 0.9933 - val_loss: 0.1385 - val_accuracy: 0.9753\n"
          ]
        }
      ]
    },
    {
      "cell_type": "code",
      "source": [
        "[test_loss, test_acc] = model.evaluate(test_data, test_labels) # evaluating the model with the test loss and test accuarcy\n",
        "print(\"Evaluation result on Test Data : Loss = {}, accuracy = {}\".format(test_loss, test_acc))"
      ],
      "metadata": {
        "colab": {
          "base_uri": "https://localhost:8080/"
        },
        "id": "XykxwLlAiKKr",
        "outputId": "ed64153a-dc95-448a-8370-529e3a1ee8b7"
      },
      "execution_count": 23,
      "outputs": [
        {
          "output_type": "stream",
          "name": "stdout",
          "text": [
            "313/313 [==============================] - 2s 5ms/step - loss: 0.1385 - accuracy: 0.9753\n",
            "Evaluation result on Test Data : Loss = 0.1385335773229599, accuracy = 0.9753000140190125\n"
          ]
        }
      ]
    },
    {
      "cell_type": "markdown",
      "source": [
        "2. Print correct class from model prediction."
      ],
      "metadata": {
        "id": "JgEXYbqBmk9Y"
      }
    },
    {
      "cell_type": "code",
      "source": [
        "plt.imshow(test_images[3,:,:],cmap='gray') # selecting a random image"
      ],
      "metadata": {
        "colab": {
          "base_uri": "https://localhost:8080/",
          "height": 282
        },
        "id": "POiWv2RFmkZR",
        "outputId": "cf8fae5b-4b58-4753-f05c-db025f14fe1b"
      },
      "execution_count": 24,
      "outputs": [
        {
          "output_type": "execute_result",
          "data": {
            "text/plain": [
              "<matplotlib.image.AxesImage at 0x7f1411238e10>"
            ]
          },
          "metadata": {},
          "execution_count": 24
        },
        {
          "output_type": "display_data",
          "data": {
            "text/plain": [
              "<Figure size 432x288 with 1 Axes>"
            ],
            "image/png": "[encoded data removed]"
          },
          "metadata": {
            "needs_background": "light"
          }
        }
      ]
    },
    {
      "cell_type": "code",
      "source": [
        "predict=model.predict(test_data[[3],:]) #using the model to predict what the image is\n",
        "classes_predict=np.argmax(predict,axis=1) # classifying the image using numpy argmax\n",
        "print(classes_predict) #print the prediction"
      ],
      "metadata": {
        "colab": {
          "base_uri": "https://localhost:8080/"
        },
        "id": "ooOcw_NDmxTg",
        "outputId": "762bfc8d-962c-41fd-c80e-de7b40dd566c"
      },
      "execution_count": 25,
      "outputs": [
        {
          "output_type": "stream",
          "name": "stdout",
          "text": [
            "[0]\n"
          ]
        }
      ]
    }
  ]
}