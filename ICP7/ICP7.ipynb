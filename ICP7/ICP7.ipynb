{
  "cells": [
    {
      "cell_type": "code",
      "execution_count": null,
      "metadata": {
        "id": "FdMM_-yvLVVi"
      },
      "outputs": [],
      "source": [
        "# importing libraries and dataset\n",
        "from sklearn.datasets import fetch_20newsgroups\n",
        "from sklearn.feature_extraction.text import CountVectorizer, TfidfVectorizer\n",
        "from sklearn.feature_extraction.text import TfidfTransformer\n",
        "from sklearn import metrics\n",
        "from sklearn.pipeline import Pipeline\n",
        "from sklearn.naive_bayes import MultinomialNB\n",
        "from sklearn.neighbors import KNeighborsClassifier\n",
        "from sklearn.naive_bayes import BernoulliNB\n",
        "from sklearn.naive_bayes import GaussianNB\n",
        "from sklearn.model_selection import train_test_split\n",
        "from sklearn.svm import SVC\n",
        "from sklearn.metrics import accuracy_score\n",
        "from sklearn.metrics import classification_report\n",
        "# getting train data\n",
        "twenty_train = fetch_20newsgroups(subset='train', shuffle=True)"
      ]
    },
    {
      "cell_type": "markdown",
      "metadata": {
        "id": "0oOaK1DVPtbD"
      },
      "source": [
        "A."
      ]
    },
    {
      "cell_type": "code",
      "execution_count": null,
      "metadata": {
        "colab": {
          "base_uri": "https://localhost:8080/"
        },
        "id": "h4Fns3bgL-Js",
        "outputId": "6cce6479-0338-4301-b645-10cb69825823"
      },
      "outputs": [
        {
          "data": {
            "text/plain": [
              "SVC()"
            ]
          },
          "execution_count": 19,
          "metadata": {},
          "output_type": "execute_result"
        }
      ],
      "source": [
        "# vectorizing tf idf \n",
        "tfidf_Vect = TfidfVectorizer()\n",
        "# fitting train data as vector TF-IDF\n",
        "X_train_tfidf = tfidf_Vect.fit_transform(twenty_train.data)\n",
        "# fitting train and target data\n",
        "clf = SVC()\n",
        "clf.fit(X_train_tfidf, twenty_train.target)"
      ]
    },
    {
      "cell_type": "code",
      "execution_count": null,
      "metadata": {
        "id": "_1ls8YkJMFGc"
      },
      "outputs": [],
      "source": [
        "# getting test data\n",
        "twenty_test = fetch_20newsgroups(subset='test', shuffle=True)\n",
        "# trainsforming test data TF-IDF\n",
        "X_test_tfidf = tfidf_Vect.transform(twenty_test.data)"
      ]
    },
    {
      "cell_type": "code",
      "execution_count": null,
      "metadata": {
        "id": "5LFEkgL8MIsx"
      },
      "outputs": [],
      "source": [
        "# calculating prediction\n",
        "predicted = clf.predict(X_test_tfidf)"
      ]
    },
    {
      "cell_type": "code",
      "execution_count": null,
      "metadata": {
        "colab": {
          "base_uri": "https://localhost:8080/"
        },
        "id": "y4zk0ah7MNxk",
        "outputId": "3f5bcc09-19d7-4220-d992-cbbfc74f16f1"
      },
      "outputs": [
        {
          "name": "stdout",
          "output_type": "stream",
          "text": [
            "0.8186404673393521\n"
          ]
        }
      ],
      "source": [
        "# calculating accuracy score and print\n",
        "score = metrics.accuracy_score(twenty_test.target, predicted)\n",
        "print(score)"
      ]
    },
    {
      "cell_type": "code",
      "execution_count": null,
      "metadata": {
        "colab": {
          "base_uri": "https://localhost:8080/"
        },
        "id": "5-1I9v3KQ_46",
        "outputId": "88042182-0562-428a-bf4b-92571c30118d"
      },
      "outputs": [
        {
          "name": "stdout",
          "output_type": "stream",
          "text": [
            "                          precision    recall  f1-score   support\n",
            "\n",
            "             alt.atheism       0.83      0.71      0.76       319\n",
            "           comp.graphics       0.62      0.82      0.71       389\n",
            " comp.os.ms-windows.misc       0.80      0.70      0.75       394\n",
            "comp.sys.ibm.pc.hardware       0.73      0.78      0.76       392\n",
            "   comp.sys.mac.hardware       0.82      0.83      0.82       385\n",
            "          comp.windows.x       0.83      0.73      0.77       395\n",
            "            misc.forsale       0.73      0.91      0.81       390\n",
            "               rec.autos       0.90      0.87      0.89       396\n",
            "         rec.motorcycles       0.96      0.93      0.95       398\n",
            "      rec.sport.baseball       0.88      0.91      0.90       397\n",
            "        rec.sport.hockey       0.97      0.91      0.94       399\n",
            "               sci.crypt       0.96      0.85      0.90       396\n",
            "         sci.electronics       0.65      0.85      0.74       393\n",
            "                 sci.med       0.88      0.78      0.82       396\n",
            "               sci.space       0.93      0.88      0.90       394\n",
            "  soc.religion.christian       0.79      0.92      0.85       398\n",
            "      talk.politics.guns       0.75      0.88      0.81       364\n",
            "   talk.politics.mideast       0.97      0.81      0.88       376\n",
            "      talk.politics.misc       0.75      0.59      0.66       310\n",
            "      talk.religion.misc       0.79      0.55      0.65       251\n",
            "\n",
            "                accuracy                           0.82      7532\n",
            "               macro avg       0.83      0.81      0.81      7532\n",
            "            weighted avg       0.83      0.82      0.82      7532\n",
            "\n"
          ]
        }
      ],
      "source": [
        "# creating list with target names\n",
        "classes = list(twenty_train.target_names)\n",
        "# getting classification report and print\n",
        "class_report = classification_report(twenty_test.target, predicted, target_names = classes)\n",
        "print(class_report)"
      ]
    },
    {
      "cell_type": "markdown",
      "metadata": {
        "id": "Z6axKf7zPoNk"
      },
      "source": [
        "B."
      ]
    },
    {
      "cell_type": "code",
      "execution_count": null,
      "metadata": {
        "colab": {
          "base_uri": "https://localhost:8080/"
        },
        "id": "3ue9kmYEPkXc",
        "outputId": "ad32dfdb-8295-4236-d727-fd9cca0c6518"
      },
      "outputs": [
        {
          "data": {
            "text/plain": [
              "KNeighborsClassifier()"
            ]
          },
          "execution_count": 24,
          "metadata": {},
          "output_type": "execute_result"
        }
      ],
      "source": [
        "# fitting train data as vector TF-IDF\n",
        "tfidf_Vect = TfidfVectorizer()\n",
        "X_train_tfidf = tfidf_Vect.fit_transform(twenty_train.data)\n",
        "# fitting train data and target with KNN neighbor 5\n",
        "clf = KNeighborsClassifier(n_neighbors=5)\n",
        "clf.fit(X_train_tfidf, twenty_train.target)"
      ]
    },
    {
      "cell_type": "code",
      "execution_count": null,
      "metadata": {
        "id": "8C5WPweGPxK5"
      },
      "outputs": [],
      "source": [
        "# getting test data\n",
        "twenty_test = fetch_20newsgroups(subset='test', shuffle=True)\n",
        "# transforming train data as vector TF-IDF\n",
        "X_test_tfidf = tfidf_Vect.transform(twenty_test.data)"
      ]
    },
    {
      "cell_type": "code",
      "execution_count": null,
      "metadata": {
        "id": "2pR4OwflPzPN"
      },
      "outputs": [],
      "source": [
        "# calculating prediction\n",
        "predicted = clf.predict(X_test_tfidf)"
      ]
    },
    {
      "cell_type": "code",
      "execution_count": null,
      "metadata": {
        "colab": {
          "base_uri": "https://localhost:8080/"
        },
        "id": "nHjeiQj3P0io",
        "outputId": "39d2fe5d-a962-4150-b7c1-4142d66b9f24"
      },
      "outputs": [
        {
          "name": "stdout",
          "output_type": "stream",
          "text": [
            "0.6591874668082847\n"
          ]
        }
      ],
      "source": [
        "# calculating accuracy score and print\n",
        "# score = metrics.accuracy_score(twenty_test.target, predicted)\n",
        "print(score)"
      ]
    },
    {
      "cell_type": "code",
      "execution_count": null,
      "metadata": {
        "colab": {
          "base_uri": "https://localhost:8080/"
        },
        "id": "yEt-m5RnQ_Gj",
        "outputId": "865683bd-df92-42bd-fccb-52e93d944281"
      },
      "outputs": [
        {
          "name": "stdout",
          "output_type": "stream",
          "text": [
            "                          precision    recall  f1-score   support\n",
            "\n",
            "             alt.atheism       0.43      0.76      0.55       319\n",
            "           comp.graphics       0.50      0.61      0.55       389\n",
            " comp.os.ms-windows.misc       0.56      0.57      0.57       394\n",
            "comp.sys.ibm.pc.hardware       0.53      0.58      0.56       392\n",
            "   comp.sys.mac.hardware       0.59      0.56      0.57       385\n",
            "          comp.windows.x       0.69      0.60      0.64       395\n",
            "            misc.forsale       0.58      0.45      0.51       390\n",
            "               rec.autos       0.75      0.69      0.72       396\n",
            "         rec.motorcycles       0.84      0.81      0.82       398\n",
            "      rec.sport.baseball       0.77      0.72      0.74       397\n",
            "        rec.sport.hockey       0.85      0.84      0.84       399\n",
            "               sci.crypt       0.76      0.84      0.80       396\n",
            "         sci.electronics       0.70      0.50      0.58       393\n",
            "                 sci.med       0.82      0.49      0.62       396\n",
            "               sci.space       0.79      0.76      0.78       394\n",
            "  soc.religion.christian       0.75      0.76      0.76       398\n",
            "      talk.politics.guns       0.70      0.73      0.72       364\n",
            "   talk.politics.mideast       0.62      0.76      0.69       376\n",
            "      talk.politics.misc       0.55      0.61      0.58       310\n",
            "      talk.religion.misc       0.56      0.49      0.52       251\n",
            "\n",
            "                accuracy                           0.66      7532\n",
            "               macro avg       0.67      0.66      0.65      7532\n",
            "            weighted avg       0.67      0.66      0.66      7532\n",
            "\n"
          ]
        }
      ],
      "source": [
        "# creating list with target names\n",
        "classes = list(twenty_train.target_names)\n",
        "# getting classification report and print\n",
        "class_report = classification_report(twenty_test.target, predicted, target_names = classes)\n",
        "print(class_report)"
      ]
    },
    {
      "cell_type": "markdown",
      "metadata": {
        "id": "SpQvkdq22Alm"
      },
      "source": [
        "C."
      ]
    },
    {
      "cell_type": "code",
      "execution_count": null,
      "metadata": {
        "colab": {
          "base_uri": "https://localhost:8080/"
        },
        "id": "QNmNxfVuNEvB",
        "outputId": "564010b4-a070-4ebd-d8a5-73d8b077257f"
      },
      "outputs": [
        {
          "data": {
            "text/plain": [
              "KNeighborsClassifier()"
            ]
          },
          "execution_count": 29,
          "metadata": {},
          "output_type": "execute_result"
        }
      ],
      "source": [
        "# vectorizing TF-IDF and fitting with train data\n",
        "tfidf_Vect = TfidfVectorizer(ngram_range=(1,2))\n",
        "X_train_tfidf = tfidf_Vect.fit_transform(twenty_train.data)\n",
        "# fitting train data and target with KNN neighbor 5\n",
        "clf = KNeighborsClassifier(n_neighbors=5)\n",
        "clf.fit(X_train_tfidf, twenty_train.target)"
      ]
    },
    {
      "cell_type": "code",
      "execution_count": null,
      "metadata": {
        "id": "ktawlzqCQuUR"
      },
      "outputs": [],
      "source": [
        "# getting test data and transforming TF-IDF\n",
        "twenty_test = fetch_20newsgroups(subset='test', shuffle=True)\n",
        "X_test_tfidf = tfidf_Vect.transform(twenty_test.data)"
      ]
    },
    {
      "cell_type": "code",
      "execution_count": null,
      "metadata": {
        "id": "V--tYcOJQxUp"
      },
      "outputs": [],
      "source": [
        "# calculating prediction\n",
        "predicted = clf.predict(X_test_tfidf)"
      ]
    },
    {
      "cell_type": "code",
      "execution_count": null,
      "metadata": {
        "colab": {
          "base_uri": "https://localhost:8080/"
        },
        "id": "DnoIWB9EQ5yz",
        "outputId": "3b16523d-2977-473a-cdbf-2889dd6f2d28"
      },
      "outputs": [
        {
          "name": "stdout",
          "output_type": "stream",
          "text": [
            "0.6196229421136484\n"
          ]
        }
      ],
      "source": [
        "# calculating accuracy score and print\n",
        "score = metrics.accuracy_score(twenty_test.target, predicted)\n",
        "print(score)"
      ]
    },
    {
      "cell_type": "code",
      "execution_count": null,
      "metadata": {
        "colab": {
          "base_uri": "https://localhost:8080/"
        },
        "id": "GRmaw6Z2Q6Qp",
        "outputId": "998dc473-58cb-4d93-a508-89556e721747"
      },
      "outputs": [
        {
          "name": "stdout",
          "output_type": "stream",
          "text": [
            "                          precision    recall  f1-score   support\n",
            "\n",
            "             alt.atheism       0.43      0.79      0.56       319\n",
            "           comp.graphics       0.43      0.60      0.50       389\n",
            " comp.os.ms-windows.misc       0.47      0.50      0.49       394\n",
            "comp.sys.ibm.pc.hardware       0.54      0.56      0.55       392\n",
            "   comp.sys.mac.hardware       0.57      0.47      0.51       385\n",
            "          comp.windows.x       0.64      0.61      0.62       395\n",
            "            misc.forsale       0.55      0.45      0.49       390\n",
            "               rec.autos       0.73      0.61      0.66       396\n",
            "         rec.motorcycles       0.82      0.81      0.82       398\n",
            "      rec.sport.baseball       0.73      0.63      0.68       397\n",
            "        rec.sport.hockey       0.84      0.76      0.80       399\n",
            "               sci.crypt       0.73      0.83      0.78       396\n",
            "         sci.electronics       0.67      0.49      0.57       393\n",
            "                 sci.med       0.75      0.44      0.55       396\n",
            "               sci.space       0.76      0.75      0.76       394\n",
            "  soc.religion.christian       0.85      0.62      0.72       398\n",
            "      talk.politics.guns       0.79      0.65      0.71       364\n",
            "   talk.politics.mideast       0.41      0.78      0.54       376\n",
            "      talk.politics.misc       0.60      0.57      0.58       310\n",
            "      talk.religion.misc       0.61      0.44      0.51       251\n",
            "\n",
            "                accuracy                           0.62      7532\n",
            "               macro avg       0.65      0.62      0.62      7532\n",
            "            weighted avg       0.65      0.62      0.62      7532\n",
            "\n"
          ]
        }
      ],
      "source": [
        "# creating list with target names\n",
        "classes = list(twenty_train.target_names)\n",
        "# getting classification report and print\n",
        "class_report = classification_report(twenty_test.target, predicted, target_names = classes)\n",
        "print(class_report)"
      ]
    },
    {
      "cell_type": "markdown",
      "metadata": {
        "id": "kBWglrHd2DTt"
      },
      "source": [
        "D."
      ]
    },
    {
      "cell_type": "code",
      "execution_count": null,
      "metadata": {
        "colab": {
          "base_uri": "https://localhost:8080/"
        },
        "id": "Re9BRdheRJ-a",
        "outputId": "3d786d84-4b20-4fea-965d-367ad00709ac"
      },
      "outputs": [
        {
          "data": {
            "text/plain": [
              "KNeighborsClassifier()"
            ]
          },
          "execution_count": 34,
          "metadata": {},
          "output_type": "execute_result"
        }
      ],
      "source": [
        "#  vectorizing TF-IDF stop word 'english'\n",
        "tfidf_Vect = TfidfVectorizer(stop_words = 'english')\n",
        "# fitting train data \n",
        "X_train_tfidf = tfidf_Vect.fit_transform(twenty_train.data)\n",
        "# fitting train data and target with KNN neighbor 5\n",
        "clf = KNeighborsClassifier(n_neighbors=5)\n",
        "clf.fit(X_train_tfidf, twenty_train.target)"
      ]
    },
    {
      "cell_type": "code",
      "execution_count": null,
      "metadata": {
        "id": "hqK0aMrnRTnR"
      },
      "outputs": [],
      "source": [
        "# getting test data \n",
        "twenty_test = fetch_20newsgroups(subset='test', shuffle=True)\n",
        "# transforming TF-IDF with test data\n",
        "X_test_tfidf = tfidf_Vect.transform(twenty_test.data)"
      ]
    },
    {
      "cell_type": "code",
      "execution_count": null,
      "metadata": {
        "id": "jeLbxkyzRVCZ"
      },
      "outputs": [],
      "source": [
        "# calculating prediction\n",
        "predicted = clf.predict(X_test_tfidf)"
      ]
    },
    {
      "cell_type": "code",
      "execution_count": null,
      "metadata": {
        "colab": {
          "base_uri": "https://localhost:8080/"
        },
        "id": "6FSa88tURWip",
        "outputId": "952f7933-c863-4785-c8ab-8d2168ef1b83"
      },
      "outputs": [
        {
          "name": "stdout",
          "output_type": "stream",
          "text": [
            "0.6757833244822092\n"
          ]
        }
      ],
      "source": [
        "# calculating accuracy score and print\n",
        "score = metrics.accuracy_score(twenty_test.target, predicted)\n",
        "print(score)"
      ]
    },
    {
      "cell_type": "code",
      "execution_count": null,
      "metadata": {
        "colab": {
          "base_uri": "https://localhost:8080/"
        },
        "id": "kZQZx9ZZRXax",
        "outputId": "20245639-2eef-4365-c96d-fb21742d4a72"
      },
      "outputs": [
        {
          "name": "stdout",
          "output_type": "stream",
          "text": [
            "                          precision    recall  f1-score   support\n",
            "\n",
            "             alt.atheism       0.62      0.75      0.68       319\n",
            "           comp.graphics       0.46      0.64      0.54       389\n",
            " comp.os.ms-windows.misc       0.52      0.59      0.55       394\n",
            "comp.sys.ibm.pc.hardware       0.50      0.59      0.54       392\n",
            "   comp.sys.mac.hardware       0.57      0.57      0.57       385\n",
            "          comp.windows.x       0.67      0.56      0.61       395\n",
            "            misc.forsale       0.49      0.45      0.47       390\n",
            "               rec.autos       0.73      0.70      0.72       396\n",
            "         rec.motorcycles       0.82      0.85      0.83       398\n",
            "      rec.sport.baseball       0.74      0.75      0.74       397\n",
            "        rec.sport.hockey       0.81      0.87      0.84       399\n",
            "               sci.crypt       0.78      0.83      0.80       396\n",
            "         sci.electronics       0.70      0.55      0.62       393\n",
            "                 sci.med       0.79      0.55      0.65       396\n",
            "               sci.space       0.76      0.80      0.78       394\n",
            "  soc.religion.christian       0.80      0.78      0.79       398\n",
            "      talk.politics.guns       0.73      0.72      0.72       364\n",
            "   talk.politics.mideast       0.81      0.75      0.78       376\n",
            "      talk.politics.misc       0.76      0.62      0.68       310\n",
            "      talk.religion.misc       0.63      0.55      0.58       251\n",
            "\n",
            "                accuracy                           0.68      7532\n",
            "               macro avg       0.68      0.67      0.67      7532\n",
            "            weighted avg       0.68      0.68      0.68      7532\n",
            "\n"
          ]
        }
      ],
      "source": [
        "# creating list with target names\n",
        "classes = list(twenty_train.target_names)\n",
        "# getting classification report and pring\n",
        "class_report = classification_report(twenty_test.target, predicted, target_names = classes)\n",
        "print(class_report)"
      ]
    },
    {
      "cell_type": "markdown",
      "metadata": {
        "id": "xcBe3SJF4iF3"
      },
      "source": [
        "2. Extract Information"
      ]
    },
    {
      "cell_type": "code",
      "execution_count": 1,
      "metadata": {
        "colab": {
          "base_uri": "https://localhost:8080/"
        },
        "id": "wD1fQpu65MDL",
        "outputId": "02115da1-7f94-42be-8f2c-a9bbcff7be11"
      },
      "outputs": [
        {
          "name": "stdout",
          "output_type": "stream",
          "text": [
            "[nltk_data] Downloading package brown to /root/nltk_data...\n",
            "[nltk_data]   Unzipping corpora/brown.zip.\n",
            "[nltk_data] Downloading package punkt to /root/nltk_data...\n",
            "[nltk_data]   Unzipping tokenizers/punkt.zip.\n",
            "[nltk_data] Error loading tagset: Package 'tagset' not found in index\n",
            "[nltk_data] Downloading package tagsets to /root/nltk_data...\n",
            "[nltk_data]   Unzipping help/tagsets.zip.\n",
            "[nltk_data] Downloading package wordnet to /root/nltk_data...\n",
            "[nltk_data]   Unzipping corpora/wordnet.zip.\n",
            "[nltk_data] Downloading package maxent_ne_chunker to\n",
            "[nltk_data]     /root/nltk_data...\n",
            "[nltk_data]   Unzipping chunkers/maxent_ne_chunker.zip.\n",
            "[nltk_data] Downloading package words to /root/nltk_data...\n",
            "[nltk_data]   Unzipping corpora/words.zip.\n",
            "[nltk_data] Downloading package stopwords to /root/nltk_data...\n",
            "[nltk_data]   Unzipping corpora/stopwords.zip.\n",
            "[nltk_data] Downloading package averaged_perceptron_tagger to\n",
            "[nltk_data]     /root/nltk_data...\n",
            "[nltk_data]   Unzipping taggers/averaged_perceptron_tagger.zip.\n"
          ]
        },
        {
          "data": {
            "text/plain": [
              "True"
            ]
          },
          "execution_count": 1,
          "metadata": {},
          "output_type": "execute_result"
        }
      ],
      "source": [
        "# importing libraries and packages\n",
        "import nltk\n",
        "from bs4 import BeautifulSoup\n",
        "import requests\n",
        "from nltk.tokenize import sent_tokenize\n",
        "from nltk.tokenize import word_tokenize\n",
        "from nltk.stem import LancasterStemmer\n",
        "from nltk.stem import WordNetLemmatizer\n",
        "from nltk.corpus import wordnet as wn\n",
        "from nltk.corpus import brown\n",
        "from nltk.corpus import stopwords\n",
        "from sklearn.feature_extraction.text import CountVectorizer\n",
        "nltk.download('brown') \n",
        "nltk.download('punkt') \n",
        "nltk.download('tagset')\n",
        "nltk.download('tagsets')\n",
        "nltk.download('wordnet')\n",
        "nltk.download('maxent_ne_chunker')\n",
        "nltk.download('words')\n",
        "nltk.download('stopwords')\n",
        "nltk.download('averaged_perceptron_tagger')"
      ]
    },
    {
      "cell_type": "code",
      "execution_count": 7,
      "metadata": {
        "colab": {
          "base_uri": "https://localhost:8080/"
        },
        "id": "wD5_L3vY4s-J",
        "outputId": "1d2780e8-514f-400e-f146-fd0b1436a00a"
      },
      "outputs": [
        {
          "name": "stdout",
          "output_type": "stream",
          "text": [
            "The Fox and the Crow - Storynory\n",
            "16\n",
            "['I bet you can’t guess what I like to eat best of all? Yes, I knew that you would say that foxes like to eat hens best, and stolen ones at that. I don’t mind admitting that I wouldn’t ever say no to a nice fat chicken wing once in a while. But not many people know that what foxes appreciate even more than chicken, is a nice piece of cheese once in a while.', 'Well today I ate a wonderfully rich and creamy slice of cheddar for my breakfast. It was kindly given to me by a beautiful black-feathered bird whose voice is even more wonderful than her looks. No, I don’t mean a sky-lark, or a fancy bird of paradise. I’m talking about Miss Crow, up in that tree.', 'It was a fine bright morning, and I was following my sharp nose through the woods in search of a bite to eat, when I caught a cheesy smell on the breeze. I looked up into the tree and there on the branch I saw Miss Crow, looking terribly pleased with herself, for in her beak she held a large piece of cheese. It was stolen, no doubt, from the farmer over the hill, but I’m not one to go around accusing people of this and that.', 'I called up to my neighbour and said: “Good morning Miss Crow, you are looking very lovely today, if I may say so.” Miss Crow cocked her head on one side and looked at me with her beady little eye, but she kept her beak firmly closed on the cheese.', '“Such a charming creature,” I mused to myself, making sure nevertheless that she could overhear. “Such a fine sheen on those wondrous black feathers. What wings! What legs! And that beak, exquisite!”', 'I could see that Miss Crow was paying close attention to my words, even though she was pretending ever so hard not to hear.', 'So I gazed up at the tree with admiration and love in my eyes and said: “Ah, my heart is smitten by this wonderful bird. If only I could hear her voice. I’m sure that such a charming creature must sing most sweetly! If I could but hear one line of her song, I would hail her as the Princess of The Forest!”', 'Now I could see my words had hit home. Swelling with pride, Miss Crow puffed up her feathers and began to sing the most lovely music I have ever heard.', '“CAAWWWWWWWWW!”', 'Well alright, I know that you are saying that Miss Crow’s voice is not exactly star quality, but to me that “cawww!” was just the sound that I’d been waiting for. Because as soon as she opened her beak, the cheese fell to the ground and I snapped up my breakfast.', 'Which only goes to show that: Flattery will get you everywhere.', 'Storynory Ltd, 26 Star Street, London UK. +44 (0) 7941 190 740. Main point of contact - [email\\xa0protected]', '\\n', 'Audio and texts are Copyright Storynory Ltd unless otherwise stated. Images are copyrighted to their owners. Many images on this site are licenced from Shutterstock.', 'Our Terms and Conditions make it easy for schools to use our materials for free, please see our Copywrite Page for details', 'You can review our privacy policy here Privacy Page']\n"
          ]
        }
      ],
      "source": [
        "# getting data from URL\n",
        "response = requests.get(\"https://www.storynory.com/fox-and-the-crow/\")\n",
        "# getting text content using BS\n",
        "soup = BeautifulSoup(response.content, \"html.parser\")\n",
        "# printing title\n",
        "print(soup.title.string)\n",
        "# getting all paragraphs\n",
        "web_para = soup.find_all('p')\n",
        "# creating list \n",
        "paragraphs = []\n",
        "# iterating all paragraphs and getting text and append it to list and print\n",
        "for para in web_para:\n",
        "  paragraphs.append(para.get_text())\n",
        "print(paragraphs)"
      ]
    },
    {
      "cell_type": "markdown",
      "metadata": {
        "id": "n2cnk8yB2iFY"
      },
      "source": [
        "Sentence Tokenize"
      ]
    },
    {
      "cell_type": "code",
      "execution_count": 9,
      "metadata": {
        "colab": {
          "base_uri": "https://localhost:8080/"
        },
        "id": "nQistICrYDDP",
        "outputId": "69a3c7bc-731c-43f2-b61d-6b0b965a0e0d"
      },
      "outputs": [
        {
          "name": "stdout",
          "output_type": "stream",
          "text": [
            "['I bet you can’t guess what I like to eat best of all?', 'Yes, I knew that you would say that foxes like to eat hens best, and stolen ones at that.', 'I don’t mind admitting that I wouldn’t ever say no to a nice fat chicken wing once in a while.', 'But not many people know that what foxes appreciate even more than chicken, is a nice piece of cheese once in a while.']\n"
          ]
        }
      ],
      "source": [
        "# tokenizing sentence of first paragraph\n",
        "s_tokens = sent_tokenize(paragraphs[0])\n",
        "print(s_tokens)"
      ]
    },
    {
      "cell_type": "markdown",
      "metadata": {
        "id": "k8u6g2Op7P01"
      },
      "source": [
        "Word Tokenize"
      ]
    },
    {
      "cell_type": "code",
      "execution_count": 11,
      "metadata": {
        "colab": {
          "base_uri": "https://localhost:8080/"
        },
        "id": "3qycjuqz7RsV",
        "outputId": "f66fcfbb-4358-4d7a-c8a8-91560358978a"
      },
      "outputs": [
        {
          "name": "stdout",
          "output_type": "stream",
          "text": [
            "['I', 'bet', 'you', 'can', '’', 't', 'guess', 'what', 'I', 'like', 'to', 'eat', 'best', 'of', 'all', '?', 'Yes', ',', 'I', 'knew', 'that', 'you', 'would', 'say', 'that', 'foxes', 'like', 'to', 'eat', 'hens', 'best', ',', 'and', 'stolen', 'ones', 'at', 'that', '.', 'I', 'don', '’', 't', 'mind', 'admitting', 'that', 'I', 'wouldn', '’', 't', 'ever', 'say', 'no', 'to', 'a', 'nice', 'fat', 'chicken', 'wing', 'once', 'in', 'a', 'while', '.', 'But', 'not', 'many', 'people', 'know', 'that', 'what', 'foxes', 'appreciate', 'even', 'more', 'than', 'chicken', ',', 'is', 'a', 'nice', 'piece', 'of', 'cheese', 'once', 'in', 'a', 'while', '.']\n"
          ]
        }
      ],
      "source": [
        "# tokenizing word of first paragraph\n",
        "w_tokens = word_tokenize(paragraphs[0])\n",
        "print(w_tokens)"
      ]
    },
    {
      "cell_type": "markdown",
      "metadata": {
        "id": "MJwYguHB2jOA"
      },
      "source": [
        "POS"
      ]
    },
    {
      "cell_type": "code",
      "execution_count": 12,
      "metadata": {
        "colab": {
          "base_uri": "https://localhost:8080/"
        },
        "id": "Om_VBYqcABZC",
        "outputId": "bac5f4c3-ede2-4bed-b610-3d12e543be13"
      },
      "outputs": [
        {
          "name": "stdout",
          "output_type": "stream",
          "text": [
            "CC: conjunction, coordinating\n",
            "    & 'n and both but either et for less minus neither nor or plus so\n",
            "    therefore times v. versus vs. whether yet\n",
            "JJ: adjective or numeral, ordinal\n",
            "    third ill-mannered pre-war regrettable oiled calamitous first separable\n",
            "    ectoplasmic battery-powered participatory fourth still-to-be-named\n",
            "    multilingual multi-disciplinary ...\n",
            "NNP: noun, proper, singular\n",
            "    Motown Venneboerger Czestochwa Ranzer Conchita Trumplane Christos\n",
            "    Oceanside Escobar Kreisler Sawyer Cougar Yvette Ervin ODI Darryl CTCA\n",
            "    Shannon A.K.C. Meltex Liverpool ...\n"
          ]
        }
      ],
      "source": [
        "# getting description of CC, JJ and NNP\n",
        "nltk.help.upenn_tagset('CC')\n",
        "nltk.help.upenn_tagset('JJ')\n",
        "nltk.help.upenn_tagset('NNP')"
      ]
    },
    {
      "cell_type": "code",
      "execution_count": 13,
      "metadata": {
        "colab": {
          "base_uri": "https://localhost:8080/"
        },
        "id": "LWTILsvK2mzu",
        "outputId": "a36fd199-8ece-4365-f5ad-635b20b229ea"
      },
      "outputs": [
        {
          "name": "stdout",
          "output_type": "stream",
          "text": [
            "[('I bet you can’t guess what I like to eat best of all?', 'NNP'), ('Yes, I knew that you would say that foxes like to eat hens best, and stolen ones at that.', 'NNP'), ('I don’t mind admitting that I wouldn’t ever say no to a nice fat chicken wing once in a while.', 'NNP'), ('But not many people know that what foxes appreciate even more than chicken, is a nice piece of cheese once in a while.', 'NNP')]\n"
          ]
        }
      ],
      "source": [
        "# tagging tokenized sentences with POS\n",
        "tagged_text = nltk.pos_tag(s_tokens)\n",
        "print(tagged_text)"
      ]
    },
    {
      "cell_type": "markdown",
      "metadata": {
        "id": "IMxV8JIJ2vUX"
      },
      "source": [
        "Stemming"
      ]
    },
    {
      "cell_type": "code",
      "execution_count": 14,
      "metadata": {
        "colab": {
          "base_uri": "https://localhost:8080/"
        },
        "id": "sbZI0EIW2ygu",
        "outputId": "ae08b2e5-3918-404d-e108-5b49fb2457f9"
      },
      "outputs": [
        {
          "name": "stdout",
          "output_type": "stream",
          "text": [
            "[['I', 'i'], ['bet', 'bet'], ['you', 'you'], ['can', 'can'], ['’', '’'], ['t', 't'], ['guess', 'guess'], ['what', 'what'], ['I', 'i'], ['like', 'lik'], ['to', 'to'], ['eat', 'eat'], ['best', 'best'], ['of', 'of'], ['all', 'al'], ['?', '?'], ['Yes', 'ye'], [',', ','], ['I', 'i'], ['knew', 'knew'], ['that', 'that'], ['you', 'you'], ['would', 'would'], ['say', 'say'], ['that', 'that'], ['foxes', 'fox'], ['like', 'lik'], ['to', 'to'], ['eat', 'eat'], ['hens', 'hen'], ['best', 'best'], [',', ','], ['and', 'and'], ['stolen', 'stol'], ['ones', 'on'], ['at', 'at'], ['that', 'that'], ['.', '.'], ['I', 'i'], ['don', 'don'], ['’', '’'], ['t', 't'], ['mind', 'mind'], ['admitting', 'admit'], ['that', 'that'], ['I', 'i'], ['wouldn', 'wouldn'], ['’', '’'], ['t', 't'], ['ever', 'ev'], ['say', 'say'], ['no', 'no'], ['to', 'to'], ['a', 'a'], ['nice', 'nic'], ['fat', 'fat'], ['chicken', 'chick'], ['wing', 'wing'], ['once', 'ont'], ['in', 'in'], ['a', 'a'], ['while', 'whil'], ['.', '.'], ['But', 'but'], ['not', 'not'], ['many', 'many'], ['people', 'peopl'], ['know', 'know'], ['that', 'that'], ['what', 'what'], ['foxes', 'fox'], ['appreciate', 'apprecy'], ['even', 'ev'], ['more', 'mor'], ['than', 'than'], ['chicken', 'chick'], [',', ','], ['is', 'is'], ['a', 'a'], ['nice', 'nic'], ['piece', 'piec'], ['of', 'of'], ['cheese', 'chees'], ['once', 'ont'], ['in', 'in'], ['a', 'a'], ['while', 'whil'], ['.', '.']]\n"
          ]
        }
      ],
      "source": [
        "# declaring LancasterStemmer\n",
        "Stemmer = LancasterStemmer()\n",
        "# declaring new list \n",
        "stem = []\n",
        "# iterating thru tokenized words and stemming each word and append list with stem and print\n",
        "for i in w_tokens:\n",
        "  stem.append([i, Stemmer.stem(i)])\n",
        "print(stem)"
      ]
    },
    {
      "cell_type": "markdown",
      "metadata": {
        "id": "4f9RqbLj2y1e"
      },
      "source": [
        "Lemmatization"
      ]
    },
    {
      "cell_type": "code",
      "execution_count": 15,
      "metadata": {
        "colab": {
          "base_uri": "https://localhost:8080/"
        },
        "id": "osASwfHj22Pv",
        "outputId": "5188db6f-108f-4d9b-8021-20126ee54df4"
      },
      "outputs": [
        {
          "name": "stdout",
          "output_type": "stream",
          "text": [
            "[['I', 'I'], ['bet', 'bet'], ['you', 'you'], ['can', 'can'], ['’', '’'], ['t', 't'], ['guess', 'guess'], ['what', 'what'], ['I', 'I'], ['like', 'like'], ['to', 'to'], ['eat', 'eat'], ['best', 'best'], ['of', 'of'], ['all', 'all'], ['?', '?'], ['Yes', 'Yes'], [',', ','], ['I', 'I'], ['knew', 'knew'], ['that', 'that'], ['you', 'you'], ['would', 'would'], ['say', 'say'], ['that', 'that'], ['foxes', 'fox'], ['like', 'like'], ['to', 'to'], ['eat', 'eat'], ['hens', 'hen'], ['best', 'best'], [',', ','], ['and', 'and'], ['stolen', 'stolen'], ['ones', 'one'], ['at', 'at'], ['that', 'that'], ['.', '.'], ['I', 'I'], ['don', 'don'], ['’', '’'], ['t', 't'], ['mind', 'mind'], ['admitting', 'admitting'], ['that', 'that'], ['I', 'I'], ['wouldn', 'wouldn'], ['’', '’'], ['t', 't'], ['ever', 'ever'], ['say', 'say'], ['no', 'no'], ['to', 'to'], ['a', 'a'], ['nice', 'nice'], ['fat', 'fat'], ['chicken', 'chicken'], ['wing', 'wing'], ['once', 'once'], ['in', 'in'], ['a', 'a'], ['while', 'while'], ['.', '.'], ['But', 'But'], ['not', 'not'], ['many', 'many'], ['people', 'people'], ['know', 'know'], ['that', 'that'], ['what', 'what'], ['foxes', 'fox'], ['appreciate', 'appreciate'], ['even', 'even'], ['more', 'more'], ['than', 'than'], ['chicken', 'chicken'], [',', ','], ['is', 'is'], ['a', 'a'], ['nice', 'nice'], ['piece', 'piece'], ['of', 'of'], ['cheese', 'cheese'], ['once', 'once'], ['in', 'in'], ['a', 'a'], ['while', 'while'], ['.', '.']]\n"
          ]
        }
      ],
      "source": [
        "# declaring lemmatizer\n",
        "Lemmatizer = WordNetLemmatizer()\n",
        "# declaring new list\n",
        "lem = []\n",
        "# iterating thru tokenized words and lettamizing each words and append it to list and pring\n",
        "for i in w_tokens:\n",
        "  lem.append([i, Lemmatizer.lemmatize(i)])\n",
        "print(lem)"
      ]
    },
    {
      "cell_type": "markdown",
      "metadata": {
        "id": "GURt7oFx22oX"
      },
      "source": [
        "Trigram"
      ]
    },
    {
      "cell_type": "code",
      "execution_count": 16,
      "metadata": {
        "colab": {
          "base_uri": "https://localhost:8080/"
        },
        "id": "nthfkBRK24hu",
        "outputId": "7499bdcc-1ada-445e-c843-d05783ff5956"
      },
      "outputs": [
        {
          "name": "stdout",
          "output_type": "stream",
          "text": [
            "I bet you\n",
            "bet you can\n",
            "you can ’\n",
            "can ’ t\n",
            "’ t guess\n",
            "t guess what\n",
            "guess what I\n",
            "what I like\n",
            "I like to\n",
            "like to eat\n",
            "to eat best\n",
            "eat best of\n",
            "best of all\n",
            "of all ?\n",
            "all ? Yes\n",
            "? Yes ,\n",
            "Yes , I\n",
            ", I knew\n",
            "I knew that\n",
            "knew that you\n",
            "that you would\n",
            "you would say\n",
            "would say that\n",
            "say that foxes\n",
            "that foxes like\n",
            "foxes like to\n",
            "like to eat\n",
            "to eat hens\n",
            "eat hens best\n",
            "hens best ,\n",
            "best , and\n",
            ", and stolen\n",
            "and stolen ones\n",
            "stolen ones at\n",
            "ones at that\n",
            "at that .\n",
            "that . I\n",
            ". I don\n",
            "I don ’\n",
            "don ’ t\n",
            "’ t mind\n",
            "t mind admitting\n",
            "mind admitting that\n",
            "admitting that I\n",
            "that I wouldn\n",
            "I wouldn ’\n",
            "wouldn ’ t\n",
            "’ t ever\n",
            "t ever say\n",
            "ever say no\n",
            "say no to\n",
            "no to a\n",
            "to a nice\n",
            "a nice fat\n",
            "nice fat chicken\n",
            "fat chicken wing\n",
            "chicken wing once\n",
            "wing once in\n",
            "once in a\n",
            "in a while\n",
            "a while .\n",
            "while . But\n",
            ". But not\n",
            "But not many\n",
            "not many people\n",
            "many people know\n",
            "people know that\n",
            "know that what\n",
            "that what foxes\n",
            "what foxes appreciate\n",
            "foxes appreciate even\n",
            "appreciate even more\n",
            "even more than\n",
            "more than chicken\n",
            "than chicken ,\n",
            "chicken , is\n",
            ", is a\n",
            "is a nice\n",
            "a nice piece\n",
            "nice piece of\n",
            "piece of cheese\n",
            "of cheese once\n",
            "cheese once in\n",
            "once in a\n",
            "in a while\n",
            "a while .\n"
          ]
        }
      ],
      "source": [
        "# iterating thru tokenized word and printing trigram\n",
        "for n in range(0, int(len(w_tokens))):\n",
        "  try:\n",
        "    print(f\"{w_tokens[n]} {w_tokens[n+1]} {w_tokens[n+2]}\")\n",
        "  except IndexError:\n",
        "    pass"
      ]
    },
    {
      "cell_type": "markdown",
      "metadata": {
        "id": "YsZe7zl824od"
      },
      "source": [
        "Named Entity Recognition"
      ]
    },
    {
      "cell_type": "code",
      "execution_count": 17,
      "metadata": {
        "colab": {
          "base_uri": "https://localhost:8080/"
        },
        "id": "U0sZ0Th327PA",
        "outputId": "c0695931-7a46-472b-91c7-1b1d774f0215"
      },
      "outputs": [
        {
          "name": "stdout",
          "output_type": "stream",
          "text": [
            "(S\n",
            "  I/PRP\n",
            "  bet/VBP\n",
            "  you/PRP\n",
            "  can/MD\n",
            "  ’/VB\n",
            "  t/JJ\n",
            "  guess/NN\n",
            "  what/WP\n",
            "  I/PRP\n",
            "  like/VBP\n",
            "  to/TO\n",
            "  eat/VB\n",
            "  best/JJS\n",
            "  of/IN\n",
            "  all/DT\n",
            "  ?/.\n",
            "  Yes/UH\n",
            "  ,/,\n",
            "  I/PRP\n",
            "  knew/VBD\n",
            "  that/IN\n",
            "  you/PRP\n",
            "  would/MD\n",
            "  say/VB\n",
            "  that/IN\n",
            "  foxes/NNS\n",
            "  like/IN\n",
            "  to/TO\n",
            "  eat/VB\n",
            "  hens/NNS\n",
            "  best/JJS\n",
            "  ,/,\n",
            "  and/CC\n",
            "  stolen/VBN\n",
            "  ones/NNS\n",
            "  at/IN\n",
            "  that/DT\n",
            "  ./.\n",
            "  I/PRP\n",
            "  don/VBP\n",
            "  ’/JJ\n",
            "  t/NN\n",
            "  mind/NN\n",
            "  admitting/VBG\n",
            "  that/IN\n",
            "  I/PRP\n",
            "  wouldn/VBP\n",
            "  ’/JJ\n",
            "  t/NN\n",
            "  ever/RB\n",
            "  say/VBP\n",
            "  no/UH\n",
            "  to/TO\n",
            "  a/DT\n",
            "  nice/JJ\n",
            "  fat/NN\n",
            "  chicken/NN\n",
            "  wing/VBG\n",
            "  once/RB\n",
            "  in/IN\n",
            "  a/DT\n",
            "  while/NN\n",
            "  ./.\n",
            "  But/CC\n",
            "  not/RB\n",
            "  many/JJ\n",
            "  people/NNS\n",
            "  know/VBP\n",
            "  that/IN\n",
            "  what/WP\n",
            "  foxes/VBP\n",
            "  appreciate/VB\n",
            "  even/RB\n",
            "  more/JJR\n",
            "  than/IN\n",
            "  chicken/NN\n",
            "  ,/,\n",
            "  is/VBZ\n",
            "  a/DT\n",
            "  nice/JJ\n",
            "  piece/NN\n",
            "  of/IN\n",
            "  cheese/JJ\n",
            "  once/RB\n",
            "  in/IN\n",
            "  a/DT\n",
            "  while/NN\n",
            "  ./.)\n"
          ]
        }
      ],
      "source": [
        "# getting named entity and print\n",
        "ner = nltk.ne_chunk(nltk.pos_tag(nltk.wordpunct_tokenize(paragraphs[0])))\n",
        "print(ner)"
      ]
    },
    {
      "cell_type": "markdown",
      "metadata": {
        "id": "iL1fXaic27UX"
      },
      "source": [
        "Plot"
      ]
    },
    {
      "cell_type": "code",
      "execution_count": 23,
      "metadata": {
        "colab": {
          "base_uri": "https://localhost:8080/",
          "height": 380
        },
        "id": "Ih9TEedA281_",
        "outputId": "aabd7e4f-7c0e-4b8c-88e6-fd75c2ded4b0"
      },
      "outputs": [
        {
          "name": "stdout",
          "output_type": "stream",
          "text": [
            "['I', 'bet', 'you', 'can', '’', 't', 'guess', 'what', 'I', 'like', 'to', 'eat', 'best', 'of', 'all', '?', 'Yes', ',', 'I', 'knew', 'that', 'you', 'would', 'say', 'that', 'foxes', 'like', 'to', 'eat', 'hens', 'best', ',', 'and', 'stolen', 'ones', 'at', 'that', '.', 'I', 'don', '’', 't', 'mind', 'admitting', 'that', 'I', 'wouldn', '’', 't', 'ever', 'say', 'no', 'to', 'a', 'nice', 'fat', 'chicken', 'wing', 'once', 'in', 'a', 'while', '.', 'But', 'not', 'many', 'people', 'know', 'that', 'what', 'foxes', 'appreciate', 'even', 'more', 'than', 'chicken', ',', 'is', 'a', 'nice', 'piece', 'of', 'cheese', 'once', 'in', 'a', 'while', '.']\n",
            "['I', 'bet', '’', 'guess', 'I', 'like', 'eat', 'best', '?', 'Yes', ',', 'I', 'knew', 'would', 'say', 'foxes', 'like', 'eat', 'hens', 'best', ',', 'stolen', 'ones', '.', 'I', '’', 'mind', 'admitting', 'I', '’', 'ever', 'say', 'nice', 'fat', 'chicken', 'wing', '.', 'But', 'many', 'people', 'know', 'foxes', 'appreciate', 'even', 'chicken', ',', 'nice', 'piece', 'cheese', '.']\n"
          ]
        },
        {
          "data": {
            "text/plain": [
              "<matplotlib.axes._subplots.AxesSubplot at 0x7f7ca4be1250>"
            ]
          },
          "execution_count": 23,
          "metadata": {},
          "output_type": "execute_result"
        },
        {
          "data": {
            "image/png": "[encoded data removed]",
            "text/plain": [
              "<Figure size 432x288 with 1 Axes>"
            ]
          },
          "metadata": {
            "needs_background": "light"
          },
          "output_type": "display_data"
        }
      ],
      "source": [
        "# declaring set with stopword 'english'\n",
        "stop_words = set(stopwords.words('english'))\n",
        "# iterating thru tokenized words and check it in set or not\n",
        "parastopwords = [w for w in w_tokens if not w.lower() in stop_words]\n",
        "parastopwords = []\n",
        "# iterating thru tokenized words and pring\n",
        "for w in w_tokens:\n",
        "    if w not in stop_words:\n",
        "        parastopwords.append(w)\n",
        " \n",
        "print(w_tokens)\n",
        "print(parastopwords)\n",
        "# importing libraries\n",
        "from collections import Counter\n",
        "import pandas\n",
        "# counting words \n",
        "freq = Counter(parastopwords)\n",
        "# creating dataframe with counted words\n",
        "paragraphdf = pandas.DataFrame.from_dict(freq, orient='index')\n",
        "# plotting dataframe by bar graph\n",
        "paragraphdf.plot(kind='bar')"
      ]
    }
  ],
  "metadata": {
    "colab": {
      "collapsed_sections": [],
      "name": "ICP7.ipynb",
      "provenance": []
    },
    "kernelspec": {
      "display_name": "Python 3",
      "name": "python3"
    },
    "language_info": {
      "name": "python"
    }
  },
  "nbformat": 4,
  "nbformat_minor": 0
}
