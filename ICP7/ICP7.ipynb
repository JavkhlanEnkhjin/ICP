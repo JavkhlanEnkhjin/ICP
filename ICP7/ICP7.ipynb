{
  "nbformat": 4,
  "nbformat_minor": 0,
  "metadata": {
    "colab": {
      "name": "ICP7.ipynb",
      "provenance": [],
      "collapsed_sections": []
    },
    "kernelspec": {
      "name": "python3",
      "display_name": "Python 3"
    },
    "language_info": {
      "name": "python"
    }
  },
  "cells": [
    {
      "cell_type": "code",
      "execution_count": null,
      "metadata": {
        "id": "FdMM_-yvLVVi"
      },
      "outputs": [],
      "source": [
        "from sklearn.datasets import fetch_20newsgroups\n",
        "\n",
        "from sklearn.feature_extraction.text import CountVectorizer, TfidfVectorizer\n",
        "from sklearn.feature_extraction.text import TfidfTransformer\n",
        "from sklearn import metrics\n",
        "from sklearn.pipeline import Pipeline\n",
        "from sklearn.naive_bayes import MultinomialNB\n",
        "from sklearn.neighbors import KNeighborsClassifier\n",
        "from sklearn.naive_bayes import BernoulliNB\n",
        "from sklearn.naive_bayes import GaussianNB\n",
        "from sklearn.model_selection import train_test_split\n",
        "from sklearn.svm import SVC\n",
        "from sklearn.metrics import accuracy_score\n",
        "from sklearn.metrics import classification_report\n",
        "\n",
        "twenty_train = fetch_20newsgroups(subset='train', shuffle=True)"
      ]
    },
    {
      "cell_type": "markdown",
      "source": [
        "A."
      ],
      "metadata": {
        "id": "0oOaK1DVPtbD"
      }
    },
    {
      "cell_type": "code",
      "source": [
        "tfidf_Vect = TfidfVectorizer()\n",
        "X_train_tfidf = tfidf_Vect.fit_transform(twenty_train.data)\n",
        "\n",
        "clf = SVC()\n",
        "clf.fit(X_train_tfidf, twenty_train.target)"
      ],
      "metadata": {
        "colab": {
          "base_uri": "https://localhost:8080/"
        },
        "id": "h4Fns3bgL-Js",
        "outputId": "6cce6479-0338-4301-b645-10cb69825823"
      },
      "execution_count": null,
      "outputs": [
        {
          "output_type": "execute_result",
          "data": {
            "text/plain": [
              "SVC()"
            ]
          },
          "metadata": {},
          "execution_count": 19
        }
      ]
    },
    {
      "cell_type": "code",
      "source": [
        "twenty_test = fetch_20newsgroups(subset='test', shuffle=True)\n",
        "X_test_tfidf = tfidf_Vect.transform(twenty_test.data)"
      ],
      "metadata": {
        "id": "_1ls8YkJMFGc"
      },
      "execution_count": null,
      "outputs": []
    },
    {
      "cell_type": "code",
      "source": [
        "predicted = clf.predict(X_test_tfidf)"
      ],
      "metadata": {
        "id": "5LFEkgL8MIsx"
      },
      "execution_count": null,
      "outputs": []
    },
    {
      "cell_type": "code",
      "source": [
        "score = metrics.accuracy_score(twenty_test.target, predicted)\n",
        "print(score)"
      ],
      "metadata": {
        "colab": {
          "base_uri": "https://localhost:8080/"
        },
        "id": "y4zk0ah7MNxk",
        "outputId": "3f5bcc09-19d7-4220-d992-cbbfc74f16f1"
      },
      "execution_count": null,
      "outputs": [
        {
          "output_type": "stream",
          "name": "stdout",
          "text": [
            "0.8186404673393521\n"
          ]
        }
      ]
    },
    {
      "cell_type": "code",
      "source": [
        "classes = list(twenty_train.target_names)\n",
        "class_report = classification_report(twenty_test.target, predicted, target_names = classes)\n",
        "print(class_report)"
      ],
      "metadata": {
        "colab": {
          "base_uri": "https://localhost:8080/"
        },
        "id": "5-1I9v3KQ_46",
        "outputId": "88042182-0562-428a-bf4b-92571c30118d"
      },
      "execution_count": null,
      "outputs": [
        {
          "output_type": "stream",
          "name": "stdout",
          "text": [
            "                          precision    recall  f1-score   support\n",
            "\n",
            "             alt.atheism       0.83      0.71      0.76       319\n",
            "           comp.graphics       0.62      0.82      0.71       389\n",
            " comp.os.ms-windows.misc       0.80      0.70      0.75       394\n",
            "comp.sys.ibm.pc.hardware       0.73      0.78      0.76       392\n",
            "   comp.sys.mac.hardware       0.82      0.83      0.82       385\n",
            "          comp.windows.x       0.83      0.73      0.77       395\n",
            "            misc.forsale       0.73      0.91      0.81       390\n",
            "               rec.autos       0.90      0.87      0.89       396\n",
            "         rec.motorcycles       0.96      0.93      0.95       398\n",
            "      rec.sport.baseball       0.88      0.91      0.90       397\n",
            "        rec.sport.hockey       0.97      0.91      0.94       399\n",
            "               sci.crypt       0.96      0.85      0.90       396\n",
            "         sci.electronics       0.65      0.85      0.74       393\n",
            "                 sci.med       0.88      0.78      0.82       396\n",
            "               sci.space       0.93      0.88      0.90       394\n",
            "  soc.religion.christian       0.79      0.92      0.85       398\n",
            "      talk.politics.guns       0.75      0.88      0.81       364\n",
            "   talk.politics.mideast       0.97      0.81      0.88       376\n",
            "      talk.politics.misc       0.75      0.59      0.66       310\n",
            "      talk.religion.misc       0.79      0.55      0.65       251\n",
            "\n",
            "                accuracy                           0.82      7532\n",
            "               macro avg       0.83      0.81      0.81      7532\n",
            "            weighted avg       0.83      0.82      0.82      7532\n",
            "\n"
          ]
        }
      ]
    },
    {
      "cell_type": "markdown",
      "source": [
        "B."
      ],
      "metadata": {
        "id": "Z6axKf7zPoNk"
      }
    },
    {
      "cell_type": "code",
      "source": [
        "tfidf_Vect = TfidfVectorizer()\n",
        "X_train_tfidf = tfidf_Vect.fit_transform(twenty_train.data)\n",
        "\n",
        "clf = KNeighborsClassifier(n_neighbors=5)\n",
        "clf.fit(X_train_tfidf, twenty_train.target)"
      ],
      "metadata": {
        "colab": {
          "base_uri": "https://localhost:8080/"
        },
        "id": "3ue9kmYEPkXc",
        "outputId": "ad32dfdb-8295-4236-d727-fd9cca0c6518"
      },
      "execution_count": null,
      "outputs": [
        {
          "output_type": "execute_result",
          "data": {
            "text/plain": [
              "KNeighborsClassifier()"
            ]
          },
          "metadata": {},
          "execution_count": 24
        }
      ]
    },
    {
      "cell_type": "code",
      "source": [
        "twenty_test = fetch_20newsgroups(subset='test', shuffle=True)\n",
        "X_test_tfidf = tfidf_Vect.transform(twenty_test.data)"
      ],
      "metadata": {
        "id": "8C5WPweGPxK5"
      },
      "execution_count": null,
      "outputs": []
    },
    {
      "cell_type": "code",
      "source": [
        "predicted = clf.predict(X_test_tfidf)"
      ],
      "metadata": {
        "id": "2pR4OwflPzPN"
      },
      "execution_count": null,
      "outputs": []
    },
    {
      "cell_type": "code",
      "source": [
        "score = metrics.accuracy_score(twenty_test.target, predicted)\n",
        "print(score)"
      ],
      "metadata": {
        "colab": {
          "base_uri": "https://localhost:8080/"
        },
        "id": "nHjeiQj3P0io",
        "outputId": "39d2fe5d-a962-4150-b7c1-4142d66b9f24"
      },
      "execution_count": null,
      "outputs": [
        {
          "output_type": "stream",
          "name": "stdout",
          "text": [
            "0.6591874668082847\n"
          ]
        }
      ]
    },
    {
      "cell_type": "code",
      "source": [
        "classes = list(twenty_train.target_names)\n",
        "class_report = classification_report(twenty_test.target, predicted, target_names = classes)\n",
        "print(class_report)"
      ],
      "metadata": {
        "colab": {
          "base_uri": "https://localhost:8080/"
        },
        "id": "yEt-m5RnQ_Gj",
        "outputId": "865683bd-df92-42bd-fccb-52e93d944281"
      },
      "execution_count": null,
      "outputs": [
        {
          "output_type": "stream",
          "name": "stdout",
          "text": [
            "                          precision    recall  f1-score   support\n",
            "\n",
            "             alt.atheism       0.43      0.76      0.55       319\n",
            "           comp.graphics       0.50      0.61      0.55       389\n",
            " comp.os.ms-windows.misc       0.56      0.57      0.57       394\n",
            "comp.sys.ibm.pc.hardware       0.53      0.58      0.56       392\n",
            "   comp.sys.mac.hardware       0.59      0.56      0.57       385\n",
            "          comp.windows.x       0.69      0.60      0.64       395\n",
            "            misc.forsale       0.58      0.45      0.51       390\n",
            "               rec.autos       0.75      0.69      0.72       396\n",
            "         rec.motorcycles       0.84      0.81      0.82       398\n",
            "      rec.sport.baseball       0.77      0.72      0.74       397\n",
            "        rec.sport.hockey       0.85      0.84      0.84       399\n",
            "               sci.crypt       0.76      0.84      0.80       396\n",
            "         sci.electronics       0.70      0.50      0.58       393\n",
            "                 sci.med       0.82      0.49      0.62       396\n",
            "               sci.space       0.79      0.76      0.78       394\n",
            "  soc.religion.christian       0.75      0.76      0.76       398\n",
            "      talk.politics.guns       0.70      0.73      0.72       364\n",
            "   talk.politics.mideast       0.62      0.76      0.69       376\n",
            "      talk.politics.misc       0.55      0.61      0.58       310\n",
            "      talk.religion.misc       0.56      0.49      0.52       251\n",
            "\n",
            "                accuracy                           0.66      7532\n",
            "               macro avg       0.67      0.66      0.65      7532\n",
            "            weighted avg       0.67      0.66      0.66      7532\n",
            "\n"
          ]
        }
      ]
    },
    {
      "cell_type": "markdown",
      "source": [
        "C."
      ],
      "metadata": {
        "id": "SpQvkdq22Alm"
      }
    },
    {
      "cell_type": "code",
      "source": [
        "tfidf_Vect = TfidfVectorizer(ngram_range=(1,2))\n",
        "X_train_tfidf = tfidf_Vect.fit_transform(twenty_train.data)\n",
        "\n",
        "clf = KNeighborsClassifier(n_neighbors=5)\n",
        "clf.fit(X_train_tfidf, twenty_train.target)"
      ],
      "metadata": {
        "colab": {
          "base_uri": "https://localhost:8080/"
        },
        "id": "QNmNxfVuNEvB",
        "outputId": "564010b4-a070-4ebd-d8a5-73d8b077257f"
      },
      "execution_count": null,
      "outputs": [
        {
          "output_type": "execute_result",
          "data": {
            "text/plain": [
              "KNeighborsClassifier()"
            ]
          },
          "metadata": {},
          "execution_count": 29
        }
      ]
    },
    {
      "cell_type": "code",
      "source": [
        "twenty_test = fetch_20newsgroups(subset='test', shuffle=True)\n",
        "X_test_tfidf = tfidf_Vect.transform(twenty_test.data)"
      ],
      "metadata": {
        "id": "ktawlzqCQuUR"
      },
      "execution_count": null,
      "outputs": []
    },
    {
      "cell_type": "code",
      "source": [
        "predicted = clf.predict(X_test_tfidf)"
      ],
      "metadata": {
        "id": "V--tYcOJQxUp"
      },
      "execution_count": null,
      "outputs": []
    },
    {
      "cell_type": "code",
      "source": [
        "score = metrics.accuracy_score(twenty_test.target, predicted)\n",
        "print(score)"
      ],
      "metadata": {
        "colab": {
          "base_uri": "https://localhost:8080/"
        },
        "id": "DnoIWB9EQ5yz",
        "outputId": "3b16523d-2977-473a-cdbf-2889dd6f2d28"
      },
      "execution_count": null,
      "outputs": [
        {
          "output_type": "stream",
          "name": "stdout",
          "text": [
            "0.6196229421136484\n"
          ]
        }
      ]
    },
    {
      "cell_type": "code",
      "source": [
        "classes = list(twenty_train.target_names)\n",
        "class_report = classification_report(twenty_test.target, predicted, target_names = classes)\n",
        "print(class_report)"
      ],
      "metadata": {
        "colab": {
          "base_uri": "https://localhost:8080/"
        },
        "id": "GRmaw6Z2Q6Qp",
        "outputId": "998dc473-58cb-4d93-a508-89556e721747"
      },
      "execution_count": null,
      "outputs": [
        {
          "output_type": "stream",
          "name": "stdout",
          "text": [
            "                          precision    recall  f1-score   support\n",
            "\n",
            "             alt.atheism       0.43      0.79      0.56       319\n",
            "           comp.graphics       0.43      0.60      0.50       389\n",
            " comp.os.ms-windows.misc       0.47      0.50      0.49       394\n",
            "comp.sys.ibm.pc.hardware       0.54      0.56      0.55       392\n",
            "   comp.sys.mac.hardware       0.57      0.47      0.51       385\n",
            "          comp.windows.x       0.64      0.61      0.62       395\n",
            "            misc.forsale       0.55      0.45      0.49       390\n",
            "               rec.autos       0.73      0.61      0.66       396\n",
            "         rec.motorcycles       0.82      0.81      0.82       398\n",
            "      rec.sport.baseball       0.73      0.63      0.68       397\n",
            "        rec.sport.hockey       0.84      0.76      0.80       399\n",
            "               sci.crypt       0.73      0.83      0.78       396\n",
            "         sci.electronics       0.67      0.49      0.57       393\n",
            "                 sci.med       0.75      0.44      0.55       396\n",
            "               sci.space       0.76      0.75      0.76       394\n",
            "  soc.religion.christian       0.85      0.62      0.72       398\n",
            "      talk.politics.guns       0.79      0.65      0.71       364\n",
            "   talk.politics.mideast       0.41      0.78      0.54       376\n",
            "      talk.politics.misc       0.60      0.57      0.58       310\n",
            "      talk.religion.misc       0.61      0.44      0.51       251\n",
            "\n",
            "                accuracy                           0.62      7532\n",
            "               macro avg       0.65      0.62      0.62      7532\n",
            "            weighted avg       0.65      0.62      0.62      7532\n",
            "\n"
          ]
        }
      ]
    },
    {
      "cell_type": "markdown",
      "source": [
        "D."
      ],
      "metadata": {
        "id": "kBWglrHd2DTt"
      }
    },
    {
      "cell_type": "code",
      "source": [
        "tfidf_Vect = TfidfVectorizer(stop_words = 'english')\n",
        "X_train_tfidf = tfidf_Vect.fit_transform(twenty_train.data)\n",
        "\n",
        "clf = KNeighborsClassifier(n_neighbors=5)\n",
        "clf.fit(X_train_tfidf, twenty_train.target)"
      ],
      "metadata": {
        "colab": {
          "base_uri": "https://localhost:8080/"
        },
        "id": "Re9BRdheRJ-a",
        "outputId": "3d786d84-4b20-4fea-965d-367ad00709ac"
      },
      "execution_count": null,
      "outputs": [
        {
          "output_type": "execute_result",
          "data": {
            "text/plain": [
              "KNeighborsClassifier()"
            ]
          },
          "metadata": {},
          "execution_count": 34
        }
      ]
    },
    {
      "cell_type": "code",
      "source": [
        "twenty_test = fetch_20newsgroups(subset='test', shuffle=True)\n",
        "X_test_tfidf = tfidf_Vect.transform(twenty_test.data)"
      ],
      "metadata": {
        "id": "hqK0aMrnRTnR"
      },
      "execution_count": null,
      "outputs": []
    },
    {
      "cell_type": "code",
      "source": [
        "predicted = clf.predict(X_test_tfidf)"
      ],
      "metadata": {
        "id": "jeLbxkyzRVCZ"
      },
      "execution_count": null,
      "outputs": []
    },
    {
      "cell_type": "code",
      "source": [
        "score = metrics.accuracy_score(twenty_test.target, predicted)\n",
        "print(score)"
      ],
      "metadata": {
        "colab": {
          "base_uri": "https://localhost:8080/"
        },
        "id": "6FSa88tURWip",
        "outputId": "952f7933-c863-4785-c8ab-8d2168ef1b83"
      },
      "execution_count": null,
      "outputs": [
        {
          "output_type": "stream",
          "name": "stdout",
          "text": [
            "0.6757833244822092\n"
          ]
        }
      ]
    },
    {
      "cell_type": "code",
      "source": [
        "classes = list(twenty_train.target_names)\n",
        "class_report = classification_report(twenty_test.target, predicted, target_names = classes)\n",
        "print(class_report)"
      ],
      "metadata": {
        "colab": {
          "base_uri": "https://localhost:8080/"
        },
        "id": "kZQZx9ZZRXax",
        "outputId": "20245639-2eef-4365-c96d-fb21742d4a72"
      },
      "execution_count": null,
      "outputs": [
        {
          "output_type": "stream",
          "name": "stdout",
          "text": [
            "                          precision    recall  f1-score   support\n",
            "\n",
            "             alt.atheism       0.62      0.75      0.68       319\n",
            "           comp.graphics       0.46      0.64      0.54       389\n",
            " comp.os.ms-windows.misc       0.52      0.59      0.55       394\n",
            "comp.sys.ibm.pc.hardware       0.50      0.59      0.54       392\n",
            "   comp.sys.mac.hardware       0.57      0.57      0.57       385\n",
            "          comp.windows.x       0.67      0.56      0.61       395\n",
            "            misc.forsale       0.49      0.45      0.47       390\n",
            "               rec.autos       0.73      0.70      0.72       396\n",
            "         rec.motorcycles       0.82      0.85      0.83       398\n",
            "      rec.sport.baseball       0.74      0.75      0.74       397\n",
            "        rec.sport.hockey       0.81      0.87      0.84       399\n",
            "               sci.crypt       0.78      0.83      0.80       396\n",
            "         sci.electronics       0.70      0.55      0.62       393\n",
            "                 sci.med       0.79      0.55      0.65       396\n",
            "               sci.space       0.76      0.80      0.78       394\n",
            "  soc.religion.christian       0.80      0.78      0.79       398\n",
            "      talk.politics.guns       0.73      0.72      0.72       364\n",
            "   talk.politics.mideast       0.81      0.75      0.78       376\n",
            "      talk.politics.misc       0.76      0.62      0.68       310\n",
            "      talk.religion.misc       0.63      0.55      0.58       251\n",
            "\n",
            "                accuracy                           0.68      7532\n",
            "               macro avg       0.68      0.67      0.67      7532\n",
            "            weighted avg       0.68      0.68      0.68      7532\n",
            "\n"
          ]
        }
      ]
    },
    {
      "cell_type": "code",
      "source": [
        ""
      ],
      "metadata": {
        "id": "YQMZUA464n1n"
      },
      "execution_count": null,
      "outputs": []
    },
    {
      "cell_type": "markdown",
      "source": [
        "2. Extract Information"
      ],
      "metadata": {
        "id": "xcBe3SJF4iF3"
      }
    },
    {
      "cell_type": "code",
      "source": [
        "import nltk\n",
        "from bs4 import BeautifulSoup\n",
        "import requests\n",
        "from nltk.tokenize import sent_tokenize\n",
        "from nltk.tokenize import word_tokenize\n",
        "from nltk.stem import LancasterStemmer\n",
        "from nltk.stem import WordNetLemmatizer\n",
        "from nltk.corpus import wordnet as wn\n",
        "from nltk.corpus import brown\n",
        "from nltk.corpus import stopwords\n",
        "from sklearn.feature_extraction.text import CountVectorizer\n",
        "\n",
        "nltk.download('brown') \n",
        "nltk.download('punkt') \n",
        "nltk.download('tagset')\n",
        "nltk.download('tagsets')\n",
        "nltk.download('wordnet')\n",
        "nltk.download('maxent_ne_chunker')\n",
        "nltk.download('words')\n",
        "nltk.download('stopwords')\n",
        "nltk.download('averaged_perceptron_tagger')"
      ],
      "metadata": {
        "colab": {
          "base_uri": "https://localhost:8080/"
        },
        "id": "wD1fQpu65MDL",
        "outputId": "cfdfd8b4-cdd7-4913-f17c-f83c4881bdf9"
      },
      "execution_count": 88,
      "outputs": [
        {
          "output_type": "stream",
          "name": "stdout",
          "text": [
            "[nltk_data] Downloading package brown to /root/nltk_data...\n",
            "[nltk_data]   Package brown is already up-to-date!\n",
            "[nltk_data] Downloading package punkt to /root/nltk_data...\n",
            "[nltk_data]   Package punkt is already up-to-date!\n",
            "[nltk_data] Error loading tagset: Package 'tagset' not found in index\n",
            "[nltk_data] Downloading package tagsets to /root/nltk_data...\n",
            "[nltk_data]   Package tagsets is already up-to-date!\n",
            "[nltk_data] Downloading package wordnet to /root/nltk_data...\n",
            "[nltk_data]   Package wordnet is already up-to-date!\n",
            "[nltk_data] Downloading package maxent_ne_chunker to\n",
            "[nltk_data]     /root/nltk_data...\n",
            "[nltk_data]   Package maxent_ne_chunker is already up-to-date!\n",
            "[nltk_data] Downloading package words to /root/nltk_data...\n",
            "[nltk_data]   Package words is already up-to-date!\n",
            "[nltk_data] Downloading package stopwords to /root/nltk_data...\n",
            "[nltk_data]   Unzipping corpora/stopwords.zip.\n",
            "[nltk_data] Downloading package averaged_perceptron_tagger to\n",
            "[nltk_data]     /root/nltk_data...\n",
            "[nltk_data]   Package averaged_perceptron_tagger is already up-to-\n",
            "[nltk_data]       date!\n"
          ]
        },
        {
          "output_type": "execute_result",
          "data": {
            "text/plain": [
              "True"
            ]
          },
          "metadata": {},
          "execution_count": 88
        }
      ]
    },
    {
      "cell_type": "code",
      "source": [
        "response = requests.get(\"https://www.storynory.com/fox-and-the-crow/\")\n",
        "\n",
        "soup = BeautifulSoup(response.content, \"html.parser\")\n",
        "print(soup.title.string)\n",
        "web_para = soup.select(\"p\")\n",
        "paragraph = \"\"\n",
        "for para in web_para:\n",
        "  paragraph += (\" \" + para.text)\n",
        "\n",
        "print(paragraph)"
      ],
      "metadata": {
        "colab": {
          "base_uri": "https://localhost:8080/"
        },
        "id": "wD5_L3vY4s-J",
        "outputId": "fb6cc72b-02c2-48ae-c5af-e8a3d772334a"
      },
      "execution_count": 89,
      "outputs": [
        {
          "output_type": "stream",
          "name": "stdout",
          "text": [
            "The Fox and the Crow - Storynory\n",
            " I bet you can’t guess what I like to eat best of all? Yes, I knew that you would say that foxes like to eat hens best, and stolen ones at that. I don’t mind admitting that I wouldn’t ever say no to a nice fat chicken wing once in a while. But not many people know that what foxes appreciate even more than chicken, is a nice piece of cheese once in a while. Well today I ate a wonderfully rich and creamy slice of cheddar for my breakfast. It was kindly given to me by a beautiful black-feathered bird whose voice is even more wonderful than her looks. No, I don’t mean a sky-lark, or a fancy bird of paradise. I’m talking about Miss Crow, up in that tree. It was a fine bright morning, and I was following my sharp nose through the woods in search of a bite to eat, when I caught a cheesy smell on the breeze. I looked up into the tree and there on the branch I saw Miss Crow, looking terribly pleased with herself, for in her beak she held a large piece of cheese. It was stolen, no doubt, from the farmer over the hill, but I’m not one to go around accusing people of this and that. I called up to my neighbour and said: “Good morning Miss Crow, you are looking very lovely today, if I may say so.” Miss Crow cocked her head on one side and looked at me with her beady little eye, but she kept her beak firmly closed on the cheese. “Such a charming creature,” I mused to myself, making sure nevertheless that she could overhear. “Such a fine sheen on those wondrous black feathers. What wings! What legs! And that beak, exquisite!” I could see that Miss Crow was paying close attention to my words, even though she was pretending ever so hard not to hear. So I gazed up at the tree with admiration and love in my eyes and said: “Ah, my heart is smitten by this wonderful bird. If only I could hear her voice. I’m sure that such a charming creature must sing most sweetly! If I could but hear one line of her song, I would hail her as the Princess of The Forest!” Now I could see my words had hit home. Swelling with pride, Miss Crow puffed up her feathers and began to sing the most lovely music I have ever heard. “CAAWWWWWWWWW!” Well alright, I know that you are saying that Miss Crow’s voice is not exactly star quality, but to me that “cawww!” was just the sound that I’d been waiting for. Because as soon as she opened her beak, the cheese fell to the ground and I snapped up my breakfast. Which only goes to show that: Flattery will get you everywhere. Storynory Ltd, 26 Star Street, London UK. +44 (0) 7941 190 740. Main point of contact - [email protected] \n",
            " Audio and texts are Copyright Storynory Ltd unless otherwise stated. Images are copyrighted to their owners. Many images on this site are licenced from Shutterstock. Our Terms and Conditions make it easy for schools to use our materials for free, please see our Copywrite Page for details You can review our privacy policy here Privacy Page\n"
          ]
        }
      ]
    },
    {
      "cell_type": "markdown",
      "source": [
        "Sentence Tokenize"
      ],
      "metadata": {
        "id": "n2cnk8yB2iFY"
      }
    },
    {
      "cell_type": "code",
      "source": [
        "s_tokens = sent_tokenize(paragraph)\n",
        "print(s_tokens)"
      ],
      "metadata": {
        "id": "nQistICrYDDP",
        "colab": {
          "base_uri": "https://localhost:8080/"
        },
        "outputId": "a98c0ea8-053b-47a8-9e98-c3da512f1690"
      },
      "execution_count": 90,
      "outputs": [
        {
          "output_type": "stream",
          "name": "stdout",
          "text": [
            "[' I bet you can’t guess what I like to eat best of all?', 'Yes, I knew that you would say that foxes like to eat hens best, and stolen ones at that.', 'I don’t mind admitting that I wouldn’t ever say no to a nice fat chicken wing once in a while.', 'But not many people know that what foxes appreciate even more than chicken, is a nice piece of cheese once in a while.', 'Well today I ate a wonderfully rich and creamy slice of cheddar for my breakfast.', 'It was kindly given to me by a beautiful black-feathered bird whose voice is even more wonderful than her looks.', 'No, I don’t mean a sky-lark, or a fancy bird of paradise.', 'I’m talking about Miss Crow, up in that tree.', 'It was a fine bright morning, and I was following my sharp nose through the woods in search of a bite to eat, when I caught a cheesy smell on the breeze.', 'I looked up into the tree and there on the branch I saw Miss Crow, looking terribly pleased with herself, for in her beak she held a large piece of cheese.', 'It was stolen, no doubt, from the farmer over the hill, but I’m not one to go around accusing people of this and that.', 'I called up to my neighbour and said: “Good morning Miss Crow, you are looking very lovely today, if I may say so.” Miss Crow cocked her head on one side and looked at me with her beady little eye, but she kept her beak firmly closed on the cheese.', '“Such a charming creature,” I mused to myself, making sure nevertheless that she could overhear.', '“Such a fine sheen on those wondrous black feathers.', 'What wings!', 'What legs!', 'And that beak, exquisite!” I could see that Miss Crow was paying close attention to my words, even though she was pretending ever so hard not to hear.', 'So I gazed up at the tree with admiration and love in my eyes and said: “Ah, my heart is smitten by this wonderful bird.', 'If only I could hear her voice.', 'I’m sure that such a charming creature must sing most sweetly!', 'If I could but hear one line of her song, I would hail her as the Princess of The Forest!” Now I could see my words had hit home.', 'Swelling with pride, Miss Crow puffed up her feathers and began to sing the most lovely music I have ever heard.', '“CAAWWWWWWWWW!” Well alright, I know that you are saying that Miss Crow’s voice is not exactly star quality, but to me that “cawww!” was just the sound that I’d been waiting for.', 'Because as soon as she opened her beak, the cheese fell to the ground and I snapped up my breakfast.', 'Which only goes to show that: Flattery will get you everywhere.', 'Storynory Ltd, 26 Star Street, London UK.', '+44 (0) 7941 190 740.', 'Main point of contact - [email\\xa0protected] \\n Audio and texts are Copyright Storynory Ltd unless otherwise stated.', 'Images are copyrighted to their owners.', 'Many images on this site are licenced from Shutterstock.', 'Our Terms and Conditions make it easy for schools to use our materials for free, please see our Copywrite Page for details You can review our privacy policy here Privacy Page']\n"
          ]
        }
      ]
    },
    {
      "cell_type": "markdown",
      "source": [
        "Word Tokenize"
      ],
      "metadata": {
        "id": "k8u6g2Op7P01"
      }
    },
    {
      "cell_type": "code",
      "source": [
        "w_tokens = word_tokenize(paragraph)\n",
        "print(w_tokens)"
      ],
      "metadata": {
        "colab": {
          "base_uri": "https://localhost:8080/"
        },
        "id": "3qycjuqz7RsV",
        "outputId": "cc9e1ed5-d338-4c2f-decf-e917c54e9645"
      },
      "execution_count": 91,
      "outputs": [
        {
          "output_type": "stream",
          "name": "stdout",
          "text": [
            "['I', 'bet', 'you', 'can', '’', 't', 'guess', 'what', 'I', 'like', 'to', 'eat', 'best', 'of', 'all', '?', 'Yes', ',', 'I', 'knew', 'that', 'you', 'would', 'say', 'that', 'foxes', 'like', 'to', 'eat', 'hens', 'best', ',', 'and', 'stolen', 'ones', 'at', 'that', '.', 'I', 'don', '’', 't', 'mind', 'admitting', 'that', 'I', 'wouldn', '’', 't', 'ever', 'say', 'no', 'to', 'a', 'nice', 'fat', 'chicken', 'wing', 'once', 'in', 'a', 'while', '.', 'But', 'not', 'many', 'people', 'know', 'that', 'what', 'foxes', 'appreciate', 'even', 'more', 'than', 'chicken', ',', 'is', 'a', 'nice', 'piece', 'of', 'cheese', 'once', 'in', 'a', 'while', '.', 'Well', 'today', 'I', 'ate', 'a', 'wonderfully', 'rich', 'and', 'creamy', 'slice', 'of', 'cheddar', 'for', 'my', 'breakfast', '.', 'It', 'was', 'kindly', 'given', 'to', 'me', 'by', 'a', 'beautiful', 'black-feathered', 'bird', 'whose', 'voice', 'is', 'even', 'more', 'wonderful', 'than', 'her', 'looks', '.', 'No', ',', 'I', 'don', '’', 't', 'mean', 'a', 'sky-lark', ',', 'or', 'a', 'fancy', 'bird', 'of', 'paradise', '.', 'I', '’', 'm', 'talking', 'about', 'Miss', 'Crow', ',', 'up', 'in', 'that', 'tree', '.', 'It', 'was', 'a', 'fine', 'bright', 'morning', ',', 'and', 'I', 'was', 'following', 'my', 'sharp', 'nose', 'through', 'the', 'woods', 'in', 'search', 'of', 'a', 'bite', 'to', 'eat', ',', 'when', 'I', 'caught', 'a', 'cheesy', 'smell', 'on', 'the', 'breeze', '.', 'I', 'looked', 'up', 'into', 'the', 'tree', 'and', 'there', 'on', 'the', 'branch', 'I', 'saw', 'Miss', 'Crow', ',', 'looking', 'terribly', 'pleased', 'with', 'herself', ',', 'for', 'in', 'her', 'beak', 'she', 'held', 'a', 'large', 'piece', 'of', 'cheese', '.', 'It', 'was', 'stolen', ',', 'no', 'doubt', ',', 'from', 'the', 'farmer', 'over', 'the', 'hill', ',', 'but', 'I', '’', 'm', 'not', 'one', 'to', 'go', 'around', 'accusing', 'people', 'of', 'this', 'and', 'that', '.', 'I', 'called', 'up', 'to', 'my', 'neighbour', 'and', 'said', ':', '“', 'Good', 'morning', 'Miss', 'Crow', ',', 'you', 'are', 'looking', 'very', 'lovely', 'today', ',', 'if', 'I', 'may', 'say', 'so.', '”', 'Miss', 'Crow', 'cocked', 'her', 'head', 'on', 'one', 'side', 'and', 'looked', 'at', 'me', 'with', 'her', 'beady', 'little', 'eye', ',', 'but', 'she', 'kept', 'her', 'beak', 'firmly', 'closed', 'on', 'the', 'cheese', '.', '“', 'Such', 'a', 'charming', 'creature', ',', '”', 'I', 'mused', 'to', 'myself', ',', 'making', 'sure', 'nevertheless', 'that', 'she', 'could', 'overhear', '.', '“', 'Such', 'a', 'fine', 'sheen', 'on', 'those', 'wondrous', 'black', 'feathers', '.', 'What', 'wings', '!', 'What', 'legs', '!', 'And', 'that', 'beak', ',', 'exquisite', '!', '”', 'I', 'could', 'see', 'that', 'Miss', 'Crow', 'was', 'paying', 'close', 'attention', 'to', 'my', 'words', ',', 'even', 'though', 'she', 'was', 'pretending', 'ever', 'so', 'hard', 'not', 'to', 'hear', '.', 'So', 'I', 'gazed', 'up', 'at', 'the', 'tree', 'with', 'admiration', 'and', 'love', 'in', 'my', 'eyes', 'and', 'said', ':', '“', 'Ah', ',', 'my', 'heart', 'is', 'smitten', 'by', 'this', 'wonderful', 'bird', '.', 'If', 'only', 'I', 'could', 'hear', 'her', 'voice', '.', 'I', '’', 'm', 'sure', 'that', 'such', 'a', 'charming', 'creature', 'must', 'sing', 'most', 'sweetly', '!', 'If', 'I', 'could', 'but', 'hear', 'one', 'line', 'of', 'her', 'song', ',', 'I', 'would', 'hail', 'her', 'as', 'the', 'Princess', 'of', 'The', 'Forest', '!', '”', 'Now', 'I', 'could', 'see', 'my', 'words', 'had', 'hit', 'home', '.', 'Swelling', 'with', 'pride', ',', 'Miss', 'Crow', 'puffed', 'up', 'her', 'feathers', 'and', 'began', 'to', 'sing', 'the', 'most', 'lovely', 'music', 'I', 'have', 'ever', 'heard', '.', '“', 'CAAWWWWWWWWW', '!', '”', 'Well', 'alright', ',', 'I', 'know', 'that', 'you', 'are', 'saying', 'that', 'Miss', 'Crow', '’', 's', 'voice', 'is', 'not', 'exactly', 'star', 'quality', ',', 'but', 'to', 'me', 'that', '“', 'cawww', '!', '”', 'was', 'just', 'the', 'sound', 'that', 'I', '’', 'd', 'been', 'waiting', 'for', '.', 'Because', 'as', 'soon', 'as', 'she', 'opened', 'her', 'beak', ',', 'the', 'cheese', 'fell', 'to', 'the', 'ground', 'and', 'I', 'snapped', 'up', 'my', 'breakfast', '.', 'Which', 'only', 'goes', 'to', 'show', 'that', ':', 'Flattery', 'will', 'get', 'you', 'everywhere', '.', 'Storynory', 'Ltd', ',', '26', 'Star', 'Street', ',', 'London', 'UK', '.', '+44', '(', '0', ')', '7941', '190', '740', '.', 'Main', 'point', 'of', 'contact', '-', '[', 'email', 'protected', ']', 'Audio', 'and', 'texts', 'are', 'Copyright', 'Storynory', 'Ltd', 'unless', 'otherwise', 'stated', '.', 'Images', 'are', 'copyrighted', 'to', 'their', 'owners', '.', 'Many', 'images', 'on', 'this', 'site', 'are', 'licenced', 'from', 'Shutterstock', '.', 'Our', 'Terms', 'and', 'Conditions', 'make', 'it', 'easy', 'for', 'schools', 'to', 'use', 'our', 'materials', 'for', 'free', ',', 'please', 'see', 'our', 'Copywrite', 'Page', 'for', 'details', 'You', 'can', 'review', 'our', 'privacy', 'policy', 'here', 'Privacy', 'Page']\n"
          ]
        }
      ]
    },
    {
      "cell_type": "markdown",
      "source": [
        "POS"
      ],
      "metadata": {
        "id": "MJwYguHB2jOA"
      }
    },
    {
      "cell_type": "code",
      "source": [
        "nltk.help.upenn_tagset('CC')\n",
        "nltk.help.upenn_tagset('JJ')\n",
        "nltk.help.upenn_tagset('NNP')"
      ],
      "metadata": {
        "colab": {
          "base_uri": "https://localhost:8080/"
        },
        "id": "Om_VBYqcABZC",
        "outputId": "1030105c-287b-47e3-c801-99a5acc6612c"
      },
      "execution_count": 92,
      "outputs": [
        {
          "output_type": "stream",
          "name": "stdout",
          "text": [
            "CC: conjunction, coordinating\n",
            "    & 'n and both but either et for less minus neither nor or plus so\n",
            "    therefore times v. versus vs. whether yet\n",
            "JJ: adjective or numeral, ordinal\n",
            "    third ill-mannered pre-war regrettable oiled calamitous first separable\n",
            "    ectoplasmic battery-powered participatory fourth still-to-be-named\n",
            "    multilingual multi-disciplinary ...\n",
            "NNP: noun, proper, singular\n",
            "    Motown Venneboerger Czestochwa Ranzer Conchita Trumplane Christos\n",
            "    Oceanside Escobar Kreisler Sawyer Cougar Yvette Ervin ODI Darryl CTCA\n",
            "    Shannon A.K.C. Meltex Liverpool ...\n"
          ]
        }
      ]
    },
    {
      "cell_type": "code",
      "source": [
        "tagged_text = nltk.pos_tag(s_tokens)\n",
        "print(tagged_text)"
      ],
      "metadata": {
        "colab": {
          "base_uri": "https://localhost:8080/"
        },
        "id": "LWTILsvK2mzu",
        "outputId": "32dfb48b-23e2-4a21-f918-23083a782fd9"
      },
      "execution_count": 93,
      "outputs": [
        {
          "output_type": "stream",
          "name": "stdout",
          "text": [
            "[(' I bet you can’t guess what I like to eat best of all?', 'JJ'), ('Yes, I knew that you would say that foxes like to eat hens best, and stolen ones at that.', 'NNP'), ('I don’t mind admitting that I wouldn’t ever say no to a nice fat chicken wing once in a while.', 'NNP'), ('But not many people know that what foxes appreciate even more than chicken, is a nice piece of cheese once in a while.', 'NNP'), ('Well today I ate a wonderfully rich and creamy slice of cheddar for my breakfast.', 'NNP'), ('It was kindly given to me by a beautiful black-feathered bird whose voice is even more wonderful than her looks.', 'NNP'), ('No, I don’t mean a sky-lark, or a fancy bird of paradise.', 'NNP'), ('I’m talking about Miss Crow, up in that tree.', 'NNP'), ('It was a fine bright morning, and I was following my sharp nose through the woods in search of a bite to eat, when I caught a cheesy smell on the breeze.', 'NNP'), ('I looked up into the tree and there on the branch I saw Miss Crow, looking terribly pleased with herself, for in her beak she held a large piece of cheese.', 'NNP'), ('It was stolen, no doubt, from the farmer over the hill, but I’m not one to go around accusing people of this and that.', 'NNP'), ('I called up to my neighbour and said: “Good morning Miss Crow, you are looking very lovely today, if I may say so.” Miss Crow cocked her head on one side and looked at me with her beady little eye, but she kept her beak firmly closed on the cheese.', 'NNP'), ('“Such a charming creature,” I mused to myself, making sure nevertheless that she could overhear.', 'NNP'), ('“Such a fine sheen on those wondrous black feathers.', 'NNP'), ('What wings!', 'NNP'), ('What legs!', 'NNP'), ('And that beak, exquisite!” I could see that Miss Crow was paying close attention to my words, even though she was pretending ever so hard not to hear.', 'NNP'), ('So I gazed up at the tree with admiration and love in my eyes and said: “Ah, my heart is smitten by this wonderful bird.', 'NNP'), ('If only I could hear her voice.', 'NNP'), ('I’m sure that such a charming creature must sing most sweetly!', 'NNP'), ('If I could but hear one line of her song, I would hail her as the Princess of The Forest!” Now I could see my words had hit home.', 'NNP'), ('Swelling with pride, Miss Crow puffed up her feathers and began to sing the most lovely music I have ever heard.', 'NNP'), ('“CAAWWWWWWWWW!” Well alright, I know that you are saying that Miss Crow’s voice is not exactly star quality, but to me that “cawww!” was just the sound that I’d been waiting for.', 'NNP'), ('Because as soon as she opened her beak, the cheese fell to the ground and I snapped up my breakfast.', 'NNP'), ('Which only goes to show that: Flattery will get you everywhere.', 'NNP'), ('Storynory Ltd, 26 Star Street, London UK.', 'NNP'), ('+44 (0) 7941 190 740.', 'NNP'), ('Main point of contact - [email\\xa0protected] \\n Audio and texts are Copyright Storynory Ltd unless otherwise stated.', 'NNP'), ('Images are copyrighted to their owners.', 'NNP'), ('Many images on this site are licenced from Shutterstock.', 'NNP'), ('Our Terms and Conditions make it easy for schools to use our materials for free, please see our Copywrite Page for details You can review our privacy policy here Privacy Page', 'NNP')]\n"
          ]
        }
      ]
    },
    {
      "cell_type": "markdown",
      "source": [
        "Stemming"
      ],
      "metadata": {
        "id": "IMxV8JIJ2vUX"
      }
    },
    {
      "cell_type": "code",
      "source": [
        "Stemmer = LancasterStemmer()\n",
        "stem = []\n",
        "\n",
        "for i in w_tokens:\n",
        "  stem.append([i, Stemmer.stem(i)])\n",
        "\n",
        "print(stem)"
      ],
      "metadata": {
        "colab": {
          "base_uri": "https://localhost:8080/"
        },
        "id": "sbZI0EIW2ygu",
        "outputId": "6c17281f-5fe4-4e4c-f01b-c26a20c5bb66"
      },
      "execution_count": 94,
      "outputs": [
        {
          "output_type": "stream",
          "name": "stdout",
          "text": [
            "[['I', 'i'], ['bet', 'bet'], ['you', 'you'], ['can', 'can'], ['’', '’'], ['t', 't'], ['guess', 'guess'], ['what', 'what'], ['I', 'i'], ['like', 'lik'], ['to', 'to'], ['eat', 'eat'], ['best', 'best'], ['of', 'of'], ['all', 'al'], ['?', '?'], ['Yes', 'ye'], [',', ','], ['I', 'i'], ['knew', 'knew'], ['that', 'that'], ['you', 'you'], ['would', 'would'], ['say', 'say'], ['that', 'that'], ['foxes', 'fox'], ['like', 'lik'], ['to', 'to'], ['eat', 'eat'], ['hens', 'hen'], ['best', 'best'], [',', ','], ['and', 'and'], ['stolen', 'stol'], ['ones', 'on'], ['at', 'at'], ['that', 'that'], ['.', '.'], ['I', 'i'], ['don', 'don'], ['’', '’'], ['t', 't'], ['mind', 'mind'], ['admitting', 'admit'], ['that', 'that'], ['I', 'i'], ['wouldn', 'wouldn'], ['’', '’'], ['t', 't'], ['ever', 'ev'], ['say', 'say'], ['no', 'no'], ['to', 'to'], ['a', 'a'], ['nice', 'nic'], ['fat', 'fat'], ['chicken', 'chick'], ['wing', 'wing'], ['once', 'ont'], ['in', 'in'], ['a', 'a'], ['while', 'whil'], ['.', '.'], ['But', 'but'], ['not', 'not'], ['many', 'many'], ['people', 'peopl'], ['know', 'know'], ['that', 'that'], ['what', 'what'], ['foxes', 'fox'], ['appreciate', 'apprecy'], ['even', 'ev'], ['more', 'mor'], ['than', 'than'], ['chicken', 'chick'], [',', ','], ['is', 'is'], ['a', 'a'], ['nice', 'nic'], ['piece', 'piec'], ['of', 'of'], ['cheese', 'chees'], ['once', 'ont'], ['in', 'in'], ['a', 'a'], ['while', 'whil'], ['.', '.'], ['Well', 'wel'], ['today', 'today'], ['I', 'i'], ['ate', 'at'], ['a', 'a'], ['wonderfully', 'wond'], ['rich', 'rich'], ['and', 'and'], ['creamy', 'creamy'], ['slice', 'slic'], ['of', 'of'], ['cheddar', 'chedd'], ['for', 'for'], ['my', 'my'], ['breakfast', 'breakfast'], ['.', '.'], ['It', 'it'], ['was', 'was'], ['kindly', 'kind'], ['given', 'giv'], ['to', 'to'], ['me', 'me'], ['by', 'by'], ['a', 'a'], ['beautiful', 'beauty'], ['black-feathered', 'black-feathered'], ['bird', 'bird'], ['whose', 'whos'], ['voice', 'voic'], ['is', 'is'], ['even', 'ev'], ['more', 'mor'], ['wonderful', 'wond'], ['than', 'than'], ['her', 'her'], ['looks', 'look'], ['.', '.'], ['No', 'no'], [',', ','], ['I', 'i'], ['don', 'don'], ['’', '’'], ['t', 't'], ['mean', 'mean'], ['a', 'a'], ['sky-lark', 'sky-lark'], [',', ','], ['or', 'or'], ['a', 'a'], ['fancy', 'fant'], ['bird', 'bird'], ['of', 'of'], ['paradise', 'parad'], ['.', '.'], ['I', 'i'], ['’', '’'], ['m', 'm'], ['talking', 'talk'], ['about', 'about'], ['Miss', 'miss'], ['Crow', 'crow'], [',', ','], ['up', 'up'], ['in', 'in'], ['that', 'that'], ['tree', 'tre'], ['.', '.'], ['It', 'it'], ['was', 'was'], ['a', 'a'], ['fine', 'fin'], ['bright', 'bright'], ['morning', 'morn'], [',', ','], ['and', 'and'], ['I', 'i'], ['was', 'was'], ['following', 'follow'], ['my', 'my'], ['sharp', 'sharp'], ['nose', 'nos'], ['through', 'through'], ['the', 'the'], ['woods', 'wood'], ['in', 'in'], ['search', 'search'], ['of', 'of'], ['a', 'a'], ['bite', 'bit'], ['to', 'to'], ['eat', 'eat'], [',', ','], ['when', 'when'], ['I', 'i'], ['caught', 'caught'], ['a', 'a'], ['cheesy', 'cheesy'], ['smell', 'smel'], ['on', 'on'], ['the', 'the'], ['breeze', 'breez'], ['.', '.'], ['I', 'i'], ['looked', 'look'], ['up', 'up'], ['into', 'into'], ['the', 'the'], ['tree', 'tre'], ['and', 'and'], ['there', 'ther'], ['on', 'on'], ['the', 'the'], ['branch', 'branch'], ['I', 'i'], ['saw', 'saw'], ['Miss', 'miss'], ['Crow', 'crow'], [',', ','], ['looking', 'look'], ['terribly', 'terr'], ['pleased', 'pleas'], ['with', 'with'], ['herself', 'herself'], [',', ','], ['for', 'for'], ['in', 'in'], ['her', 'her'], ['beak', 'beak'], ['she', 'she'], ['held', 'held'], ['a', 'a'], ['large', 'larg'], ['piece', 'piec'], ['of', 'of'], ['cheese', 'chees'], ['.', '.'], ['It', 'it'], ['was', 'was'], ['stolen', 'stol'], [',', ','], ['no', 'no'], ['doubt', 'doubt'], [',', ','], ['from', 'from'], ['the', 'the'], ['farmer', 'farm'], ['over', 'ov'], ['the', 'the'], ['hill', 'hil'], [',', ','], ['but', 'but'], ['I', 'i'], ['’', '’'], ['m', 'm'], ['not', 'not'], ['one', 'on'], ['to', 'to'], ['go', 'go'], ['around', 'around'], ['accusing', 'accus'], ['people', 'peopl'], ['of', 'of'], ['this', 'thi'], ['and', 'and'], ['that', 'that'], ['.', '.'], ['I', 'i'], ['called', 'cal'], ['up', 'up'], ['to', 'to'], ['my', 'my'], ['neighbour', 'neighbo'], ['and', 'and'], ['said', 'said'], [':', ':'], ['“', '“'], ['Good', 'good'], ['morning', 'morn'], ['Miss', 'miss'], ['Crow', 'crow'], [',', ','], ['you', 'you'], ['are', 'ar'], ['looking', 'look'], ['very', 'very'], ['lovely', 'lov'], ['today', 'today'], [',', ','], ['if', 'if'], ['I', 'i'], ['may', 'may'], ['say', 'say'], ['so.', 'so.'], ['”', '”'], ['Miss', 'miss'], ['Crow', 'crow'], ['cocked', 'cock'], ['her', 'her'], ['head', 'head'], ['on', 'on'], ['one', 'on'], ['side', 'sid'], ['and', 'and'], ['looked', 'look'], ['at', 'at'], ['me', 'me'], ['with', 'with'], ['her', 'her'], ['beady', 'beady'], ['little', 'littl'], ['eye', 'ey'], [',', ','], ['but', 'but'], ['she', 'she'], ['kept', 'kept'], ['her', 'her'], ['beak', 'beak'], ['firmly', 'firm'], ['closed', 'clos'], ['on', 'on'], ['the', 'the'], ['cheese', 'chees'], ['.', '.'], ['“', '“'], ['Such', 'such'], ['a', 'a'], ['charming', 'charm'], ['creature', 'cre'], [',', ','], ['”', '”'], ['I', 'i'], ['mused', 'mus'], ['to', 'to'], ['myself', 'myself'], [',', ','], ['making', 'mak'], ['sure', 'sur'], ['nevertheless', 'nevertheless'], ['that', 'that'], ['she', 'she'], ['could', 'could'], ['overhear', 'overhear'], ['.', '.'], ['“', '“'], ['Such', 'such'], ['a', 'a'], ['fine', 'fin'], ['sheen', 'sheen'], ['on', 'on'], ['those', 'thos'], ['wondrous', 'wondr'], ['black', 'black'], ['feathers', 'feath'], ['.', '.'], ['What', 'what'], ['wings', 'wing'], ['!', '!'], ['What', 'what'], ['legs', 'leg'], ['!', '!'], ['And', 'and'], ['that', 'that'], ['beak', 'beak'], [',', ','], ['exquisite', 'exquisit'], ['!', '!'], ['”', '”'], ['I', 'i'], ['could', 'could'], ['see', 'see'], ['that', 'that'], ['Miss', 'miss'], ['Crow', 'crow'], ['was', 'was'], ['paying', 'pay'], ['close', 'clos'], ['attention', 'at'], ['to', 'to'], ['my', 'my'], ['words', 'word'], [',', ','], ['even', 'ev'], ['though', 'though'], ['she', 'she'], ['was', 'was'], ['pretending', 'pretend'], ['ever', 'ev'], ['so', 'so'], ['hard', 'hard'], ['not', 'not'], ['to', 'to'], ['hear', 'hear'], ['.', '.'], ['So', 'so'], ['I', 'i'], ['gazed', 'gaz'], ['up', 'up'], ['at', 'at'], ['the', 'the'], ['tree', 'tre'], ['with', 'with'], ['admiration', 'admir'], ['and', 'and'], ['love', 'lov'], ['in', 'in'], ['my', 'my'], ['eyes', 'ey'], ['and', 'and'], ['said', 'said'], [':', ':'], ['“', '“'], ['Ah', 'ah'], [',', ','], ['my', 'my'], ['heart', 'heart'], ['is', 'is'], ['smitten', 'smit'], ['by', 'by'], ['this', 'thi'], ['wonderful', 'wond'], ['bird', 'bird'], ['.', '.'], ['If', 'if'], ['only', 'on'], ['I', 'i'], ['could', 'could'], ['hear', 'hear'], ['her', 'her'], ['voice', 'voic'], ['.', '.'], ['I', 'i'], ['’', '’'], ['m', 'm'], ['sure', 'sur'], ['that', 'that'], ['such', 'such'], ['a', 'a'], ['charming', 'charm'], ['creature', 'cre'], ['must', 'must'], ['sing', 'sing'], ['most', 'most'], ['sweetly', 'sweet'], ['!', '!'], ['If', 'if'], ['I', 'i'], ['could', 'could'], ['but', 'but'], ['hear', 'hear'], ['one', 'on'], ['line', 'lin'], ['of', 'of'], ['her', 'her'], ['song', 'song'], [',', ','], ['I', 'i'], ['would', 'would'], ['hail', 'hail'], ['her', 'her'], ['as', 'as'], ['the', 'the'], ['Princess', 'princess'], ['of', 'of'], ['The', 'the'], ['Forest', 'forest'], ['!', '!'], ['”', '”'], ['Now', 'now'], ['I', 'i'], ['could', 'could'], ['see', 'see'], ['my', 'my'], ['words', 'word'], ['had', 'had'], ['hit', 'hit'], ['home', 'hom'], ['.', '.'], ['Swelling', 'swel'], ['with', 'with'], ['pride', 'prid'], [',', ','], ['Miss', 'miss'], ['Crow', 'crow'], ['puffed', 'puff'], ['up', 'up'], ['her', 'her'], ['feathers', 'feath'], ['and', 'and'], ['began', 'beg'], ['to', 'to'], ['sing', 'sing'], ['the', 'the'], ['most', 'most'], ['lovely', 'lov'], ['music', 'mus'], ['I', 'i'], ['have', 'hav'], ['ever', 'ev'], ['heard', 'heard'], ['.', '.'], ['“', '“'], ['CAAWWWWWWWWW', 'caawwwwwwwww'], ['!', '!'], ['”', '”'], ['Well', 'wel'], ['alright', 'alright'], [',', ','], ['I', 'i'], ['know', 'know'], ['that', 'that'], ['you', 'you'], ['are', 'ar'], ['saying', 'say'], ['that', 'that'], ['Miss', 'miss'], ['Crow', 'crow'], ['’', '’'], ['s', 's'], ['voice', 'voic'], ['is', 'is'], ['not', 'not'], ['exactly', 'exact'], ['star', 'star'], ['quality', 'qual'], [',', ','], ['but', 'but'], ['to', 'to'], ['me', 'me'], ['that', 'that'], ['“', '“'], ['cawww', 'cawww'], ['!', '!'], ['”', '”'], ['was', 'was'], ['just', 'just'], ['the', 'the'], ['sound', 'sound'], ['that', 'that'], ['I', 'i'], ['’', '’'], ['d', 'd'], ['been', 'been'], ['waiting', 'wait'], ['for', 'for'], ['.', '.'], ['Because', 'becaus'], ['as', 'as'], ['soon', 'soon'], ['as', 'as'], ['she', 'she'], ['opened', 'op'], ['her', 'her'], ['beak', 'beak'], [',', ','], ['the', 'the'], ['cheese', 'chees'], ['fell', 'fel'], ['to', 'to'], ['the', 'the'], ['ground', 'ground'], ['and', 'and'], ['I', 'i'], ['snapped', 'snap'], ['up', 'up'], ['my', 'my'], ['breakfast', 'breakfast'], ['.', '.'], ['Which', 'which'], ['only', 'on'], ['goes', 'goe'], ['to', 'to'], ['show', 'show'], ['that', 'that'], [':', ':'], ['Flattery', 'flattery'], ['will', 'wil'], ['get', 'get'], ['you', 'you'], ['everywhere', 'everywh'], ['.', '.'], ['Storynory', 'storyn'], ['Ltd', 'ltd'], [',', ','], ['26', '26'], ['Star', 'star'], ['Street', 'street'], [',', ','], ['London', 'london'], ['UK', 'uk'], ['.', '.'], ['+44', '+44'], ['(', '('], ['0', '0'], [')', ')'], ['7941', '7941'], ['190', '190'], ['740', '740'], ['.', '.'], ['Main', 'main'], ['point', 'point'], ['of', 'of'], ['contact', 'contact'], ['-', '-'], ['[', '['], ['email', 'email'], ['protected', 'protect'], [']', ']'], ['Audio', 'audio'], ['and', 'and'], ['texts', 'text'], ['are', 'ar'], ['Copyright', 'copyright'], ['Storynory', 'storyn'], ['Ltd', 'ltd'], ['unless', 'unless'], ['otherwise', 'otherw'], ['stated', 'stat'], ['.', '.'], ['Images', 'im'], ['are', 'ar'], ['copyrighted', 'copyright'], ['to', 'to'], ['their', 'their'], ['owners', 'own'], ['.', '.'], ['Many', 'many'], ['images', 'im'], ['on', 'on'], ['this', 'thi'], ['site', 'sit'], ['are', 'ar'], ['licenced', 'lic'], ['from', 'from'], ['Shutterstock', 'shutterstock'], ['.', '.'], ['Our', 'our'], ['Terms', 'term'], ['and', 'and'], ['Conditions', 'condit'], ['make', 'mak'], ['it', 'it'], ['easy', 'easy'], ['for', 'for'], ['schools', 'schools'], ['to', 'to'], ['use', 'us'], ['our', 'our'], ['materials', 'mat'], ['for', 'for'], ['free', 'fre'], [',', ','], ['please', 'pleas'], ['see', 'see'], ['our', 'our'], ['Copywrite', 'copywrit'], ['Page', 'pag'], ['for', 'for'], ['details', 'detail'], ['You', 'you'], ['can', 'can'], ['review', 'review'], ['our', 'our'], ['privacy', 'priv'], ['policy', 'policy'], ['here', 'her'], ['Privacy', 'priv'], ['Page', 'pag']]\n"
          ]
        }
      ]
    },
    {
      "cell_type": "markdown",
      "source": [
        "Lemmatization"
      ],
      "metadata": {
        "id": "4f9RqbLj2y1e"
      }
    },
    {
      "cell_type": "code",
      "source": [
        "Lemmatizer = WordNetLemmatizer()\n",
        "lem = []\n",
        "\n",
        "for i in w_tokens:\n",
        "  lem.append([i, Lemmatizer.lemmatize(i)])\n",
        "\n",
        "print(lem)"
      ],
      "metadata": {
        "colab": {
          "base_uri": "https://localhost:8080/"
        },
        "id": "osASwfHj22Pv",
        "outputId": "8e3b39ec-5b5c-4614-eb44-fddc1a6424f3"
      },
      "execution_count": 95,
      "outputs": [
        {
          "output_type": "stream",
          "name": "stdout",
          "text": [
            "[['I', 'I'], ['bet', 'bet'], ['you', 'you'], ['can', 'can'], ['’', '’'], ['t', 't'], ['guess', 'guess'], ['what', 'what'], ['I', 'I'], ['like', 'like'], ['to', 'to'], ['eat', 'eat'], ['best', 'best'], ['of', 'of'], ['all', 'all'], ['?', '?'], ['Yes', 'Yes'], [',', ','], ['I', 'I'], ['knew', 'knew'], ['that', 'that'], ['you', 'you'], ['would', 'would'], ['say', 'say'], ['that', 'that'], ['foxes', 'fox'], ['like', 'like'], ['to', 'to'], ['eat', 'eat'], ['hens', 'hen'], ['best', 'best'], [',', ','], ['and', 'and'], ['stolen', 'stolen'], ['ones', 'one'], ['at', 'at'], ['that', 'that'], ['.', '.'], ['I', 'I'], ['don', 'don'], ['’', '’'], ['t', 't'], ['mind', 'mind'], ['admitting', 'admitting'], ['that', 'that'], ['I', 'I'], ['wouldn', 'wouldn'], ['’', '’'], ['t', 't'], ['ever', 'ever'], ['say', 'say'], ['no', 'no'], ['to', 'to'], ['a', 'a'], ['nice', 'nice'], ['fat', 'fat'], ['chicken', 'chicken'], ['wing', 'wing'], ['once', 'once'], ['in', 'in'], ['a', 'a'], ['while', 'while'], ['.', '.'], ['But', 'But'], ['not', 'not'], ['many', 'many'], ['people', 'people'], ['know', 'know'], ['that', 'that'], ['what', 'what'], ['foxes', 'fox'], ['appreciate', 'appreciate'], ['even', 'even'], ['more', 'more'], ['than', 'than'], ['chicken', 'chicken'], [',', ','], ['is', 'is'], ['a', 'a'], ['nice', 'nice'], ['piece', 'piece'], ['of', 'of'], ['cheese', 'cheese'], ['once', 'once'], ['in', 'in'], ['a', 'a'], ['while', 'while'], ['.', '.'], ['Well', 'Well'], ['today', 'today'], ['I', 'I'], ['ate', 'ate'], ['a', 'a'], ['wonderfully', 'wonderfully'], ['rich', 'rich'], ['and', 'and'], ['creamy', 'creamy'], ['slice', 'slice'], ['of', 'of'], ['cheddar', 'cheddar'], ['for', 'for'], ['my', 'my'], ['breakfast', 'breakfast'], ['.', '.'], ['It', 'It'], ['was', 'wa'], ['kindly', 'kindly'], ['given', 'given'], ['to', 'to'], ['me', 'me'], ['by', 'by'], ['a', 'a'], ['beautiful', 'beautiful'], ['black-feathered', 'black-feathered'], ['bird', 'bird'], ['whose', 'whose'], ['voice', 'voice'], ['is', 'is'], ['even', 'even'], ['more', 'more'], ['wonderful', 'wonderful'], ['than', 'than'], ['her', 'her'], ['looks', 'look'], ['.', '.'], ['No', 'No'], [',', ','], ['I', 'I'], ['don', 'don'], ['’', '’'], ['t', 't'], ['mean', 'mean'], ['a', 'a'], ['sky-lark', 'sky-lark'], [',', ','], ['or', 'or'], ['a', 'a'], ['fancy', 'fancy'], ['bird', 'bird'], ['of', 'of'], ['paradise', 'paradise'], ['.', '.'], ['I', 'I'], ['’', '’'], ['m', 'm'], ['talking', 'talking'], ['about', 'about'], ['Miss', 'Miss'], ['Crow', 'Crow'], [',', ','], ['up', 'up'], ['in', 'in'], ['that', 'that'], ['tree', 'tree'], ['.', '.'], ['It', 'It'], ['was', 'wa'], ['a', 'a'], ['fine', 'fine'], ['bright', 'bright'], ['morning', 'morning'], [',', ','], ['and', 'and'], ['I', 'I'], ['was', 'wa'], ['following', 'following'], ['my', 'my'], ['sharp', 'sharp'], ['nose', 'nose'], ['through', 'through'], ['the', 'the'], ['woods', 'wood'], ['in', 'in'], ['search', 'search'], ['of', 'of'], ['a', 'a'], ['bite', 'bite'], ['to', 'to'], ['eat', 'eat'], [',', ','], ['when', 'when'], ['I', 'I'], ['caught', 'caught'], ['a', 'a'], ['cheesy', 'cheesy'], ['smell', 'smell'], ['on', 'on'], ['the', 'the'], ['breeze', 'breeze'], ['.', '.'], ['I', 'I'], ['looked', 'looked'], ['up', 'up'], ['into', 'into'], ['the', 'the'], ['tree', 'tree'], ['and', 'and'], ['there', 'there'], ['on', 'on'], ['the', 'the'], ['branch', 'branch'], ['I', 'I'], ['saw', 'saw'], ['Miss', 'Miss'], ['Crow', 'Crow'], [',', ','], ['looking', 'looking'], ['terribly', 'terribly'], ['pleased', 'pleased'], ['with', 'with'], ['herself', 'herself'], [',', ','], ['for', 'for'], ['in', 'in'], ['her', 'her'], ['beak', 'beak'], ['she', 'she'], ['held', 'held'], ['a', 'a'], ['large', 'large'], ['piece', 'piece'], ['of', 'of'], ['cheese', 'cheese'], ['.', '.'], ['It', 'It'], ['was', 'wa'], ['stolen', 'stolen'], [',', ','], ['no', 'no'], ['doubt', 'doubt'], [',', ','], ['from', 'from'], ['the', 'the'], ['farmer', 'farmer'], ['over', 'over'], ['the', 'the'], ['hill', 'hill'], [',', ','], ['but', 'but'], ['I', 'I'], ['’', '’'], ['m', 'm'], ['not', 'not'], ['one', 'one'], ['to', 'to'], ['go', 'go'], ['around', 'around'], ['accusing', 'accusing'], ['people', 'people'], ['of', 'of'], ['this', 'this'], ['and', 'and'], ['that', 'that'], ['.', '.'], ['I', 'I'], ['called', 'called'], ['up', 'up'], ['to', 'to'], ['my', 'my'], ['neighbour', 'neighbour'], ['and', 'and'], ['said', 'said'], [':', ':'], ['“', '“'], ['Good', 'Good'], ['morning', 'morning'], ['Miss', 'Miss'], ['Crow', 'Crow'], [',', ','], ['you', 'you'], ['are', 'are'], ['looking', 'looking'], ['very', 'very'], ['lovely', 'lovely'], ['today', 'today'], [',', ','], ['if', 'if'], ['I', 'I'], ['may', 'may'], ['say', 'say'], ['so.', 'so.'], ['”', '”'], ['Miss', 'Miss'], ['Crow', 'Crow'], ['cocked', 'cocked'], ['her', 'her'], ['head', 'head'], ['on', 'on'], ['one', 'one'], ['side', 'side'], ['and', 'and'], ['looked', 'looked'], ['at', 'at'], ['me', 'me'], ['with', 'with'], ['her', 'her'], ['beady', 'beady'], ['little', 'little'], ['eye', 'eye'], [',', ','], ['but', 'but'], ['she', 'she'], ['kept', 'kept'], ['her', 'her'], ['beak', 'beak'], ['firmly', 'firmly'], ['closed', 'closed'], ['on', 'on'], ['the', 'the'], ['cheese', 'cheese'], ['.', '.'], ['“', '“'], ['Such', 'Such'], ['a', 'a'], ['charming', 'charming'], ['creature', 'creature'], [',', ','], ['”', '”'], ['I', 'I'], ['mused', 'mused'], ['to', 'to'], ['myself', 'myself'], [',', ','], ['making', 'making'], ['sure', 'sure'], ['nevertheless', 'nevertheless'], ['that', 'that'], ['she', 'she'], ['could', 'could'], ['overhear', 'overhear'], ['.', '.'], ['“', '“'], ['Such', 'Such'], ['a', 'a'], ['fine', 'fine'], ['sheen', 'sheen'], ['on', 'on'], ['those', 'those'], ['wondrous', 'wondrous'], ['black', 'black'], ['feathers', 'feather'], ['.', '.'], ['What', 'What'], ['wings', 'wing'], ['!', '!'], ['What', 'What'], ['legs', 'leg'], ['!', '!'], ['And', 'And'], ['that', 'that'], ['beak', 'beak'], [',', ','], ['exquisite', 'exquisite'], ['!', '!'], ['”', '”'], ['I', 'I'], ['could', 'could'], ['see', 'see'], ['that', 'that'], ['Miss', 'Miss'], ['Crow', 'Crow'], ['was', 'wa'], ['paying', 'paying'], ['close', 'close'], ['attention', 'attention'], ['to', 'to'], ['my', 'my'], ['words', 'word'], [',', ','], ['even', 'even'], ['though', 'though'], ['she', 'she'], ['was', 'wa'], ['pretending', 'pretending'], ['ever', 'ever'], ['so', 'so'], ['hard', 'hard'], ['not', 'not'], ['to', 'to'], ['hear', 'hear'], ['.', '.'], ['So', 'So'], ['I', 'I'], ['gazed', 'gazed'], ['up', 'up'], ['at', 'at'], ['the', 'the'], ['tree', 'tree'], ['with', 'with'], ['admiration', 'admiration'], ['and', 'and'], ['love', 'love'], ['in', 'in'], ['my', 'my'], ['eyes', 'eye'], ['and', 'and'], ['said', 'said'], [':', ':'], ['“', '“'], ['Ah', 'Ah'], [',', ','], ['my', 'my'], ['heart', 'heart'], ['is', 'is'], ['smitten', 'smitten'], ['by', 'by'], ['this', 'this'], ['wonderful', 'wonderful'], ['bird', 'bird'], ['.', '.'], ['If', 'If'], ['only', 'only'], ['I', 'I'], ['could', 'could'], ['hear', 'hear'], ['her', 'her'], ['voice', 'voice'], ['.', '.'], ['I', 'I'], ['’', '’'], ['m', 'm'], ['sure', 'sure'], ['that', 'that'], ['such', 'such'], ['a', 'a'], ['charming', 'charming'], ['creature', 'creature'], ['must', 'must'], ['sing', 'sing'], ['most', 'most'], ['sweetly', 'sweetly'], ['!', '!'], ['If', 'If'], ['I', 'I'], ['could', 'could'], ['but', 'but'], ['hear', 'hear'], ['one', 'one'], ['line', 'line'], ['of', 'of'], ['her', 'her'], ['song', 'song'], [',', ','], ['I', 'I'], ['would', 'would'], ['hail', 'hail'], ['her', 'her'], ['as', 'a'], ['the', 'the'], ['Princess', 'Princess'], ['of', 'of'], ['The', 'The'], ['Forest', 'Forest'], ['!', '!'], ['”', '”'], ['Now', 'Now'], ['I', 'I'], ['could', 'could'], ['see', 'see'], ['my', 'my'], ['words', 'word'], ['had', 'had'], ['hit', 'hit'], ['home', 'home'], ['.', '.'], ['Swelling', 'Swelling'], ['with', 'with'], ['pride', 'pride'], [',', ','], ['Miss', 'Miss'], ['Crow', 'Crow'], ['puffed', 'puffed'], ['up', 'up'], ['her', 'her'], ['feathers', 'feather'], ['and', 'and'], ['began', 'began'], ['to', 'to'], ['sing', 'sing'], ['the', 'the'], ['most', 'most'], ['lovely', 'lovely'], ['music', 'music'], ['I', 'I'], ['have', 'have'], ['ever', 'ever'], ['heard', 'heard'], ['.', '.'], ['“', '“'], ['CAAWWWWWWWWW', 'CAAWWWWWWWWW'], ['!', '!'], ['”', '”'], ['Well', 'Well'], ['alright', 'alright'], [',', ','], ['I', 'I'], ['know', 'know'], ['that', 'that'], ['you', 'you'], ['are', 'are'], ['saying', 'saying'], ['that', 'that'], ['Miss', 'Miss'], ['Crow', 'Crow'], ['’', '’'], ['s', 's'], ['voice', 'voice'], ['is', 'is'], ['not', 'not'], ['exactly', 'exactly'], ['star', 'star'], ['quality', 'quality'], [',', ','], ['but', 'but'], ['to', 'to'], ['me', 'me'], ['that', 'that'], ['“', '“'], ['cawww', 'cawww'], ['!', '!'], ['”', '”'], ['was', 'wa'], ['just', 'just'], ['the', 'the'], ['sound', 'sound'], ['that', 'that'], ['I', 'I'], ['’', '’'], ['d', 'd'], ['been', 'been'], ['waiting', 'waiting'], ['for', 'for'], ['.', '.'], ['Because', 'Because'], ['as', 'a'], ['soon', 'soon'], ['as', 'a'], ['she', 'she'], ['opened', 'opened'], ['her', 'her'], ['beak', 'beak'], [',', ','], ['the', 'the'], ['cheese', 'cheese'], ['fell', 'fell'], ['to', 'to'], ['the', 'the'], ['ground', 'ground'], ['and', 'and'], ['I', 'I'], ['snapped', 'snapped'], ['up', 'up'], ['my', 'my'], ['breakfast', 'breakfast'], ['.', '.'], ['Which', 'Which'], ['only', 'only'], ['goes', 'go'], ['to', 'to'], ['show', 'show'], ['that', 'that'], [':', ':'], ['Flattery', 'Flattery'], ['will', 'will'], ['get', 'get'], ['you', 'you'], ['everywhere', 'everywhere'], ['.', '.'], ['Storynory', 'Storynory'], ['Ltd', 'Ltd'], [',', ','], ['26', '26'], ['Star', 'Star'], ['Street', 'Street'], [',', ','], ['London', 'London'], ['UK', 'UK'], ['.', '.'], ['+44', '+44'], ['(', '('], ['0', '0'], [')', ')'], ['7941', '7941'], ['190', '190'], ['740', '740'], ['.', '.'], ['Main', 'Main'], ['point', 'point'], ['of', 'of'], ['contact', 'contact'], ['-', '-'], ['[', '['], ['email', 'email'], ['protected', 'protected'], [']', ']'], ['Audio', 'Audio'], ['and', 'and'], ['texts', 'text'], ['are', 'are'], ['Copyright', 'Copyright'], ['Storynory', 'Storynory'], ['Ltd', 'Ltd'], ['unless', 'unless'], ['otherwise', 'otherwise'], ['stated', 'stated'], ['.', '.'], ['Images', 'Images'], ['are', 'are'], ['copyrighted', 'copyrighted'], ['to', 'to'], ['their', 'their'], ['owners', 'owner'], ['.', '.'], ['Many', 'Many'], ['images', 'image'], ['on', 'on'], ['this', 'this'], ['site', 'site'], ['are', 'are'], ['licenced', 'licenced'], ['from', 'from'], ['Shutterstock', 'Shutterstock'], ['.', '.'], ['Our', 'Our'], ['Terms', 'Terms'], ['and', 'and'], ['Conditions', 'Conditions'], ['make', 'make'], ['it', 'it'], ['easy', 'easy'], ['for', 'for'], ['schools', 'school'], ['to', 'to'], ['use', 'use'], ['our', 'our'], ['materials', 'material'], ['for', 'for'], ['free', 'free'], [',', ','], ['please', 'please'], ['see', 'see'], ['our', 'our'], ['Copywrite', 'Copywrite'], ['Page', 'Page'], ['for', 'for'], ['details', 'detail'], ['You', 'You'], ['can', 'can'], ['review', 'review'], ['our', 'our'], ['privacy', 'privacy'], ['policy', 'policy'], ['here', 'here'], ['Privacy', 'Privacy'], ['Page', 'Page']]\n"
          ]
        }
      ]
    },
    {
      "cell_type": "markdown",
      "source": [
        "Trigram"
      ],
      "metadata": {
        "id": "GURt7oFx22oX"
      }
    },
    {
      "cell_type": "code",
      "source": [
        "for i in range(0, int(len(w_tokens))):\n",
        "  try:\n",
        "    print(f\"{w_tokens[i]} {w_tokens[i+1]} {w_tokens[i+2]}\")\n",
        "  except IndexError:\n",
        "    pass"
      ],
      "metadata": {
        "colab": {
          "base_uri": "https://localhost:8080/"
        },
        "id": "nthfkBRK24hu",
        "outputId": "81ade25e-5b79-4d28-b901-c4d7ad69ddb7"
      },
      "execution_count": 96,
      "outputs": [
        {
          "output_type": "stream",
          "name": "stdout",
          "text": [
            "I bet you\n",
            "bet you can\n",
            "you can ’\n",
            "can ’ t\n",
            "’ t guess\n",
            "t guess what\n",
            "guess what I\n",
            "what I like\n",
            "I like to\n",
            "like to eat\n",
            "to eat best\n",
            "eat best of\n",
            "best of all\n",
            "of all ?\n",
            "all ? Yes\n",
            "? Yes ,\n",
            "Yes , I\n",
            ", I knew\n",
            "I knew that\n",
            "knew that you\n",
            "that you would\n",
            "you would say\n",
            "would say that\n",
            "say that foxes\n",
            "that foxes like\n",
            "foxes like to\n",
            "like to eat\n",
            "to eat hens\n",
            "eat hens best\n",
            "hens best ,\n",
            "best , and\n",
            ", and stolen\n",
            "and stolen ones\n",
            "stolen ones at\n",
            "ones at that\n",
            "at that .\n",
            "that . I\n",
            ". I don\n",
            "I don ’\n",
            "don ’ t\n",
            "’ t mind\n",
            "t mind admitting\n",
            "mind admitting that\n",
            "admitting that I\n",
            "that I wouldn\n",
            "I wouldn ’\n",
            "wouldn ’ t\n",
            "’ t ever\n",
            "t ever say\n",
            "ever say no\n",
            "say no to\n",
            "no to a\n",
            "to a nice\n",
            "a nice fat\n",
            "nice fat chicken\n",
            "fat chicken wing\n",
            "chicken wing once\n",
            "wing once in\n",
            "once in a\n",
            "in a while\n",
            "a while .\n",
            "while . But\n",
            ". But not\n",
            "But not many\n",
            "not many people\n",
            "many people know\n",
            "people know that\n",
            "know that what\n",
            "that what foxes\n",
            "what foxes appreciate\n",
            "foxes appreciate even\n",
            "appreciate even more\n",
            "even more than\n",
            "more than chicken\n",
            "than chicken ,\n",
            "chicken , is\n",
            ", is a\n",
            "is a nice\n",
            "a nice piece\n",
            "nice piece of\n",
            "piece of cheese\n",
            "of cheese once\n",
            "cheese once in\n",
            "once in a\n",
            "in a while\n",
            "a while .\n",
            "while . Well\n",
            ". Well today\n",
            "Well today I\n",
            "today I ate\n",
            "I ate a\n",
            "ate a wonderfully\n",
            "a wonderfully rich\n",
            "wonderfully rich and\n",
            "rich and creamy\n",
            "and creamy slice\n",
            "creamy slice of\n",
            "slice of cheddar\n",
            "of cheddar for\n",
            "cheddar for my\n",
            "for my breakfast\n",
            "my breakfast .\n",
            "breakfast . It\n",
            ". It was\n",
            "It was kindly\n",
            "was kindly given\n",
            "kindly given to\n",
            "given to me\n",
            "to me by\n",
            "me by a\n",
            "by a beautiful\n",
            "a beautiful black-feathered\n",
            "beautiful black-feathered bird\n",
            "black-feathered bird whose\n",
            "bird whose voice\n",
            "whose voice is\n",
            "voice is even\n",
            "is even more\n",
            "even more wonderful\n",
            "more wonderful than\n",
            "wonderful than her\n",
            "than her looks\n",
            "her looks .\n",
            "looks . No\n",
            ". No ,\n",
            "No , I\n",
            ", I don\n",
            "I don ’\n",
            "don ’ t\n",
            "’ t mean\n",
            "t mean a\n",
            "mean a sky-lark\n",
            "a sky-lark ,\n",
            "sky-lark , or\n",
            ", or a\n",
            "or a fancy\n",
            "a fancy bird\n",
            "fancy bird of\n",
            "bird of paradise\n",
            "of paradise .\n",
            "paradise . I\n",
            ". I ’\n",
            "I ’ m\n",
            "’ m talking\n",
            "m talking about\n",
            "talking about Miss\n",
            "about Miss Crow\n",
            "Miss Crow ,\n",
            "Crow , up\n",
            ", up in\n",
            "up in that\n",
            "in that tree\n",
            "that tree .\n",
            "tree . It\n",
            ". It was\n",
            "It was a\n",
            "was a fine\n",
            "a fine bright\n",
            "fine bright morning\n",
            "bright morning ,\n",
            "morning , and\n",
            ", and I\n",
            "and I was\n",
            "I was following\n",
            "was following my\n",
            "following my sharp\n",
            "my sharp nose\n",
            "sharp nose through\n",
            "nose through the\n",
            "through the woods\n",
            "the woods in\n",
            "woods in search\n",
            "in search of\n",
            "search of a\n",
            "of a bite\n",
            "a bite to\n",
            "bite to eat\n",
            "to eat ,\n",
            "eat , when\n",
            ", when I\n",
            "when I caught\n",
            "I caught a\n",
            "caught a cheesy\n",
            "a cheesy smell\n",
            "cheesy smell on\n",
            "smell on the\n",
            "on the breeze\n",
            "the breeze .\n",
            "breeze . I\n",
            ". I looked\n",
            "I looked up\n",
            "looked up into\n",
            "up into the\n",
            "into the tree\n",
            "the tree and\n",
            "tree and there\n",
            "and there on\n",
            "there on the\n",
            "on the branch\n",
            "the branch I\n",
            "branch I saw\n",
            "I saw Miss\n",
            "saw Miss Crow\n",
            "Miss Crow ,\n",
            "Crow , looking\n",
            ", looking terribly\n",
            "looking terribly pleased\n",
            "terribly pleased with\n",
            "pleased with herself\n",
            "with herself ,\n",
            "herself , for\n",
            ", for in\n",
            "for in her\n",
            "in her beak\n",
            "her beak she\n",
            "beak she held\n",
            "she held a\n",
            "held a large\n",
            "a large piece\n",
            "large piece of\n",
            "piece of cheese\n",
            "of cheese .\n",
            "cheese . It\n",
            ". It was\n",
            "It was stolen\n",
            "was stolen ,\n",
            "stolen , no\n",
            ", no doubt\n",
            "no doubt ,\n",
            "doubt , from\n",
            ", from the\n",
            "from the farmer\n",
            "the farmer over\n",
            "farmer over the\n",
            "over the hill\n",
            "the hill ,\n",
            "hill , but\n",
            ", but I\n",
            "but I ’\n",
            "I ’ m\n",
            "’ m not\n",
            "m not one\n",
            "not one to\n",
            "one to go\n",
            "to go around\n",
            "go around accusing\n",
            "around accusing people\n",
            "accusing people of\n",
            "people of this\n",
            "of this and\n",
            "this and that\n",
            "and that .\n",
            "that . I\n",
            ". I called\n",
            "I called up\n",
            "called up to\n",
            "up to my\n",
            "to my neighbour\n",
            "my neighbour and\n",
            "neighbour and said\n",
            "and said :\n",
            "said : “\n",
            ": “ Good\n",
            "“ Good morning\n",
            "Good morning Miss\n",
            "morning Miss Crow\n",
            "Miss Crow ,\n",
            "Crow , you\n",
            ", you are\n",
            "you are looking\n",
            "are looking very\n",
            "looking very lovely\n",
            "very lovely today\n",
            "lovely today ,\n",
            "today , if\n",
            ", if I\n",
            "if I may\n",
            "I may say\n",
            "may say so.\n",
            "say so. ”\n",
            "so. ” Miss\n",
            "” Miss Crow\n",
            "Miss Crow cocked\n",
            "Crow cocked her\n",
            "cocked her head\n",
            "her head on\n",
            "head on one\n",
            "on one side\n",
            "one side and\n",
            "side and looked\n",
            "and looked at\n",
            "looked at me\n",
            "at me with\n",
            "me with her\n",
            "with her beady\n",
            "her beady little\n",
            "beady little eye\n",
            "little eye ,\n",
            "eye , but\n",
            ", but she\n",
            "but she kept\n",
            "she kept her\n",
            "kept her beak\n",
            "her beak firmly\n",
            "beak firmly closed\n",
            "firmly closed on\n",
            "closed on the\n",
            "on the cheese\n",
            "the cheese .\n",
            "cheese . “\n",
            ". “ Such\n",
            "“ Such a\n",
            "Such a charming\n",
            "a charming creature\n",
            "charming creature ,\n",
            "creature , ”\n",
            ", ” I\n",
            "” I mused\n",
            "I mused to\n",
            "mused to myself\n",
            "to myself ,\n",
            "myself , making\n",
            ", making sure\n",
            "making sure nevertheless\n",
            "sure nevertheless that\n",
            "nevertheless that she\n",
            "that she could\n",
            "she could overhear\n",
            "could overhear .\n",
            "overhear . “\n",
            ". “ Such\n",
            "“ Such a\n",
            "Such a fine\n",
            "a fine sheen\n",
            "fine sheen on\n",
            "sheen on those\n",
            "on those wondrous\n",
            "those wondrous black\n",
            "wondrous black feathers\n",
            "black feathers .\n",
            "feathers . What\n",
            ". What wings\n",
            "What wings !\n",
            "wings ! What\n",
            "! What legs\n",
            "What legs !\n",
            "legs ! And\n",
            "! And that\n",
            "And that beak\n",
            "that beak ,\n",
            "beak , exquisite\n",
            ", exquisite !\n",
            "exquisite ! ”\n",
            "! ” I\n",
            "” I could\n",
            "I could see\n",
            "could see that\n",
            "see that Miss\n",
            "that Miss Crow\n",
            "Miss Crow was\n",
            "Crow was paying\n",
            "was paying close\n",
            "paying close attention\n",
            "close attention to\n",
            "attention to my\n",
            "to my words\n",
            "my words ,\n",
            "words , even\n",
            ", even though\n",
            "even though she\n",
            "though she was\n",
            "she was pretending\n",
            "was pretending ever\n",
            "pretending ever so\n",
            "ever so hard\n",
            "so hard not\n",
            "hard not to\n",
            "not to hear\n",
            "to hear .\n",
            "hear . So\n",
            ". So I\n",
            "So I gazed\n",
            "I gazed up\n",
            "gazed up at\n",
            "up at the\n",
            "at the tree\n",
            "the tree with\n",
            "tree with admiration\n",
            "with admiration and\n",
            "admiration and love\n",
            "and love in\n",
            "love in my\n",
            "in my eyes\n",
            "my eyes and\n",
            "eyes and said\n",
            "and said :\n",
            "said : “\n",
            ": “ Ah\n",
            "“ Ah ,\n",
            "Ah , my\n",
            ", my heart\n",
            "my heart is\n",
            "heart is smitten\n",
            "is smitten by\n",
            "smitten by this\n",
            "by this wonderful\n",
            "this wonderful bird\n",
            "wonderful bird .\n",
            "bird . If\n",
            ". If only\n",
            "If only I\n",
            "only I could\n",
            "I could hear\n",
            "could hear her\n",
            "hear her voice\n",
            "her voice .\n",
            "voice . I\n",
            ". I ’\n",
            "I ’ m\n",
            "’ m sure\n",
            "m sure that\n",
            "sure that such\n",
            "that such a\n",
            "such a charming\n",
            "a charming creature\n",
            "charming creature must\n",
            "creature must sing\n",
            "must sing most\n",
            "sing most sweetly\n",
            "most sweetly !\n",
            "sweetly ! If\n",
            "! If I\n",
            "If I could\n",
            "I could but\n",
            "could but hear\n",
            "but hear one\n",
            "hear one line\n",
            "one line of\n",
            "line of her\n",
            "of her song\n",
            "her song ,\n",
            "song , I\n",
            ", I would\n",
            "I would hail\n",
            "would hail her\n",
            "hail her as\n",
            "her as the\n",
            "as the Princess\n",
            "the Princess of\n",
            "Princess of The\n",
            "of The Forest\n",
            "The Forest !\n",
            "Forest ! ”\n",
            "! ” Now\n",
            "” Now I\n",
            "Now I could\n",
            "I could see\n",
            "could see my\n",
            "see my words\n",
            "my words had\n",
            "words had hit\n",
            "had hit home\n",
            "hit home .\n",
            "home . Swelling\n",
            ". Swelling with\n",
            "Swelling with pride\n",
            "with pride ,\n",
            "pride , Miss\n",
            ", Miss Crow\n",
            "Miss Crow puffed\n",
            "Crow puffed up\n",
            "puffed up her\n",
            "up her feathers\n",
            "her feathers and\n",
            "feathers and began\n",
            "and began to\n",
            "began to sing\n",
            "to sing the\n",
            "sing the most\n",
            "the most lovely\n",
            "most lovely music\n",
            "lovely music I\n",
            "music I have\n",
            "I have ever\n",
            "have ever heard\n",
            "ever heard .\n",
            "heard . “\n",
            ". “ CAAWWWWWWWWW\n",
            "“ CAAWWWWWWWWW !\n",
            "CAAWWWWWWWWW ! ”\n",
            "! ” Well\n",
            "” Well alright\n",
            "Well alright ,\n",
            "alright , I\n",
            ", I know\n",
            "I know that\n",
            "know that you\n",
            "that you are\n",
            "you are saying\n",
            "are saying that\n",
            "saying that Miss\n",
            "that Miss Crow\n",
            "Miss Crow ’\n",
            "Crow ’ s\n",
            "’ s voice\n",
            "s voice is\n",
            "voice is not\n",
            "is not exactly\n",
            "not exactly star\n",
            "exactly star quality\n",
            "star quality ,\n",
            "quality , but\n",
            ", but to\n",
            "but to me\n",
            "to me that\n",
            "me that “\n",
            "that “ cawww\n",
            "“ cawww !\n",
            "cawww ! ”\n",
            "! ” was\n",
            "” was just\n",
            "was just the\n",
            "just the sound\n",
            "the sound that\n",
            "sound that I\n",
            "that I ’\n",
            "I ’ d\n",
            "’ d been\n",
            "d been waiting\n",
            "been waiting for\n",
            "waiting for .\n",
            "for . Because\n",
            ". Because as\n",
            "Because as soon\n",
            "as soon as\n",
            "soon as she\n",
            "as she opened\n",
            "she opened her\n",
            "opened her beak\n",
            "her beak ,\n",
            "beak , the\n",
            ", the cheese\n",
            "the cheese fell\n",
            "cheese fell to\n",
            "fell to the\n",
            "to the ground\n",
            "the ground and\n",
            "ground and I\n",
            "and I snapped\n",
            "I snapped up\n",
            "snapped up my\n",
            "up my breakfast\n",
            "my breakfast .\n",
            "breakfast . Which\n",
            ". Which only\n",
            "Which only goes\n",
            "only goes to\n",
            "goes to show\n",
            "to show that\n",
            "show that :\n",
            "that : Flattery\n",
            ": Flattery will\n",
            "Flattery will get\n",
            "will get you\n",
            "get you everywhere\n",
            "you everywhere .\n",
            "everywhere . Storynory\n",
            ". Storynory Ltd\n",
            "Storynory Ltd ,\n",
            "Ltd , 26\n",
            ", 26 Star\n",
            "26 Star Street\n",
            "Star Street ,\n",
            "Street , London\n",
            ", London UK\n",
            "London UK .\n",
            "UK . +44\n",
            ". +44 (\n",
            "+44 ( 0\n",
            "( 0 )\n",
            "0 ) 7941\n",
            ") 7941 190\n",
            "7941 190 740\n",
            "190 740 .\n",
            "740 . Main\n",
            ". Main point\n",
            "Main point of\n",
            "point of contact\n",
            "of contact -\n",
            "contact - [\n",
            "- [ email\n",
            "[ email protected\n",
            "email protected ]\n",
            "protected ] Audio\n",
            "] Audio and\n",
            "Audio and texts\n",
            "and texts are\n",
            "texts are Copyright\n",
            "are Copyright Storynory\n",
            "Copyright Storynory Ltd\n",
            "Storynory Ltd unless\n",
            "Ltd unless otherwise\n",
            "unless otherwise stated\n",
            "otherwise stated .\n",
            "stated . Images\n",
            ". Images are\n",
            "Images are copyrighted\n",
            "are copyrighted to\n",
            "copyrighted to their\n",
            "to their owners\n",
            "their owners .\n",
            "owners . Many\n",
            ". Many images\n",
            "Many images on\n",
            "images on this\n",
            "on this site\n",
            "this site are\n",
            "site are licenced\n",
            "are licenced from\n",
            "licenced from Shutterstock\n",
            "from Shutterstock .\n",
            "Shutterstock . Our\n",
            ". Our Terms\n",
            "Our Terms and\n",
            "Terms and Conditions\n",
            "and Conditions make\n",
            "Conditions make it\n",
            "make it easy\n",
            "it easy for\n",
            "easy for schools\n",
            "for schools to\n",
            "schools to use\n",
            "to use our\n",
            "use our materials\n",
            "our materials for\n",
            "materials for free\n",
            "for free ,\n",
            "free , please\n",
            ", please see\n",
            "please see our\n",
            "see our Copywrite\n",
            "our Copywrite Page\n",
            "Copywrite Page for\n",
            "Page for details\n",
            "for details You\n",
            "details You can\n",
            "You can review\n",
            "can review our\n",
            "review our privacy\n",
            "our privacy policy\n",
            "privacy policy here\n",
            "policy here Privacy\n",
            "here Privacy Page\n"
          ]
        }
      ]
    },
    {
      "cell_type": "markdown",
      "source": [
        "Named Entity Recognition"
      ],
      "metadata": {
        "id": "YsZe7zl824od"
      }
    },
    {
      "cell_type": "code",
      "source": [
        "ner = nltk.ne_chunk(nltk.pos_tag(nltk.wordpunct_tokenize(paragraph)))\n",
        "print(ner)"
      ],
      "metadata": {
        "colab": {
          "base_uri": "https://localhost:8080/"
        },
        "id": "U0sZ0Th327PA",
        "outputId": "820b56f5-5d94-4720-c75b-ae215c23c6a0"
      },
      "execution_count": 97,
      "outputs": [
        {
          "output_type": "stream",
          "name": "stdout",
          "text": [
            "(S\n",
            "  I/PRP\n",
            "  bet/VBP\n",
            "  you/PRP\n",
            "  can/MD\n",
            "  ’/VB\n",
            "  t/JJ\n",
            "  guess/NN\n",
            "  what/WP\n",
            "  I/PRP\n",
            "  like/VBP\n",
            "  to/TO\n",
            "  eat/VB\n",
            "  best/JJS\n",
            "  of/IN\n",
            "  all/DT\n",
            "  ?/.\n",
            "  Yes/UH\n",
            "  ,/,\n",
            "  I/PRP\n",
            "  knew/VBD\n",
            "  that/IN\n",
            "  you/PRP\n",
            "  would/MD\n",
            "  say/VB\n",
            "  that/IN\n",
            "  foxes/NNS\n",
            "  like/IN\n",
            "  to/TO\n",
            "  eat/VB\n",
            "  hens/NNS\n",
            "  best/JJS\n",
            "  ,/,\n",
            "  and/CC\n",
            "  stolen/VBN\n",
            "  ones/NNS\n",
            "  at/IN\n",
            "  that/DT\n",
            "  ./.\n",
            "  I/PRP\n",
            "  don/VBP\n",
            "  ’/JJ\n",
            "  t/NN\n",
            "  mind/NN\n",
            "  admitting/VBG\n",
            "  that/IN\n",
            "  I/PRP\n",
            "  wouldn/VBP\n",
            "  ’/JJ\n",
            "  t/NN\n",
            "  ever/RB\n",
            "  say/VBP\n",
            "  no/UH\n",
            "  to/TO\n",
            "  a/DT\n",
            "  nice/JJ\n",
            "  fat/NN\n",
            "  chicken/NN\n",
            "  wing/VBG\n",
            "  once/RB\n",
            "  in/IN\n",
            "  a/DT\n",
            "  while/NN\n",
            "  ./.\n",
            "  But/CC\n",
            "  not/RB\n",
            "  many/JJ\n",
            "  people/NNS\n",
            "  know/VBP\n",
            "  that/IN\n",
            "  what/WP\n",
            "  foxes/VBP\n",
            "  appreciate/VB\n",
            "  even/RB\n",
            "  more/JJR\n",
            "  than/IN\n",
            "  chicken/NN\n",
            "  ,/,\n",
            "  is/VBZ\n",
            "  a/DT\n",
            "  nice/JJ\n",
            "  piece/NN\n",
            "  of/IN\n",
            "  cheese/JJ\n",
            "  once/RB\n",
            "  in/IN\n",
            "  a/DT\n",
            "  while/NN\n",
            "  ./.\n",
            "  Well/RB\n",
            "  today/NN\n",
            "  I/PRP\n",
            "  ate/VBP\n",
            "  a/DT\n",
            "  wonderfully/RB\n",
            "  rich/JJ\n",
            "  and/CC\n",
            "  creamy/JJ\n",
            "  slice/NN\n",
            "  of/IN\n",
            "  cheddar/NN\n",
            "  for/IN\n",
            "  my/PRP$\n",
            "  breakfast/NN\n",
            "  ./.\n",
            "  It/PRP\n",
            "  was/VBD\n",
            "  kindly/RB\n",
            "  given/VBN\n",
            "  to/TO\n",
            "  me/PRP\n",
            "  by/IN\n",
            "  a/DT\n",
            "  beautiful/JJ\n",
            "  black/JJ\n",
            "  -/:\n",
            "  feathered/JJ\n",
            "  bird/NN\n",
            "  whose/WP$\n",
            "  voice/NN\n",
            "  is/VBZ\n",
            "  even/RB\n",
            "  more/RBR\n",
            "  wonderful/JJ\n",
            "  than/IN\n",
            "  her/PRP$\n",
            "  looks/NNS\n",
            "  ./.\n",
            "  No/UH\n",
            "  ,/,\n",
            "  I/PRP\n",
            "  don/VBP\n",
            "  ’/JJ\n",
            "  t/NN\n",
            "  mean/VB\n",
            "  a/DT\n",
            "  sky/NN\n",
            "  -/:\n",
            "  lark/NN\n",
            "  ,/,\n",
            "  or/CC\n",
            "  a/DT\n",
            "  fancy/JJ\n",
            "  bird/NN\n",
            "  of/IN\n",
            "  paradise/NN\n",
            "  ./.\n",
            "  I/PRP\n",
            "  ’/VBP\n",
            "  m/RB\n",
            "  talking/VBG\n",
            "  about/IN\n",
            "  (PERSON Miss/NNP Crow/NNP)\n",
            "  ,/,\n",
            "  up/RB\n",
            "  in/IN\n",
            "  that/DT\n",
            "  tree/NN\n",
            "  ./.\n",
            "  It/PRP\n",
            "  was/VBD\n",
            "  a/DT\n",
            "  fine/JJ\n",
            "  bright/JJ\n",
            "  morning/NN\n",
            "  ,/,\n",
            "  and/CC\n",
            "  I/PRP\n",
            "  was/VBD\n",
            "  following/VBG\n",
            "  my/PRP$\n",
            "  sharp/JJ\n",
            "  nose/JJ\n",
            "  through/IN\n",
            "  the/DT\n",
            "  woods/NNS\n",
            "  in/IN\n",
            "  search/NN\n",
            "  of/IN\n",
            "  a/DT\n",
            "  bite/NN\n",
            "  to/TO\n",
            "  eat/VB\n",
            "  ,/,\n",
            "  when/WRB\n",
            "  I/PRP\n",
            "  caught/VBD\n",
            "  a/DT\n",
            "  cheesy/NN\n",
            "  smell/NN\n",
            "  on/IN\n",
            "  the/DT\n",
            "  breeze/NN\n",
            "  ./.\n",
            "  I/PRP\n",
            "  looked/VBD\n",
            "  up/RB\n",
            "  into/IN\n",
            "  the/DT\n",
            "  tree/NN\n",
            "  and/CC\n",
            "  there/RB\n",
            "  on/IN\n",
            "  the/DT\n",
            "  branch/NN\n",
            "  I/PRP\n",
            "  saw/VBD\n",
            "  (PERSON Miss/NNP Crow/NNP)\n",
            "  ,/,\n",
            "  looking/VBG\n",
            "  terribly/RB\n",
            "  pleased/VBN\n",
            "  with/IN\n",
            "  herself/PRP\n",
            "  ,/,\n",
            "  for/IN\n",
            "  in/IN\n",
            "  her/PRP$\n",
            "  beak/NN\n",
            "  she/PRP\n",
            "  held/VBD\n",
            "  a/DT\n",
            "  large/JJ\n",
            "  piece/NN\n",
            "  of/IN\n",
            "  cheese/NN\n",
            "  ./.\n",
            "  It/PRP\n",
            "  was/VBD\n",
            "  stolen/VBN\n",
            "  ,/,\n",
            "  no/DT\n",
            "  doubt/NN\n",
            "  ,/,\n",
            "  from/IN\n",
            "  the/DT\n",
            "  farmer/NN\n",
            "  over/IN\n",
            "  the/DT\n",
            "  hill/NN\n",
            "  ,/,\n",
            "  but/CC\n",
            "  I/PRP\n",
            "  ’/VBP\n",
            "  m/RB\n",
            "  not/RB\n",
            "  one/CD\n",
            "  to/TO\n",
            "  go/VB\n",
            "  around/RP\n",
            "  accusing/VBG\n",
            "  people/NNS\n",
            "  of/IN\n",
            "  this/DT\n",
            "  and/CC\n",
            "  that/IN\n",
            "  ./.\n",
            "  I/PRP\n",
            "  called/VBD\n",
            "  up/RB\n",
            "  to/TO\n",
            "  my/PRP$\n",
            "  neighbour/NN\n",
            "  and/CC\n",
            "  said/VBD\n",
            "  :/:\n",
            "  “/NN\n",
            "  Good/JJ\n",
            "  morning/NN\n",
            "  (PERSON Miss/NNP Crow/NNP)\n",
            "  ,/,\n",
            "  you/PRP\n",
            "  are/VBP\n",
            "  looking/VBG\n",
            "  very/RB\n",
            "  lovely/RB\n",
            "  today/NN\n",
            "  ,/,\n",
            "  if/IN\n",
            "  I/PRP\n",
            "  may/MD\n",
            "  say/VB\n",
            "  so/RB\n",
            "  .”/JJ\n",
            "  (ORGANIZATION Miss/NNP Crow/NNP)\n",
            "  cocked/VBD\n",
            "  her/PRP$\n",
            "  head/NN\n",
            "  on/IN\n",
            "  one/CD\n",
            "  side/NN\n",
            "  and/CC\n",
            "  looked/VBD\n",
            "  at/IN\n",
            "  me/PRP\n",
            "  with/IN\n",
            "  her/PRP$\n",
            "  beady/JJ\n",
            "  little/JJ\n",
            "  eye/NN\n",
            "  ,/,\n",
            "  but/CC\n",
            "  she/PRP\n",
            "  kept/VBD\n",
            "  her/PRP\n",
            "  beak/NN\n",
            "  firmly/RB\n",
            "  closed/VBD\n",
            "  on/IN\n",
            "  the/DT\n",
            "  cheese/NN\n",
            "  ./.\n",
            "  “/VB\n",
            "  Such/JJ\n",
            "  a/DT\n",
            "  charming/JJ\n",
            "  creature/NN\n",
            "  ,”/NN\n",
            "  I/PRP\n",
            "  mused/VBD\n",
            "  to/TO\n",
            "  myself/VB\n",
            "  ,/,\n",
            "  making/VBG\n",
            "  sure/JJ\n",
            "  nevertheless/NN\n",
            "  that/IN\n",
            "  she/PRP\n",
            "  could/MD\n",
            "  overhear/VB\n",
            "  ./.\n",
            "  “/VB\n",
            "  Such/JJ\n",
            "  a/DT\n",
            "  fine/JJ\n",
            "  sheen/NN\n",
            "  on/IN\n",
            "  those/DT\n",
            "  wondrous/JJ\n",
            "  black/JJ\n",
            "  feathers/NNS\n",
            "  ./.\n",
            "  What/WP\n",
            "  wings/VBZ\n",
            "  !/.\n",
            "  What/WP\n",
            "  legs/VBZ\n",
            "  !/.\n",
            "  And/CC\n",
            "  that/IN\n",
            "  beak/NN\n",
            "  ,/,\n",
            "  exquisite/JJ\n",
            "  !”/NN\n",
            "  I/PRP\n",
            "  could/MD\n",
            "  see/VB\n",
            "  that/IN\n",
            "  (PERSON Miss/NNP Crow/NNP)\n",
            "  was/VBD\n",
            "  paying/VBG\n",
            "  close/JJ\n",
            "  attention/NN\n",
            "  to/TO\n",
            "  my/PRP$\n",
            "  words/NNS\n",
            "  ,/,\n",
            "  even/RB\n",
            "  though/IN\n",
            "  she/PRP\n",
            "  was/VBD\n",
            "  pretending/VBG\n",
            "  ever/RB\n",
            "  so/RB\n",
            "  hard/JJ\n",
            "  not/RB\n",
            "  to/TO\n",
            "  hear/VB\n",
            "  ./.\n",
            "  So/IN\n",
            "  I/PRP\n",
            "  gazed/VBD\n",
            "  up/RB\n",
            "  at/IN\n",
            "  the/DT\n",
            "  tree/NN\n",
            "  with/IN\n",
            "  admiration/NN\n",
            "  and/CC\n",
            "  love/NN\n",
            "  in/IN\n",
            "  my/PRP$\n",
            "  eyes/NNS\n",
            "  and/CC\n",
            "  said/VBD\n",
            "  :/:\n",
            "  “/NN\n",
            "  Ah/NNP\n",
            "  ,/,\n",
            "  my/PRP$\n",
            "  heart/NN\n",
            "  is/VBZ\n",
            "  smitten/VBN\n",
            "  by/IN\n",
            "  this/DT\n",
            "  wonderful/JJ\n",
            "  bird/NN\n",
            "  ./.\n",
            "  If/IN\n",
            "  only/RB\n",
            "  I/PRP\n",
            "  could/MD\n",
            "  hear/VB\n",
            "  her/PRP$\n",
            "  voice/NN\n",
            "  ./.\n",
            "  I/PRP\n",
            "  ’/VBP\n",
            "  m/JJ\n",
            "  sure/JJ\n",
            "  that/IN\n",
            "  such/PDT\n",
            "  a/DT\n",
            "  charming/JJ\n",
            "  creature/NN\n",
            "  must/MD\n",
            "  sing/VB\n",
            "  most/RBS\n",
            "  sweetly/RB\n",
            "  !/.\n",
            "  If/IN\n",
            "  I/PRP\n",
            "  could/MD\n",
            "  but/CC\n",
            "  hear/VB\n",
            "  one/CD\n",
            "  line/NN\n",
            "  of/IN\n",
            "  her/PRP$\n",
            "  song/NN\n",
            "  ,/,\n",
            "  I/PRP\n",
            "  would/MD\n",
            "  hail/VB\n",
            "  her/PRP\n",
            "  as/IN\n",
            "  the/DT\n",
            "  (ORGANIZATION Princess/NNP)\n",
            "  of/IN\n",
            "  The/DT\n",
            "  (ORGANIZATION Forest/NNP)\n",
            "  !”/NN\n",
            "  Now/RB\n",
            "  I/PRP\n",
            "  could/MD\n",
            "  see/VB\n",
            "  my/PRP$\n",
            "  words/NNS\n",
            "  had/VBD\n",
            "  hit/VBN\n",
            "  home/NN\n",
            "  ./.\n",
            "  Swelling/VBG\n",
            "  with/IN\n",
            "  pride/NN\n",
            "  ,/,\n",
            "  (PERSON Miss/NNP Crow/NNP)\n",
            "  puffed/VBD\n",
            "  up/RP\n",
            "  her/PRP$\n",
            "  feathers/NNS\n",
            "  and/CC\n",
            "  began/VBD\n",
            "  to/TO\n",
            "  sing/VBG\n",
            "  the/DT\n",
            "  most/RBS\n",
            "  lovely/JJ\n",
            "  music/NN\n",
            "  I/PRP\n",
            "  have/VBP\n",
            "  ever/RB\n",
            "  heard/VBN\n",
            "  ./.\n",
            "  “/VB\n",
            "  (ORGANIZATION CAAWWWWWWWWW/NNP)\n",
            "  !”/NNP\n",
            "  Well/NNP\n",
            "  alright/RB\n",
            "  ,/,\n",
            "  I/PRP\n",
            "  know/VBP\n",
            "  that/IN\n",
            "  you/PRP\n",
            "  are/VBP\n",
            "  saying/VBG\n",
            "  that/IN\n",
            "  (PERSON Miss/NNP Crow/NNP)\n",
            "  ’/NNP\n",
            "  s/JJ\n",
            "  voice/NN\n",
            "  is/VBZ\n",
            "  not/RB\n",
            "  exactly/RB\n",
            "  star/JJ\n",
            "  quality/NN\n",
            "  ,/,\n",
            "  but/CC\n",
            "  to/TO\n",
            "  me/PRP\n",
            "  that/IN\n",
            "  “/NNP\n",
            "  cawww/VBD\n",
            "  !”/NNP\n",
            "  was/VBD\n",
            "  just/RB\n",
            "  the/DT\n",
            "  sound/NN\n",
            "  that/IN\n",
            "  I/PRP\n",
            "  ’/VBP\n",
            "  d/RB\n",
            "  been/VBN\n",
            "  waiting/VBG\n",
            "  for/IN\n",
            "  ./.\n",
            "  Because/IN\n",
            "  as/RB\n",
            "  soon/RB\n",
            "  as/IN\n",
            "  she/PRP\n",
            "  opened/VBD\n",
            "  her/PRP\n",
            "  beak/NN\n",
            "  ,/,\n",
            "  the/DT\n",
            "  cheese/NN\n",
            "  fell/VBD\n",
            "  to/TO\n",
            "  the/DT\n",
            "  ground/NN\n",
            "  and/CC\n",
            "  I/PRP\n",
            "  snapped/VBD\n",
            "  up/RP\n",
            "  my/PRP$\n",
            "  breakfast/NN\n",
            "  ./.\n",
            "  (PERSON Which/NNP)\n",
            "  only/RB\n",
            "  goes/VBZ\n",
            "  to/TO\n",
            "  show/VB\n",
            "  that/IN\n",
            "  :/:\n",
            "  (PERSON Flattery/NN)\n",
            "  will/MD\n",
            "  get/VB\n",
            "  you/PRP\n",
            "  everywhere/RB\n",
            "  ./.\n",
            "  (PERSON Storynory/JJ Ltd/NNP)\n",
            "  ,/,\n",
            "  26/CD\n",
            "  (FACILITY Star/NNP Street/NNP)\n",
            "  ,/,\n",
            "  (PERSON London/NNP UK/NNP)\n",
            "  ./.\n",
            "  +/VB\n",
            "  44/CD\n",
            "  (/(\n",
            "  0/CD\n",
            "  )/)\n",
            "  7941/CD\n",
            "  190/CD\n",
            "  740/CD\n",
            "  ./.\n",
            "  (PERSON Main/NNP)\n",
            "  point/NN\n",
            "  of/IN\n",
            "  contact/NN\n",
            "  -/:\n",
            "  [/NN\n",
            "  email/NN\n",
            "  protected/VBN\n",
            "  ]/NNP\n",
            "  Audio/NNP\n",
            "  and/CC\n",
            "  texts/NNS\n",
            "  are/VBP\n",
            "  (PERSON Copyright/NNP Storynory/NNP Ltd/NNP)\n",
            "  unless/IN\n",
            "  otherwise/RB\n",
            "  stated/VBN\n",
            "  ./.\n",
            "  Images/NNS\n",
            "  are/VBP\n",
            "  copyrighted/VBN\n",
            "  to/TO\n",
            "  their/PRP$\n",
            "  owners/NNS\n",
            "  ./.\n",
            "  Many/JJ\n",
            "  images/NNS\n",
            "  on/IN\n",
            "  this/DT\n",
            "  site/NN\n",
            "  are/VBP\n",
            "  licenced/VBN\n",
            "  from/IN\n",
            "  (GPE Shutterstock/NNP)\n",
            "  ./.\n",
            "  Our/PRP$\n",
            "  Terms/NNS\n",
            "  and/CC\n",
            "  Conditions/NNS\n",
            "  make/VBP\n",
            "  it/PRP\n",
            "  easy/JJ\n",
            "  for/IN\n",
            "  schools/NNS\n",
            "  to/TO\n",
            "  use/VB\n",
            "  our/PRP$\n",
            "  materials/NNS\n",
            "  for/IN\n",
            "  free/JJ\n",
            "  ,/,\n",
            "  please/VB\n",
            "  see/VB\n",
            "  our/PRP$\n",
            "  (ORGANIZATION Copywrite/NNP Page/NN)\n",
            "  for/IN\n",
            "  details/NNS\n",
            "  You/PRP\n",
            "  can/MD\n",
            "  review/VB\n",
            "  our/PRP$\n",
            "  privacy/NN\n",
            "  policy/NN\n",
            "  here/RB\n",
            "  (PERSON Privacy/NNP Page/NNP))\n"
          ]
        }
      ]
    },
    {
      "cell_type": "markdown",
      "source": [
        "Plot"
      ],
      "metadata": {
        "id": "iL1fXaic27UX"
      }
    },
    {
      "cell_type": "code",
      "source": [
        "stop_words = set(stopwords.words('english'))\n",
        "\n",
        "filtered_sentence = [w for w in w_tokens if not w.lower() in stop_words]\n",
        " \n",
        "filtered_sentence = []\n",
        " \n",
        "for w in w_tokens:\n",
        "    if w not in stop_words:\n",
        "        filtered_sentence.append(w)\n",
        " \n",
        "print(w_tokens)\n",
        "print(filtered_sentence)"
      ],
      "metadata": {
        "colab": {
          "base_uri": "https://localhost:8080/"
        },
        "id": "Ih9TEedA281_",
        "outputId": "8abea44d-6b6c-49c8-9a4b-71d22905237d"
      },
      "execution_count": 98,
      "outputs": [
        {
          "output_type": "stream",
          "name": "stdout",
          "text": [
            "['I', 'bet', 'you', 'can', '’', 't', 'guess', 'what', 'I', 'like', 'to', 'eat', 'best', 'of', 'all', '?', 'Yes', ',', 'I', 'knew', 'that', 'you', 'would', 'say', 'that', 'foxes', 'like', 'to', 'eat', 'hens', 'best', ',', 'and', 'stolen', 'ones', 'at', 'that', '.', 'I', 'don', '’', 't', 'mind', 'admitting', 'that', 'I', 'wouldn', '’', 't', 'ever', 'say', 'no', 'to', 'a', 'nice', 'fat', 'chicken', 'wing', 'once', 'in', 'a', 'while', '.', 'But', 'not', 'many', 'people', 'know', 'that', 'what', 'foxes', 'appreciate', 'even', 'more', 'than', 'chicken', ',', 'is', 'a', 'nice', 'piece', 'of', 'cheese', 'once', 'in', 'a', 'while', '.', 'Well', 'today', 'I', 'ate', 'a', 'wonderfully', 'rich', 'and', 'creamy', 'slice', 'of', 'cheddar', 'for', 'my', 'breakfast', '.', 'It', 'was', 'kindly', 'given', 'to', 'me', 'by', 'a', 'beautiful', 'black-feathered', 'bird', 'whose', 'voice', 'is', 'even', 'more', 'wonderful', 'than', 'her', 'looks', '.', 'No', ',', 'I', 'don', '’', 't', 'mean', 'a', 'sky-lark', ',', 'or', 'a', 'fancy', 'bird', 'of', 'paradise', '.', 'I', '’', 'm', 'talking', 'about', 'Miss', 'Crow', ',', 'up', 'in', 'that', 'tree', '.', 'It', 'was', 'a', 'fine', 'bright', 'morning', ',', 'and', 'I', 'was', 'following', 'my', 'sharp', 'nose', 'through', 'the', 'woods', 'in', 'search', 'of', 'a', 'bite', 'to', 'eat', ',', 'when', 'I', 'caught', 'a', 'cheesy', 'smell', 'on', 'the', 'breeze', '.', 'I', 'looked', 'up', 'into', 'the', 'tree', 'and', 'there', 'on', 'the', 'branch', 'I', 'saw', 'Miss', 'Crow', ',', 'looking', 'terribly', 'pleased', 'with', 'herself', ',', 'for', 'in', 'her', 'beak', 'she', 'held', 'a', 'large', 'piece', 'of', 'cheese', '.', 'It', 'was', 'stolen', ',', 'no', 'doubt', ',', 'from', 'the', 'farmer', 'over', 'the', 'hill', ',', 'but', 'I', '’', 'm', 'not', 'one', 'to', 'go', 'around', 'accusing', 'people', 'of', 'this', 'and', 'that', '.', 'I', 'called', 'up', 'to', 'my', 'neighbour', 'and', 'said', ':', '“', 'Good', 'morning', 'Miss', 'Crow', ',', 'you', 'are', 'looking', 'very', 'lovely', 'today', ',', 'if', 'I', 'may', 'say', 'so.', '”', 'Miss', 'Crow', 'cocked', 'her', 'head', 'on', 'one', 'side', 'and', 'looked', 'at', 'me', 'with', 'her', 'beady', 'little', 'eye', ',', 'but', 'she', 'kept', 'her', 'beak', 'firmly', 'closed', 'on', 'the', 'cheese', '.', '“', 'Such', 'a', 'charming', 'creature', ',', '”', 'I', 'mused', 'to', 'myself', ',', 'making', 'sure', 'nevertheless', 'that', 'she', 'could', 'overhear', '.', '“', 'Such', 'a', 'fine', 'sheen', 'on', 'those', 'wondrous', 'black', 'feathers', '.', 'What', 'wings', '!', 'What', 'legs', '!', 'And', 'that', 'beak', ',', 'exquisite', '!', '”', 'I', 'could', 'see', 'that', 'Miss', 'Crow', 'was', 'paying', 'close', 'attention', 'to', 'my', 'words', ',', 'even', 'though', 'she', 'was', 'pretending', 'ever', 'so', 'hard', 'not', 'to', 'hear', '.', 'So', 'I', 'gazed', 'up', 'at', 'the', 'tree', 'with', 'admiration', 'and', 'love', 'in', 'my', 'eyes', 'and', 'said', ':', '“', 'Ah', ',', 'my', 'heart', 'is', 'smitten', 'by', 'this', 'wonderful', 'bird', '.', 'If', 'only', 'I', 'could', 'hear', 'her', 'voice', '.', 'I', '’', 'm', 'sure', 'that', 'such', 'a', 'charming', 'creature', 'must', 'sing', 'most', 'sweetly', '!', 'If', 'I', 'could', 'but', 'hear', 'one', 'line', 'of', 'her', 'song', ',', 'I', 'would', 'hail', 'her', 'as', 'the', 'Princess', 'of', 'The', 'Forest', '!', '”', 'Now', 'I', 'could', 'see', 'my', 'words', 'had', 'hit', 'home', '.', 'Swelling', 'with', 'pride', ',', 'Miss', 'Crow', 'puffed', 'up', 'her', 'feathers', 'and', 'began', 'to', 'sing', 'the', 'most', 'lovely', 'music', 'I', 'have', 'ever', 'heard', '.', '“', 'CAAWWWWWWWWW', '!', '”', 'Well', 'alright', ',', 'I', 'know', 'that', 'you', 'are', 'saying', 'that', 'Miss', 'Crow', '’', 's', 'voice', 'is', 'not', 'exactly', 'star', 'quality', ',', 'but', 'to', 'me', 'that', '“', 'cawww', '!', '”', 'was', 'just', 'the', 'sound', 'that', 'I', '’', 'd', 'been', 'waiting', 'for', '.', 'Because', 'as', 'soon', 'as', 'she', 'opened', 'her', 'beak', ',', 'the', 'cheese', 'fell', 'to', 'the', 'ground', 'and', 'I', 'snapped', 'up', 'my', 'breakfast', '.', 'Which', 'only', 'goes', 'to', 'show', 'that', ':', 'Flattery', 'will', 'get', 'you', 'everywhere', '.', 'Storynory', 'Ltd', ',', '26', 'Star', 'Street', ',', 'London', 'UK', '.', '+44', '(', '0', ')', '7941', '190', '740', '.', 'Main', 'point', 'of', 'contact', '-', '[', 'email', 'protected', ']', 'Audio', 'and', 'texts', 'are', 'Copyright', 'Storynory', 'Ltd', 'unless', 'otherwise', 'stated', '.', 'Images', 'are', 'copyrighted', 'to', 'their', 'owners', '.', 'Many', 'images', 'on', 'this', 'site', 'are', 'licenced', 'from', 'Shutterstock', '.', 'Our', 'Terms', 'and', 'Conditions', 'make', 'it', 'easy', 'for', 'schools', 'to', 'use', 'our', 'materials', 'for', 'free', ',', 'please', 'see', 'our', 'Copywrite', 'Page', 'for', 'details', 'You', 'can', 'review', 'our', 'privacy', 'policy', 'here', 'Privacy', 'Page']\n",
            "['I', 'bet', '’', 'guess', 'I', 'like', 'eat', 'best', '?', 'Yes', ',', 'I', 'knew', 'would', 'say', 'foxes', 'like', 'eat', 'hens', 'best', ',', 'stolen', 'ones', '.', 'I', '’', 'mind', 'admitting', 'I', '’', 'ever', 'say', 'nice', 'fat', 'chicken', 'wing', '.', 'But', 'many', 'people', 'know', 'foxes', 'appreciate', 'even', 'chicken', ',', 'nice', 'piece', 'cheese', '.', 'Well', 'today', 'I', 'ate', 'wonderfully', 'rich', 'creamy', 'slice', 'cheddar', 'breakfast', '.', 'It', 'kindly', 'given', 'beautiful', 'black-feathered', 'bird', 'whose', 'voice', 'even', 'wonderful', 'looks', '.', 'No', ',', 'I', '’', 'mean', 'sky-lark', ',', 'fancy', 'bird', 'paradise', '.', 'I', '’', 'talking', 'Miss', 'Crow', ',', 'tree', '.', 'It', 'fine', 'bright', 'morning', ',', 'I', 'following', 'sharp', 'nose', 'woods', 'search', 'bite', 'eat', ',', 'I', 'caught', 'cheesy', 'smell', 'breeze', '.', 'I', 'looked', 'tree', 'branch', 'I', 'saw', 'Miss', 'Crow', ',', 'looking', 'terribly', 'pleased', ',', 'beak', 'held', 'large', 'piece', 'cheese', '.', 'It', 'stolen', ',', 'doubt', ',', 'farmer', 'hill', ',', 'I', '’', 'one', 'go', 'around', 'accusing', 'people', '.', 'I', 'called', 'neighbour', 'said', ':', '“', 'Good', 'morning', 'Miss', 'Crow', ',', 'looking', 'lovely', 'today', ',', 'I', 'may', 'say', 'so.', '”', 'Miss', 'Crow', 'cocked', 'head', 'one', 'side', 'looked', 'beady', 'little', 'eye', ',', 'kept', 'beak', 'firmly', 'closed', 'cheese', '.', '“', 'Such', 'charming', 'creature', ',', '”', 'I', 'mused', ',', 'making', 'sure', 'nevertheless', 'could', 'overhear', '.', '“', 'Such', 'fine', 'sheen', 'wondrous', 'black', 'feathers', '.', 'What', 'wings', '!', 'What', 'legs', '!', 'And', 'beak', ',', 'exquisite', '!', '”', 'I', 'could', 'see', 'Miss', 'Crow', 'paying', 'close', 'attention', 'words', ',', 'even', 'though', 'pretending', 'ever', 'hard', 'hear', '.', 'So', 'I', 'gazed', 'tree', 'admiration', 'love', 'eyes', 'said', ':', '“', 'Ah', ',', 'heart', 'smitten', 'wonderful', 'bird', '.', 'If', 'I', 'could', 'hear', 'voice', '.', 'I', '’', 'sure', 'charming', 'creature', 'must', 'sing', 'sweetly', '!', 'If', 'I', 'could', 'hear', 'one', 'line', 'song', ',', 'I', 'would', 'hail', 'Princess', 'The', 'Forest', '!', '”', 'Now', 'I', 'could', 'see', 'words', 'hit', 'home', '.', 'Swelling', 'pride', ',', 'Miss', 'Crow', 'puffed', 'feathers', 'began', 'sing', 'lovely', 'music', 'I', 'ever', 'heard', '.', '“', 'CAAWWWWWWWWW', '!', '”', 'Well', 'alright', ',', 'I', 'know', 'saying', 'Miss', 'Crow', '’', 'voice', 'exactly', 'star', 'quality', ',', '“', 'cawww', '!', '”', 'sound', 'I', '’', 'waiting', '.', 'Because', 'soon', 'opened', 'beak', ',', 'cheese', 'fell', 'ground', 'I', 'snapped', 'breakfast', '.', 'Which', 'goes', 'show', ':', 'Flattery', 'get', 'everywhere', '.', 'Storynory', 'Ltd', ',', '26', 'Star', 'Street', ',', 'London', 'UK', '.', '+44', '(', '0', ')', '7941', '190', '740', '.', 'Main', 'point', 'contact', '-', '[', 'email', 'protected', ']', 'Audio', 'texts', 'Copyright', 'Storynory', 'Ltd', 'unless', 'otherwise', 'stated', '.', 'Images', 'copyrighted', 'owners', '.', 'Many', 'images', 'site', 'licenced', 'Shutterstock', '.', 'Our', 'Terms', 'Conditions', 'make', 'easy', 'schools', 'use', 'materials', 'free', ',', 'please', 'see', 'Copywrite', 'Page', 'details', 'You', 'review', 'privacy', 'policy', 'Privacy', 'Page']\n"
          ]
        }
      ]
    }
  ]
}