{
  "cells": [
    {
      "cell_type": "code",
      "execution_count": 1,
      "metadata": {
        "id": "RMbZYevZCRn3"
      },
      "outputs": [],
      "source": [
        "from keras.models import Sequential\n",
        "from keras import layers\n",
        "from keras.layers import Dense, Embedding, LSTM, SpatialDropout1D, Flatten\n",
        "from keras.models import load_model\n",
        "from keras.preprocessing.text import Tokenizer\n",
        "from tensorflow.keras.utils import to_categorical\n",
        "import pandas as pd\n",
        "from sklearn import preprocessing\n",
        "from sklearn.model_selection import train_test_split\n",
        "import matplotlib.pyplot as plt\n",
        "import numpy as np\n",
        "from string import punctuation\n",
        "from tensorflow.keras.preprocessing.sequence import pad_sequences"
      ]
    },
    {
      "cell_type": "code",
      "execution_count": 2,
      "metadata": {
        "colab": {
          "base_uri": "https://localhost:8080/"
        },
        "id": "4K2D_NTLDD5K",
        "outputId": "ae542697-cfaa-4de9-b6a3-8c0b67e51eb4"
      },
      "outputs": [
        {
          "output_type": "stream",
          "name": "stdout",
          "text": [
            "[nltk_data] Downloading package punkt to /root/nltk_data...\n",
            "[nltk_data]   Unzipping tokenizers/punkt.zip.\n",
            "[nltk_data] Downloading package stopwords to /root/nltk_data...\n",
            "[nltk_data]   Unzipping corpora/stopwords.zip.\n",
            "[nltk_data] Downloading package wordnet to /root/nltk_data...\n",
            "[nltk_data]   Unzipping corpora/wordnet.zip.\n"
          ]
        }
      ],
      "source": [
        "#importing the nltk libraries for preprocessing of the Reviews text field of the IMDB Dataset.\n",
        "import nltk\n",
        "from nltk.corpus import stopwords\n",
        "from nltk import word_tokenize\n",
        "nltk.download('punkt')\n",
        "nltk.download('stopwords')\n",
        "nltk.download('wordnet')\n",
        "from textblob import Word \n",
        "import csv\n",
        "import re"
      ]
    },
    {
      "cell_type": "markdown",
      "source": [
        "1. Preprocessing"
      ],
      "metadata": {
        "id": "gxxdFG64sfcK"
      }
    },
    {
      "cell_type": "code",
      "execution_count": 5,
      "metadata": {
        "id": "s63UlOCTDFDB"
      },
      "outputs": [],
      "source": [
        "# reading the sentiment dataset csv\n",
        "data=pd.read_csv('/content/sample_data/Sentiment.csv')\n",
        "# keeping only the neccessary columns \n",
        "data = data[['text','sentiment']] "
      ]
    },
    {
      "cell_type": "code",
      "execution_count": 6,
      "metadata": {
        "colab": {
          "base_uri": "https://localhost:8080/"
        },
        "id": "Y27Wkm5bDNIS",
        "outputId": "464fe24d-64ca-4a89-810a-9a3c94b60777"
      },
      "outputs": [
        {
          "output_type": "stream",
          "name": "stdout",
          "text": [
            "<class 'pandas.core.frame.DataFrame'>\n",
            "RangeIndex: 13871 entries, 0 to 13870\n",
            "Data columns (total 2 columns):\n",
            " #   Column     Non-Null Count  Dtype \n",
            "---  ------     --------------  ----- \n",
            " 0   text       13871 non-null  object\n",
            " 1   sentiment  13871 non-null  object\n",
            "dtypes: object(2)\n",
            "memory usage: 216.9+ KB\n"
          ]
        }
      ],
      "source": [
        "data.info()"
      ]
    },
    {
      "cell_type": "code",
      "execution_count": 7,
      "metadata": {
        "id": "i_Lp5wV6mVcQ"
      },
      "outputs": [],
      "source": [
        "# converting text to lower case letters\n",
        "data['text'] = data['text'].apply(lambda x: x.lower())\n",
        "# removing punctuation that is not needed \n",
        "data['text'] = data['text'].apply((lambda x: re.sub('[^a-zA-z0-9\\s]','',x))) \n",
        "\n",
        "# removing rt string from data\n",
        "for idx, row in data.iterrows(): \n",
        "  row[0] = row[0].replace('rt',' ') \n",
        "\n",
        "# setting the number of features\n",
        "max_features = 2000 \n",
        "\n",
        "# tokenizing the data\n",
        "tokenizer = Tokenizer(num_words=max_features, split=' ')\n",
        "tokenizer.fit_on_texts(data['text'].values) \n",
        "\n",
        "# converting text to sequences\n",
        "X = tokenizer.texts_to_sequences(data['text'].values) \n",
        "# padding the data setting them to the same size\n",
        "X = pad_sequences(X)"
      ]
    },
    {
      "cell_type": "markdown",
      "source": [
        "2. Building the Keras Model"
      ],
      "metadata": {
        "id": "Mzaj2U00sbNE"
      }
    },
    {
      "cell_type": "code",
      "execution_count": 8,
      "metadata": {
        "colab": {
          "base_uri": "https://localhost:8080/"
        },
        "id": "aWBOuatMnDep",
        "outputId": "61b7b53a-2d32-4464-e1a0-8b771ef5f8b5"
      },
      "outputs": [
        {
          "output_type": "stream",
          "name": "stdout",
          "text": [
            "WARNING:tensorflow:Layer lstm will not use cuDNN kernels since it doesn't meet the criteria. It will use a generic GPU kernel as fallback when running on GPU.\n",
            "Model: \"sequential\"\n",
            "_________________________________________________________________\n",
            " Layer (type)                Output Shape              Param #   \n",
            "=================================================================\n",
            " embedding (Embedding)       (None, 28, 128)           256000    \n",
            "                                                                 \n",
            " lstm (LSTM)                 (None, 196)               254800    \n",
            "                                                                 \n",
            " dense (Dense)               (None, 3)                 591       \n",
            "                                                                 \n",
            "=================================================================\n",
            "Total params: 511,391\n",
            "Trainable params: 511,391\n",
            "Non-trainable params: 0\n",
            "_________________________________________________________________\n"
          ]
        }
      ],
      "source": [
        "# embedding dimensions\n",
        "embed_dim = 128\n",
        "# out features of lstm\n",
        "lstm_out = 196 \n",
        "# creating the sequential model\n",
        "model = Sequential()\n",
        "# Embedding layer\n",
        "model.add(Embedding(max_features, embed_dim,input_length = X.shape[1])) \n",
        "# LSTM layer\n",
        "model.add(LSTM(lstm_out, dropout=0.2, recurrent_dropout=0.2)) \n",
        "# Dense layer\n",
        "model.add(Dense(3,activation='softmax')) \n",
        "# compiling the model\n",
        "model.compile(loss = 'categorical_crossentropy', optimizer='adam',metrics = ['accuracy']) \n",
        "# printing summary of the model\n",
        "(model.summary()) "
      ]
    },
    {
      "cell_type": "code",
      "execution_count": 9,
      "metadata": {
        "id": "I-7hNBXRnt--"
      },
      "outputs": [],
      "source": [
        "# performing label encoding \n",
        "Labelencoder = preprocessing.LabelEncoder()\n",
        "# fit transforming sentiment data\n",
        "integer_encoded = Labelencoder.fit_transform(data['sentiment'])\n",
        "# converting class vector to binary class matrix.\n",
        "Y = to_categorical(integer_encoded)"
      ]
    },
    {
      "cell_type": "code",
      "execution_count": 10,
      "metadata": {
        "colab": {
          "base_uri": "https://localhost:8080/"
        },
        "id": "q0-R0K6lnvW9",
        "outputId": "7f2c2ec1-e646-4e88-9456-8651698c2fa7"
      },
      "outputs": [
        {
          "output_type": "execute_result",
          "data": {
            "text/plain": [
              "((4578, 28), (4578, 3))"
            ]
          },
          "metadata": {},
          "execution_count": 10
        }
      ],
      "source": [
        "# creating test and train data\n",
        "X_train, X_test, Y_train, Y_test = train_test_split(X,Y, test_size = 0.33, random_state = 42) \n",
        "(X_train.shape,Y_train.shape) \n",
        "(X_test.shape,Y_test.shape) "
      ]
    },
    {
      "cell_type": "code",
      "execution_count": 11,
      "metadata": {
        "colab": {
          "base_uri": "https://localhost:8080/"
        },
        "id": "m0SOwdETn96Q",
        "outputId": "a00767aa-6306-4291-9677-a636c608c4eb"
      },
      "outputs": [
        {
          "output_type": "stream",
          "name": "stdout",
          "text": [
            "Epoch 1/20\n",
            "291/291 - 71s - loss: 0.8245 - accuracy: 0.6438 - 71s/epoch - 244ms/step\n",
            "Epoch 2/20\n",
            "291/291 - 87s - loss: 0.6789 - accuracy: 0.7120 - 87s/epoch - 298ms/step\n",
            "Epoch 3/20\n",
            "291/291 - 80s - loss: 0.6142 - accuracy: 0.7400 - 80s/epoch - 274ms/step\n",
            "Epoch 4/20\n",
            "291/291 - 63s - loss: 0.5666 - accuracy: 0.7657 - 63s/epoch - 216ms/step\n",
            "Epoch 5/20\n",
            "291/291 - 60s - loss: 0.5223 - accuracy: 0.7837 - 60s/epoch - 207ms/step\n",
            "Epoch 6/20\n",
            "291/291 - 62s - loss: 0.4824 - accuracy: 0.8021 - 62s/epoch - 212ms/step\n",
            "Epoch 7/20\n",
            "291/291 - 62s - loss: 0.4425 - accuracy: 0.8160 - 62s/epoch - 214ms/step\n",
            "Epoch 8/20\n",
            "291/291 - 62s - loss: 0.4089 - accuracy: 0.8345 - 62s/epoch - 212ms/step\n",
            "Epoch 9/20\n",
            "291/291 - 63s - loss: 0.3809 - accuracy: 0.8439 - 63s/epoch - 215ms/step\n",
            "Epoch 10/20\n",
            "291/291 - 63s - loss: 0.3505 - accuracy: 0.8645 - 63s/epoch - 216ms/step\n",
            "Epoch 11/20\n",
            "291/291 - 62s - loss: 0.3298 - accuracy: 0.8661 - 62s/epoch - 212ms/step\n",
            "Epoch 12/20\n",
            "291/291 - 62s - loss: 0.3097 - accuracy: 0.8750 - 62s/epoch - 214ms/step\n",
            "Epoch 13/20\n",
            "291/291 - 62s - loss: 0.2927 - accuracy: 0.8799 - 62s/epoch - 212ms/step\n",
            "Epoch 14/20\n",
            "291/291 - 62s - loss: 0.2766 - accuracy: 0.8868 - 62s/epoch - 214ms/step\n",
            "Epoch 15/20\n",
            "291/291 - 62s - loss: 0.2694 - accuracy: 0.8907 - 62s/epoch - 215ms/step\n",
            "Epoch 16/20\n",
            "291/291 - 88s - loss: 0.2506 - accuracy: 0.8981 - 88s/epoch - 302ms/step\n",
            "Epoch 17/20\n",
            "291/291 - 87s - loss: 0.2488 - accuracy: 0.9002 - 87s/epoch - 298ms/step\n",
            "Epoch 18/20\n",
            "291/291 - 88s - loss: 0.2316 - accuracy: 0.9068 - 88s/epoch - 304ms/step\n",
            "Epoch 19/20\n",
            "291/291 - 85s - loss: 0.2179 - accuracy: 0.9119 - 85s/epoch - 291ms/step\n",
            "Epoch 20/20\n",
            "291/291 - 62s - loss: 0.2139 - accuracy: 0.9093 - 62s/epoch - 214ms/step\n"
          ]
        },
        {
          "output_type": "execute_result",
          "data": {
            "text/plain": [
              "<keras.callbacks.History at 0x7fba8c5ca7d0>"
            ]
          },
          "metadata": {},
          "execution_count": 11
        }
      ],
      "source": [
        "# setting batch size\n",
        "batch_size = 32\n",
        "# fitting the model\n",
        "model.fit(X_train, Y_train, epochs = 20, batch_size=batch_size, verbose = 2) "
      ]
    },
    {
      "cell_type": "code",
      "source": [
        "# saving model\n",
        "model.save('Sentimentmodel.h5')"
      ],
      "metadata": {
        "id": "5s10sDmqvMWL"
      },
      "execution_count": 12,
      "outputs": []
    },
    {
      "cell_type": "code",
      "execution_count": 13,
      "metadata": {
        "id": "3O-q-wbMn_xQ",
        "colab": {
          "base_uri": "https://localhost:8080/",
          "height": 53
        },
        "outputId": "dbdc2ba7-a1b1-4f95-9858-17f9a90064a5"
      },
      "outputs": [
        {
          "output_type": "stream",
          "name": "stdout",
          "text": [
            "144/144 - 3s - loss: 1.9089 - accuracy: 0.6481 - 3s/epoch - 19ms/step\n"
          ]
        },
        {
          "output_type": "execute_result",
          "data": {
            "text/plain": [
              "'acc: 0.65'"
            ],
            "application/vnd.google.colaboratory.intrinsic+json": {
              "type": "string"
            }
          },
          "metadata": {},
          "execution_count": 13
        }
      ],
      "source": [
        "# evaluation\n",
        "score,acc = model.evaluate(X_test, Y_test, verbose = 2, batch_size = batch_size) \n",
        "(\"score: %.2f\" % (score)) \n",
        "(\"acc: %.2f\" % (acc)) "
      ]
    },
    {
      "cell_type": "markdown",
      "source": [
        "We got an accuracy of 0.65"
      ],
      "metadata": {
        "id": "gIdlFmt-tdoQ"
      }
    },
    {
      "cell_type": "markdown",
      "source": [
        "3. Loading the model after saving and predicting"
      ],
      "metadata": {
        "id": "LTQ4td0SspFa"
      }
    },
    {
      "cell_type": "code",
      "execution_count": 16,
      "metadata": {
        "id": "-iuvzRoXE94w",
        "colab": {
          "base_uri": "https://localhost:8080/"
        },
        "outputId": "8ffe1e4b-2416-454a-a264-710ed156452e"
      },
      "outputs": [
        {
          "output_type": "stream",
          "name": "stdout",
          "text": [
            "WARNING:tensorflow:Layer lstm will not use cuDNN kernels since it doesn't meet the criteria. It will use a generic GPU kernel as fallback when running on GPU.\n"
          ]
        }
      ],
      "source": [
        "# loading previously created model\n",
        "model = load_model('/content/Sentimentmodel.h5')"
      ]
    },
    {
      "cell_type": "code",
      "source": [
        "# using ICP example\n",
        "text=[[\"A lot of good things are happening. We are respected again throughout the world, and that's a great thing.@realDonaldTrump\"]]\n",
        "# creating dataframe\n",
        "newdata=pd.DataFrame(text,index=range(0,1,1),columns=list('1'))"
      ],
      "metadata": {
        "id": "ZgMcRhdgtCXa"
      },
      "execution_count": 34,
      "outputs": []
    },
    {
      "cell_type": "code",
      "source": [
        "newdata"
      ],
      "metadata": {
        "colab": {
          "base_uri": "https://localhost:8080/",
          "height": 81
        },
        "id": "lt6IMvXo0Llx",
        "outputId": "b272a103-5fcd-4fe2-ed39-903a12bd2556"
      },
      "execution_count": 35,
      "outputs": [
        {
          "output_type": "execute_result",
          "data": {
            "text/plain": [
              "                                                   1\n",
              "0  A lot of good things are happening. We are res..."
            ],
            "text/html": [
              "\n",
              "  <div id=\"df-66c6d84f-2ae3-434e-b674-4cecdbb48f6e\">\n",
              "    <div class=\"colab-df-container\">\n",
              "      <div>\n",
              "<style scoped>\n",
              "    .dataframe tbody tr th:only-of-type {\n",
              "        vertical-align: middle;\n",
              "    }\n",
              "\n",
              "    .dataframe tbody tr th {\n",
              "        vertical-align: top;\n",
              "    }\n",
              "\n",
              "    .dataframe thead th {\n",
              "        text-align: right;\n",
              "    }\n",
              "</style>\n",
              "<table border=\"1\" class=\"dataframe\">\n",
              "  <thead>\n",
              "    <tr style=\"text-align: right;\">\n",
              "      <th></th>\n",
              "      <th>1</th>\n",
              "    </tr>\n",
              "  </thead>\n",
              "  <tbody>\n",
              "    <tr>\n",
              "      <th>0</th>\n",
              "      <td>A lot of good things are happening. We are res...</td>\n",
              "    </tr>\n",
              "  </tbody>\n",
              "</table>\n",
              "</div>\n",
              "      <button class=\"colab-df-convert\" onclick=\"convertToInteractive('df-66c6d84f-2ae3-434e-b674-4cecdbb48f6e')\"\n",
              "              title=\"Convert this dataframe to an interactive table.\"\n",
              "              style=\"display:none;\">\n",
              "        \n",
              "  <svg xmlns=\"http://www.w3.org/2000/svg\" height=\"24px\"viewBox=\"0 0 24 24\"\n",
              "       width=\"24px\">\n",
              "    <path d=\"M0 0h24v24H0V0z\" fill=\"none\"/>\n",
              "    <path d=\"M18.56 5.44l.94 2.06.94-2.06 2.06-.94-2.06-.94-.94-2.06-.94 2.06-2.06.94zm-11 1L8.5 8.5l.94-2.06 2.06-.94-2.06-.94L8.5 2.5l-.94 2.06-2.06.94zm10 10l.94 2.06.94-2.06 2.06-.94-2.06-.94-.94-2.06-.94 2.06-2.06.94z\"/><path d=\"M17.41 7.96l-1.37-1.37c-.4-.4-.92-.59-1.43-.59-.52 0-1.04.2-1.43.59L10.3 9.45l-7.72 7.72c-.78.78-.78 2.05 0 2.83L4 21.41c.39.39.9.59 1.41.59.51 0 1.02-.2 1.41-.59l7.78-7.78 2.81-2.81c.8-.78.8-2.07 0-2.86zM5.41 20L4 18.59l7.72-7.72 1.47 1.35L5.41 20z\"/>\n",
              "  </svg>\n",
              "      </button>\n",
              "      \n",
              "  <style>\n",
              "    .colab-df-container {\n",
              "      display:flex;\n",
              "      flex-wrap:wrap;\n",
              "      gap: 12px;\n",
              "    }\n",
              "\n",
              "    .colab-df-convert {\n",
              "      background-color: #E8F0FE;\n",
              "      border: none;\n",
              "      border-radius: 50%;\n",
              "      cursor: pointer;\n",
              "      display: none;\n",
              "      fill: #1967D2;\n",
              "      height: 32px;\n",
              "      padding: 0 0 0 0;\n",
              "      width: 32px;\n",
              "    }\n",
              "\n",
              "    .colab-df-convert:hover {\n",
              "      background-color: #E2EBFA;\n",
              "      box-shadow: 0px 1px 2px rgba(60, 64, 67, 0.3), 0px 1px 3px 1px rgba(60, 64, 67, 0.15);\n",
              "      fill: #174EA6;\n",
              "    }\n",
              "\n",
              "    [theme=dark] .colab-df-convert {\n",
              "      background-color: #3B4455;\n",
              "      fill: #D2E3FC;\n",
              "    }\n",
              "\n",
              "    [theme=dark] .colab-df-convert:hover {\n",
              "      background-color: #434B5C;\n",
              "      box-shadow: 0px 1px 3px 1px rgba(0, 0, 0, 0.15);\n",
              "      filter: drop-shadow(0px 1px 2px rgba(0, 0, 0, 0.3));\n",
              "      fill: #FFFFFF;\n",
              "    }\n",
              "  </style>\n",
              "\n",
              "      <script>\n",
              "        const buttonEl =\n",
              "          document.querySelector('#df-66c6d84f-2ae3-434e-b674-4cecdbb48f6e button.colab-df-convert');\n",
              "        buttonEl.style.display =\n",
              "          google.colab.kernel.accessAllowed ? 'block' : 'none';\n",
              "\n",
              "        async function convertToInteractive(key) {\n",
              "          const element = document.querySelector('#df-66c6d84f-2ae3-434e-b674-4cecdbb48f6e');\n",
              "          const dataTable =\n",
              "            await google.colab.kernel.invokeFunction('convertToInteractive',\n",
              "                                                     [key], {});\n",
              "          if (!dataTable) return;\n",
              "\n",
              "          const docLinkHtml = 'Like what you see? Visit the ' +\n",
              "            '<a target=\"_blank\" href=https://colab.research.google.com/notebooks/data_table.ipynb>data table notebook</a>'\n",
              "            + ' to learn more about interactive tables.';\n",
              "          element.innerHTML = '';\n",
              "          dataTable['output_type'] = 'display_data';\n",
              "          await google.colab.output.renderOutput(dataTable, element);\n",
              "          const docLink = document.createElement('div');\n",
              "          docLink.innerHTML = docLinkHtml;\n",
              "          element.appendChild(docLink);\n",
              "        }\n",
              "      </script>\n",
              "    </div>\n",
              "  </div>\n",
              "  "
            ]
          },
          "metadata": {},
          "execution_count": 35
        }
      ]
    },
    {
      "cell_type": "code",
      "source": [
        "# converting text to lower case letters\n",
        "newdata['1'] = newdata['1'].apply(lambda x: x.lower())\n",
        "# removing punctuation that is not needed \n",
        "newdata['1'] = newdata['1'].apply((lambda x: re.sub('[^a-zA-z0-9\\s]','',x))) \n",
        "\n",
        "# setting the number of features\n",
        "max_features = 2000 \n",
        "\n",
        "# tokenizing the data\n",
        "tokenizer = Tokenizer(num_words=max_features, split=' ') \n",
        "tokenizer.fit_on_texts(newdata['1'].values) \n",
        "\n",
        "# converting text to sequences\n",
        "X = tokenizer.texts_to_sequences(newdata['1'].values) \n",
        "# padding the data setting them to the same size and shape\n",
        "X=pad_sequences(X,maxlen=28)"
      ],
      "metadata": {
        "id": "_qtEumDItm85"
      },
      "execution_count": 39,
      "outputs": []
    },
    {
      "cell_type": "code",
      "source": [
        "result = model.predict(X)\n",
        "print('result', result)\n",
        "print(np.where(max(result[0])),':',max(result[0]))"
      ],
      "metadata": {
        "colab": {
          "base_uri": "https://localhost:8080/"
        },
        "id": "lWHj47-ktoIU",
        "outputId": "9cc39942-a387-4305-ade7-3e9613f46703"
      },
      "execution_count": 42,
      "outputs": [
        {
          "output_type": "stream",
          "name": "stdout",
          "text": [
            "result [[0.7649572  0.0177965  0.21724637]]\n",
            "(array([0]),) : 0.7649572\n"
          ]
        }
      ]
    },
    {
      "cell_type": "markdown",
      "source": [
        "Result shows positive sentiment"
      ],
      "metadata": {
        "id": "LyZtufgy1fFD"
      }
    },
    {
      "cell_type": "markdown",
      "source": [
        "4. Using spam data"
      ],
      "metadata": {
        "id": "xyY8kaiTtsIq"
      }
    },
    {
      "cell_type": "code",
      "source": [
        "# reading spam data\n",
        "data=pd.read_csv('/content/sample_data/spam.csv',encoding='latin-1')\n",
        "# keeping only the neccessary columns \n",
        "data=data[['v2','v1']]"
      ],
      "metadata": {
        "id": "czajo1dQtqby"
      },
      "execution_count": 84,
      "outputs": []
    },
    {
      "cell_type": "code",
      "source": [
        "# converting text to lower case letters\n",
        "data['v2'] = data['v2'].apply(lambda x: x.lower()) \n",
        "# removing punctuation that is not needed \n",
        "data['v2'] = data['v2'].apply((lambda x: re.sub('[^a-zA-z0-9\\s]','',x))) \n",
        "\n",
        "# setting the number of features\n",
        "max_features = 2000\n",
        "\n",
        "# tokenizing the data\n",
        "tokenizer = Tokenizer(num_words=max_features, split=' ') \n",
        "tokenizer.fit_on_texts(data['v2'].values) \n",
        "\n",
        "# converting text to sequences\n",
        "X = tokenizer.texts_to_sequences(data['v2'].values) \n",
        "# padding the data setting them to the same size and shape\n",
        "X=pad_sequences(X)"
      ],
      "metadata": {
        "id": "W19YgRqDtyeb"
      },
      "execution_count": 85,
      "outputs": []
    },
    {
      "cell_type": "code",
      "source": [
        "# embedding dimensions\n",
        "embed_dim=128\n",
        "# out features of lstm\n",
        "lstm_out=196\n",
        "\n",
        "# creating the sequential model\n",
        "modelnew = Sequential()\n",
        "# Embedding layer\n",
        "modelnew.add(Embedding(max_features, embed_dim,input_length = X.shape[1])) \n",
        "# LSTM layer\n",
        "modelnew.add(LSTM(lstm_out, dropout=0.2, recurrent_dropout=0.2)) \n",
        "# Dense layer\n",
        "modelnew.add(Dense(2,activation='sigmoid'))\n",
        "# compiling the model\n",
        "modelnew.compile(loss = 'binary_crossentropy', optimizer='adam',metrics = ['accuracy'])\n",
        "# printing summary of the model\n",
        "modelnew.summary()"
      ],
      "metadata": {
        "colab": {
          "base_uri": "https://localhost:8080/"
        },
        "id": "4xLlMfhot0K0",
        "outputId": "f524b86b-cf3e-4a26-a306-5341fc021604"
      },
      "execution_count": 86,
      "outputs": [
        {
          "output_type": "stream",
          "name": "stdout",
          "text": [
            "WARNING:tensorflow:Layer lstm_7 will not use cuDNN kernels since it doesn't meet the criteria. It will use a generic GPU kernel as fallback when running on GPU.\n",
            "Model: \"sequential_7\"\n",
            "_________________________________________________________________\n",
            " Layer (type)                Output Shape              Param #   \n",
            "=================================================================\n",
            " embedding_7 (Embedding)     (None, 152, 128)          256000    \n",
            "                                                                 \n",
            " lstm_7 (LSTM)               (None, 196)               254800    \n",
            "                                                                 \n",
            " dense_7 (Dense)             (None, 2)                 394       \n",
            "                                                                 \n",
            "=================================================================\n",
            "Total params: 511,194\n",
            "Trainable params: 511,194\n",
            "Non-trainable params: 0\n",
            "_________________________________________________________________\n"
          ]
        }
      ]
    },
    {
      "cell_type": "code",
      "source": [
        "# performing label encoding \n",
        "labelencoder = preprocessing.LabelEncoder()\n",
        "# fit transforming spam2 data\n",
        "integer_encoded = labelencoder.fit_transform(data['v1'])\n",
        "# converting class vector to binary class matrix.\n",
        "Y= to_categorical(integer_encoded)"
      ],
      "metadata": {
        "id": "pCs1fJMqt12S"
      },
      "execution_count": 87,
      "outputs": []
    },
    {
      "cell_type": "code",
      "source": [
        "# creating test and train data\n",
        "X_train, X_test, Y_train, Y_test = train_test_split(X,Y, test_size = 0.33, random_state = 42) \n",
        "(X_train.shape,Y_train.shape) \n",
        "(X_test.shape,Y_test.shape) "
      ],
      "metadata": {
        "colab": {
          "base_uri": "https://localhost:8080/"
        },
        "id": "NEgasr-g2oT4",
        "outputId": "7cde8683-6226-42b3-dd95-807638e7a640"
      },
      "execution_count": 88,
      "outputs": [
        {
          "output_type": "execute_result",
          "data": {
            "text/plain": [
              "((1839, 152), (1839, 2))"
            ]
          },
          "metadata": {},
          "execution_count": 88
        }
      ]
    },
    {
      "cell_type": "code",
      "source": [
        "# setting batch size\n",
        "batch_size = 32 \n",
        "# fitting the model\n",
        "modelnew.fit(X_train, Y_train, epochs = 7, batch_size=batch_size, verbose = 2)"
      ],
      "metadata": {
        "colab": {
          "base_uri": "https://localhost:8080/"
        },
        "id": "HTzL2fRl2p6n",
        "outputId": "d83d0f4d-884d-4010-849d-c81c29025bbd"
      },
      "execution_count": 89,
      "outputs": [
        {
          "output_type": "stream",
          "name": "stdout",
          "text": [
            "Epoch 1/7\n",
            "117/117 - 166s - loss: 0.1966 - accuracy: 0.9352 - 166s/epoch - 1s/step\n",
            "Epoch 2/7\n",
            "117/117 - 125s - loss: 0.0476 - accuracy: 0.9858 - 125s/epoch - 1s/step\n",
            "Epoch 3/7\n",
            "117/117 - 126s - loss: 0.0206 - accuracy: 0.9938 - 126s/epoch - 1s/step\n",
            "Epoch 4/7\n",
            "117/117 - 126s - loss: 0.0205 - accuracy: 0.9933 - 126s/epoch - 1s/step\n",
            "Epoch 5/7\n",
            "117/117 - 126s - loss: 0.0098 - accuracy: 0.9971 - 126s/epoch - 1s/step\n",
            "Epoch 6/7\n",
            "117/117 - 128s - loss: 0.0047 - accuracy: 0.9987 - 128s/epoch - 1s/step\n",
            "Epoch 7/7\n",
            "117/117 - 127s - loss: 0.0027 - accuracy: 0.9989 - 127s/epoch - 1s/step\n"
          ]
        },
        {
          "output_type": "execute_result",
          "data": {
            "text/plain": [
              "<keras.callbacks.History at 0x7fb9fdfdc150>"
            ]
          },
          "metadata": {},
          "execution_count": 89
        }
      ]
    },
    {
      "cell_type": "code",
      "source": [
        "# evaluation\n",
        "score,acc = model.evaluate(X_test, Y_test, verbose = 2, batch_size = batch_size) \n",
        "(\"score: %.2f\" % (score)) \n",
        "(\"acc: %.2f\" % (acc)) "
      ],
      "metadata": {
        "colab": {
          "base_uri": "https://localhost:8080/",
          "height": 53
        },
        "id": "aX8_8jaOt7Lq",
        "outputId": "6931eb30-7413-4a24-8ee6-b45e933679e1"
      },
      "execution_count": 90,
      "outputs": [
        {
          "output_type": "stream",
          "name": "stdout",
          "text": [
            "58/58 - 4s - loss: 0.6929 - accuracy: 0.5291 - 4s/epoch - 72ms/step\n"
          ]
        },
        {
          "output_type": "execute_result",
          "data": {
            "text/plain": [
              "'acc: 0.53'"
            ],
            "application/vnd.google.colaboratory.intrinsic+json": {
              "type": "string"
            }
          },
          "metadata": {},
          "execution_count": 90
        }
      ]
    },
    {
      "cell_type": "markdown",
      "source": [
        "Accuracy returned is 0.52"
      ],
      "metadata": {
        "id": "mUcHfks7L1EY"
      }
    }
  ],
  "metadata": {
    "accelerator": "GPU",
    "colab": {
      "collapsed_sections": [],
      "name": "ICP12_1.ipynb",
      "provenance": []
    },
    "kernelspec": {
      "display_name": "Python 3",
      "name": "python3"
    },
    "language_info": {
      "name": "python"
    }
  },
  "nbformat": 4,
  "nbformat_minor": 0
}