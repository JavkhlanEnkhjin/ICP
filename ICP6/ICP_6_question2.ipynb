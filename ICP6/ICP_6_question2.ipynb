{
  "nbformat": 4,
  "nbformat_minor": 0,
  "metadata": {
    "colab": {
      "name": "ICP 6 question 2.ipynb",
      "provenance": [],
      "collapsed_sections": []
    },
    "kernelspec": {
      "name": "python3",
      "display_name": "Python 3"
    },
    "language_info": {
      "name": "python"
    }
  },
  "cells": [
    {
      "cell_type": "markdown",
      "source": [
        "# K-means & PCA assignment:"
      ],
      "metadata": {
        "id": "jCTP-u95a0xX"
      }
    },
    {
      "cell_type": "markdown",
      "source": [
        "## Q2: Apply K means clustering to “credit card dataset: credit_card.csv”"
      ],
      "metadata": {
        "id": "puvZcRarbEY6"
      }
    },
    {
      "cell_type": "code",
      "execution_count": 9,
      "metadata": {
        "id": "HoPuGG5DaxmA"
      },
      "outputs": [],
      "source": [
        "#importing libraries and dataset\n",
        "from sklearn.cluster import KMeans\n",
        "from sklearn import preprocessing\n",
        "from sklearn.metrics import silhouette_score\n",
        "from sklearn.decomposition import PCA\n",
        "import pandas as pd\n",
        "import matplotlib.pyplot as plt\n",
        "import seaborn as sns\n",
        "\n",
        "dataset = pd.read_csv('./credit card.csv')"
      ]
    },
    {
      "cell_type": "markdown",
      "source": [
        "### a. Remove any null values by the mean."
      ],
      "metadata": {
        "id": "0HELYk9bbJIi"
      }
    },
    {
      "cell_type": "code",
      "source": [
        "# checking null values\n",
        "dataset.isna().sum()\n",
        "dataset = dataset.fillna(dataset.mean())\n",
        "dataset.drop('CUST_ID', axis=1, inplace=True)\n",
        "dataset = dataset.dropna()"
      ],
      "metadata": {
        "colab": {
          "base_uri": "https://localhost:8080/"
        },
        "id": "qff8LTJAbr-h",
        "outputId": "1f407719-3d42-44ca-cb3b-fa14e35e5fb6"
      },
      "execution_count": 10,
      "outputs": [
        {
          "output_type": "stream",
          "name": "stderr",
          "text": [
            "/usr/local/lib/python3.7/dist-packages/ipykernel_launcher.py:3: FutureWarning: Dropping of nuisance columns in DataFrame reductions (with 'numeric_only=None') is deprecated; in a future version this will raise TypeError.  Select only valid columns before calling the reduction.\n",
            "  This is separate from the ipykernel package so we can avoid doing imports until\n"
          ]
        }
      ]
    },
    {
      "cell_type": "markdown",
      "source": [
        "### b. Use the elbow method to find a good number of clusters with the K-Means algorithm"
      ],
      "metadata": {
        "id": "yqCRkyewcMoZ"
      }
    },
    {
      "cell_type": "code",
      "source": [
        "#importing KMeans algorithm\n",
        "# creating list to keep number of square and number of clusters\n",
        "sq_list = []\n",
        "for i in range(1,10):\n",
        "  kmeans = KMeans(n_clusters=i, max_iter=300, random_state=816)\n",
        "  kmeans.fit(dataset)\n",
        "  sq_list.append(kmeans.inertia_)\n",
        "\n"
      ],
      "metadata": {
        "id": "EKwXlGCmcQVg"
      },
      "execution_count": 11,
      "outputs": []
    },
    {
      "cell_type": "code",
      "source": [
        "plt.plot(range(1,10), sq_list)\n",
        "plt.title('Elbow Method')\n",
        "plt.xlabel('Num of clusters')\n",
        "plt.ylabel('Sum of squares')\n",
        "plt.show()"
      ],
      "metadata": {
        "colab": {
          "base_uri": "https://localhost:8080/",
          "height": 295
        },
        "id": "cXsr1INLRj4X",
        "outputId": "45848f35-de15-4a2f-a70c-c60cb954c67a"
      },
      "execution_count": 12,
      "outputs": [
        {
          "output_type": "display_data",
          "data": {
            "image/png": "[encoded data removed]",
            "text/plain": [
              "<Figure size 432x288 with 1 Axes>"
            ]
          },
          "metadata": {
            "needs_background": "light"
          }
        }
      ]
    },
    {
      "cell_type": "markdown",
      "source": [
        "### c. Calculate the silhouette score for the above clustering.\n"
      ],
      "metadata": {
        "id": "v2c-c0P7Rr6K"
      }
    },
    {
      "cell_type": "code",
      "source": [
        "km = KMeans(n_clusters=3, random_state=913) \n",
        "km.fit(dataset)\n",
        "cluster_kmeans = km.predict(dataset)\n",
        "\n",
        "print(f\"Score: {silhouette_score(dataset, cluster_kmeans)}\")"
      ],
      "metadata": {
        "colab": {
          "base_uri": "https://localhost:8080/"
        },
        "id": "cW-QQbZmRupo",
        "outputId": "350cbdd1-f2a2-46ac-d8cf-4a0597d3ea25"
      },
      "execution_count": 15,
      "outputs": [
        {
          "output_type": "stream",
          "name": "stdout",
          "text": [
            "Score: 0.4654852990070092\n"
          ]
        }
      ]
    },
    {
      "cell_type": "markdown",
      "source": [
        "### d. Try feature scaling and then apply K-Means on the scaled features. Did that improve the Silhouette score?"
      ],
      "metadata": {
        "id": "R2Jwbp8XR5oo"
      }
    },
    {
      "cell_type": "code",
      "source": [
        "scaler = preprocessing.StandardScaler()\n",
        "scaler.fit(dataset)\n",
        "scaled_array = scaler.transform(dataset)\n",
        "ds_scaled = pd.DataFrame(scaled_array, columns=dataset.columns)\n",
        "\n",
        "km2 = KMeans(n_clusters=3, random_state=913) \n",
        "km2.fit(ds_scaled)\n",
        "cluster_scaled = km2.predict(ds_scaled)\n",
        "\n",
        "print(f\"Score with scaling: {silhouette_score(dataset, cluster_scaled)}\")"
      ],
      "metadata": {
        "colab": {
          "base_uri": "https://localhost:8080/"
        },
        "id": "9PHX2iJpR_1R",
        "outputId": "2f034352-667d-4545-eb19-e5538f3f751b"
      },
      "execution_count": 17,
      "outputs": [
        {
          "output_type": "stream",
          "name": "stdout",
          "text": [
            "Score with scaling: 0.34184891351165964\n"
          ]
        }
      ]
    },
    {
      "cell_type": "markdown",
      "source": [
        "### e. Apply PCA on the same dataset then apply K-Means algorithm on the PCA result and report your observation if the silhouette score improved or not."
      ],
      "metadata": {
        "id": "guxX83GzSSoB"
      }
    },
    {
      "cell_type": "code",
      "source": [
        "pca2 = PCA(2) \n",
        "ds_pca = pca2.fit_transform(dataset)\n",
        "\n",
        "km3 = KMeans(n_clusters=3, random_state=913)\n",
        "km3.fit(ds_pca)\n",
        "cluster_pca = km3.predict(ds_pca)\n",
        "\n",
        "print(f\"Score with PCA and no scaling: {silhouette_score(dataset, cluster_pca)}\")"
      ],
      "metadata": {
        "colab": {
          "base_uri": "https://localhost:8080/"
        },
        "id": "LWkuLEX0SR8z",
        "outputId": "464db67b-1519-45ec-bf09-79168463823a"
      },
      "execution_count": 19,
      "outputs": [
        {
          "output_type": "stream",
          "name": "stdout",
          "text": [
            "Score with PCA and no scaling: 0.47006546417792233\n"
          ]
        }
      ]
    },
    {
      "cell_type": "code",
      "source": [
        "pca = PCA(2) \n",
        "ds_pca = pca.fit_transform(scaled_array)\n",
        "\n",
        "km4 = KMeans(n_clusters=3, random_state=913)\n",
        "km4.fit(ds_pca)\n",
        "cluster_pca = km4.predict(ds_pca)\n",
        "\n",
        "print(f\"Score with PCA and scaling: {silhouette_score(dataset, cluster_pca)}\")"
      ],
      "metadata": {
        "colab": {
          "base_uri": "https://localhost:8080/"
        },
        "id": "GUxBLoPsSc0H",
        "outputId": "ad81f97b-e4f1-4930-f64a-6763023649b8"
      },
      "execution_count": 18,
      "outputs": [
        {
          "output_type": "stream",
          "name": "stdout",
          "text": [
            "Score with PCA and scaling: 0.33771408352313914\n"
          ]
        }
      ]
    }
  ]
}