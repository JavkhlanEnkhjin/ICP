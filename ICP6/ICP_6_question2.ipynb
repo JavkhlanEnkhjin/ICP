{
  "nbformat": 4,
  "nbformat_minor": 0,
  "metadata": {
    "colab": {
      "name": "ICP 6 question2.ipynb",
      "provenance": [],
      "collapsed_sections": []
    },
    "kernelspec": {
      "name": "python3",
      "display_name": "Python 3"
    },
    "language_info": {
      "name": "python"
    }
  },
  "cells": [
    {
      "cell_type": "markdown",
      "source": [
        "# K-means & PCA assignment:"
      ],
      "metadata": {
        "id": "jCTP-u95a0xX"
      }
    },
    {
      "cell_type": "markdown",
      "source": [
        "## Q2: Apply K means clustering to “credit card dataset: credit_card.csv”"
      ],
      "metadata": {
        "id": "puvZcRarbEY6"
      }
    },
    {
      "cell_type": "code",
      "execution_count": 5,
      "metadata": {
        "id": "HoPuGG5DaxmA"
      },
      "outputs": [],
      "source": [
        "#importing libraries and dataset\n",
        "from sklearn.cluster import KMeans\n",
        "from sklearn import preprocessing\n",
        "from sklearn.metrics import silhouette_score\n",
        "from sklearn.decomposition import PCA\n",
        "import pandas as pd\n",
        "import matplotlib.pyplot as plt\n",
        "import seaborn as sns\n",
        "\n",
        "dataset = pd.read_csv('./credit card.csv')"
      ]
    },
    {
      "cell_type": "markdown",
      "source": [
        "### a. Remove any null values by the mean."
      ],
      "metadata": {
        "id": "0HELYk9bbJIi"
      }
    },
    {
      "cell_type": "code",
      "source": [
        "# checking null values\n",
        "dataset.isna().sum()\n",
        "# filling null data with mean\n",
        "dataset = dataset.fillna(dataset.mean())\n",
        "# dropping cust_id feature\n",
        "dataset.drop('CUST_ID', axis=1, inplace=True)\n",
        "# dropping null values\n",
        "dataset = dataset.dropna()"
      ],
      "metadata": {
        "colab": {
          "base_uri": "https://localhost:8080/"
        },
        "id": "qff8LTJAbr-h",
        "outputId": "76eab926-7b8f-42e0-8764-6f9d09a99c63"
      },
      "execution_count": 6,
      "outputs": [
        {
          "output_type": "stream",
          "name": "stderr",
          "text": [
            "/usr/local/lib/python3.7/dist-packages/ipykernel_launcher.py:4: FutureWarning: Dropping of nuisance columns in DataFrame reductions (with 'numeric_only=None') is deprecated; in a future version this will raise TypeError.  Select only valid columns before calling the reduction.\n",
            "  after removing the cwd from sys.path.\n"
          ]
        }
      ]
    },
    {
      "cell_type": "markdown",
      "source": [
        "### b. Use the elbow method to find a good number of clusters with the K-Means algorithm"
      ],
      "metadata": {
        "id": "yqCRkyewcMoZ"
      }
    },
    {
      "cell_type": "code",
      "source": [
        "# creating list to keep number of square and number of clusters\n",
        "klist = []\n",
        "# iterating 1 to 10 \n",
        "for i in range(1,10):\n",
        "  # using kmeans function on each iteration to get elbow \n",
        "  k = KMeans(n_clusters=i, random_state=0)\n",
        "  k.fit(dataset)\n",
        "  klist.append(k.inertia_)"
      ],
      "metadata": {
        "id": "EKwXlGCmcQVg"
      },
      "execution_count": 19,
      "outputs": []
    },
    {
      "cell_type": "code",
      "source": [
        "# visualizing the elbow method\n",
        "plt.plot(range(1,10), klist)\n",
        "plt.title('Elbow Method')\n",
        "plt.xlabel('# of clusters')\n",
        "plt.show()"
      ],
      "metadata": {
        "colab": {
          "base_uri": "https://localhost:8080/",
          "height": 315
        },
        "id": "cXsr1INLRj4X",
        "outputId": "42fa3708-929c-4c7c-c23b-b8c6a1efbf14"
      },
      "execution_count": 20,
      "outputs": [
        {
          "output_type": "display_data",
          "data": {
            "image/png": "[encoded data removed]",
            "text/plain": [
              "<Figure size 432x288 with 1 Axes>"
            ]
          },
          "metadata": {
            "needs_background": "light"
          }
        }
      ]
    },
    {
      "cell_type": "markdown",
      "source": [
        "### c. Calculate the silhouette score for the above clustering.\n"
      ],
      "metadata": {
        "id": "v2c-c0P7Rr6K"
      }
    },
    {
      "cell_type": "code",
      "source": [
        "# using kmeans function with 3 clusters\n",
        "k = KMeans(n_clusters=3, random_state=0) \n",
        "# fitting dataset\n",
        "k.fit(dataset)\n",
        "# calculating prediction\n",
        "cluster = k.predict(dataset)\n",
        "# calculating silhouette score\n",
        "print(\"Score: {}\".format(silhouette_score(dataset, cluster)))"
      ],
      "metadata": {
        "colab": {
          "base_uri": "https://localhost:8080/"
        },
        "id": "cW-QQbZmRupo",
        "outputId": "60b57c56-f54e-49eb-f055-b93e70707d1e"
      },
      "execution_count": 22,
      "outputs": [
        {
          "output_type": "stream",
          "name": "stdout",
          "text": [
            "Score: 0.46576680179286384\n"
          ]
        }
      ]
    },
    {
      "cell_type": "markdown",
      "source": [
        "### d. Try feature scaling and then apply K-Means on the scaled features. Did that improve the Silhouette score?"
      ],
      "metadata": {
        "id": "R2Jwbp8XR5oo"
      }
    },
    {
      "cell_type": "code",
      "source": [
        "# declaring standart scaler\n",
        "sc = preprocessing.StandardScaler()\n",
        "# fitting dataset\n",
        "sc.fit(dataset)\n",
        "s_array = sc.transform(dataset)\n",
        "# creating dataframe \n",
        "ds = pd.DataFrame(s_array, columns=dataset.columns)\n",
        "# using kmeans with 3 clusters\n",
        "second_km = KMeans(n_clusters=3, random_state=0) \n",
        "# fitting dataset with kmeans\n",
        "second_km.fit(ds)\n",
        "# calculating prediction\n",
        "cluster_kmeans = second_km.predict(ds)\n",
        "# calculating silhouette score\n",
        "print(\"Score with scaling: {}\".format(silhouette_score(dataset, cluster_kmeans)))"
      ],
      "metadata": {
        "colab": {
          "base_uri": "https://localhost:8080/"
        },
        "id": "9PHX2iJpR_1R",
        "outputId": "37718a96-79b2-4687-8fc5-db9ceb2d1438"
      },
      "execution_count": 25,
      "outputs": [
        {
          "output_type": "stream",
          "name": "stdout",
          "text": [
            "Score with scaling: 0.33982977251183555\n"
          ]
        }
      ]
    },
    {
      "cell_type": "markdown",
      "source": [
        "#### Sillhoutte score has not improved after using kmeans on the scaled features"
      ],
      "metadata": {
        "id": "GS0YUKFkI3Yq"
      }
    },
    {
      "cell_type": "markdown",
      "source": [
        "### e. Apply PCA on the same dataset then apply K-Means algorithm on the PCA result and report your observation if the silhouette score improved or not."
      ],
      "metadata": {
        "id": "guxX83GzSSoB"
      }
    },
    {
      "cell_type": "code",
      "source": [
        "# declaring PCA with 2\n",
        "pca = PCA(n_components = 2)\n",
        "# fit transform dataset, applying pca on the dataset\n",
        "PCAds = pca.fit_transform(dataset)\n",
        "# declaring kmeans with 3 clusters\n",
        "third_km = KMeans(n_clusters=3, random_state=0)\n",
        "# applying kmeans on pca\n",
        "third_km.fit(PCAds)\n",
        "# calculation prediction\n",
        "PCAcluster = third_km.predict(PCAds)\n",
        "# calculating silhouette score\n",
        "print(\"Score without scaling: {}\".format(silhouette_score(dataset, PCAcluster)))"
      ],
      "metadata": {
        "colab": {
          "base_uri": "https://localhost:8080/"
        },
        "id": "LWkuLEX0SR8z",
        "outputId": "d2d8f15a-9caf-4dca-aea4-f898fa647449"
      },
      "execution_count": 29,
      "outputs": [
        {
          "output_type": "stream",
          "name": "stdout",
          "text": [
            "Score without scaling: 0.47006546417792233\n"
          ]
        }
      ]
    },
    {
      "cell_type": "markdown",
      "source": [
        "#### Sillhoutte score has improved after using kmeans on the PCA"
      ],
      "metadata": {
        "id": "1B0OKA7TLQNy"
      }
    }
  ]
}