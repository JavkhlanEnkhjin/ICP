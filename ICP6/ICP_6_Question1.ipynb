{
  "cells": [
    {
      "cell_type": "markdown",
      "metadata": {
        "id": "kRlxWIQZDQ3G"
      },
      "source": [
        "# Regression Assignment:\n"
      ]
    },
    {
      "cell_type": "markdown",
      "metadata": {
        "id": "YnYsAXCSTrI5"
      },
      "source": [
        "## Q1: Use the same dataset used in the source code (House_dataset.csv)."
      ]
    },
    {
      "cell_type": "code",
      "execution_count": 157,
      "metadata": {
        "id": "zEEFf_qTTp15"
      },
      "outputs": [],
      "source": [
        "#importing libraries and dataset \n",
        "import numpy as np \n",
        "import pandas as pd\n",
        "from matplotlib import pyplot as plt \n",
        "from sklearn.model_selection import train_test_split\n",
        "from sklearn.linear_model import LinearRegression\n",
        "from sklearn import linear_model\n",
        "from sklearn.metrics import r2_score\n",
        "from sklearn.metrics import mean_squared_error\n",
        "from sklearn.metrics import mean_absolute_error\n",
        "import math\n",
        "from sklearn.preprocessing import StandardScaler\n",
        "from sklearn.decomposition import PCA\n",
        "train = pd.read_csv('./houses_dataset.csv')"
      ]
    },
    {
      "cell_type": "code",
      "execution_count": 158,
      "metadata": {
        "colab": {
          "base_uri": "https://localhost:8080/"
        },
        "id": "rx39tcDyVVo_",
        "outputId": "ec737f11-07ab-4881-bffa-a40679e87068"
      },
      "outputs": [
        {
          "output_type": "execute_result",
          "data": {
            "text/plain": [
              "LotFrontage      259\n",
              "Alley           1369\n",
              "MasVnrType         8\n",
              "MasVnrArea         8\n",
              "BsmtQual          37\n",
              "BsmtCond          37\n",
              "BsmtExposure      38\n",
              "BsmtFinType1      37\n",
              "BsmtFinType2      38\n",
              "Electrical         1\n",
              "FireplaceQu      690\n",
              "GarageType        81\n",
              "GarageYrBlt       81\n",
              "GarageFinish      81\n",
              "GarageQual        81\n",
              "GarageCond        81\n",
              "PoolQC          1453\n",
              "Fence           1179\n",
              "MiscFeature     1406\n",
              "dtype: int64"
            ]
          },
          "metadata": {},
          "execution_count": 158
        }
      ],
      "source": [
        "#checking first rows from dataset\n",
        "train.head(5)\n",
        "#checking the amout of null values\n",
        "train[train.columns[train.isnull().any()]].isnull().sum()"
      ]
    },
    {
      "cell_type": "code",
      "source": [
        "# removing missing values\n",
        "data = train.select_dtypes(include=[np.number]).interpolate().dropna()\n",
        "print(sum(data.isnull().sum() != 0))"
      ],
      "metadata": {
        "id": "mKNuE1_ps-gX",
        "colab": {
          "base_uri": "https://localhost:8080/"
        },
        "outputId": "5ac8de6b-d310-4c7f-a5c5-a29c4d0dcc1e"
      },
      "execution_count": 159,
      "outputs": [
        {
          "output_type": "stream",
          "name": "stdout",
          "text": [
            "0\n"
          ]
        }
      ]
    },
    {
      "cell_type": "markdown",
      "metadata": {
        "id": "EPzjUx3JT3Mt"
      },
      "source": [
        "### a. Delete all outlier data for the GarageArea field."
      ]
    },
    {
      "cell_type": "code",
      "execution_count": 160,
      "metadata": {
        "colab": {
          "base_uri": "https://localhost:8080/",
          "height": 302
        },
        "id": "Ja9j5PUXVxcT",
        "outputId": "718f6703-b28d-47eb-faae-8b0134e82df4"
      },
      "outputs": [
        {
          "output_type": "execute_result",
          "data": {
            "text/plain": [
              "<matplotlib.collections.PathCollection at 0x7f4aa1f9ad10>"
            ]
          },
          "metadata": {},
          "execution_count": 160
        },
        {
          "output_type": "display_data",
          "data": {
            "image/png": "[encoded data removed]",
            "text/plain": [
              "<Figure size 432x288 with 1 Axes>"
            ]
          },
          "metadata": {
            "needs_background": "light"
          }
        }
      ],
      "source": [
        "# plotting SalePrice and GarageArea features\n",
        "plt.scatter(data['SalePrice'], data['GarageArea'])"
      ]
    },
    {
      "cell_type": "code",
      "execution_count": 161,
      "metadata": {
        "id": "kUFyRz69SnG1"
      },
      "outputs": [],
      "source": [
        "# observing on the scatter plot, SalePrice more than 500000 \n",
        "# and GarageArea more than 1200 can be counted as outlier\n",
        "index_names = data[ (data['GarageArea'] > 1200) | (data['SalePrice'] > 500000)].index\n",
        "data.drop(index_names, inplace=True)\n",
        "train.drop(index_names, inplace=True)\n"
      ]
    },
    {
      "cell_type": "code",
      "execution_count": 162,
      "metadata": {
        "colab": {
          "base_uri": "https://localhost:8080/",
          "height": 302
        },
        "id": "K-x5J0oyXBlp",
        "outputId": "99b90e28-87b4-4267-e17d-cdb4e86e760d"
      },
      "outputs": [
        {
          "output_type": "execute_result",
          "data": {
            "text/plain": [
              "<matplotlib.collections.PathCollection at 0x7f4aa1f9ac10>"
            ]
          },
          "metadata": {},
          "execution_count": 162
        },
        {
          "output_type": "display_data",
          "data": {
            "image/png": "[encoded data removed]",
            "text/plain": [
              "<Figure size 432x288 with 1 Axes>"
            ]
          },
          "metadata": {
            "needs_background": "light"
          }
        }
      ],
      "source": [
        "# plotting SalePrice and GarageArea after removing outliers\n",
        "plt.scatter(data['SalePrice'], data['GarageArea'])"
      ]
    },
    {
      "cell_type": "markdown",
      "metadata": {
        "id": "aOyV6W7uXRMU"
      },
      "source": [
        "### b. Using simple regression select one feature that is positively correlated with ‘SalePrice’ create a regression model and plot the regression line between the two features."
      ]
    },
    {
      "cell_type": "code",
      "execution_count": 163,
      "metadata": {
        "id": "uCcawLQSXQCE"
      },
      "outputs": [],
      "source": [
        "#building model of overall quality and sale price\n",
        "ds = data[['OverallQual', 'SalePrice']]\n",
        "#x stores the OverallQual\n",
        "x = ds.iloc[:, :-1].values\n",
        "#y stores the SalePrice\n",
        "y = ds.iloc[:, -1].values"
      ]
    },
    {
      "cell_type": "code",
      "source": [
        "# splitting train and test data 70:30\n",
        "X_train, X_test, y_train, y_test = train_test_split(x, y, test_size = 0.30, random_state = 0)"
      ],
      "metadata": {
        "id": "Ps1ZqIO2AWdl"
      },
      "execution_count": 164,
      "outputs": []
    },
    {
      "cell_type": "code",
      "source": [
        "x.shape"
      ],
      "metadata": {
        "colab": {
          "base_uri": "https://localhost:8080/"
        },
        "id": "E_6MU7F52jrp",
        "outputId": "9c3531f0-cfda-4c07-f5c1-8177f6cdeafe"
      },
      "execution_count": 165,
      "outputs": [
        {
          "output_type": "execute_result",
          "data": {
            "text/plain": [
              "(1446, 1)"
            ]
          },
          "metadata": {},
          "execution_count": 165
        }
      ]
    },
    {
      "cell_type": "code",
      "source": [
        "# creating linear regression\n",
        "reg = LinearRegression()\n",
        "#fitting the x train on y train\n",
        "reg.fit(X_train, y_train)\n",
        "#calculating the prediction y_pred for x_test value\n",
        "y_pred = reg.predict(X_test)\n",
        "#calculating the prediction x_pred for x_train value\n",
        "x_pred = reg.predict(X_train)"
      ],
      "metadata": {
        "id": "_EGYgv361fjB"
      },
      "execution_count": 168,
      "outputs": []
    },
    {
      "cell_type": "code",
      "source": [
        "# visualizing the train model\n",
        "plt.scatter(X_train, y_train, color='blue')\n",
        "plt.plot(X_train, x_pred, color='red')\n",
        "plt.title('Linear Regression Model')\n",
        "plt.show()"
      ],
      "metadata": {
        "colab": {
          "base_uri": "https://localhost:8080/",
          "height": 301
        },
        "id": "dtpWLVGL1030",
        "outputId": "55a70506-94ec-4677-a5e5-39f02765d042"
      },
      "execution_count": 170,
      "outputs": [
        {
          "output_type": "display_data",
          "data": {
            "image/png": "[encoded data removed]",
            "text/plain": [
              "<Figure size 432x288 with 1 Axes>"
            ]
          },
          "metadata": {
            "needs_background": "light"
          }
        }
      ]
    },
    {
      "cell_type": "code",
      "source": [
        "# visualizing the test model\n",
        "plt.scatter(X_test, y_test, color='red')\n",
        "plt.plot(X_train, x_pred, color='blue')\n",
        "plt.title('Linear Regression Model')\n",
        "plt.show()"
      ],
      "metadata": {
        "colab": {
          "base_uri": "https://localhost:8080/",
          "height": 301
        },
        "id": "8JTcKsm25OM1",
        "outputId": "029728c8-9d62-4833-8c4e-b9f4625bcf87"
      },
      "execution_count": 171,
      "outputs": [
        {
          "output_type": "display_data",
          "data": {
            "image/png": "[encoded data removed]",
            "text/plain": [
              "<Figure size 432x288 with 1 Axes>"
            ]
          },
          "metadata": {
            "needs_background": "light"
          }
        }
      ]
    },
    {
      "cell_type": "code",
      "source": [
        "#evalutating first models\n",
        "#Mean Squared Error:\n",
        "MSE = mean_squared_error(y_test,y_pred)\n",
        "#Root Mean Squared Error:\n",
        "RMSE = math.sqrt(MSE)\n",
        "#Mean Absolute Error\n",
        "MAE = mean_absolute_error(y_test,y_pred)\n",
        "# R Squared\n",
        "R2 = r2_score(y_test,y_pred)\n",
        "print('MSE: {}'.format(MSE))\n",
        "print('RMSE: {}'.format(RMSE))\n",
        "print('MAE: {}'.format(MAE))\n",
        "print('R2: {}'.format(R2))"
      ],
      "metadata": {
        "id": "z8aCFKEJ5MWn"
      },
      "execution_count": null,
      "outputs": []
    },
    {
      "cell_type": "markdown",
      "source": [
        "### c. Find top 5 most correlated features to the target label(SalePrice) and then build a model using those 5 features."
      ],
      "metadata": {
        "id": "bfFMIi_PEprj"
      }
    },
    {
      "cell_type": "code",
      "source": [
        "# selecting numeric features\n",
        "numeric_features = data.select_dtypes(include=[np.number])\n",
        "corr = numeric_features.corr()\n",
        "# printing positive correlation features with SalePrice\n",
        "print(\"Positive Correlation:\")\n",
        "print(corr['SalePrice'].sort_values(ascending=False)[:])\n",
        "# printing negative correlation features with SalePrice\n",
        "print(corr['SalePrice'].sort_values(ascending=False)[-5:])"
      ],
      "metadata": {
        "id": "gFWLiZCwrpO2"
      },
      "execution_count": null,
      "outputs": []
    },
    {
      "cell_type": "code",
      "source": [
        "# OverallQual, GrLivArea, GarageCars, GarageArea, and TotalBsmtSF    \n",
        "# are the top 5 most correlated features with sale price\n",
        "# creating new dataset\n",
        "data = train[['OverallQual','GrLivArea','GarageCars','TotalBsmtSF','GarageArea','SalePrice']]"
      ],
      "metadata": {
        "id": "WUSc_vIl6XHm"
      },
      "execution_count": null,
      "outputs": []
    },
    {
      "cell_type": "code",
      "source": [
        "# splitting train and test set 70:30\n",
        "x = data.iloc[:, :-1].values\n",
        "y = data.iloc[:, -1].values\n",
        "X_train, X_test, y_train, y_test = train_test_split(x, y, test_size = 0.30, random_state = 0)"
      ],
      "metadata": {
        "id": "9Z9M2t7R6kpM"
      },
      "execution_count": null,
      "outputs": []
    },
    {
      "cell_type": "code",
      "source": [
        "# scaling features\n",
        "sc = StandardScaler()\n",
        "X_train = sc.fit_transform(X_train)\n",
        "X_test = sc.transform(X_test)\n",
        "# applying linear regression\n",
        "reg = LinearRegression()\n",
        "reg.fit(X_train, y_train)\n",
        "# predicting the test\n",
        "y_pred = reg.predict(X_test)"
      ],
      "metadata": {
        "id": "Jh7b8xpK615M"
      },
      "execution_count": null,
      "outputs": []
    },
    {
      "cell_type": "code",
      "source": [
        "#evalutating second models\n",
        "#Mean Squared Error:\n",
        "MSE = mean_squared_error(y_test,y_pred)\n",
        "#Root Mean Squared Error:\n",
        "RMSE = math.sqrt(MSE)\n",
        "#Mean Absolute Error\n",
        "MAE = mean_absolute_error(y_test,y_pred)\n",
        "# R Squared\n",
        "R2 = r2_score(y_test,y_pred)\n",
        "print('MSE: {}'.format(MSE))\n",
        "print('RMSE: {}'.format(RMSE))\n",
        "print('MAE: {}'.format(MAE))\n",
        "print('R2: {}'.format(R2))"
      ],
      "metadata": {
        "id": "G4IGO2yk61wJ"
      },
      "execution_count": null,
      "outputs": []
    },
    {
      "cell_type": "markdown",
      "source": [
        "### d. Apply PCA on the same dataset then apply regression model on the PCA result and report your observation after you evaluate the model.\n"
      ],
      "metadata": {
        "id": "QYQH4p0B8YRS"
      }
    },
    {
      "cell_type": "code",
      "source": [
        "# applying PCA using 2 components\n",
        "# meaning that scikit-learn choose 2 of principal components\n",
        "pca = PCA(n_components = 2) \n",
        "# fit transform x_train\n",
        "PCAx = pca.fit_transform(X_train)\n",
        "# transform x_test\n",
        "PCAx_test = pca.transform(X_test)\n",
        "# creating dataframe with 2 pca columns\n",
        "principalDf = pd.DataFrame(data =PCAx\n",
        "             , columns = ['PCA_1', 'PCA_2'])"
      ],
      "metadata": {
        "id": "DmLMW21e61pe"
      },
      "execution_count": null,
      "outputs": []
    },
    {
      "cell_type": "code",
      "source": [
        "principalDf"
      ],
      "metadata": {
        "id": "se_m_XeJ61XB"
      },
      "execution_count": null,
      "outputs": []
    },
    {
      "cell_type": "code",
      "source": [
        "# fitting PCAx on y_train\n",
        "reg.fit(PCAx, y_train)\n",
        "# calculating prediction PCAx_test\n",
        "y_pred = reg.predict(PCAx_test)"
      ],
      "metadata": {
        "id": "G-orhzaJ-Xvd"
      },
      "execution_count": null,
      "outputs": []
    },
    {
      "cell_type": "code",
      "source": [
        "#evalutating third model\n",
        "#Mean Squared Error:\n",
        "MSE = mean_squared_error(y_test,y_pred)\n",
        "#Root Mean Squared Error:\n",
        "RMSE = math.sqrt(MSE)\n",
        "#Mean Absolute Error:\n",
        "MAE = mean_absolute_error(y_test,y_pred)\n",
        "# R squared\n",
        "R2 = r2_score(y_test,y_pred)\n",
        "print('MSE: {}'.format(MSE))\n",
        "print('RMSE: {}'.format(RMSE))\n",
        "print('MAE: {}'.format(MAE))\n",
        "print('R2: {}'.format(R2))"
      ],
      "metadata": {
        "id": "TDykLKN6-yWD"
      },
      "execution_count": null,
      "outputs": []
    }
  ],
  "metadata": {
    "colab": {
      "name": "ICP-6 Question1.ipynb",
      "provenance": [],
      "collapsed_sections": []
    },
    "kernelspec": {
      "display_name": "Python 3",
      "name": "python3"
    },
    "language_info": {
      "name": "python"
    }
  },
  "nbformat": 4,
  "nbformat_minor": 0
}